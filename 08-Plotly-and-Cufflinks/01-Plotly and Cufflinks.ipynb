{
 "cells": [
  {
   "cell_type": "markdown",
   "metadata": {},
   "source": [
    "___\n",
    "\n",
    "<a href='http://www.pieriandata.com'> <img src='../Pierian_Data_Logo.png' /></a>\n",
    "___\n",
    "# Plotly and Cufflinks"
   ]
  },
  {
   "cell_type": "markdown",
   "metadata": {},
   "source": [
    "Plotly is a library that allows you to create interactive plots that you can use in dashboards or websites (you can save them as html files or static images).\n",
    "\n",
    "## Installation\n",
    "\n",
    "In order for this all to work, you'll need to install plotly and cufflinks to call plots directly off of a pandas dataframe. These libraries are not currently available through **conda** but are available through **pip**. Install the libraries at your command line/terminal using:\n",
    "\n",
    "    pip install plotly\n",
    "    pip install cufflinks\n",
    "\n",
    "** NOTE: Make sure you only have one installation of Python on your computer when you do this, otherwise the installation may not work. **\n",
    "\n",
    "## Imports and Set-up"
   ]
  },
  {
   "cell_type": "code",
   "execution_count": 1,
   "metadata": {},
   "outputs": [],
   "source": [
    "import pandas as pd\n",
    "import numpy as np\n",
    "import chart_studio.plotly as py\n",
    "%matplotlib inline"
   ]
  },
  {
   "cell_type": "code",
   "execution_count": 2,
   "metadata": {},
   "outputs": [
    {
     "name": "stdout",
     "output_type": "stream",
     "text": [
      "5.9.0\n"
     ]
    }
   ],
   "source": [
    "from plotly import __version__\n",
    "from plotly.offline import download_plotlyjs, init_notebook_mode, plot, iplot\n",
    "\n",
    "print(__version__) # requires version >= 1.9.0"
   ]
  },
  {
   "cell_type": "code",
   "execution_count": 3,
   "metadata": {},
   "outputs": [],
   "source": [
    "import cufflinks as cf"
   ]
  },
  {
   "cell_type": "code",
   "execution_count": 4,
   "metadata": {},
   "outputs": [
    {
     "data": {
      "text/html": [
       "        <script type=\"text/javascript\">\n",
       "        window.PlotlyConfig = {MathJaxConfig: 'local'};\n",
       "        if (window.MathJax && window.MathJax.Hub && window.MathJax.Hub.Config) {window.MathJax.Hub.Config({SVG: {font: \"STIX-Web\"}});}\n",
       "        if (typeof require !== 'undefined') {\n",
       "        require.undef(\"plotly\");\n",
       "        requirejs.config({\n",
       "            paths: {\n",
       "                'plotly': ['https://cdn.plot.ly/plotly-2.12.1.min']\n",
       "            }\n",
       "        });\n",
       "        require(['plotly'], function(Plotly) {\n",
       "            window._Plotly = Plotly;\n",
       "        });\n",
       "        }\n",
       "        </script>\n",
       "        "
      ]
     },
     "metadata": {},
     "output_type": "display_data"
    }
   ],
   "source": [
    "# For Notebooks\n",
    "init_notebook_mode(connected=True)"
   ]
  },
  {
   "cell_type": "code",
   "execution_count": 5,
   "metadata": {},
   "outputs": [
    {
     "data": {
      "text/html": [
       "        <script type=\"text/javascript\">\n",
       "        window.PlotlyConfig = {MathJaxConfig: 'local'};\n",
       "        if (window.MathJax && window.MathJax.Hub && window.MathJax.Hub.Config) {window.MathJax.Hub.Config({SVG: {font: \"STIX-Web\"}});}\n",
       "        if (typeof require !== 'undefined') {\n",
       "        require.undef(\"plotly\");\n",
       "        requirejs.config({\n",
       "            paths: {\n",
       "                'plotly': ['https://cdn.plot.ly/plotly-2.12.1.min']\n",
       "            }\n",
       "        });\n",
       "        require(['plotly'], function(Plotly) {\n",
       "            window._Plotly = Plotly;\n",
       "        });\n",
       "        }\n",
       "        </script>\n",
       "        "
      ]
     },
     "metadata": {},
     "output_type": "display_data"
    }
   ],
   "source": [
    "# For offline use\n",
    "cf.go_offline()"
   ]
  },
  {
   "cell_type": "markdown",
   "metadata": {},
   "source": [
    "### Fake Data"
   ]
  },
  {
   "cell_type": "code",
   "execution_count": 7,
   "metadata": {},
   "outputs": [],
   "source": [
    "df = pd.DataFrame(np.random.randn(100,4),columns='A B C D'.split())"
   ]
  },
  {
   "cell_type": "code",
   "execution_count": 8,
   "metadata": {},
   "outputs": [
    {
     "data": {
      "text/html": [
       "<div>\n",
       "<style scoped>\n",
       "    .dataframe tbody tr th:only-of-type {\n",
       "        vertical-align: middle;\n",
       "    }\n",
       "\n",
       "    .dataframe tbody tr th {\n",
       "        vertical-align: top;\n",
       "    }\n",
       "\n",
       "    .dataframe thead th {\n",
       "        text-align: right;\n",
       "    }\n",
       "</style>\n",
       "<table border=\"1\" class=\"dataframe\">\n",
       "  <thead>\n",
       "    <tr style=\"text-align: right;\">\n",
       "      <th></th>\n",
       "      <th>A</th>\n",
       "      <th>B</th>\n",
       "      <th>C</th>\n",
       "      <th>D</th>\n",
       "    </tr>\n",
       "  </thead>\n",
       "  <tbody>\n",
       "    <tr>\n",
       "      <th>0</th>\n",
       "      <td>-0.494880</td>\n",
       "      <td>0.177604</td>\n",
       "      <td>0.608078</td>\n",
       "      <td>-1.124958</td>\n",
       "    </tr>\n",
       "    <tr>\n",
       "      <th>1</th>\n",
       "      <td>-1.278607</td>\n",
       "      <td>-0.305794</td>\n",
       "      <td>1.740025</td>\n",
       "      <td>-0.941099</td>\n",
       "    </tr>\n",
       "    <tr>\n",
       "      <th>2</th>\n",
       "      <td>0.071064</td>\n",
       "      <td>0.136598</td>\n",
       "      <td>-0.139991</td>\n",
       "      <td>-0.448659</td>\n",
       "    </tr>\n",
       "    <tr>\n",
       "      <th>3</th>\n",
       "      <td>1.061959</td>\n",
       "      <td>0.013967</td>\n",
       "      <td>0.535245</td>\n",
       "      <td>0.059627</td>\n",
       "    </tr>\n",
       "    <tr>\n",
       "      <th>4</th>\n",
       "      <td>-1.444056</td>\n",
       "      <td>1.327302</td>\n",
       "      <td>-0.860702</td>\n",
       "      <td>-0.735974</td>\n",
       "    </tr>\n",
       "  </tbody>\n",
       "</table>\n",
       "</div>"
      ],
      "text/plain": [
       "          A         B         C         D\n",
       "0 -0.494880  0.177604  0.608078 -1.124958\n",
       "1 -1.278607 -0.305794  1.740025 -0.941099\n",
       "2  0.071064  0.136598 -0.139991 -0.448659\n",
       "3  1.061959  0.013967  0.535245  0.059627\n",
       "4 -1.444056  1.327302 -0.860702 -0.735974"
      ]
     },
     "execution_count": 8,
     "metadata": {},
     "output_type": "execute_result"
    }
   ],
   "source": [
    "df.head()"
   ]
  },
  {
   "cell_type": "code",
   "execution_count": 9,
   "metadata": {},
   "outputs": [],
   "source": [
    "df2 = pd.DataFrame({'Category':['A','B','C'],'Values':[32,43,50]})"
   ]
  },
  {
   "cell_type": "code",
   "execution_count": 10,
   "metadata": {},
   "outputs": [
    {
     "data": {
      "text/html": [
       "<div>\n",
       "<style scoped>\n",
       "    .dataframe tbody tr th:only-of-type {\n",
       "        vertical-align: middle;\n",
       "    }\n",
       "\n",
       "    .dataframe tbody tr th {\n",
       "        vertical-align: top;\n",
       "    }\n",
       "\n",
       "    .dataframe thead th {\n",
       "        text-align: right;\n",
       "    }\n",
       "</style>\n",
       "<table border=\"1\" class=\"dataframe\">\n",
       "  <thead>\n",
       "    <tr style=\"text-align: right;\">\n",
       "      <th></th>\n",
       "      <th>Category</th>\n",
       "      <th>Values</th>\n",
       "    </tr>\n",
       "  </thead>\n",
       "  <tbody>\n",
       "    <tr>\n",
       "      <th>0</th>\n",
       "      <td>A</td>\n",
       "      <td>32</td>\n",
       "    </tr>\n",
       "    <tr>\n",
       "      <th>1</th>\n",
       "      <td>B</td>\n",
       "      <td>43</td>\n",
       "    </tr>\n",
       "    <tr>\n",
       "      <th>2</th>\n",
       "      <td>C</td>\n",
       "      <td>50</td>\n",
       "    </tr>\n",
       "  </tbody>\n",
       "</table>\n",
       "</div>"
      ],
      "text/plain": [
       "  Category  Values\n",
       "0        A      32\n",
       "1        B      43\n",
       "2        C      50"
      ]
     },
     "execution_count": 10,
     "metadata": {},
     "output_type": "execute_result"
    }
   ],
   "source": [
    "df2.head()"
   ]
  },
  {
   "cell_type": "markdown",
   "metadata": {},
   "source": [
    "## Using Cufflinks and iplot()\n",
    "\n",
    "* scatter\n",
    "* bar\n",
    "* box\n",
    "* spread\n",
    "* ratio\n",
    "* heatmap\n",
    "* surface\n",
    "* histogram\n",
    "* bubble"
   ]
  },
  {
   "cell_type": "markdown",
   "metadata": {},
   "source": [
    "## Scatter"
   ]
  },
  {
   "cell_type": "code",
   "execution_count": 11,
   "metadata": {},
   "outputs": [
    {
     "data": {
      "application/vnd.plotly.v1+json": {
       "config": {
        "linkText": "Export to plot.ly",
        "plotlyServerURL": "https://plot.ly",
        "showLink": true
       },
       "data": [
        {
         "line": {
          "color": "rgba(255, 153, 51, 1.0)",
          "dash": "solid",
          "shape": "linear",
          "width": 1.3
         },
         "marker": {
          "size": 10,
          "symbol": "circle"
         },
         "mode": "markers",
         "name": "B",
         "text": "",
         "type": "scatter",
         "x": [
          -0.4948803672448772,
          -1.278606917283569,
          0.07106421334385374,
          1.0619587030601383,
          -1.4440555967233013,
          -0.22858606681894317,
          1.0030057486241948,
          0.04484795456415611,
          1.1619652312215167,
          -0.3063834419687249,
          0.5573171280834106,
          -1.4004848970008938,
          0.07213998245936415,
          -0.1992952156759034,
          0.963590047242657,
          0.1777390611535859,
          0.3189703863207484,
          0.6566964416263336,
          -1.2392354456388477,
          0.6737524737410653,
          1.4126321439046603,
          0.871402533205939,
          -0.8008377075281847,
          0.2066366446481001,
          0.7843129613261675,
          0.3612288487362664,
          0.42751052801441863,
          -1.3907782385950074,
          0.6062586949880656,
          -0.9710333735809482,
          0.47891605023133554,
          1.2337314105990314,
          0.9082028305785744,
          0.8446175169590872,
          0.2213111437943422,
          0.6040793357601695,
          -0.08588004121752364,
          -1.734245229493394,
          0.3647044551034887,
          0.0972210006165413,
          1.5046750299472174,
          -0.2810942500199662,
          3.0486427088955197,
          0.8443707688013775,
          -1.1933916647937377,
          -0.746046118365644,
          -1.1939737089247473,
          0.40617833718975777,
          -2.662736129779989,
          1.1340143561785632,
          -1.3431317646811118,
          -1.5882524199465087,
          -0.6483975035034787,
          1.3152824593173136,
          0.1333759544313208,
          0.30894298034457474,
          -0.6356048656438124,
          1.3659277658214952,
          -0.8456641943132652,
          0.5792996706265964,
          -0.12359290321284937,
          0.3266371728879937,
          1.295394749603058,
          -1.808102978075752,
          1.00915672491599,
          1.0642108345710921,
          1.466414923863723,
          0.8008328209289889,
          -0.09580001650492555,
          -0.38362804920073745,
          1.3351436888107087,
          -1.9884141016609131,
          0.4263071451958101,
          2.2681107757035783,
          0.5787490360176778,
          0.2831479916822075,
          -0.5928277608139828,
          1.0258181150691483,
          0.6891934792638104,
          -1.2325795921811449,
          0.46801777318662463,
          1.1160736213980393,
          -0.7838575266232529,
          1.0298022519136174,
          -0.7014308136007442,
          0.6960023389885786,
          1.1930852729550367,
          -0.4791890698641037,
          -0.3679677031951291,
          0.7966573079412141,
          -0.3211027262453276,
          -0.7608238050371512,
          -0.9710853823227727,
          0.22756984546431366,
          0.35529269618747356,
          -0.9526719129304471,
          -0.303544912011667,
          0.7324609793244885,
          1.2023945170669637,
          1.320809141414054
         ],
         "y": [
          0.1776044584804704,
          -0.30579446317958037,
          0.13659788724493616,
          0.013966560660043948,
          1.3273022146782885,
          0.4245281639427591,
          0.13993688841338434,
          0.1364806923102963,
          -2.1065412864272086,
          -0.7493121467001574,
          -0.21907401933298437,
          1.3552891173188997,
          1.3823839058712768,
          0.26110714954987385,
          0.6670584552397943,
          0.697742052337499,
          -1.4770059522646852,
          -0.9466999513182942,
          -0.41620999378775114,
          0.23120654972488888,
          0.1053455114042331,
          -1.098711099169789,
          1.4008705791090683,
          -0.434654050392941,
          -1.207128568186926,
          -0.03525291190838535,
          0.14426598640881158,
          -1.6202847005796388,
          0.7627104472323303,
          1.2241416006731294,
          -0.6465533718632971,
          0.7415566179979918,
          -1.428988584175279,
          -1.928358672485835,
          -0.07720665593274657,
          0.5671077245400157,
          -1.795702440431457,
          -0.7941695676657354,
          3.907184367978601,
          1.8762239910918184,
          -0.8640392128710467,
          0.14788580454689232,
          0.4848657485550836,
          -0.39822234778649335,
          -0.2143508229290543,
          0.5421028547170331,
          0.9470213452638643,
          0.6079341780818952,
          0.08236570323112267,
          -0.4206814224407974,
          -0.2751572370420352,
          0.6632291561159293,
          -0.1672811079836468,
          0.84269169025041,
          0.7089604299130701,
          0.2458080265524387,
          -1.5136335159268992,
          -1.1978392671156282,
          -1.618336530284113,
          0.012290688929548993,
          1.619220248352336,
          1.110592869177345,
          0.7018241042017215,
          0.3702183639470843,
          -1.7388309041310908,
          -0.0875310813749589,
          -0.9124345858997445,
          1.1530317074144363,
          0.4714579218231528,
          0.48493178299862316,
          -0.35122660893540913,
          2.451773260240074,
          0.9309728827074173,
          -0.8834813115281297,
          -0.24448564745225207,
          0.46071894306278166,
          -2.309648368476434,
          1.7172733786642822,
          0.2073435746324365,
          -0.7662927627171758,
          -0.3838240458423306,
          1.2410093848919947,
          -0.24166136762679763,
          -0.16830385578843002,
          -1.704143002064265,
          -0.9899666399550905,
          -0.2962403884733509,
          -0.1531779038411322,
          0.015868120719419496,
          0.8272629094610052,
          1.868780342551116,
          0.4496997798754286,
          0.1255705622513645,
          -1.0699432646501854,
          1.2467596372794354,
          -0.22818951517464736,
          1.1230267105010945,
          -0.10288297183350929,
          -0.6189159183061426,
          1.13100404498498
         ]
        }
       ],
       "layout": {
        "legend": {
         "bgcolor": "#F5F6F9",
         "font": {
          "color": "#4D5663"
         }
        },
        "paper_bgcolor": "#F5F6F9",
        "plot_bgcolor": "#F5F6F9",
        "template": {
         "data": {
          "bar": [
           {
            "error_x": {
             "color": "#2a3f5f"
            },
            "error_y": {
             "color": "#2a3f5f"
            },
            "marker": {
             "line": {
              "color": "#E5ECF6",
              "width": 0.5
             },
             "pattern": {
              "fillmode": "overlay",
              "size": 10,
              "solidity": 0.2
             }
            },
            "type": "bar"
           }
          ],
          "barpolar": [
           {
            "marker": {
             "line": {
              "color": "#E5ECF6",
              "width": 0.5
             },
             "pattern": {
              "fillmode": "overlay",
              "size": 10,
              "solidity": 0.2
             }
            },
            "type": "barpolar"
           }
          ],
          "carpet": [
           {
            "aaxis": {
             "endlinecolor": "#2a3f5f",
             "gridcolor": "white",
             "linecolor": "white",
             "minorgridcolor": "white",
             "startlinecolor": "#2a3f5f"
            },
            "baxis": {
             "endlinecolor": "#2a3f5f",
             "gridcolor": "white",
             "linecolor": "white",
             "minorgridcolor": "white",
             "startlinecolor": "#2a3f5f"
            },
            "type": "carpet"
           }
          ],
          "choropleth": [
           {
            "colorbar": {
             "outlinewidth": 0,
             "ticks": ""
            },
            "type": "choropleth"
           }
          ],
          "contour": [
           {
            "colorbar": {
             "outlinewidth": 0,
             "ticks": ""
            },
            "colorscale": [
             [
              0,
              "#0d0887"
             ],
             [
              0.1111111111111111,
              "#46039f"
             ],
             [
              0.2222222222222222,
              "#7201a8"
             ],
             [
              0.3333333333333333,
              "#9c179e"
             ],
             [
              0.4444444444444444,
              "#bd3786"
             ],
             [
              0.5555555555555556,
              "#d8576b"
             ],
             [
              0.6666666666666666,
              "#ed7953"
             ],
             [
              0.7777777777777778,
              "#fb9f3a"
             ],
             [
              0.8888888888888888,
              "#fdca26"
             ],
             [
              1,
              "#f0f921"
             ]
            ],
            "type": "contour"
           }
          ],
          "contourcarpet": [
           {
            "colorbar": {
             "outlinewidth": 0,
             "ticks": ""
            },
            "type": "contourcarpet"
           }
          ],
          "heatmap": [
           {
            "colorbar": {
             "outlinewidth": 0,
             "ticks": ""
            },
            "colorscale": [
             [
              0,
              "#0d0887"
             ],
             [
              0.1111111111111111,
              "#46039f"
             ],
             [
              0.2222222222222222,
              "#7201a8"
             ],
             [
              0.3333333333333333,
              "#9c179e"
             ],
             [
              0.4444444444444444,
              "#bd3786"
             ],
             [
              0.5555555555555556,
              "#d8576b"
             ],
             [
              0.6666666666666666,
              "#ed7953"
             ],
             [
              0.7777777777777778,
              "#fb9f3a"
             ],
             [
              0.8888888888888888,
              "#fdca26"
             ],
             [
              1,
              "#f0f921"
             ]
            ],
            "type": "heatmap"
           }
          ],
          "heatmapgl": [
           {
            "colorbar": {
             "outlinewidth": 0,
             "ticks": ""
            },
            "colorscale": [
             [
              0,
              "#0d0887"
             ],
             [
              0.1111111111111111,
              "#46039f"
             ],
             [
              0.2222222222222222,
              "#7201a8"
             ],
             [
              0.3333333333333333,
              "#9c179e"
             ],
             [
              0.4444444444444444,
              "#bd3786"
             ],
             [
              0.5555555555555556,
              "#d8576b"
             ],
             [
              0.6666666666666666,
              "#ed7953"
             ],
             [
              0.7777777777777778,
              "#fb9f3a"
             ],
             [
              0.8888888888888888,
              "#fdca26"
             ],
             [
              1,
              "#f0f921"
             ]
            ],
            "type": "heatmapgl"
           }
          ],
          "histogram": [
           {
            "marker": {
             "pattern": {
              "fillmode": "overlay",
              "size": 10,
              "solidity": 0.2
             }
            },
            "type": "histogram"
           }
          ],
          "histogram2d": [
           {
            "colorbar": {
             "outlinewidth": 0,
             "ticks": ""
            },
            "colorscale": [
             [
              0,
              "#0d0887"
             ],
             [
              0.1111111111111111,
              "#46039f"
             ],
             [
              0.2222222222222222,
              "#7201a8"
             ],
             [
              0.3333333333333333,
              "#9c179e"
             ],
             [
              0.4444444444444444,
              "#bd3786"
             ],
             [
              0.5555555555555556,
              "#d8576b"
             ],
             [
              0.6666666666666666,
              "#ed7953"
             ],
             [
              0.7777777777777778,
              "#fb9f3a"
             ],
             [
              0.8888888888888888,
              "#fdca26"
             ],
             [
              1,
              "#f0f921"
             ]
            ],
            "type": "histogram2d"
           }
          ],
          "histogram2dcontour": [
           {
            "colorbar": {
             "outlinewidth": 0,
             "ticks": ""
            },
            "colorscale": [
             [
              0,
              "#0d0887"
             ],
             [
              0.1111111111111111,
              "#46039f"
             ],
             [
              0.2222222222222222,
              "#7201a8"
             ],
             [
              0.3333333333333333,
              "#9c179e"
             ],
             [
              0.4444444444444444,
              "#bd3786"
             ],
             [
              0.5555555555555556,
              "#d8576b"
             ],
             [
              0.6666666666666666,
              "#ed7953"
             ],
             [
              0.7777777777777778,
              "#fb9f3a"
             ],
             [
              0.8888888888888888,
              "#fdca26"
             ],
             [
              1,
              "#f0f921"
             ]
            ],
            "type": "histogram2dcontour"
           }
          ],
          "mesh3d": [
           {
            "colorbar": {
             "outlinewidth": 0,
             "ticks": ""
            },
            "type": "mesh3d"
           }
          ],
          "parcoords": [
           {
            "line": {
             "colorbar": {
              "outlinewidth": 0,
              "ticks": ""
             }
            },
            "type": "parcoords"
           }
          ],
          "pie": [
           {
            "automargin": true,
            "type": "pie"
           }
          ],
          "scatter": [
           {
            "fillpattern": {
             "fillmode": "overlay",
             "size": 10,
             "solidity": 0.2
            },
            "type": "scatter"
           }
          ],
          "scatter3d": [
           {
            "line": {
             "colorbar": {
              "outlinewidth": 0,
              "ticks": ""
             }
            },
            "marker": {
             "colorbar": {
              "outlinewidth": 0,
              "ticks": ""
             }
            },
            "type": "scatter3d"
           }
          ],
          "scattercarpet": [
           {
            "marker": {
             "colorbar": {
              "outlinewidth": 0,
              "ticks": ""
             }
            },
            "type": "scattercarpet"
           }
          ],
          "scattergeo": [
           {
            "marker": {
             "colorbar": {
              "outlinewidth": 0,
              "ticks": ""
             }
            },
            "type": "scattergeo"
           }
          ],
          "scattergl": [
           {
            "marker": {
             "colorbar": {
              "outlinewidth": 0,
              "ticks": ""
             }
            },
            "type": "scattergl"
           }
          ],
          "scattermapbox": [
           {
            "marker": {
             "colorbar": {
              "outlinewidth": 0,
              "ticks": ""
             }
            },
            "type": "scattermapbox"
           }
          ],
          "scatterpolar": [
           {
            "marker": {
             "colorbar": {
              "outlinewidth": 0,
              "ticks": ""
             }
            },
            "type": "scatterpolar"
           }
          ],
          "scatterpolargl": [
           {
            "marker": {
             "colorbar": {
              "outlinewidth": 0,
              "ticks": ""
             }
            },
            "type": "scatterpolargl"
           }
          ],
          "scatterternary": [
           {
            "marker": {
             "colorbar": {
              "outlinewidth": 0,
              "ticks": ""
             }
            },
            "type": "scatterternary"
           }
          ],
          "surface": [
           {
            "colorbar": {
             "outlinewidth": 0,
             "ticks": ""
            },
            "colorscale": [
             [
              0,
              "#0d0887"
             ],
             [
              0.1111111111111111,
              "#46039f"
             ],
             [
              0.2222222222222222,
              "#7201a8"
             ],
             [
              0.3333333333333333,
              "#9c179e"
             ],
             [
              0.4444444444444444,
              "#bd3786"
             ],
             [
              0.5555555555555556,
              "#d8576b"
             ],
             [
              0.6666666666666666,
              "#ed7953"
             ],
             [
              0.7777777777777778,
              "#fb9f3a"
             ],
             [
              0.8888888888888888,
              "#fdca26"
             ],
             [
              1,
              "#f0f921"
             ]
            ],
            "type": "surface"
           }
          ],
          "table": [
           {
            "cells": {
             "fill": {
              "color": "#EBF0F8"
             },
             "line": {
              "color": "white"
             }
            },
            "header": {
             "fill": {
              "color": "#C8D4E3"
             },
             "line": {
              "color": "white"
             }
            },
            "type": "table"
           }
          ]
         },
         "layout": {
          "annotationdefaults": {
           "arrowcolor": "#2a3f5f",
           "arrowhead": 0,
           "arrowwidth": 1
          },
          "autotypenumbers": "strict",
          "coloraxis": {
           "colorbar": {
            "outlinewidth": 0,
            "ticks": ""
           }
          },
          "colorscale": {
           "diverging": [
            [
             0,
             "#8e0152"
            ],
            [
             0.1,
             "#c51b7d"
            ],
            [
             0.2,
             "#de77ae"
            ],
            [
             0.3,
             "#f1b6da"
            ],
            [
             0.4,
             "#fde0ef"
            ],
            [
             0.5,
             "#f7f7f7"
            ],
            [
             0.6,
             "#e6f5d0"
            ],
            [
             0.7,
             "#b8e186"
            ],
            [
             0.8,
             "#7fbc41"
            ],
            [
             0.9,
             "#4d9221"
            ],
            [
             1,
             "#276419"
            ]
           ],
           "sequential": [
            [
             0,
             "#0d0887"
            ],
            [
             0.1111111111111111,
             "#46039f"
            ],
            [
             0.2222222222222222,
             "#7201a8"
            ],
            [
             0.3333333333333333,
             "#9c179e"
            ],
            [
             0.4444444444444444,
             "#bd3786"
            ],
            [
             0.5555555555555556,
             "#d8576b"
            ],
            [
             0.6666666666666666,
             "#ed7953"
            ],
            [
             0.7777777777777778,
             "#fb9f3a"
            ],
            [
             0.8888888888888888,
             "#fdca26"
            ],
            [
             1,
             "#f0f921"
            ]
           ],
           "sequentialminus": [
            [
             0,
             "#0d0887"
            ],
            [
             0.1111111111111111,
             "#46039f"
            ],
            [
             0.2222222222222222,
             "#7201a8"
            ],
            [
             0.3333333333333333,
             "#9c179e"
            ],
            [
             0.4444444444444444,
             "#bd3786"
            ],
            [
             0.5555555555555556,
             "#d8576b"
            ],
            [
             0.6666666666666666,
             "#ed7953"
            ],
            [
             0.7777777777777778,
             "#fb9f3a"
            ],
            [
             0.8888888888888888,
             "#fdca26"
            ],
            [
             1,
             "#f0f921"
            ]
           ]
          },
          "colorway": [
           "#636efa",
           "#EF553B",
           "#00cc96",
           "#ab63fa",
           "#FFA15A",
           "#19d3f3",
           "#FF6692",
           "#B6E880",
           "#FF97FF",
           "#FECB52"
          ],
          "font": {
           "color": "#2a3f5f"
          },
          "geo": {
           "bgcolor": "white",
           "lakecolor": "white",
           "landcolor": "#E5ECF6",
           "showlakes": true,
           "showland": true,
           "subunitcolor": "white"
          },
          "hoverlabel": {
           "align": "left"
          },
          "hovermode": "closest",
          "mapbox": {
           "style": "light"
          },
          "paper_bgcolor": "white",
          "plot_bgcolor": "#E5ECF6",
          "polar": {
           "angularaxis": {
            "gridcolor": "white",
            "linecolor": "white",
            "ticks": ""
           },
           "bgcolor": "#E5ECF6",
           "radialaxis": {
            "gridcolor": "white",
            "linecolor": "white",
            "ticks": ""
           }
          },
          "scene": {
           "xaxis": {
            "backgroundcolor": "#E5ECF6",
            "gridcolor": "white",
            "gridwidth": 2,
            "linecolor": "white",
            "showbackground": true,
            "ticks": "",
            "zerolinecolor": "white"
           },
           "yaxis": {
            "backgroundcolor": "#E5ECF6",
            "gridcolor": "white",
            "gridwidth": 2,
            "linecolor": "white",
            "showbackground": true,
            "ticks": "",
            "zerolinecolor": "white"
           },
           "zaxis": {
            "backgroundcolor": "#E5ECF6",
            "gridcolor": "white",
            "gridwidth": 2,
            "linecolor": "white",
            "showbackground": true,
            "ticks": "",
            "zerolinecolor": "white"
           }
          },
          "shapedefaults": {
           "line": {
            "color": "#2a3f5f"
           }
          },
          "ternary": {
           "aaxis": {
            "gridcolor": "white",
            "linecolor": "white",
            "ticks": ""
           },
           "baxis": {
            "gridcolor": "white",
            "linecolor": "white",
            "ticks": ""
           },
           "bgcolor": "#E5ECF6",
           "caxis": {
            "gridcolor": "white",
            "linecolor": "white",
            "ticks": ""
           }
          },
          "title": {
           "x": 0.05
          },
          "xaxis": {
           "automargin": true,
           "gridcolor": "white",
           "linecolor": "white",
           "ticks": "",
           "title": {
            "standoff": 15
           },
           "zerolinecolor": "white",
           "zerolinewidth": 2
          },
          "yaxis": {
           "automargin": true,
           "gridcolor": "white",
           "linecolor": "white",
           "ticks": "",
           "title": {
            "standoff": 15
           },
           "zerolinecolor": "white",
           "zerolinewidth": 2
          }
         }
        },
        "title": {
         "font": {
          "color": "#4D5663"
         }
        },
        "xaxis": {
         "gridcolor": "#E1E5ED",
         "showgrid": true,
         "tickfont": {
          "color": "#4D5663"
         },
         "title": {
          "font": {
           "color": "#4D5663"
          },
          "text": ""
         },
         "zerolinecolor": "#E1E5ED"
        },
        "yaxis": {
         "gridcolor": "#E1E5ED",
         "showgrid": true,
         "tickfont": {
          "color": "#4D5663"
         },
         "title": {
          "font": {
           "color": "#4D5663"
          },
          "text": ""
         },
         "zerolinecolor": "#E1E5ED"
        }
       }
      },
      "text/html": [
       "<div>                            <div id=\"248fca89-5b8c-4d9c-acba-caaf6095e61a\" class=\"plotly-graph-div\" style=\"height:525px; width:100%;\"></div>            <script type=\"text/javascript\">                require([\"plotly\"], function(Plotly) {                    window.PLOTLYENV=window.PLOTLYENV || {};\n",
       "                    window.PLOTLYENV.BASE_URL='https://plot.ly';                                    if (document.getElementById(\"248fca89-5b8c-4d9c-acba-caaf6095e61a\")) {                    Plotly.newPlot(                        \"248fca89-5b8c-4d9c-acba-caaf6095e61a\",                        [{\"line\":{\"color\":\"rgba(255, 153, 51, 1.0)\",\"dash\":\"solid\",\"shape\":\"linear\",\"width\":1.3},\"marker\":{\"size\":10,\"symbol\":\"circle\"},\"mode\":\"markers\",\"name\":\"B\",\"text\":\"\",\"x\":[-0.4948803672448772,-1.278606917283569,0.07106421334385374,1.0619587030601383,-1.4440555967233013,-0.22858606681894317,1.0030057486241948,0.04484795456415611,1.1619652312215167,-0.3063834419687249,0.5573171280834106,-1.4004848970008938,0.07213998245936415,-0.1992952156759034,0.963590047242657,0.1777390611535859,0.3189703863207484,0.6566964416263336,-1.2392354456388477,0.6737524737410653,1.4126321439046603,0.871402533205939,-0.8008377075281847,0.2066366446481001,0.7843129613261675,0.3612288487362664,0.42751052801441863,-1.3907782385950074,0.6062586949880656,-0.9710333735809482,0.47891605023133554,1.2337314105990314,0.9082028305785744,0.8446175169590872,0.2213111437943422,0.6040793357601695,-0.08588004121752364,-1.734245229493394,0.3647044551034887,0.0972210006165413,1.5046750299472174,-0.2810942500199662,3.0486427088955197,0.8443707688013775,-1.1933916647937377,-0.746046118365644,-1.1939737089247473,0.40617833718975777,-2.662736129779989,1.1340143561785632,-1.3431317646811118,-1.5882524199465087,-0.6483975035034787,1.3152824593173136,0.1333759544313208,0.30894298034457474,-0.6356048656438124,1.3659277658214952,-0.8456641943132652,0.5792996706265964,-0.12359290321284937,0.3266371728879937,1.295394749603058,-1.808102978075752,1.00915672491599,1.0642108345710921,1.466414923863723,0.8008328209289889,-0.09580001650492555,-0.38362804920073745,1.3351436888107087,-1.9884141016609131,0.4263071451958101,2.2681107757035783,0.5787490360176778,0.2831479916822075,-0.5928277608139828,1.0258181150691483,0.6891934792638104,-1.2325795921811449,0.46801777318662463,1.1160736213980393,-0.7838575266232529,1.0298022519136174,-0.7014308136007442,0.6960023389885786,1.1930852729550367,-0.4791890698641037,-0.3679677031951291,0.7966573079412141,-0.3211027262453276,-0.7608238050371512,-0.9710853823227727,0.22756984546431366,0.35529269618747356,-0.9526719129304471,-0.303544912011667,0.7324609793244885,1.2023945170669637,1.320809141414054],\"y\":[0.1776044584804704,-0.30579446317958037,0.13659788724493616,0.013966560660043948,1.3273022146782885,0.4245281639427591,0.13993688841338434,0.1364806923102963,-2.1065412864272086,-0.7493121467001574,-0.21907401933298437,1.3552891173188997,1.3823839058712768,0.26110714954987385,0.6670584552397943,0.697742052337499,-1.4770059522646852,-0.9466999513182942,-0.41620999378775114,0.23120654972488888,0.1053455114042331,-1.098711099169789,1.4008705791090683,-0.434654050392941,-1.207128568186926,-0.03525291190838535,0.14426598640881158,-1.6202847005796388,0.7627104472323303,1.2241416006731294,-0.6465533718632971,0.7415566179979918,-1.428988584175279,-1.928358672485835,-0.07720665593274657,0.5671077245400157,-1.795702440431457,-0.7941695676657354,3.907184367978601,1.8762239910918184,-0.8640392128710467,0.14788580454689232,0.4848657485550836,-0.39822234778649335,-0.2143508229290543,0.5421028547170331,0.9470213452638643,0.6079341780818952,0.08236570323112267,-0.4206814224407974,-0.2751572370420352,0.6632291561159293,-0.1672811079836468,0.84269169025041,0.7089604299130701,0.2458080265524387,-1.5136335159268992,-1.1978392671156282,-1.618336530284113,0.012290688929548993,1.619220248352336,1.110592869177345,0.7018241042017215,0.3702183639470843,-1.7388309041310908,-0.0875310813749589,-0.9124345858997445,1.1530317074144363,0.4714579218231528,0.48493178299862316,-0.35122660893540913,2.451773260240074,0.9309728827074173,-0.8834813115281297,-0.24448564745225207,0.46071894306278166,-2.309648368476434,1.7172733786642822,0.2073435746324365,-0.7662927627171758,-0.3838240458423306,1.2410093848919947,-0.24166136762679763,-0.16830385578843002,-1.704143002064265,-0.9899666399550905,-0.2962403884733509,-0.1531779038411322,0.015868120719419496,0.8272629094610052,1.868780342551116,0.4496997798754286,0.1255705622513645,-1.0699432646501854,1.2467596372794354,-0.22818951517464736,1.1230267105010945,-0.10288297183350929,-0.6189159183061426,1.13100404498498],\"type\":\"scatter\"}],                        {\"legend\":{\"bgcolor\":\"#F5F6F9\",\"font\":{\"color\":\"#4D5663\"}},\"paper_bgcolor\":\"#F5F6F9\",\"plot_bgcolor\":\"#F5F6F9\",\"template\":{\"data\":{\"barpolar\":[{\"marker\":{\"line\":{\"color\":\"#E5ECF6\",\"width\":0.5},\"pattern\":{\"fillmode\":\"overlay\",\"size\":10,\"solidity\":0.2}},\"type\":\"barpolar\"}],\"bar\":[{\"error_x\":{\"color\":\"#2a3f5f\"},\"error_y\":{\"color\":\"#2a3f5f\"},\"marker\":{\"line\":{\"color\":\"#E5ECF6\",\"width\":0.5},\"pattern\":{\"fillmode\":\"overlay\",\"size\":10,\"solidity\":0.2}},\"type\":\"bar\"}],\"carpet\":[{\"aaxis\":{\"endlinecolor\":\"#2a3f5f\",\"gridcolor\":\"white\",\"linecolor\":\"white\",\"minorgridcolor\":\"white\",\"startlinecolor\":\"#2a3f5f\"},\"baxis\":{\"endlinecolor\":\"#2a3f5f\",\"gridcolor\":\"white\",\"linecolor\":\"white\",\"minorgridcolor\":\"white\",\"startlinecolor\":\"#2a3f5f\"},\"type\":\"carpet\"}],\"choropleth\":[{\"colorbar\":{\"outlinewidth\":0,\"ticks\":\"\"},\"type\":\"choropleth\"}],\"contourcarpet\":[{\"colorbar\":{\"outlinewidth\":0,\"ticks\":\"\"},\"type\":\"contourcarpet\"}],\"contour\":[{\"colorbar\":{\"outlinewidth\":0,\"ticks\":\"\"},\"colorscale\":[[0.0,\"#0d0887\"],[0.1111111111111111,\"#46039f\"],[0.2222222222222222,\"#7201a8\"],[0.3333333333333333,\"#9c179e\"],[0.4444444444444444,\"#bd3786\"],[0.5555555555555556,\"#d8576b\"],[0.6666666666666666,\"#ed7953\"],[0.7777777777777778,\"#fb9f3a\"],[0.8888888888888888,\"#fdca26\"],[1.0,\"#f0f921\"]],\"type\":\"contour\"}],\"heatmapgl\":[{\"colorbar\":{\"outlinewidth\":0,\"ticks\":\"\"},\"colorscale\":[[0.0,\"#0d0887\"],[0.1111111111111111,\"#46039f\"],[0.2222222222222222,\"#7201a8\"],[0.3333333333333333,\"#9c179e\"],[0.4444444444444444,\"#bd3786\"],[0.5555555555555556,\"#d8576b\"],[0.6666666666666666,\"#ed7953\"],[0.7777777777777778,\"#fb9f3a\"],[0.8888888888888888,\"#fdca26\"],[1.0,\"#f0f921\"]],\"type\":\"heatmapgl\"}],\"heatmap\":[{\"colorbar\":{\"outlinewidth\":0,\"ticks\":\"\"},\"colorscale\":[[0.0,\"#0d0887\"],[0.1111111111111111,\"#46039f\"],[0.2222222222222222,\"#7201a8\"],[0.3333333333333333,\"#9c179e\"],[0.4444444444444444,\"#bd3786\"],[0.5555555555555556,\"#d8576b\"],[0.6666666666666666,\"#ed7953\"],[0.7777777777777778,\"#fb9f3a\"],[0.8888888888888888,\"#fdca26\"],[1.0,\"#f0f921\"]],\"type\":\"heatmap\"}],\"histogram2dcontour\":[{\"colorbar\":{\"outlinewidth\":0,\"ticks\":\"\"},\"colorscale\":[[0.0,\"#0d0887\"],[0.1111111111111111,\"#46039f\"],[0.2222222222222222,\"#7201a8\"],[0.3333333333333333,\"#9c179e\"],[0.4444444444444444,\"#bd3786\"],[0.5555555555555556,\"#d8576b\"],[0.6666666666666666,\"#ed7953\"],[0.7777777777777778,\"#fb9f3a\"],[0.8888888888888888,\"#fdca26\"],[1.0,\"#f0f921\"]],\"type\":\"histogram2dcontour\"}],\"histogram2d\":[{\"colorbar\":{\"outlinewidth\":0,\"ticks\":\"\"},\"colorscale\":[[0.0,\"#0d0887\"],[0.1111111111111111,\"#46039f\"],[0.2222222222222222,\"#7201a8\"],[0.3333333333333333,\"#9c179e\"],[0.4444444444444444,\"#bd3786\"],[0.5555555555555556,\"#d8576b\"],[0.6666666666666666,\"#ed7953\"],[0.7777777777777778,\"#fb9f3a\"],[0.8888888888888888,\"#fdca26\"],[1.0,\"#f0f921\"]],\"type\":\"histogram2d\"}],\"histogram\":[{\"marker\":{\"pattern\":{\"fillmode\":\"overlay\",\"size\":10,\"solidity\":0.2}},\"type\":\"histogram\"}],\"mesh3d\":[{\"colorbar\":{\"outlinewidth\":0,\"ticks\":\"\"},\"type\":\"mesh3d\"}],\"parcoords\":[{\"line\":{\"colorbar\":{\"outlinewidth\":0,\"ticks\":\"\"}},\"type\":\"parcoords\"}],\"pie\":[{\"automargin\":true,\"type\":\"pie\"}],\"scatter3d\":[{\"line\":{\"colorbar\":{\"outlinewidth\":0,\"ticks\":\"\"}},\"marker\":{\"colorbar\":{\"outlinewidth\":0,\"ticks\":\"\"}},\"type\":\"scatter3d\"}],\"scattercarpet\":[{\"marker\":{\"colorbar\":{\"outlinewidth\":0,\"ticks\":\"\"}},\"type\":\"scattercarpet\"}],\"scattergeo\":[{\"marker\":{\"colorbar\":{\"outlinewidth\":0,\"ticks\":\"\"}},\"type\":\"scattergeo\"}],\"scattergl\":[{\"marker\":{\"colorbar\":{\"outlinewidth\":0,\"ticks\":\"\"}},\"type\":\"scattergl\"}],\"scattermapbox\":[{\"marker\":{\"colorbar\":{\"outlinewidth\":0,\"ticks\":\"\"}},\"type\":\"scattermapbox\"}],\"scatterpolargl\":[{\"marker\":{\"colorbar\":{\"outlinewidth\":0,\"ticks\":\"\"}},\"type\":\"scatterpolargl\"}],\"scatterpolar\":[{\"marker\":{\"colorbar\":{\"outlinewidth\":0,\"ticks\":\"\"}},\"type\":\"scatterpolar\"}],\"scatter\":[{\"fillpattern\":{\"fillmode\":\"overlay\",\"size\":10,\"solidity\":0.2},\"type\":\"scatter\"}],\"scatterternary\":[{\"marker\":{\"colorbar\":{\"outlinewidth\":0,\"ticks\":\"\"}},\"type\":\"scatterternary\"}],\"surface\":[{\"colorbar\":{\"outlinewidth\":0,\"ticks\":\"\"},\"colorscale\":[[0.0,\"#0d0887\"],[0.1111111111111111,\"#46039f\"],[0.2222222222222222,\"#7201a8\"],[0.3333333333333333,\"#9c179e\"],[0.4444444444444444,\"#bd3786\"],[0.5555555555555556,\"#d8576b\"],[0.6666666666666666,\"#ed7953\"],[0.7777777777777778,\"#fb9f3a\"],[0.8888888888888888,\"#fdca26\"],[1.0,\"#f0f921\"]],\"type\":\"surface\"}],\"table\":[{\"cells\":{\"fill\":{\"color\":\"#EBF0F8\"},\"line\":{\"color\":\"white\"}},\"header\":{\"fill\":{\"color\":\"#C8D4E3\"},\"line\":{\"color\":\"white\"}},\"type\":\"table\"}]},\"layout\":{\"annotationdefaults\":{\"arrowcolor\":\"#2a3f5f\",\"arrowhead\":0,\"arrowwidth\":1},\"autotypenumbers\":\"strict\",\"coloraxis\":{\"colorbar\":{\"outlinewidth\":0,\"ticks\":\"\"}},\"colorscale\":{\"diverging\":[[0,\"#8e0152\"],[0.1,\"#c51b7d\"],[0.2,\"#de77ae\"],[0.3,\"#f1b6da\"],[0.4,\"#fde0ef\"],[0.5,\"#f7f7f7\"],[0.6,\"#e6f5d0\"],[0.7,\"#b8e186\"],[0.8,\"#7fbc41\"],[0.9,\"#4d9221\"],[1,\"#276419\"]],\"sequential\":[[0.0,\"#0d0887\"],[0.1111111111111111,\"#46039f\"],[0.2222222222222222,\"#7201a8\"],[0.3333333333333333,\"#9c179e\"],[0.4444444444444444,\"#bd3786\"],[0.5555555555555556,\"#d8576b\"],[0.6666666666666666,\"#ed7953\"],[0.7777777777777778,\"#fb9f3a\"],[0.8888888888888888,\"#fdca26\"],[1.0,\"#f0f921\"]],\"sequentialminus\":[[0.0,\"#0d0887\"],[0.1111111111111111,\"#46039f\"],[0.2222222222222222,\"#7201a8\"],[0.3333333333333333,\"#9c179e\"],[0.4444444444444444,\"#bd3786\"],[0.5555555555555556,\"#d8576b\"],[0.6666666666666666,\"#ed7953\"],[0.7777777777777778,\"#fb9f3a\"],[0.8888888888888888,\"#fdca26\"],[1.0,\"#f0f921\"]]},\"colorway\":[\"#636efa\",\"#EF553B\",\"#00cc96\",\"#ab63fa\",\"#FFA15A\",\"#19d3f3\",\"#FF6692\",\"#B6E880\",\"#FF97FF\",\"#FECB52\"],\"font\":{\"color\":\"#2a3f5f\"},\"geo\":{\"bgcolor\":\"white\",\"lakecolor\":\"white\",\"landcolor\":\"#E5ECF6\",\"showlakes\":true,\"showland\":true,\"subunitcolor\":\"white\"},\"hoverlabel\":{\"align\":\"left\"},\"hovermode\":\"closest\",\"mapbox\":{\"style\":\"light\"},\"paper_bgcolor\":\"white\",\"plot_bgcolor\":\"#E5ECF6\",\"polar\":{\"angularaxis\":{\"gridcolor\":\"white\",\"linecolor\":\"white\",\"ticks\":\"\"},\"bgcolor\":\"#E5ECF6\",\"radialaxis\":{\"gridcolor\":\"white\",\"linecolor\":\"white\",\"ticks\":\"\"}},\"scene\":{\"xaxis\":{\"backgroundcolor\":\"#E5ECF6\",\"gridcolor\":\"white\",\"gridwidth\":2,\"linecolor\":\"white\",\"showbackground\":true,\"ticks\":\"\",\"zerolinecolor\":\"white\"},\"yaxis\":{\"backgroundcolor\":\"#E5ECF6\",\"gridcolor\":\"white\",\"gridwidth\":2,\"linecolor\":\"white\",\"showbackground\":true,\"ticks\":\"\",\"zerolinecolor\":\"white\"},\"zaxis\":{\"backgroundcolor\":\"#E5ECF6\",\"gridcolor\":\"white\",\"gridwidth\":2,\"linecolor\":\"white\",\"showbackground\":true,\"ticks\":\"\",\"zerolinecolor\":\"white\"}},\"shapedefaults\":{\"line\":{\"color\":\"#2a3f5f\"}},\"ternary\":{\"aaxis\":{\"gridcolor\":\"white\",\"linecolor\":\"white\",\"ticks\":\"\"},\"baxis\":{\"gridcolor\":\"white\",\"linecolor\":\"white\",\"ticks\":\"\"},\"bgcolor\":\"#E5ECF6\",\"caxis\":{\"gridcolor\":\"white\",\"linecolor\":\"white\",\"ticks\":\"\"}},\"title\":{\"x\":0.05},\"xaxis\":{\"automargin\":true,\"gridcolor\":\"white\",\"linecolor\":\"white\",\"ticks\":\"\",\"title\":{\"standoff\":15},\"zerolinecolor\":\"white\",\"zerolinewidth\":2},\"yaxis\":{\"automargin\":true,\"gridcolor\":\"white\",\"linecolor\":\"white\",\"ticks\":\"\",\"title\":{\"standoff\":15},\"zerolinecolor\":\"white\",\"zerolinewidth\":2}}},\"title\":{\"font\":{\"color\":\"#4D5663\"}},\"xaxis\":{\"gridcolor\":\"#E1E5ED\",\"showgrid\":true,\"tickfont\":{\"color\":\"#4D5663\"},\"title\":{\"font\":{\"color\":\"#4D5663\"},\"text\":\"\"},\"zerolinecolor\":\"#E1E5ED\"},\"yaxis\":{\"gridcolor\":\"#E1E5ED\",\"showgrid\":true,\"tickfont\":{\"color\":\"#4D5663\"},\"title\":{\"font\":{\"color\":\"#4D5663\"},\"text\":\"\"},\"zerolinecolor\":\"#E1E5ED\"}},                        {\"showLink\": true, \"linkText\": \"Export to plot.ly\", \"plotlyServerURL\": \"https://plot.ly\", \"responsive\": true}                    ).then(function(){\n",
       "                            \n",
       "var gd = document.getElementById('248fca89-5b8c-4d9c-acba-caaf6095e61a');\n",
       "var x = new MutationObserver(function (mutations, observer) {{\n",
       "        var display = window.getComputedStyle(gd).display;\n",
       "        if (!display || display === 'none') {{\n",
       "            console.log([gd, 'removed!']);\n",
       "            Plotly.purge(gd);\n",
       "            observer.disconnect();\n",
       "        }}\n",
       "}});\n",
       "\n",
       "// Listen for the removal of the full notebook cells\n",
       "var notebookContainer = gd.closest('#notebook-container');\n",
       "if (notebookContainer) {{\n",
       "    x.observe(notebookContainer, {childList: true});\n",
       "}}\n",
       "\n",
       "// Listen for the clearing of the current output cell\n",
       "var outputEl = gd.closest('.output');\n",
       "if (outputEl) {{\n",
       "    x.observe(outputEl, {childList: true});\n",
       "}}\n",
       "\n",
       "                        })                };                });            </script>        </div>"
      ]
     },
     "metadata": {},
     "output_type": "display_data"
    }
   ],
   "source": [
    "df.iplot(kind='scatter',x='A',y='B',mode='markers',size=10)"
   ]
  },
  {
   "cell_type": "markdown",
   "metadata": {},
   "source": [
    "## Bar Plots"
   ]
  },
  {
   "cell_type": "code",
   "execution_count": 12,
   "metadata": {},
   "outputs": [
    {
     "data": {
      "application/vnd.plotly.v1+json": {
       "config": {
        "linkText": "Export to plot.ly",
        "plotlyServerURL": "https://plot.ly",
        "showLink": true
       },
       "data": [
        {
         "marker": {
          "color": "rgba(255, 153, 51, 0.6)",
          "line": {
           "color": "rgba(255, 153, 51, 1.0)",
           "width": 1
          }
         },
         "name": "Values",
         "orientation": "v",
         "text": "",
         "type": "bar",
         "x": [
          "A",
          "B",
          "C"
         ],
         "y": [
          32,
          43,
          50
         ]
        }
       ],
       "layout": {
        "legend": {
         "bgcolor": "#F5F6F9",
         "font": {
          "color": "#4D5663"
         }
        },
        "paper_bgcolor": "#F5F6F9",
        "plot_bgcolor": "#F5F6F9",
        "template": {
         "data": {
          "bar": [
           {
            "error_x": {
             "color": "#2a3f5f"
            },
            "error_y": {
             "color": "#2a3f5f"
            },
            "marker": {
             "line": {
              "color": "#E5ECF6",
              "width": 0.5
             },
             "pattern": {
              "fillmode": "overlay",
              "size": 10,
              "solidity": 0.2
             }
            },
            "type": "bar"
           }
          ],
          "barpolar": [
           {
            "marker": {
             "line": {
              "color": "#E5ECF6",
              "width": 0.5
             },
             "pattern": {
              "fillmode": "overlay",
              "size": 10,
              "solidity": 0.2
             }
            },
            "type": "barpolar"
           }
          ],
          "carpet": [
           {
            "aaxis": {
             "endlinecolor": "#2a3f5f",
             "gridcolor": "white",
             "linecolor": "white",
             "minorgridcolor": "white",
             "startlinecolor": "#2a3f5f"
            },
            "baxis": {
             "endlinecolor": "#2a3f5f",
             "gridcolor": "white",
             "linecolor": "white",
             "minorgridcolor": "white",
             "startlinecolor": "#2a3f5f"
            },
            "type": "carpet"
           }
          ],
          "choropleth": [
           {
            "colorbar": {
             "outlinewidth": 0,
             "ticks": ""
            },
            "type": "choropleth"
           }
          ],
          "contour": [
           {
            "colorbar": {
             "outlinewidth": 0,
             "ticks": ""
            },
            "colorscale": [
             [
              0,
              "#0d0887"
             ],
             [
              0.1111111111111111,
              "#46039f"
             ],
             [
              0.2222222222222222,
              "#7201a8"
             ],
             [
              0.3333333333333333,
              "#9c179e"
             ],
             [
              0.4444444444444444,
              "#bd3786"
             ],
             [
              0.5555555555555556,
              "#d8576b"
             ],
             [
              0.6666666666666666,
              "#ed7953"
             ],
             [
              0.7777777777777778,
              "#fb9f3a"
             ],
             [
              0.8888888888888888,
              "#fdca26"
             ],
             [
              1,
              "#f0f921"
             ]
            ],
            "type": "contour"
           }
          ],
          "contourcarpet": [
           {
            "colorbar": {
             "outlinewidth": 0,
             "ticks": ""
            },
            "type": "contourcarpet"
           }
          ],
          "heatmap": [
           {
            "colorbar": {
             "outlinewidth": 0,
             "ticks": ""
            },
            "colorscale": [
             [
              0,
              "#0d0887"
             ],
             [
              0.1111111111111111,
              "#46039f"
             ],
             [
              0.2222222222222222,
              "#7201a8"
             ],
             [
              0.3333333333333333,
              "#9c179e"
             ],
             [
              0.4444444444444444,
              "#bd3786"
             ],
             [
              0.5555555555555556,
              "#d8576b"
             ],
             [
              0.6666666666666666,
              "#ed7953"
             ],
             [
              0.7777777777777778,
              "#fb9f3a"
             ],
             [
              0.8888888888888888,
              "#fdca26"
             ],
             [
              1,
              "#f0f921"
             ]
            ],
            "type": "heatmap"
           }
          ],
          "heatmapgl": [
           {
            "colorbar": {
             "outlinewidth": 0,
             "ticks": ""
            },
            "colorscale": [
             [
              0,
              "#0d0887"
             ],
             [
              0.1111111111111111,
              "#46039f"
             ],
             [
              0.2222222222222222,
              "#7201a8"
             ],
             [
              0.3333333333333333,
              "#9c179e"
             ],
             [
              0.4444444444444444,
              "#bd3786"
             ],
             [
              0.5555555555555556,
              "#d8576b"
             ],
             [
              0.6666666666666666,
              "#ed7953"
             ],
             [
              0.7777777777777778,
              "#fb9f3a"
             ],
             [
              0.8888888888888888,
              "#fdca26"
             ],
             [
              1,
              "#f0f921"
             ]
            ],
            "type": "heatmapgl"
           }
          ],
          "histogram": [
           {
            "marker": {
             "pattern": {
              "fillmode": "overlay",
              "size": 10,
              "solidity": 0.2
             }
            },
            "type": "histogram"
           }
          ],
          "histogram2d": [
           {
            "colorbar": {
             "outlinewidth": 0,
             "ticks": ""
            },
            "colorscale": [
             [
              0,
              "#0d0887"
             ],
             [
              0.1111111111111111,
              "#46039f"
             ],
             [
              0.2222222222222222,
              "#7201a8"
             ],
             [
              0.3333333333333333,
              "#9c179e"
             ],
             [
              0.4444444444444444,
              "#bd3786"
             ],
             [
              0.5555555555555556,
              "#d8576b"
             ],
             [
              0.6666666666666666,
              "#ed7953"
             ],
             [
              0.7777777777777778,
              "#fb9f3a"
             ],
             [
              0.8888888888888888,
              "#fdca26"
             ],
             [
              1,
              "#f0f921"
             ]
            ],
            "type": "histogram2d"
           }
          ],
          "histogram2dcontour": [
           {
            "colorbar": {
             "outlinewidth": 0,
             "ticks": ""
            },
            "colorscale": [
             [
              0,
              "#0d0887"
             ],
             [
              0.1111111111111111,
              "#46039f"
             ],
             [
              0.2222222222222222,
              "#7201a8"
             ],
             [
              0.3333333333333333,
              "#9c179e"
             ],
             [
              0.4444444444444444,
              "#bd3786"
             ],
             [
              0.5555555555555556,
              "#d8576b"
             ],
             [
              0.6666666666666666,
              "#ed7953"
             ],
             [
              0.7777777777777778,
              "#fb9f3a"
             ],
             [
              0.8888888888888888,
              "#fdca26"
             ],
             [
              1,
              "#f0f921"
             ]
            ],
            "type": "histogram2dcontour"
           }
          ],
          "mesh3d": [
           {
            "colorbar": {
             "outlinewidth": 0,
             "ticks": ""
            },
            "type": "mesh3d"
           }
          ],
          "parcoords": [
           {
            "line": {
             "colorbar": {
              "outlinewidth": 0,
              "ticks": ""
             }
            },
            "type": "parcoords"
           }
          ],
          "pie": [
           {
            "automargin": true,
            "type": "pie"
           }
          ],
          "scatter": [
           {
            "fillpattern": {
             "fillmode": "overlay",
             "size": 10,
             "solidity": 0.2
            },
            "type": "scatter"
           }
          ],
          "scatter3d": [
           {
            "line": {
             "colorbar": {
              "outlinewidth": 0,
              "ticks": ""
             }
            },
            "marker": {
             "colorbar": {
              "outlinewidth": 0,
              "ticks": ""
             }
            },
            "type": "scatter3d"
           }
          ],
          "scattercarpet": [
           {
            "marker": {
             "colorbar": {
              "outlinewidth": 0,
              "ticks": ""
             }
            },
            "type": "scattercarpet"
           }
          ],
          "scattergeo": [
           {
            "marker": {
             "colorbar": {
              "outlinewidth": 0,
              "ticks": ""
             }
            },
            "type": "scattergeo"
           }
          ],
          "scattergl": [
           {
            "marker": {
             "colorbar": {
              "outlinewidth": 0,
              "ticks": ""
             }
            },
            "type": "scattergl"
           }
          ],
          "scattermapbox": [
           {
            "marker": {
             "colorbar": {
              "outlinewidth": 0,
              "ticks": ""
             }
            },
            "type": "scattermapbox"
           }
          ],
          "scatterpolar": [
           {
            "marker": {
             "colorbar": {
              "outlinewidth": 0,
              "ticks": ""
             }
            },
            "type": "scatterpolar"
           }
          ],
          "scatterpolargl": [
           {
            "marker": {
             "colorbar": {
              "outlinewidth": 0,
              "ticks": ""
             }
            },
            "type": "scatterpolargl"
           }
          ],
          "scatterternary": [
           {
            "marker": {
             "colorbar": {
              "outlinewidth": 0,
              "ticks": ""
             }
            },
            "type": "scatterternary"
           }
          ],
          "surface": [
           {
            "colorbar": {
             "outlinewidth": 0,
             "ticks": ""
            },
            "colorscale": [
             [
              0,
              "#0d0887"
             ],
             [
              0.1111111111111111,
              "#46039f"
             ],
             [
              0.2222222222222222,
              "#7201a8"
             ],
             [
              0.3333333333333333,
              "#9c179e"
             ],
             [
              0.4444444444444444,
              "#bd3786"
             ],
             [
              0.5555555555555556,
              "#d8576b"
             ],
             [
              0.6666666666666666,
              "#ed7953"
             ],
             [
              0.7777777777777778,
              "#fb9f3a"
             ],
             [
              0.8888888888888888,
              "#fdca26"
             ],
             [
              1,
              "#f0f921"
             ]
            ],
            "type": "surface"
           }
          ],
          "table": [
           {
            "cells": {
             "fill": {
              "color": "#EBF0F8"
             },
             "line": {
              "color": "white"
             }
            },
            "header": {
             "fill": {
              "color": "#C8D4E3"
             },
             "line": {
              "color": "white"
             }
            },
            "type": "table"
           }
          ]
         },
         "layout": {
          "annotationdefaults": {
           "arrowcolor": "#2a3f5f",
           "arrowhead": 0,
           "arrowwidth": 1
          },
          "autotypenumbers": "strict",
          "coloraxis": {
           "colorbar": {
            "outlinewidth": 0,
            "ticks": ""
           }
          },
          "colorscale": {
           "diverging": [
            [
             0,
             "#8e0152"
            ],
            [
             0.1,
             "#c51b7d"
            ],
            [
             0.2,
             "#de77ae"
            ],
            [
             0.3,
             "#f1b6da"
            ],
            [
             0.4,
             "#fde0ef"
            ],
            [
             0.5,
             "#f7f7f7"
            ],
            [
             0.6,
             "#e6f5d0"
            ],
            [
             0.7,
             "#b8e186"
            ],
            [
             0.8,
             "#7fbc41"
            ],
            [
             0.9,
             "#4d9221"
            ],
            [
             1,
             "#276419"
            ]
           ],
           "sequential": [
            [
             0,
             "#0d0887"
            ],
            [
             0.1111111111111111,
             "#46039f"
            ],
            [
             0.2222222222222222,
             "#7201a8"
            ],
            [
             0.3333333333333333,
             "#9c179e"
            ],
            [
             0.4444444444444444,
             "#bd3786"
            ],
            [
             0.5555555555555556,
             "#d8576b"
            ],
            [
             0.6666666666666666,
             "#ed7953"
            ],
            [
             0.7777777777777778,
             "#fb9f3a"
            ],
            [
             0.8888888888888888,
             "#fdca26"
            ],
            [
             1,
             "#f0f921"
            ]
           ],
           "sequentialminus": [
            [
             0,
             "#0d0887"
            ],
            [
             0.1111111111111111,
             "#46039f"
            ],
            [
             0.2222222222222222,
             "#7201a8"
            ],
            [
             0.3333333333333333,
             "#9c179e"
            ],
            [
             0.4444444444444444,
             "#bd3786"
            ],
            [
             0.5555555555555556,
             "#d8576b"
            ],
            [
             0.6666666666666666,
             "#ed7953"
            ],
            [
             0.7777777777777778,
             "#fb9f3a"
            ],
            [
             0.8888888888888888,
             "#fdca26"
            ],
            [
             1,
             "#f0f921"
            ]
           ]
          },
          "colorway": [
           "#636efa",
           "#EF553B",
           "#00cc96",
           "#ab63fa",
           "#FFA15A",
           "#19d3f3",
           "#FF6692",
           "#B6E880",
           "#FF97FF",
           "#FECB52"
          ],
          "font": {
           "color": "#2a3f5f"
          },
          "geo": {
           "bgcolor": "white",
           "lakecolor": "white",
           "landcolor": "#E5ECF6",
           "showlakes": true,
           "showland": true,
           "subunitcolor": "white"
          },
          "hoverlabel": {
           "align": "left"
          },
          "hovermode": "closest",
          "mapbox": {
           "style": "light"
          },
          "paper_bgcolor": "white",
          "plot_bgcolor": "#E5ECF6",
          "polar": {
           "angularaxis": {
            "gridcolor": "white",
            "linecolor": "white",
            "ticks": ""
           },
           "bgcolor": "#E5ECF6",
           "radialaxis": {
            "gridcolor": "white",
            "linecolor": "white",
            "ticks": ""
           }
          },
          "scene": {
           "xaxis": {
            "backgroundcolor": "#E5ECF6",
            "gridcolor": "white",
            "gridwidth": 2,
            "linecolor": "white",
            "showbackground": true,
            "ticks": "",
            "zerolinecolor": "white"
           },
           "yaxis": {
            "backgroundcolor": "#E5ECF6",
            "gridcolor": "white",
            "gridwidth": 2,
            "linecolor": "white",
            "showbackground": true,
            "ticks": "",
            "zerolinecolor": "white"
           },
           "zaxis": {
            "backgroundcolor": "#E5ECF6",
            "gridcolor": "white",
            "gridwidth": 2,
            "linecolor": "white",
            "showbackground": true,
            "ticks": "",
            "zerolinecolor": "white"
           }
          },
          "shapedefaults": {
           "line": {
            "color": "#2a3f5f"
           }
          },
          "ternary": {
           "aaxis": {
            "gridcolor": "white",
            "linecolor": "white",
            "ticks": ""
           },
           "baxis": {
            "gridcolor": "white",
            "linecolor": "white",
            "ticks": ""
           },
           "bgcolor": "#E5ECF6",
           "caxis": {
            "gridcolor": "white",
            "linecolor": "white",
            "ticks": ""
           }
          },
          "title": {
           "x": 0.05
          },
          "xaxis": {
           "automargin": true,
           "gridcolor": "white",
           "linecolor": "white",
           "ticks": "",
           "title": {
            "standoff": 15
           },
           "zerolinecolor": "white",
           "zerolinewidth": 2
          },
          "yaxis": {
           "automargin": true,
           "gridcolor": "white",
           "linecolor": "white",
           "ticks": "",
           "title": {
            "standoff": 15
           },
           "zerolinecolor": "white",
           "zerolinewidth": 2
          }
         }
        },
        "title": {
         "font": {
          "color": "#4D5663"
         }
        },
        "xaxis": {
         "gridcolor": "#E1E5ED",
         "showgrid": true,
         "tickfont": {
          "color": "#4D5663"
         },
         "title": {
          "font": {
           "color": "#4D5663"
          },
          "text": ""
         },
         "zerolinecolor": "#E1E5ED"
        },
        "yaxis": {
         "gridcolor": "#E1E5ED",
         "showgrid": true,
         "tickfont": {
          "color": "#4D5663"
         },
         "title": {
          "font": {
           "color": "#4D5663"
          },
          "text": ""
         },
         "zerolinecolor": "#E1E5ED"
        }
       }
      },
      "text/html": [
       "<div>                            <div id=\"15902e3f-ae95-4481-9b62-817f5e8ed398\" class=\"plotly-graph-div\" style=\"height:525px; width:100%;\"></div>            <script type=\"text/javascript\">                require([\"plotly\"], function(Plotly) {                    window.PLOTLYENV=window.PLOTLYENV || {};\n",
       "                    window.PLOTLYENV.BASE_URL='https://plot.ly';                                    if (document.getElementById(\"15902e3f-ae95-4481-9b62-817f5e8ed398\")) {                    Plotly.newPlot(                        \"15902e3f-ae95-4481-9b62-817f5e8ed398\",                        [{\"marker\":{\"color\":\"rgba(255, 153, 51, 0.6)\",\"line\":{\"color\":\"rgba(255, 153, 51, 1.0)\",\"width\":1}},\"name\":\"Values\",\"orientation\":\"v\",\"text\":\"\",\"x\":[\"A\",\"B\",\"C\"],\"y\":[32,43,50],\"type\":\"bar\"}],                        {\"legend\":{\"bgcolor\":\"#F5F6F9\",\"font\":{\"color\":\"#4D5663\"}},\"paper_bgcolor\":\"#F5F6F9\",\"plot_bgcolor\":\"#F5F6F9\",\"template\":{\"data\":{\"barpolar\":[{\"marker\":{\"line\":{\"color\":\"#E5ECF6\",\"width\":0.5},\"pattern\":{\"fillmode\":\"overlay\",\"size\":10,\"solidity\":0.2}},\"type\":\"barpolar\"}],\"bar\":[{\"error_x\":{\"color\":\"#2a3f5f\"},\"error_y\":{\"color\":\"#2a3f5f\"},\"marker\":{\"line\":{\"color\":\"#E5ECF6\",\"width\":0.5},\"pattern\":{\"fillmode\":\"overlay\",\"size\":10,\"solidity\":0.2}},\"type\":\"bar\"}],\"carpet\":[{\"aaxis\":{\"endlinecolor\":\"#2a3f5f\",\"gridcolor\":\"white\",\"linecolor\":\"white\",\"minorgridcolor\":\"white\",\"startlinecolor\":\"#2a3f5f\"},\"baxis\":{\"endlinecolor\":\"#2a3f5f\",\"gridcolor\":\"white\",\"linecolor\":\"white\",\"minorgridcolor\":\"white\",\"startlinecolor\":\"#2a3f5f\"},\"type\":\"carpet\"}],\"choropleth\":[{\"colorbar\":{\"outlinewidth\":0,\"ticks\":\"\"},\"type\":\"choropleth\"}],\"contourcarpet\":[{\"colorbar\":{\"outlinewidth\":0,\"ticks\":\"\"},\"type\":\"contourcarpet\"}],\"contour\":[{\"colorbar\":{\"outlinewidth\":0,\"ticks\":\"\"},\"colorscale\":[[0.0,\"#0d0887\"],[0.1111111111111111,\"#46039f\"],[0.2222222222222222,\"#7201a8\"],[0.3333333333333333,\"#9c179e\"],[0.4444444444444444,\"#bd3786\"],[0.5555555555555556,\"#d8576b\"],[0.6666666666666666,\"#ed7953\"],[0.7777777777777778,\"#fb9f3a\"],[0.8888888888888888,\"#fdca26\"],[1.0,\"#f0f921\"]],\"type\":\"contour\"}],\"heatmapgl\":[{\"colorbar\":{\"outlinewidth\":0,\"ticks\":\"\"},\"colorscale\":[[0.0,\"#0d0887\"],[0.1111111111111111,\"#46039f\"],[0.2222222222222222,\"#7201a8\"],[0.3333333333333333,\"#9c179e\"],[0.4444444444444444,\"#bd3786\"],[0.5555555555555556,\"#d8576b\"],[0.6666666666666666,\"#ed7953\"],[0.7777777777777778,\"#fb9f3a\"],[0.8888888888888888,\"#fdca26\"],[1.0,\"#f0f921\"]],\"type\":\"heatmapgl\"}],\"heatmap\":[{\"colorbar\":{\"outlinewidth\":0,\"ticks\":\"\"},\"colorscale\":[[0.0,\"#0d0887\"],[0.1111111111111111,\"#46039f\"],[0.2222222222222222,\"#7201a8\"],[0.3333333333333333,\"#9c179e\"],[0.4444444444444444,\"#bd3786\"],[0.5555555555555556,\"#d8576b\"],[0.6666666666666666,\"#ed7953\"],[0.7777777777777778,\"#fb9f3a\"],[0.8888888888888888,\"#fdca26\"],[1.0,\"#f0f921\"]],\"type\":\"heatmap\"}],\"histogram2dcontour\":[{\"colorbar\":{\"outlinewidth\":0,\"ticks\":\"\"},\"colorscale\":[[0.0,\"#0d0887\"],[0.1111111111111111,\"#46039f\"],[0.2222222222222222,\"#7201a8\"],[0.3333333333333333,\"#9c179e\"],[0.4444444444444444,\"#bd3786\"],[0.5555555555555556,\"#d8576b\"],[0.6666666666666666,\"#ed7953\"],[0.7777777777777778,\"#fb9f3a\"],[0.8888888888888888,\"#fdca26\"],[1.0,\"#f0f921\"]],\"type\":\"histogram2dcontour\"}],\"histogram2d\":[{\"colorbar\":{\"outlinewidth\":0,\"ticks\":\"\"},\"colorscale\":[[0.0,\"#0d0887\"],[0.1111111111111111,\"#46039f\"],[0.2222222222222222,\"#7201a8\"],[0.3333333333333333,\"#9c179e\"],[0.4444444444444444,\"#bd3786\"],[0.5555555555555556,\"#d8576b\"],[0.6666666666666666,\"#ed7953\"],[0.7777777777777778,\"#fb9f3a\"],[0.8888888888888888,\"#fdca26\"],[1.0,\"#f0f921\"]],\"type\":\"histogram2d\"}],\"histogram\":[{\"marker\":{\"pattern\":{\"fillmode\":\"overlay\",\"size\":10,\"solidity\":0.2}},\"type\":\"histogram\"}],\"mesh3d\":[{\"colorbar\":{\"outlinewidth\":0,\"ticks\":\"\"},\"type\":\"mesh3d\"}],\"parcoords\":[{\"line\":{\"colorbar\":{\"outlinewidth\":0,\"ticks\":\"\"}},\"type\":\"parcoords\"}],\"pie\":[{\"automargin\":true,\"type\":\"pie\"}],\"scatter3d\":[{\"line\":{\"colorbar\":{\"outlinewidth\":0,\"ticks\":\"\"}},\"marker\":{\"colorbar\":{\"outlinewidth\":0,\"ticks\":\"\"}},\"type\":\"scatter3d\"}],\"scattercarpet\":[{\"marker\":{\"colorbar\":{\"outlinewidth\":0,\"ticks\":\"\"}},\"type\":\"scattercarpet\"}],\"scattergeo\":[{\"marker\":{\"colorbar\":{\"outlinewidth\":0,\"ticks\":\"\"}},\"type\":\"scattergeo\"}],\"scattergl\":[{\"marker\":{\"colorbar\":{\"outlinewidth\":0,\"ticks\":\"\"}},\"type\":\"scattergl\"}],\"scattermapbox\":[{\"marker\":{\"colorbar\":{\"outlinewidth\":0,\"ticks\":\"\"}},\"type\":\"scattermapbox\"}],\"scatterpolargl\":[{\"marker\":{\"colorbar\":{\"outlinewidth\":0,\"ticks\":\"\"}},\"type\":\"scatterpolargl\"}],\"scatterpolar\":[{\"marker\":{\"colorbar\":{\"outlinewidth\":0,\"ticks\":\"\"}},\"type\":\"scatterpolar\"}],\"scatter\":[{\"fillpattern\":{\"fillmode\":\"overlay\",\"size\":10,\"solidity\":0.2},\"type\":\"scatter\"}],\"scatterternary\":[{\"marker\":{\"colorbar\":{\"outlinewidth\":0,\"ticks\":\"\"}},\"type\":\"scatterternary\"}],\"surface\":[{\"colorbar\":{\"outlinewidth\":0,\"ticks\":\"\"},\"colorscale\":[[0.0,\"#0d0887\"],[0.1111111111111111,\"#46039f\"],[0.2222222222222222,\"#7201a8\"],[0.3333333333333333,\"#9c179e\"],[0.4444444444444444,\"#bd3786\"],[0.5555555555555556,\"#d8576b\"],[0.6666666666666666,\"#ed7953\"],[0.7777777777777778,\"#fb9f3a\"],[0.8888888888888888,\"#fdca26\"],[1.0,\"#f0f921\"]],\"type\":\"surface\"}],\"table\":[{\"cells\":{\"fill\":{\"color\":\"#EBF0F8\"},\"line\":{\"color\":\"white\"}},\"header\":{\"fill\":{\"color\":\"#C8D4E3\"},\"line\":{\"color\":\"white\"}},\"type\":\"table\"}]},\"layout\":{\"annotationdefaults\":{\"arrowcolor\":\"#2a3f5f\",\"arrowhead\":0,\"arrowwidth\":1},\"autotypenumbers\":\"strict\",\"coloraxis\":{\"colorbar\":{\"outlinewidth\":0,\"ticks\":\"\"}},\"colorscale\":{\"diverging\":[[0,\"#8e0152\"],[0.1,\"#c51b7d\"],[0.2,\"#de77ae\"],[0.3,\"#f1b6da\"],[0.4,\"#fde0ef\"],[0.5,\"#f7f7f7\"],[0.6,\"#e6f5d0\"],[0.7,\"#b8e186\"],[0.8,\"#7fbc41\"],[0.9,\"#4d9221\"],[1,\"#276419\"]],\"sequential\":[[0.0,\"#0d0887\"],[0.1111111111111111,\"#46039f\"],[0.2222222222222222,\"#7201a8\"],[0.3333333333333333,\"#9c179e\"],[0.4444444444444444,\"#bd3786\"],[0.5555555555555556,\"#d8576b\"],[0.6666666666666666,\"#ed7953\"],[0.7777777777777778,\"#fb9f3a\"],[0.8888888888888888,\"#fdca26\"],[1.0,\"#f0f921\"]],\"sequentialminus\":[[0.0,\"#0d0887\"],[0.1111111111111111,\"#46039f\"],[0.2222222222222222,\"#7201a8\"],[0.3333333333333333,\"#9c179e\"],[0.4444444444444444,\"#bd3786\"],[0.5555555555555556,\"#d8576b\"],[0.6666666666666666,\"#ed7953\"],[0.7777777777777778,\"#fb9f3a\"],[0.8888888888888888,\"#fdca26\"],[1.0,\"#f0f921\"]]},\"colorway\":[\"#636efa\",\"#EF553B\",\"#00cc96\",\"#ab63fa\",\"#FFA15A\",\"#19d3f3\",\"#FF6692\",\"#B6E880\",\"#FF97FF\",\"#FECB52\"],\"font\":{\"color\":\"#2a3f5f\"},\"geo\":{\"bgcolor\":\"white\",\"lakecolor\":\"white\",\"landcolor\":\"#E5ECF6\",\"showlakes\":true,\"showland\":true,\"subunitcolor\":\"white\"},\"hoverlabel\":{\"align\":\"left\"},\"hovermode\":\"closest\",\"mapbox\":{\"style\":\"light\"},\"paper_bgcolor\":\"white\",\"plot_bgcolor\":\"#E5ECF6\",\"polar\":{\"angularaxis\":{\"gridcolor\":\"white\",\"linecolor\":\"white\",\"ticks\":\"\"},\"bgcolor\":\"#E5ECF6\",\"radialaxis\":{\"gridcolor\":\"white\",\"linecolor\":\"white\",\"ticks\":\"\"}},\"scene\":{\"xaxis\":{\"backgroundcolor\":\"#E5ECF6\",\"gridcolor\":\"white\",\"gridwidth\":2,\"linecolor\":\"white\",\"showbackground\":true,\"ticks\":\"\",\"zerolinecolor\":\"white\"},\"yaxis\":{\"backgroundcolor\":\"#E5ECF6\",\"gridcolor\":\"white\",\"gridwidth\":2,\"linecolor\":\"white\",\"showbackground\":true,\"ticks\":\"\",\"zerolinecolor\":\"white\"},\"zaxis\":{\"backgroundcolor\":\"#E5ECF6\",\"gridcolor\":\"white\",\"gridwidth\":2,\"linecolor\":\"white\",\"showbackground\":true,\"ticks\":\"\",\"zerolinecolor\":\"white\"}},\"shapedefaults\":{\"line\":{\"color\":\"#2a3f5f\"}},\"ternary\":{\"aaxis\":{\"gridcolor\":\"white\",\"linecolor\":\"white\",\"ticks\":\"\"},\"baxis\":{\"gridcolor\":\"white\",\"linecolor\":\"white\",\"ticks\":\"\"},\"bgcolor\":\"#E5ECF6\",\"caxis\":{\"gridcolor\":\"white\",\"linecolor\":\"white\",\"ticks\":\"\"}},\"title\":{\"x\":0.05},\"xaxis\":{\"automargin\":true,\"gridcolor\":\"white\",\"linecolor\":\"white\",\"ticks\":\"\",\"title\":{\"standoff\":15},\"zerolinecolor\":\"white\",\"zerolinewidth\":2},\"yaxis\":{\"automargin\":true,\"gridcolor\":\"white\",\"linecolor\":\"white\",\"ticks\":\"\",\"title\":{\"standoff\":15},\"zerolinecolor\":\"white\",\"zerolinewidth\":2}}},\"title\":{\"font\":{\"color\":\"#4D5663\"}},\"xaxis\":{\"gridcolor\":\"#E1E5ED\",\"showgrid\":true,\"tickfont\":{\"color\":\"#4D5663\"},\"title\":{\"font\":{\"color\":\"#4D5663\"},\"text\":\"\"},\"zerolinecolor\":\"#E1E5ED\"},\"yaxis\":{\"gridcolor\":\"#E1E5ED\",\"showgrid\":true,\"tickfont\":{\"color\":\"#4D5663\"},\"title\":{\"font\":{\"color\":\"#4D5663\"},\"text\":\"\"},\"zerolinecolor\":\"#E1E5ED\"}},                        {\"showLink\": true, \"linkText\": \"Export to plot.ly\", \"plotlyServerURL\": \"https://plot.ly\", \"responsive\": true}                    ).then(function(){\n",
       "                            \n",
       "var gd = document.getElementById('15902e3f-ae95-4481-9b62-817f5e8ed398');\n",
       "var x = new MutationObserver(function (mutations, observer) {{\n",
       "        var display = window.getComputedStyle(gd).display;\n",
       "        if (!display || display === 'none') {{\n",
       "            console.log([gd, 'removed!']);\n",
       "            Plotly.purge(gd);\n",
       "            observer.disconnect();\n",
       "        }}\n",
       "}});\n",
       "\n",
       "// Listen for the removal of the full notebook cells\n",
       "var notebookContainer = gd.closest('#notebook-container');\n",
       "if (notebookContainer) {{\n",
       "    x.observe(notebookContainer, {childList: true});\n",
       "}}\n",
       "\n",
       "// Listen for the clearing of the current output cell\n",
       "var outputEl = gd.closest('.output');\n",
       "if (outputEl) {{\n",
       "    x.observe(outputEl, {childList: true});\n",
       "}}\n",
       "\n",
       "                        })                };                });            </script>        </div>"
      ]
     },
     "metadata": {},
     "output_type": "display_data"
    }
   ],
   "source": [
    "df2.iplot(kind='bar',x='Category',y='Values')"
   ]
  },
  {
   "cell_type": "code",
   "execution_count": 13,
   "metadata": {},
   "outputs": [
    {
     "data": {
      "application/vnd.plotly.v1+json": {
       "config": {
        "linkText": "Export to plot.ly",
        "plotlyServerURL": "https://plot.ly",
        "showLink": true
       },
       "data": [
        {
         "marker": {
          "color": "rgba(255, 153, 51, 0.6)",
          "line": {
           "color": "rgba(255, 153, 51, 1.0)",
           "width": 1
          }
         },
         "name": "None",
         "orientation": "v",
         "text": "",
         "type": "bar",
         "x": [
          "A",
          "B",
          "C",
          "D"
         ],
         "y": [
          100,
          100,
          100,
          100
         ]
        }
       ],
       "layout": {
        "legend": {
         "bgcolor": "#F5F6F9",
         "font": {
          "color": "#4D5663"
         }
        },
        "paper_bgcolor": "#F5F6F9",
        "plot_bgcolor": "#F5F6F9",
        "template": {
         "data": {
          "bar": [
           {
            "error_x": {
             "color": "#2a3f5f"
            },
            "error_y": {
             "color": "#2a3f5f"
            },
            "marker": {
             "line": {
              "color": "#E5ECF6",
              "width": 0.5
             },
             "pattern": {
              "fillmode": "overlay",
              "size": 10,
              "solidity": 0.2
             }
            },
            "type": "bar"
           }
          ],
          "barpolar": [
           {
            "marker": {
             "line": {
              "color": "#E5ECF6",
              "width": 0.5
             },
             "pattern": {
              "fillmode": "overlay",
              "size": 10,
              "solidity": 0.2
             }
            },
            "type": "barpolar"
           }
          ],
          "carpet": [
           {
            "aaxis": {
             "endlinecolor": "#2a3f5f",
             "gridcolor": "white",
             "linecolor": "white",
             "minorgridcolor": "white",
             "startlinecolor": "#2a3f5f"
            },
            "baxis": {
             "endlinecolor": "#2a3f5f",
             "gridcolor": "white",
             "linecolor": "white",
             "minorgridcolor": "white",
             "startlinecolor": "#2a3f5f"
            },
            "type": "carpet"
           }
          ],
          "choropleth": [
           {
            "colorbar": {
             "outlinewidth": 0,
             "ticks": ""
            },
            "type": "choropleth"
           }
          ],
          "contour": [
           {
            "colorbar": {
             "outlinewidth": 0,
             "ticks": ""
            },
            "colorscale": [
             [
              0,
              "#0d0887"
             ],
             [
              0.1111111111111111,
              "#46039f"
             ],
             [
              0.2222222222222222,
              "#7201a8"
             ],
             [
              0.3333333333333333,
              "#9c179e"
             ],
             [
              0.4444444444444444,
              "#bd3786"
             ],
             [
              0.5555555555555556,
              "#d8576b"
             ],
             [
              0.6666666666666666,
              "#ed7953"
             ],
             [
              0.7777777777777778,
              "#fb9f3a"
             ],
             [
              0.8888888888888888,
              "#fdca26"
             ],
             [
              1,
              "#f0f921"
             ]
            ],
            "type": "contour"
           }
          ],
          "contourcarpet": [
           {
            "colorbar": {
             "outlinewidth": 0,
             "ticks": ""
            },
            "type": "contourcarpet"
           }
          ],
          "heatmap": [
           {
            "colorbar": {
             "outlinewidth": 0,
             "ticks": ""
            },
            "colorscale": [
             [
              0,
              "#0d0887"
             ],
             [
              0.1111111111111111,
              "#46039f"
             ],
             [
              0.2222222222222222,
              "#7201a8"
             ],
             [
              0.3333333333333333,
              "#9c179e"
             ],
             [
              0.4444444444444444,
              "#bd3786"
             ],
             [
              0.5555555555555556,
              "#d8576b"
             ],
             [
              0.6666666666666666,
              "#ed7953"
             ],
             [
              0.7777777777777778,
              "#fb9f3a"
             ],
             [
              0.8888888888888888,
              "#fdca26"
             ],
             [
              1,
              "#f0f921"
             ]
            ],
            "type": "heatmap"
           }
          ],
          "heatmapgl": [
           {
            "colorbar": {
             "outlinewidth": 0,
             "ticks": ""
            },
            "colorscale": [
             [
              0,
              "#0d0887"
             ],
             [
              0.1111111111111111,
              "#46039f"
             ],
             [
              0.2222222222222222,
              "#7201a8"
             ],
             [
              0.3333333333333333,
              "#9c179e"
             ],
             [
              0.4444444444444444,
              "#bd3786"
             ],
             [
              0.5555555555555556,
              "#d8576b"
             ],
             [
              0.6666666666666666,
              "#ed7953"
             ],
             [
              0.7777777777777778,
              "#fb9f3a"
             ],
             [
              0.8888888888888888,
              "#fdca26"
             ],
             [
              1,
              "#f0f921"
             ]
            ],
            "type": "heatmapgl"
           }
          ],
          "histogram": [
           {
            "marker": {
             "pattern": {
              "fillmode": "overlay",
              "size": 10,
              "solidity": 0.2
             }
            },
            "type": "histogram"
           }
          ],
          "histogram2d": [
           {
            "colorbar": {
             "outlinewidth": 0,
             "ticks": ""
            },
            "colorscale": [
             [
              0,
              "#0d0887"
             ],
             [
              0.1111111111111111,
              "#46039f"
             ],
             [
              0.2222222222222222,
              "#7201a8"
             ],
             [
              0.3333333333333333,
              "#9c179e"
             ],
             [
              0.4444444444444444,
              "#bd3786"
             ],
             [
              0.5555555555555556,
              "#d8576b"
             ],
             [
              0.6666666666666666,
              "#ed7953"
             ],
             [
              0.7777777777777778,
              "#fb9f3a"
             ],
             [
              0.8888888888888888,
              "#fdca26"
             ],
             [
              1,
              "#f0f921"
             ]
            ],
            "type": "histogram2d"
           }
          ],
          "histogram2dcontour": [
           {
            "colorbar": {
             "outlinewidth": 0,
             "ticks": ""
            },
            "colorscale": [
             [
              0,
              "#0d0887"
             ],
             [
              0.1111111111111111,
              "#46039f"
             ],
             [
              0.2222222222222222,
              "#7201a8"
             ],
             [
              0.3333333333333333,
              "#9c179e"
             ],
             [
              0.4444444444444444,
              "#bd3786"
             ],
             [
              0.5555555555555556,
              "#d8576b"
             ],
             [
              0.6666666666666666,
              "#ed7953"
             ],
             [
              0.7777777777777778,
              "#fb9f3a"
             ],
             [
              0.8888888888888888,
              "#fdca26"
             ],
             [
              1,
              "#f0f921"
             ]
            ],
            "type": "histogram2dcontour"
           }
          ],
          "mesh3d": [
           {
            "colorbar": {
             "outlinewidth": 0,
             "ticks": ""
            },
            "type": "mesh3d"
           }
          ],
          "parcoords": [
           {
            "line": {
             "colorbar": {
              "outlinewidth": 0,
              "ticks": ""
             }
            },
            "type": "parcoords"
           }
          ],
          "pie": [
           {
            "automargin": true,
            "type": "pie"
           }
          ],
          "scatter": [
           {
            "fillpattern": {
             "fillmode": "overlay",
             "size": 10,
             "solidity": 0.2
            },
            "type": "scatter"
           }
          ],
          "scatter3d": [
           {
            "line": {
             "colorbar": {
              "outlinewidth": 0,
              "ticks": ""
             }
            },
            "marker": {
             "colorbar": {
              "outlinewidth": 0,
              "ticks": ""
             }
            },
            "type": "scatter3d"
           }
          ],
          "scattercarpet": [
           {
            "marker": {
             "colorbar": {
              "outlinewidth": 0,
              "ticks": ""
             }
            },
            "type": "scattercarpet"
           }
          ],
          "scattergeo": [
           {
            "marker": {
             "colorbar": {
              "outlinewidth": 0,
              "ticks": ""
             }
            },
            "type": "scattergeo"
           }
          ],
          "scattergl": [
           {
            "marker": {
             "colorbar": {
              "outlinewidth": 0,
              "ticks": ""
             }
            },
            "type": "scattergl"
           }
          ],
          "scattermapbox": [
           {
            "marker": {
             "colorbar": {
              "outlinewidth": 0,
              "ticks": ""
             }
            },
            "type": "scattermapbox"
           }
          ],
          "scatterpolar": [
           {
            "marker": {
             "colorbar": {
              "outlinewidth": 0,
              "ticks": ""
             }
            },
            "type": "scatterpolar"
           }
          ],
          "scatterpolargl": [
           {
            "marker": {
             "colorbar": {
              "outlinewidth": 0,
              "ticks": ""
             }
            },
            "type": "scatterpolargl"
           }
          ],
          "scatterternary": [
           {
            "marker": {
             "colorbar": {
              "outlinewidth": 0,
              "ticks": ""
             }
            },
            "type": "scatterternary"
           }
          ],
          "surface": [
           {
            "colorbar": {
             "outlinewidth": 0,
             "ticks": ""
            },
            "colorscale": [
             [
              0,
              "#0d0887"
             ],
             [
              0.1111111111111111,
              "#46039f"
             ],
             [
              0.2222222222222222,
              "#7201a8"
             ],
             [
              0.3333333333333333,
              "#9c179e"
             ],
             [
              0.4444444444444444,
              "#bd3786"
             ],
             [
              0.5555555555555556,
              "#d8576b"
             ],
             [
              0.6666666666666666,
              "#ed7953"
             ],
             [
              0.7777777777777778,
              "#fb9f3a"
             ],
             [
              0.8888888888888888,
              "#fdca26"
             ],
             [
              1,
              "#f0f921"
             ]
            ],
            "type": "surface"
           }
          ],
          "table": [
           {
            "cells": {
             "fill": {
              "color": "#EBF0F8"
             },
             "line": {
              "color": "white"
             }
            },
            "header": {
             "fill": {
              "color": "#C8D4E3"
             },
             "line": {
              "color": "white"
             }
            },
            "type": "table"
           }
          ]
         },
         "layout": {
          "annotationdefaults": {
           "arrowcolor": "#2a3f5f",
           "arrowhead": 0,
           "arrowwidth": 1
          },
          "autotypenumbers": "strict",
          "coloraxis": {
           "colorbar": {
            "outlinewidth": 0,
            "ticks": ""
           }
          },
          "colorscale": {
           "diverging": [
            [
             0,
             "#8e0152"
            ],
            [
             0.1,
             "#c51b7d"
            ],
            [
             0.2,
             "#de77ae"
            ],
            [
             0.3,
             "#f1b6da"
            ],
            [
             0.4,
             "#fde0ef"
            ],
            [
             0.5,
             "#f7f7f7"
            ],
            [
             0.6,
             "#e6f5d0"
            ],
            [
             0.7,
             "#b8e186"
            ],
            [
             0.8,
             "#7fbc41"
            ],
            [
             0.9,
             "#4d9221"
            ],
            [
             1,
             "#276419"
            ]
           ],
           "sequential": [
            [
             0,
             "#0d0887"
            ],
            [
             0.1111111111111111,
             "#46039f"
            ],
            [
             0.2222222222222222,
             "#7201a8"
            ],
            [
             0.3333333333333333,
             "#9c179e"
            ],
            [
             0.4444444444444444,
             "#bd3786"
            ],
            [
             0.5555555555555556,
             "#d8576b"
            ],
            [
             0.6666666666666666,
             "#ed7953"
            ],
            [
             0.7777777777777778,
             "#fb9f3a"
            ],
            [
             0.8888888888888888,
             "#fdca26"
            ],
            [
             1,
             "#f0f921"
            ]
           ],
           "sequentialminus": [
            [
             0,
             "#0d0887"
            ],
            [
             0.1111111111111111,
             "#46039f"
            ],
            [
             0.2222222222222222,
             "#7201a8"
            ],
            [
             0.3333333333333333,
             "#9c179e"
            ],
            [
             0.4444444444444444,
             "#bd3786"
            ],
            [
             0.5555555555555556,
             "#d8576b"
            ],
            [
             0.6666666666666666,
             "#ed7953"
            ],
            [
             0.7777777777777778,
             "#fb9f3a"
            ],
            [
             0.8888888888888888,
             "#fdca26"
            ],
            [
             1,
             "#f0f921"
            ]
           ]
          },
          "colorway": [
           "#636efa",
           "#EF553B",
           "#00cc96",
           "#ab63fa",
           "#FFA15A",
           "#19d3f3",
           "#FF6692",
           "#B6E880",
           "#FF97FF",
           "#FECB52"
          ],
          "font": {
           "color": "#2a3f5f"
          },
          "geo": {
           "bgcolor": "white",
           "lakecolor": "white",
           "landcolor": "#E5ECF6",
           "showlakes": true,
           "showland": true,
           "subunitcolor": "white"
          },
          "hoverlabel": {
           "align": "left"
          },
          "hovermode": "closest",
          "mapbox": {
           "style": "light"
          },
          "paper_bgcolor": "white",
          "plot_bgcolor": "#E5ECF6",
          "polar": {
           "angularaxis": {
            "gridcolor": "white",
            "linecolor": "white",
            "ticks": ""
           },
           "bgcolor": "#E5ECF6",
           "radialaxis": {
            "gridcolor": "white",
            "linecolor": "white",
            "ticks": ""
           }
          },
          "scene": {
           "xaxis": {
            "backgroundcolor": "#E5ECF6",
            "gridcolor": "white",
            "gridwidth": 2,
            "linecolor": "white",
            "showbackground": true,
            "ticks": "",
            "zerolinecolor": "white"
           },
           "yaxis": {
            "backgroundcolor": "#E5ECF6",
            "gridcolor": "white",
            "gridwidth": 2,
            "linecolor": "white",
            "showbackground": true,
            "ticks": "",
            "zerolinecolor": "white"
           },
           "zaxis": {
            "backgroundcolor": "#E5ECF6",
            "gridcolor": "white",
            "gridwidth": 2,
            "linecolor": "white",
            "showbackground": true,
            "ticks": "",
            "zerolinecolor": "white"
           }
          },
          "shapedefaults": {
           "line": {
            "color": "#2a3f5f"
           }
          },
          "ternary": {
           "aaxis": {
            "gridcolor": "white",
            "linecolor": "white",
            "ticks": ""
           },
           "baxis": {
            "gridcolor": "white",
            "linecolor": "white",
            "ticks": ""
           },
           "bgcolor": "#E5ECF6",
           "caxis": {
            "gridcolor": "white",
            "linecolor": "white",
            "ticks": ""
           }
          },
          "title": {
           "x": 0.05
          },
          "xaxis": {
           "automargin": true,
           "gridcolor": "white",
           "linecolor": "white",
           "ticks": "",
           "title": {
            "standoff": 15
           },
           "zerolinecolor": "white",
           "zerolinewidth": 2
          },
          "yaxis": {
           "automargin": true,
           "gridcolor": "white",
           "linecolor": "white",
           "ticks": "",
           "title": {
            "standoff": 15
           },
           "zerolinecolor": "white",
           "zerolinewidth": 2
          }
         }
        },
        "title": {
         "font": {
          "color": "#4D5663"
         }
        },
        "xaxis": {
         "gridcolor": "#E1E5ED",
         "showgrid": true,
         "tickfont": {
          "color": "#4D5663"
         },
         "title": {
          "font": {
           "color": "#4D5663"
          },
          "text": ""
         },
         "zerolinecolor": "#E1E5ED"
        },
        "yaxis": {
         "gridcolor": "#E1E5ED",
         "showgrid": true,
         "tickfont": {
          "color": "#4D5663"
         },
         "title": {
          "font": {
           "color": "#4D5663"
          },
          "text": ""
         },
         "zerolinecolor": "#E1E5ED"
        }
       }
      },
      "text/html": [
       "<div>                            <div id=\"30993355-3b41-4343-8277-42e4e14b83a8\" class=\"plotly-graph-div\" style=\"height:525px; width:100%;\"></div>            <script type=\"text/javascript\">                require([\"plotly\"], function(Plotly) {                    window.PLOTLYENV=window.PLOTLYENV || {};\n",
       "                    window.PLOTLYENV.BASE_URL='https://plot.ly';                                    if (document.getElementById(\"30993355-3b41-4343-8277-42e4e14b83a8\")) {                    Plotly.newPlot(                        \"30993355-3b41-4343-8277-42e4e14b83a8\",                        [{\"marker\":{\"color\":\"rgba(255, 153, 51, 0.6)\",\"line\":{\"color\":\"rgba(255, 153, 51, 1.0)\",\"width\":1}},\"name\":\"None\",\"orientation\":\"v\",\"text\":\"\",\"x\":[\"A\",\"B\",\"C\",\"D\"],\"y\":[100,100,100,100],\"type\":\"bar\"}],                        {\"legend\":{\"bgcolor\":\"#F5F6F9\",\"font\":{\"color\":\"#4D5663\"}},\"paper_bgcolor\":\"#F5F6F9\",\"plot_bgcolor\":\"#F5F6F9\",\"template\":{\"data\":{\"barpolar\":[{\"marker\":{\"line\":{\"color\":\"#E5ECF6\",\"width\":0.5},\"pattern\":{\"fillmode\":\"overlay\",\"size\":10,\"solidity\":0.2}},\"type\":\"barpolar\"}],\"bar\":[{\"error_x\":{\"color\":\"#2a3f5f\"},\"error_y\":{\"color\":\"#2a3f5f\"},\"marker\":{\"line\":{\"color\":\"#E5ECF6\",\"width\":0.5},\"pattern\":{\"fillmode\":\"overlay\",\"size\":10,\"solidity\":0.2}},\"type\":\"bar\"}],\"carpet\":[{\"aaxis\":{\"endlinecolor\":\"#2a3f5f\",\"gridcolor\":\"white\",\"linecolor\":\"white\",\"minorgridcolor\":\"white\",\"startlinecolor\":\"#2a3f5f\"},\"baxis\":{\"endlinecolor\":\"#2a3f5f\",\"gridcolor\":\"white\",\"linecolor\":\"white\",\"minorgridcolor\":\"white\",\"startlinecolor\":\"#2a3f5f\"},\"type\":\"carpet\"}],\"choropleth\":[{\"colorbar\":{\"outlinewidth\":0,\"ticks\":\"\"},\"type\":\"choropleth\"}],\"contourcarpet\":[{\"colorbar\":{\"outlinewidth\":0,\"ticks\":\"\"},\"type\":\"contourcarpet\"}],\"contour\":[{\"colorbar\":{\"outlinewidth\":0,\"ticks\":\"\"},\"colorscale\":[[0.0,\"#0d0887\"],[0.1111111111111111,\"#46039f\"],[0.2222222222222222,\"#7201a8\"],[0.3333333333333333,\"#9c179e\"],[0.4444444444444444,\"#bd3786\"],[0.5555555555555556,\"#d8576b\"],[0.6666666666666666,\"#ed7953\"],[0.7777777777777778,\"#fb9f3a\"],[0.8888888888888888,\"#fdca26\"],[1.0,\"#f0f921\"]],\"type\":\"contour\"}],\"heatmapgl\":[{\"colorbar\":{\"outlinewidth\":0,\"ticks\":\"\"},\"colorscale\":[[0.0,\"#0d0887\"],[0.1111111111111111,\"#46039f\"],[0.2222222222222222,\"#7201a8\"],[0.3333333333333333,\"#9c179e\"],[0.4444444444444444,\"#bd3786\"],[0.5555555555555556,\"#d8576b\"],[0.6666666666666666,\"#ed7953\"],[0.7777777777777778,\"#fb9f3a\"],[0.8888888888888888,\"#fdca26\"],[1.0,\"#f0f921\"]],\"type\":\"heatmapgl\"}],\"heatmap\":[{\"colorbar\":{\"outlinewidth\":0,\"ticks\":\"\"},\"colorscale\":[[0.0,\"#0d0887\"],[0.1111111111111111,\"#46039f\"],[0.2222222222222222,\"#7201a8\"],[0.3333333333333333,\"#9c179e\"],[0.4444444444444444,\"#bd3786\"],[0.5555555555555556,\"#d8576b\"],[0.6666666666666666,\"#ed7953\"],[0.7777777777777778,\"#fb9f3a\"],[0.8888888888888888,\"#fdca26\"],[1.0,\"#f0f921\"]],\"type\":\"heatmap\"}],\"histogram2dcontour\":[{\"colorbar\":{\"outlinewidth\":0,\"ticks\":\"\"},\"colorscale\":[[0.0,\"#0d0887\"],[0.1111111111111111,\"#46039f\"],[0.2222222222222222,\"#7201a8\"],[0.3333333333333333,\"#9c179e\"],[0.4444444444444444,\"#bd3786\"],[0.5555555555555556,\"#d8576b\"],[0.6666666666666666,\"#ed7953\"],[0.7777777777777778,\"#fb9f3a\"],[0.8888888888888888,\"#fdca26\"],[1.0,\"#f0f921\"]],\"type\":\"histogram2dcontour\"}],\"histogram2d\":[{\"colorbar\":{\"outlinewidth\":0,\"ticks\":\"\"},\"colorscale\":[[0.0,\"#0d0887\"],[0.1111111111111111,\"#46039f\"],[0.2222222222222222,\"#7201a8\"],[0.3333333333333333,\"#9c179e\"],[0.4444444444444444,\"#bd3786\"],[0.5555555555555556,\"#d8576b\"],[0.6666666666666666,\"#ed7953\"],[0.7777777777777778,\"#fb9f3a\"],[0.8888888888888888,\"#fdca26\"],[1.0,\"#f0f921\"]],\"type\":\"histogram2d\"}],\"histogram\":[{\"marker\":{\"pattern\":{\"fillmode\":\"overlay\",\"size\":10,\"solidity\":0.2}},\"type\":\"histogram\"}],\"mesh3d\":[{\"colorbar\":{\"outlinewidth\":0,\"ticks\":\"\"},\"type\":\"mesh3d\"}],\"parcoords\":[{\"line\":{\"colorbar\":{\"outlinewidth\":0,\"ticks\":\"\"}},\"type\":\"parcoords\"}],\"pie\":[{\"automargin\":true,\"type\":\"pie\"}],\"scatter3d\":[{\"line\":{\"colorbar\":{\"outlinewidth\":0,\"ticks\":\"\"}},\"marker\":{\"colorbar\":{\"outlinewidth\":0,\"ticks\":\"\"}},\"type\":\"scatter3d\"}],\"scattercarpet\":[{\"marker\":{\"colorbar\":{\"outlinewidth\":0,\"ticks\":\"\"}},\"type\":\"scattercarpet\"}],\"scattergeo\":[{\"marker\":{\"colorbar\":{\"outlinewidth\":0,\"ticks\":\"\"}},\"type\":\"scattergeo\"}],\"scattergl\":[{\"marker\":{\"colorbar\":{\"outlinewidth\":0,\"ticks\":\"\"}},\"type\":\"scattergl\"}],\"scattermapbox\":[{\"marker\":{\"colorbar\":{\"outlinewidth\":0,\"ticks\":\"\"}},\"type\":\"scattermapbox\"}],\"scatterpolargl\":[{\"marker\":{\"colorbar\":{\"outlinewidth\":0,\"ticks\":\"\"}},\"type\":\"scatterpolargl\"}],\"scatterpolar\":[{\"marker\":{\"colorbar\":{\"outlinewidth\":0,\"ticks\":\"\"}},\"type\":\"scatterpolar\"}],\"scatter\":[{\"fillpattern\":{\"fillmode\":\"overlay\",\"size\":10,\"solidity\":0.2},\"type\":\"scatter\"}],\"scatterternary\":[{\"marker\":{\"colorbar\":{\"outlinewidth\":0,\"ticks\":\"\"}},\"type\":\"scatterternary\"}],\"surface\":[{\"colorbar\":{\"outlinewidth\":0,\"ticks\":\"\"},\"colorscale\":[[0.0,\"#0d0887\"],[0.1111111111111111,\"#46039f\"],[0.2222222222222222,\"#7201a8\"],[0.3333333333333333,\"#9c179e\"],[0.4444444444444444,\"#bd3786\"],[0.5555555555555556,\"#d8576b\"],[0.6666666666666666,\"#ed7953\"],[0.7777777777777778,\"#fb9f3a\"],[0.8888888888888888,\"#fdca26\"],[1.0,\"#f0f921\"]],\"type\":\"surface\"}],\"table\":[{\"cells\":{\"fill\":{\"color\":\"#EBF0F8\"},\"line\":{\"color\":\"white\"}},\"header\":{\"fill\":{\"color\":\"#C8D4E3\"},\"line\":{\"color\":\"white\"}},\"type\":\"table\"}]},\"layout\":{\"annotationdefaults\":{\"arrowcolor\":\"#2a3f5f\",\"arrowhead\":0,\"arrowwidth\":1},\"autotypenumbers\":\"strict\",\"coloraxis\":{\"colorbar\":{\"outlinewidth\":0,\"ticks\":\"\"}},\"colorscale\":{\"diverging\":[[0,\"#8e0152\"],[0.1,\"#c51b7d\"],[0.2,\"#de77ae\"],[0.3,\"#f1b6da\"],[0.4,\"#fde0ef\"],[0.5,\"#f7f7f7\"],[0.6,\"#e6f5d0\"],[0.7,\"#b8e186\"],[0.8,\"#7fbc41\"],[0.9,\"#4d9221\"],[1,\"#276419\"]],\"sequential\":[[0.0,\"#0d0887\"],[0.1111111111111111,\"#46039f\"],[0.2222222222222222,\"#7201a8\"],[0.3333333333333333,\"#9c179e\"],[0.4444444444444444,\"#bd3786\"],[0.5555555555555556,\"#d8576b\"],[0.6666666666666666,\"#ed7953\"],[0.7777777777777778,\"#fb9f3a\"],[0.8888888888888888,\"#fdca26\"],[1.0,\"#f0f921\"]],\"sequentialminus\":[[0.0,\"#0d0887\"],[0.1111111111111111,\"#46039f\"],[0.2222222222222222,\"#7201a8\"],[0.3333333333333333,\"#9c179e\"],[0.4444444444444444,\"#bd3786\"],[0.5555555555555556,\"#d8576b\"],[0.6666666666666666,\"#ed7953\"],[0.7777777777777778,\"#fb9f3a\"],[0.8888888888888888,\"#fdca26\"],[1.0,\"#f0f921\"]]},\"colorway\":[\"#636efa\",\"#EF553B\",\"#00cc96\",\"#ab63fa\",\"#FFA15A\",\"#19d3f3\",\"#FF6692\",\"#B6E880\",\"#FF97FF\",\"#FECB52\"],\"font\":{\"color\":\"#2a3f5f\"},\"geo\":{\"bgcolor\":\"white\",\"lakecolor\":\"white\",\"landcolor\":\"#E5ECF6\",\"showlakes\":true,\"showland\":true,\"subunitcolor\":\"white\"},\"hoverlabel\":{\"align\":\"left\"},\"hovermode\":\"closest\",\"mapbox\":{\"style\":\"light\"},\"paper_bgcolor\":\"white\",\"plot_bgcolor\":\"#E5ECF6\",\"polar\":{\"angularaxis\":{\"gridcolor\":\"white\",\"linecolor\":\"white\",\"ticks\":\"\"},\"bgcolor\":\"#E5ECF6\",\"radialaxis\":{\"gridcolor\":\"white\",\"linecolor\":\"white\",\"ticks\":\"\"}},\"scene\":{\"xaxis\":{\"backgroundcolor\":\"#E5ECF6\",\"gridcolor\":\"white\",\"gridwidth\":2,\"linecolor\":\"white\",\"showbackground\":true,\"ticks\":\"\",\"zerolinecolor\":\"white\"},\"yaxis\":{\"backgroundcolor\":\"#E5ECF6\",\"gridcolor\":\"white\",\"gridwidth\":2,\"linecolor\":\"white\",\"showbackground\":true,\"ticks\":\"\",\"zerolinecolor\":\"white\"},\"zaxis\":{\"backgroundcolor\":\"#E5ECF6\",\"gridcolor\":\"white\",\"gridwidth\":2,\"linecolor\":\"white\",\"showbackground\":true,\"ticks\":\"\",\"zerolinecolor\":\"white\"}},\"shapedefaults\":{\"line\":{\"color\":\"#2a3f5f\"}},\"ternary\":{\"aaxis\":{\"gridcolor\":\"white\",\"linecolor\":\"white\",\"ticks\":\"\"},\"baxis\":{\"gridcolor\":\"white\",\"linecolor\":\"white\",\"ticks\":\"\"},\"bgcolor\":\"#E5ECF6\",\"caxis\":{\"gridcolor\":\"white\",\"linecolor\":\"white\",\"ticks\":\"\"}},\"title\":{\"x\":0.05},\"xaxis\":{\"automargin\":true,\"gridcolor\":\"white\",\"linecolor\":\"white\",\"ticks\":\"\",\"title\":{\"standoff\":15},\"zerolinecolor\":\"white\",\"zerolinewidth\":2},\"yaxis\":{\"automargin\":true,\"gridcolor\":\"white\",\"linecolor\":\"white\",\"ticks\":\"\",\"title\":{\"standoff\":15},\"zerolinecolor\":\"white\",\"zerolinewidth\":2}}},\"title\":{\"font\":{\"color\":\"#4D5663\"}},\"xaxis\":{\"gridcolor\":\"#E1E5ED\",\"showgrid\":true,\"tickfont\":{\"color\":\"#4D5663\"},\"title\":{\"font\":{\"color\":\"#4D5663\"},\"text\":\"\"},\"zerolinecolor\":\"#E1E5ED\"},\"yaxis\":{\"gridcolor\":\"#E1E5ED\",\"showgrid\":true,\"tickfont\":{\"color\":\"#4D5663\"},\"title\":{\"font\":{\"color\":\"#4D5663\"},\"text\":\"\"},\"zerolinecolor\":\"#E1E5ED\"}},                        {\"showLink\": true, \"linkText\": \"Export to plot.ly\", \"plotlyServerURL\": \"https://plot.ly\", \"responsive\": true}                    ).then(function(){\n",
       "                            \n",
       "var gd = document.getElementById('30993355-3b41-4343-8277-42e4e14b83a8');\n",
       "var x = new MutationObserver(function (mutations, observer) {{\n",
       "        var display = window.getComputedStyle(gd).display;\n",
       "        if (!display || display === 'none') {{\n",
       "            console.log([gd, 'removed!']);\n",
       "            Plotly.purge(gd);\n",
       "            observer.disconnect();\n",
       "        }}\n",
       "}});\n",
       "\n",
       "// Listen for the removal of the full notebook cells\n",
       "var notebookContainer = gd.closest('#notebook-container');\n",
       "if (notebookContainer) {{\n",
       "    x.observe(notebookContainer, {childList: true});\n",
       "}}\n",
       "\n",
       "// Listen for the clearing of the current output cell\n",
       "var outputEl = gd.closest('.output');\n",
       "if (outputEl) {{\n",
       "    x.observe(outputEl, {childList: true});\n",
       "}}\n",
       "\n",
       "                        })                };                });            </script>        </div>"
      ]
     },
     "metadata": {},
     "output_type": "display_data"
    }
   ],
   "source": [
    "df.count().iplot(kind='bar')"
   ]
  },
  {
   "cell_type": "markdown",
   "metadata": {},
   "source": [
    "## Boxplots"
   ]
  },
  {
   "cell_type": "code",
   "execution_count": 14,
   "metadata": {},
   "outputs": [
    {
     "data": {
      "application/vnd.plotly.v1+json": {
       "config": {
        "linkText": "Export to plot.ly",
        "plotlyServerURL": "https://plot.ly",
        "showLink": true
       },
       "data": [
        {
         "boxpoints": false,
         "line": {
          "width": 1.3
         },
         "marker": {
          "color": "rgba(255, 153, 51, 1.0)"
         },
         "name": "A",
         "orientation": "v",
         "type": "box",
         "y": [
          -0.4948803672448772,
          -1.278606917283569,
          0.07106421334385374,
          1.0619587030601383,
          -1.4440555967233013,
          -0.22858606681894317,
          1.0030057486241948,
          0.04484795456415611,
          1.1619652312215167,
          -0.3063834419687249,
          0.5573171280834106,
          -1.4004848970008938,
          0.07213998245936415,
          -0.1992952156759034,
          0.963590047242657,
          0.1777390611535859,
          0.3189703863207484,
          0.6566964416263336,
          -1.2392354456388477,
          0.6737524737410653,
          1.4126321439046603,
          0.871402533205939,
          -0.8008377075281847,
          0.2066366446481001,
          0.7843129613261675,
          0.3612288487362664,
          0.42751052801441863,
          -1.3907782385950074,
          0.6062586949880656,
          -0.9710333735809482,
          0.47891605023133554,
          1.2337314105990314,
          0.9082028305785744,
          0.8446175169590872,
          0.2213111437943422,
          0.6040793357601695,
          -0.08588004121752364,
          -1.734245229493394,
          0.3647044551034887,
          0.0972210006165413,
          1.5046750299472174,
          -0.2810942500199662,
          3.0486427088955197,
          0.8443707688013775,
          -1.1933916647937377,
          -0.746046118365644,
          -1.1939737089247473,
          0.40617833718975777,
          -2.662736129779989,
          1.1340143561785632,
          -1.3431317646811118,
          -1.5882524199465087,
          -0.6483975035034787,
          1.3152824593173136,
          0.1333759544313208,
          0.30894298034457474,
          -0.6356048656438124,
          1.3659277658214952,
          -0.8456641943132652,
          0.5792996706265964,
          -0.12359290321284937,
          0.3266371728879937,
          1.295394749603058,
          -1.808102978075752,
          1.00915672491599,
          1.0642108345710921,
          1.466414923863723,
          0.8008328209289889,
          -0.09580001650492555,
          -0.38362804920073745,
          1.3351436888107087,
          -1.9884141016609131,
          0.4263071451958101,
          2.2681107757035783,
          0.5787490360176778,
          0.2831479916822075,
          -0.5928277608139828,
          1.0258181150691483,
          0.6891934792638104,
          -1.2325795921811449,
          0.46801777318662463,
          1.1160736213980393,
          -0.7838575266232529,
          1.0298022519136174,
          -0.7014308136007442,
          0.6960023389885786,
          1.1930852729550367,
          -0.4791890698641037,
          -0.3679677031951291,
          0.7966573079412141,
          -0.3211027262453276,
          -0.7608238050371512,
          -0.9710853823227727,
          0.22756984546431366,
          0.35529269618747356,
          -0.9526719129304471,
          -0.303544912011667,
          0.7324609793244885,
          1.2023945170669637,
          1.320809141414054
         ]
        },
        {
         "boxpoints": false,
         "line": {
          "width": 1.3
         },
         "marker": {
          "color": "rgba(55, 128, 191, 1.0)"
         },
         "name": "B",
         "orientation": "v",
         "type": "box",
         "y": [
          0.1776044584804704,
          -0.30579446317958037,
          0.13659788724493616,
          0.013966560660043948,
          1.3273022146782885,
          0.4245281639427591,
          0.13993688841338434,
          0.1364806923102963,
          -2.1065412864272086,
          -0.7493121467001574,
          -0.21907401933298437,
          1.3552891173188997,
          1.3823839058712768,
          0.26110714954987385,
          0.6670584552397943,
          0.697742052337499,
          -1.4770059522646852,
          -0.9466999513182942,
          -0.41620999378775114,
          0.23120654972488888,
          0.1053455114042331,
          -1.098711099169789,
          1.4008705791090683,
          -0.434654050392941,
          -1.207128568186926,
          -0.03525291190838535,
          0.14426598640881158,
          -1.6202847005796388,
          0.7627104472323303,
          1.2241416006731294,
          -0.6465533718632971,
          0.7415566179979918,
          -1.428988584175279,
          -1.928358672485835,
          -0.07720665593274657,
          0.5671077245400157,
          -1.795702440431457,
          -0.7941695676657354,
          3.907184367978601,
          1.8762239910918184,
          -0.8640392128710467,
          0.14788580454689232,
          0.4848657485550836,
          -0.39822234778649335,
          -0.2143508229290543,
          0.5421028547170331,
          0.9470213452638643,
          0.6079341780818952,
          0.08236570323112267,
          -0.4206814224407974,
          -0.2751572370420352,
          0.6632291561159293,
          -0.1672811079836468,
          0.84269169025041,
          0.7089604299130701,
          0.2458080265524387,
          -1.5136335159268992,
          -1.1978392671156282,
          -1.618336530284113,
          0.012290688929548993,
          1.619220248352336,
          1.110592869177345,
          0.7018241042017215,
          0.3702183639470843,
          -1.7388309041310908,
          -0.0875310813749589,
          -0.9124345858997445,
          1.1530317074144363,
          0.4714579218231528,
          0.48493178299862316,
          -0.35122660893540913,
          2.451773260240074,
          0.9309728827074173,
          -0.8834813115281297,
          -0.24448564745225207,
          0.46071894306278166,
          -2.309648368476434,
          1.7172733786642822,
          0.2073435746324365,
          -0.7662927627171758,
          -0.3838240458423306,
          1.2410093848919947,
          -0.24166136762679763,
          -0.16830385578843002,
          -1.704143002064265,
          -0.9899666399550905,
          -0.2962403884733509,
          -0.1531779038411322,
          0.015868120719419496,
          0.8272629094610052,
          1.868780342551116,
          0.4496997798754286,
          0.1255705622513645,
          -1.0699432646501854,
          1.2467596372794354,
          -0.22818951517464736,
          1.1230267105010945,
          -0.10288297183350929,
          -0.6189159183061426,
          1.13100404498498
         ]
        },
        {
         "boxpoints": false,
         "line": {
          "width": 1.3
         },
         "marker": {
          "color": "rgba(50, 171, 96, 1.0)"
         },
         "name": "C",
         "orientation": "v",
         "type": "box",
         "y": [
          0.6080779995637853,
          1.7400246486916582,
          -0.13999133244817188,
          0.5352452489269939,
          -0.8607015748953641,
          -0.007577661562544845,
          0.6133874834270073,
          1.042079651193935,
          -1.6496004343838335,
          -0.2772290474878759,
          1.927748188628256,
          0.21679357483834014,
          -0.20041124642629127,
          -0.15735712069223926,
          -0.1396328615527953,
          1.4990379552532895,
          0.2365629551373359,
          -0.12562032481682733,
          1.0285067781204562,
          -0.34642867035988806,
          1.4893699293400513,
          -1.9678488029261485,
          0.11641549389965557,
          -0.447936521222829,
          -0.6317844721599816,
          -1.0620496792256486,
          -0.38036500817521507,
          2.124900554465702,
          0.4176334714155671,
          0.8933949427558404,
          0.9750339799707942,
          0.13396229912448,
          -0.139655695684182,
          0.17145230653256055,
          1.5265891392044315,
          1.5424348038693838,
          1.933135986859975,
          0.20063815169898097,
          2.259911527433026,
          1.7669830001106346,
          1.1264021854414936,
          -0.4326594740578652,
          -0.07852422323803551,
          -0.17367413397700165,
          0.14559273498432715,
          -0.09450610368119483,
          -0.450311635214802,
          0.024483633111631667,
          0.8619034378215645,
          0.37576934786638294,
          0.6604784693060562,
          1.546898477722581,
          -0.31644669207614307,
          1.0751080409363547,
          -1.2545891292729636,
          0.1652974648823601,
          0.04470676810755846,
          -0.2853696671175998,
          0.1073633384432158,
          -1.2434323810760282,
          0.5130174305940749,
          -0.9786133934918884,
          -0.5850284411117955,
          1.0087853298195266,
          0.0936606978721186,
          -0.6137428792942979,
          1.0481297523140083,
          0.11656293160882521,
          0.753428399507512,
          0.24104721358810266,
          -1.8199327065995095,
          -0.6165839730840095,
          -0.19348008375295506,
          0.3977934592352505,
          3.278574831460349,
          -0.28406450546619827,
          0.3198320310456906,
          -0.05262022144420799,
          -0.045281211887611104,
          -0.7173894584996944,
          -0.2513974832277044,
          0.570196634208274,
          0.7948931502537384,
          -0.16873272917163948,
          -0.7565934615943875,
          -0.5168679886509878,
          0.21810968565505992,
          0.9258187116883008,
          -0.6918576365484003,
          -0.7818441109847707,
          -1.851220746970328,
          -0.3652710146348525,
          0.5724495069039409,
          -0.8437185537568656,
          1.2061404955091923,
          1.5015837466076076,
          0.08721080361940686,
          -0.8843929865373923,
          -0.008309018221935336,
          -0.09636389045842066
         ]
        },
        {
         "boxpoints": false,
         "line": {
          "width": 1.3
         },
         "marker": {
          "color": "rgba(128, 0, 128, 1.0)"
         },
         "name": "D",
         "orientation": "v",
         "type": "box",
         "y": [
          -1.1249579601855308,
          -0.9410991973950514,
          -0.4486593530065986,
          0.05962675628963897,
          -0.7359737933474149,
          -0.675096201791584,
          1.7012601865464954,
          0.8231840515700299,
          2.172744571974603,
          -0.2527565359843745,
          0.7927540343172109,
          2.2197072906786492,
          -0.6511628526372234,
          0.8193223439928156,
          0.6516281382253095,
          0.8685452291437251,
          0.6358389736160797,
          -1.725000647642552,
          -0.9548547694402619,
          -0.2250370106551404,
          -0.6031803074001773,
          -1.1451469894566473,
          1.041087467399137,
          -0.3075394730177125,
          -0.2592588381211093,
          -2.8125820738342386,
          -0.0630428352508275,
          -0.3139891512226067,
          -1.3806277928090338,
          -0.5894462756846416,
          -0.19046981721009973,
          0.30194209764536145,
          0.5048219239249278,
          0.03314959303712693,
          -1.5740926235873482,
          -0.3731117383420975,
          -0.1009571214456144,
          1.5357839366870487,
          -0.9793053123230482,
          -1.1096657233977292,
          -0.8010288018955751,
          -1.4875981371366593,
          0.3032285438919636,
          -0.36182030149451055,
          -1.6517700174043022,
          0.13418103415995045,
          1.00084507079135,
          0.6068421038293886,
          0.08658120141763168,
          0.4388857146699468,
          -1.0807000730351164,
          -0.5932109569006637,
          -0.39907365255557287,
          -1.0933520086434285,
          -1.3427944876955982,
          -0.17727245731088123,
          0.4808925253600302,
          -1.4361517306499623,
          0.7992133932898633,
          0.20856170080504607,
          0.21941085342067815,
          1.5148555001386816,
          0.8484513347832735,
          -1.2116733713220018,
          0.1955340063223997,
          -1.776340478745634,
          -1.418612300116902,
          -1.0716753413037978,
          -0.2807712413810616,
          0.6031650963682019,
          -0.8779669525616524,
          -0.6391863320491697,
          1.3836299890934498,
          -0.5672799518622996,
          -0.39788998220756727,
          -0.7670622207292299,
          0.7521360122447434,
          0.8729944465064794,
          -0.9399191973480867,
          -0.9827272815293338,
          -0.194207433240659,
          -0.3344311988924336,
          0.61830632122162,
          1.7652146231547032,
          -0.3274961728713471,
          -0.3304967653917048,
          0.35138955656591636,
          0.687833229519024,
          1.2315217044012088,
          0.11417273260536316,
          0.09288758992076684,
          -1.4349095862147714,
          -1.2373597525512348,
          -0.5164076175898568,
          0.7444024881823896,
          1.0799684500455804,
          -1.7683397791652964,
          0.6429445396573226,
          -0.17090259743981126,
          1.8020015892468284
         ]
        }
       ],
       "layout": {
        "legend": {
         "bgcolor": "#F5F6F9",
         "font": {
          "color": "#4D5663"
         }
        },
        "paper_bgcolor": "#F5F6F9",
        "plot_bgcolor": "#F5F6F9",
        "template": {
         "data": {
          "bar": [
           {
            "error_x": {
             "color": "#2a3f5f"
            },
            "error_y": {
             "color": "#2a3f5f"
            },
            "marker": {
             "line": {
              "color": "#E5ECF6",
              "width": 0.5
             },
             "pattern": {
              "fillmode": "overlay",
              "size": 10,
              "solidity": 0.2
             }
            },
            "type": "bar"
           }
          ],
          "barpolar": [
           {
            "marker": {
             "line": {
              "color": "#E5ECF6",
              "width": 0.5
             },
             "pattern": {
              "fillmode": "overlay",
              "size": 10,
              "solidity": 0.2
             }
            },
            "type": "barpolar"
           }
          ],
          "carpet": [
           {
            "aaxis": {
             "endlinecolor": "#2a3f5f",
             "gridcolor": "white",
             "linecolor": "white",
             "minorgridcolor": "white",
             "startlinecolor": "#2a3f5f"
            },
            "baxis": {
             "endlinecolor": "#2a3f5f",
             "gridcolor": "white",
             "linecolor": "white",
             "minorgridcolor": "white",
             "startlinecolor": "#2a3f5f"
            },
            "type": "carpet"
           }
          ],
          "choropleth": [
           {
            "colorbar": {
             "outlinewidth": 0,
             "ticks": ""
            },
            "type": "choropleth"
           }
          ],
          "contour": [
           {
            "colorbar": {
             "outlinewidth": 0,
             "ticks": ""
            },
            "colorscale": [
             [
              0,
              "#0d0887"
             ],
             [
              0.1111111111111111,
              "#46039f"
             ],
             [
              0.2222222222222222,
              "#7201a8"
             ],
             [
              0.3333333333333333,
              "#9c179e"
             ],
             [
              0.4444444444444444,
              "#bd3786"
             ],
             [
              0.5555555555555556,
              "#d8576b"
             ],
             [
              0.6666666666666666,
              "#ed7953"
             ],
             [
              0.7777777777777778,
              "#fb9f3a"
             ],
             [
              0.8888888888888888,
              "#fdca26"
             ],
             [
              1,
              "#f0f921"
             ]
            ],
            "type": "contour"
           }
          ],
          "contourcarpet": [
           {
            "colorbar": {
             "outlinewidth": 0,
             "ticks": ""
            },
            "type": "contourcarpet"
           }
          ],
          "heatmap": [
           {
            "colorbar": {
             "outlinewidth": 0,
             "ticks": ""
            },
            "colorscale": [
             [
              0,
              "#0d0887"
             ],
             [
              0.1111111111111111,
              "#46039f"
             ],
             [
              0.2222222222222222,
              "#7201a8"
             ],
             [
              0.3333333333333333,
              "#9c179e"
             ],
             [
              0.4444444444444444,
              "#bd3786"
             ],
             [
              0.5555555555555556,
              "#d8576b"
             ],
             [
              0.6666666666666666,
              "#ed7953"
             ],
             [
              0.7777777777777778,
              "#fb9f3a"
             ],
             [
              0.8888888888888888,
              "#fdca26"
             ],
             [
              1,
              "#f0f921"
             ]
            ],
            "type": "heatmap"
           }
          ],
          "heatmapgl": [
           {
            "colorbar": {
             "outlinewidth": 0,
             "ticks": ""
            },
            "colorscale": [
             [
              0,
              "#0d0887"
             ],
             [
              0.1111111111111111,
              "#46039f"
             ],
             [
              0.2222222222222222,
              "#7201a8"
             ],
             [
              0.3333333333333333,
              "#9c179e"
             ],
             [
              0.4444444444444444,
              "#bd3786"
             ],
             [
              0.5555555555555556,
              "#d8576b"
             ],
             [
              0.6666666666666666,
              "#ed7953"
             ],
             [
              0.7777777777777778,
              "#fb9f3a"
             ],
             [
              0.8888888888888888,
              "#fdca26"
             ],
             [
              1,
              "#f0f921"
             ]
            ],
            "type": "heatmapgl"
           }
          ],
          "histogram": [
           {
            "marker": {
             "pattern": {
              "fillmode": "overlay",
              "size": 10,
              "solidity": 0.2
             }
            },
            "type": "histogram"
           }
          ],
          "histogram2d": [
           {
            "colorbar": {
             "outlinewidth": 0,
             "ticks": ""
            },
            "colorscale": [
             [
              0,
              "#0d0887"
             ],
             [
              0.1111111111111111,
              "#46039f"
             ],
             [
              0.2222222222222222,
              "#7201a8"
             ],
             [
              0.3333333333333333,
              "#9c179e"
             ],
             [
              0.4444444444444444,
              "#bd3786"
             ],
             [
              0.5555555555555556,
              "#d8576b"
             ],
             [
              0.6666666666666666,
              "#ed7953"
             ],
             [
              0.7777777777777778,
              "#fb9f3a"
             ],
             [
              0.8888888888888888,
              "#fdca26"
             ],
             [
              1,
              "#f0f921"
             ]
            ],
            "type": "histogram2d"
           }
          ],
          "histogram2dcontour": [
           {
            "colorbar": {
             "outlinewidth": 0,
             "ticks": ""
            },
            "colorscale": [
             [
              0,
              "#0d0887"
             ],
             [
              0.1111111111111111,
              "#46039f"
             ],
             [
              0.2222222222222222,
              "#7201a8"
             ],
             [
              0.3333333333333333,
              "#9c179e"
             ],
             [
              0.4444444444444444,
              "#bd3786"
             ],
             [
              0.5555555555555556,
              "#d8576b"
             ],
             [
              0.6666666666666666,
              "#ed7953"
             ],
             [
              0.7777777777777778,
              "#fb9f3a"
             ],
             [
              0.8888888888888888,
              "#fdca26"
             ],
             [
              1,
              "#f0f921"
             ]
            ],
            "type": "histogram2dcontour"
           }
          ],
          "mesh3d": [
           {
            "colorbar": {
             "outlinewidth": 0,
             "ticks": ""
            },
            "type": "mesh3d"
           }
          ],
          "parcoords": [
           {
            "line": {
             "colorbar": {
              "outlinewidth": 0,
              "ticks": ""
             }
            },
            "type": "parcoords"
           }
          ],
          "pie": [
           {
            "automargin": true,
            "type": "pie"
           }
          ],
          "scatter": [
           {
            "fillpattern": {
             "fillmode": "overlay",
             "size": 10,
             "solidity": 0.2
            },
            "type": "scatter"
           }
          ],
          "scatter3d": [
           {
            "line": {
             "colorbar": {
              "outlinewidth": 0,
              "ticks": ""
             }
            },
            "marker": {
             "colorbar": {
              "outlinewidth": 0,
              "ticks": ""
             }
            },
            "type": "scatter3d"
           }
          ],
          "scattercarpet": [
           {
            "marker": {
             "colorbar": {
              "outlinewidth": 0,
              "ticks": ""
             }
            },
            "type": "scattercarpet"
           }
          ],
          "scattergeo": [
           {
            "marker": {
             "colorbar": {
              "outlinewidth": 0,
              "ticks": ""
             }
            },
            "type": "scattergeo"
           }
          ],
          "scattergl": [
           {
            "marker": {
             "colorbar": {
              "outlinewidth": 0,
              "ticks": ""
             }
            },
            "type": "scattergl"
           }
          ],
          "scattermapbox": [
           {
            "marker": {
             "colorbar": {
              "outlinewidth": 0,
              "ticks": ""
             }
            },
            "type": "scattermapbox"
           }
          ],
          "scatterpolar": [
           {
            "marker": {
             "colorbar": {
              "outlinewidth": 0,
              "ticks": ""
             }
            },
            "type": "scatterpolar"
           }
          ],
          "scatterpolargl": [
           {
            "marker": {
             "colorbar": {
              "outlinewidth": 0,
              "ticks": ""
             }
            },
            "type": "scatterpolargl"
           }
          ],
          "scatterternary": [
           {
            "marker": {
             "colorbar": {
              "outlinewidth": 0,
              "ticks": ""
             }
            },
            "type": "scatterternary"
           }
          ],
          "surface": [
           {
            "colorbar": {
             "outlinewidth": 0,
             "ticks": ""
            },
            "colorscale": [
             [
              0,
              "#0d0887"
             ],
             [
              0.1111111111111111,
              "#46039f"
             ],
             [
              0.2222222222222222,
              "#7201a8"
             ],
             [
              0.3333333333333333,
              "#9c179e"
             ],
             [
              0.4444444444444444,
              "#bd3786"
             ],
             [
              0.5555555555555556,
              "#d8576b"
             ],
             [
              0.6666666666666666,
              "#ed7953"
             ],
             [
              0.7777777777777778,
              "#fb9f3a"
             ],
             [
              0.8888888888888888,
              "#fdca26"
             ],
             [
              1,
              "#f0f921"
             ]
            ],
            "type": "surface"
           }
          ],
          "table": [
           {
            "cells": {
             "fill": {
              "color": "#EBF0F8"
             },
             "line": {
              "color": "white"
             }
            },
            "header": {
             "fill": {
              "color": "#C8D4E3"
             },
             "line": {
              "color": "white"
             }
            },
            "type": "table"
           }
          ]
         },
         "layout": {
          "annotationdefaults": {
           "arrowcolor": "#2a3f5f",
           "arrowhead": 0,
           "arrowwidth": 1
          },
          "autotypenumbers": "strict",
          "coloraxis": {
           "colorbar": {
            "outlinewidth": 0,
            "ticks": ""
           }
          },
          "colorscale": {
           "diverging": [
            [
             0,
             "#8e0152"
            ],
            [
             0.1,
             "#c51b7d"
            ],
            [
             0.2,
             "#de77ae"
            ],
            [
             0.3,
             "#f1b6da"
            ],
            [
             0.4,
             "#fde0ef"
            ],
            [
             0.5,
             "#f7f7f7"
            ],
            [
             0.6,
             "#e6f5d0"
            ],
            [
             0.7,
             "#b8e186"
            ],
            [
             0.8,
             "#7fbc41"
            ],
            [
             0.9,
             "#4d9221"
            ],
            [
             1,
             "#276419"
            ]
           ],
           "sequential": [
            [
             0,
             "#0d0887"
            ],
            [
             0.1111111111111111,
             "#46039f"
            ],
            [
             0.2222222222222222,
             "#7201a8"
            ],
            [
             0.3333333333333333,
             "#9c179e"
            ],
            [
             0.4444444444444444,
             "#bd3786"
            ],
            [
             0.5555555555555556,
             "#d8576b"
            ],
            [
             0.6666666666666666,
             "#ed7953"
            ],
            [
             0.7777777777777778,
             "#fb9f3a"
            ],
            [
             0.8888888888888888,
             "#fdca26"
            ],
            [
             1,
             "#f0f921"
            ]
           ],
           "sequentialminus": [
            [
             0,
             "#0d0887"
            ],
            [
             0.1111111111111111,
             "#46039f"
            ],
            [
             0.2222222222222222,
             "#7201a8"
            ],
            [
             0.3333333333333333,
             "#9c179e"
            ],
            [
             0.4444444444444444,
             "#bd3786"
            ],
            [
             0.5555555555555556,
             "#d8576b"
            ],
            [
             0.6666666666666666,
             "#ed7953"
            ],
            [
             0.7777777777777778,
             "#fb9f3a"
            ],
            [
             0.8888888888888888,
             "#fdca26"
            ],
            [
             1,
             "#f0f921"
            ]
           ]
          },
          "colorway": [
           "#636efa",
           "#EF553B",
           "#00cc96",
           "#ab63fa",
           "#FFA15A",
           "#19d3f3",
           "#FF6692",
           "#B6E880",
           "#FF97FF",
           "#FECB52"
          ],
          "font": {
           "color": "#2a3f5f"
          },
          "geo": {
           "bgcolor": "white",
           "lakecolor": "white",
           "landcolor": "#E5ECF6",
           "showlakes": true,
           "showland": true,
           "subunitcolor": "white"
          },
          "hoverlabel": {
           "align": "left"
          },
          "hovermode": "closest",
          "mapbox": {
           "style": "light"
          },
          "paper_bgcolor": "white",
          "plot_bgcolor": "#E5ECF6",
          "polar": {
           "angularaxis": {
            "gridcolor": "white",
            "linecolor": "white",
            "ticks": ""
           },
           "bgcolor": "#E5ECF6",
           "radialaxis": {
            "gridcolor": "white",
            "linecolor": "white",
            "ticks": ""
           }
          },
          "scene": {
           "xaxis": {
            "backgroundcolor": "#E5ECF6",
            "gridcolor": "white",
            "gridwidth": 2,
            "linecolor": "white",
            "showbackground": true,
            "ticks": "",
            "zerolinecolor": "white"
           },
           "yaxis": {
            "backgroundcolor": "#E5ECF6",
            "gridcolor": "white",
            "gridwidth": 2,
            "linecolor": "white",
            "showbackground": true,
            "ticks": "",
            "zerolinecolor": "white"
           },
           "zaxis": {
            "backgroundcolor": "#E5ECF6",
            "gridcolor": "white",
            "gridwidth": 2,
            "linecolor": "white",
            "showbackground": true,
            "ticks": "",
            "zerolinecolor": "white"
           }
          },
          "shapedefaults": {
           "line": {
            "color": "#2a3f5f"
           }
          },
          "ternary": {
           "aaxis": {
            "gridcolor": "white",
            "linecolor": "white",
            "ticks": ""
           },
           "baxis": {
            "gridcolor": "white",
            "linecolor": "white",
            "ticks": ""
           },
           "bgcolor": "#E5ECF6",
           "caxis": {
            "gridcolor": "white",
            "linecolor": "white",
            "ticks": ""
           }
          },
          "title": {
           "x": 0.05
          },
          "xaxis": {
           "automargin": true,
           "gridcolor": "white",
           "linecolor": "white",
           "ticks": "",
           "title": {
            "standoff": 15
           },
           "zerolinecolor": "white",
           "zerolinewidth": 2
          },
          "yaxis": {
           "automargin": true,
           "gridcolor": "white",
           "linecolor": "white",
           "ticks": "",
           "title": {
            "standoff": 15
           },
           "zerolinecolor": "white",
           "zerolinewidth": 2
          }
         }
        },
        "title": {
         "font": {
          "color": "#4D5663"
         }
        },
        "xaxis": {
         "gridcolor": "#E1E5ED",
         "showgrid": true,
         "tickfont": {
          "color": "#4D5663"
         },
         "title": {
          "font": {
           "color": "#4D5663"
          },
          "text": ""
         },
         "zerolinecolor": "#E1E5ED"
        },
        "yaxis": {
         "gridcolor": "#E1E5ED",
         "showgrid": true,
         "tickfont": {
          "color": "#4D5663"
         },
         "title": {
          "font": {
           "color": "#4D5663"
          },
          "text": ""
         },
         "zerolinecolor": "#E1E5ED"
        }
       }
      },
      "text/html": [
       "<div>                            <div id=\"e5ee8a1f-6283-4552-96ec-05191df5a4c6\" class=\"plotly-graph-div\" style=\"height:525px; width:100%;\"></div>            <script type=\"text/javascript\">                require([\"plotly\"], function(Plotly) {                    window.PLOTLYENV=window.PLOTLYENV || {};\n",
       "                    window.PLOTLYENV.BASE_URL='https://plot.ly';                                    if (document.getElementById(\"e5ee8a1f-6283-4552-96ec-05191df5a4c6\")) {                    Plotly.newPlot(                        \"e5ee8a1f-6283-4552-96ec-05191df5a4c6\",                        [{\"boxpoints\":false,\"line\":{\"width\":1.3},\"marker\":{\"color\":\"rgba(255, 153, 51, 1.0)\"},\"name\":\"A\",\"orientation\":\"v\",\"y\":[-0.4948803672448772,-1.278606917283569,0.07106421334385374,1.0619587030601383,-1.4440555967233013,-0.22858606681894317,1.0030057486241948,0.04484795456415611,1.1619652312215167,-0.3063834419687249,0.5573171280834106,-1.4004848970008938,0.07213998245936415,-0.1992952156759034,0.963590047242657,0.1777390611535859,0.3189703863207484,0.6566964416263336,-1.2392354456388477,0.6737524737410653,1.4126321439046603,0.871402533205939,-0.8008377075281847,0.2066366446481001,0.7843129613261675,0.3612288487362664,0.42751052801441863,-1.3907782385950074,0.6062586949880656,-0.9710333735809482,0.47891605023133554,1.2337314105990314,0.9082028305785744,0.8446175169590872,0.2213111437943422,0.6040793357601695,-0.08588004121752364,-1.734245229493394,0.3647044551034887,0.0972210006165413,1.5046750299472174,-0.2810942500199662,3.0486427088955197,0.8443707688013775,-1.1933916647937377,-0.746046118365644,-1.1939737089247473,0.40617833718975777,-2.662736129779989,1.1340143561785632,-1.3431317646811118,-1.5882524199465087,-0.6483975035034787,1.3152824593173136,0.1333759544313208,0.30894298034457474,-0.6356048656438124,1.3659277658214952,-0.8456641943132652,0.5792996706265964,-0.12359290321284937,0.3266371728879937,1.295394749603058,-1.808102978075752,1.00915672491599,1.0642108345710921,1.466414923863723,0.8008328209289889,-0.09580001650492555,-0.38362804920073745,1.3351436888107087,-1.9884141016609131,0.4263071451958101,2.2681107757035783,0.5787490360176778,0.2831479916822075,-0.5928277608139828,1.0258181150691483,0.6891934792638104,-1.2325795921811449,0.46801777318662463,1.1160736213980393,-0.7838575266232529,1.0298022519136174,-0.7014308136007442,0.6960023389885786,1.1930852729550367,-0.4791890698641037,-0.3679677031951291,0.7966573079412141,-0.3211027262453276,-0.7608238050371512,-0.9710853823227727,0.22756984546431366,0.35529269618747356,-0.9526719129304471,-0.303544912011667,0.7324609793244885,1.2023945170669637,1.320809141414054],\"type\":\"box\"},{\"boxpoints\":false,\"line\":{\"width\":1.3},\"marker\":{\"color\":\"rgba(55, 128, 191, 1.0)\"},\"name\":\"B\",\"orientation\":\"v\",\"y\":[0.1776044584804704,-0.30579446317958037,0.13659788724493616,0.013966560660043948,1.3273022146782885,0.4245281639427591,0.13993688841338434,0.1364806923102963,-2.1065412864272086,-0.7493121467001574,-0.21907401933298437,1.3552891173188997,1.3823839058712768,0.26110714954987385,0.6670584552397943,0.697742052337499,-1.4770059522646852,-0.9466999513182942,-0.41620999378775114,0.23120654972488888,0.1053455114042331,-1.098711099169789,1.4008705791090683,-0.434654050392941,-1.207128568186926,-0.03525291190838535,0.14426598640881158,-1.6202847005796388,0.7627104472323303,1.2241416006731294,-0.6465533718632971,0.7415566179979918,-1.428988584175279,-1.928358672485835,-0.07720665593274657,0.5671077245400157,-1.795702440431457,-0.7941695676657354,3.907184367978601,1.8762239910918184,-0.8640392128710467,0.14788580454689232,0.4848657485550836,-0.39822234778649335,-0.2143508229290543,0.5421028547170331,0.9470213452638643,0.6079341780818952,0.08236570323112267,-0.4206814224407974,-0.2751572370420352,0.6632291561159293,-0.1672811079836468,0.84269169025041,0.7089604299130701,0.2458080265524387,-1.5136335159268992,-1.1978392671156282,-1.618336530284113,0.012290688929548993,1.619220248352336,1.110592869177345,0.7018241042017215,0.3702183639470843,-1.7388309041310908,-0.0875310813749589,-0.9124345858997445,1.1530317074144363,0.4714579218231528,0.48493178299862316,-0.35122660893540913,2.451773260240074,0.9309728827074173,-0.8834813115281297,-0.24448564745225207,0.46071894306278166,-2.309648368476434,1.7172733786642822,0.2073435746324365,-0.7662927627171758,-0.3838240458423306,1.2410093848919947,-0.24166136762679763,-0.16830385578843002,-1.704143002064265,-0.9899666399550905,-0.2962403884733509,-0.1531779038411322,0.015868120719419496,0.8272629094610052,1.868780342551116,0.4496997798754286,0.1255705622513645,-1.0699432646501854,1.2467596372794354,-0.22818951517464736,1.1230267105010945,-0.10288297183350929,-0.6189159183061426,1.13100404498498],\"type\":\"box\"},{\"boxpoints\":false,\"line\":{\"width\":1.3},\"marker\":{\"color\":\"rgba(50, 171, 96, 1.0)\"},\"name\":\"C\",\"orientation\":\"v\",\"y\":[0.6080779995637853,1.7400246486916582,-0.13999133244817188,0.5352452489269939,-0.8607015748953641,-0.007577661562544845,0.6133874834270073,1.042079651193935,-1.6496004343838335,-0.2772290474878759,1.927748188628256,0.21679357483834014,-0.20041124642629127,-0.15735712069223926,-0.1396328615527953,1.4990379552532895,0.2365629551373359,-0.12562032481682733,1.0285067781204562,-0.34642867035988806,1.4893699293400513,-1.9678488029261485,0.11641549389965557,-0.447936521222829,-0.6317844721599816,-1.0620496792256486,-0.38036500817521507,2.124900554465702,0.4176334714155671,0.8933949427558404,0.9750339799707942,0.13396229912448,-0.139655695684182,0.17145230653256055,1.5265891392044315,1.5424348038693838,1.933135986859975,0.20063815169898097,2.259911527433026,1.7669830001106346,1.1264021854414936,-0.4326594740578652,-0.07852422323803551,-0.17367413397700165,0.14559273498432715,-0.09450610368119483,-0.450311635214802,0.024483633111631667,0.8619034378215645,0.37576934786638294,0.6604784693060562,1.546898477722581,-0.31644669207614307,1.0751080409363547,-1.2545891292729636,0.1652974648823601,0.04470676810755846,-0.2853696671175998,0.1073633384432158,-1.2434323810760282,0.5130174305940749,-0.9786133934918884,-0.5850284411117955,1.0087853298195266,0.0936606978721186,-0.6137428792942979,1.0481297523140083,0.11656293160882521,0.753428399507512,0.24104721358810266,-1.8199327065995095,-0.6165839730840095,-0.19348008375295506,0.3977934592352505,3.278574831460349,-0.28406450546619827,0.3198320310456906,-0.05262022144420799,-0.045281211887611104,-0.7173894584996944,-0.2513974832277044,0.570196634208274,0.7948931502537384,-0.16873272917163948,-0.7565934615943875,-0.5168679886509878,0.21810968565505992,0.9258187116883008,-0.6918576365484003,-0.7818441109847707,-1.851220746970328,-0.3652710146348525,0.5724495069039409,-0.8437185537568656,1.2061404955091923,1.5015837466076076,0.08721080361940686,-0.8843929865373923,-0.008309018221935336,-0.09636389045842066],\"type\":\"box\"},{\"boxpoints\":false,\"line\":{\"width\":1.3},\"marker\":{\"color\":\"rgba(128, 0, 128, 1.0)\"},\"name\":\"D\",\"orientation\":\"v\",\"y\":[-1.1249579601855308,-0.9410991973950514,-0.4486593530065986,0.05962675628963897,-0.7359737933474149,-0.675096201791584,1.7012601865464954,0.8231840515700299,2.172744571974603,-0.2527565359843745,0.7927540343172109,2.2197072906786492,-0.6511628526372234,0.8193223439928156,0.6516281382253095,0.8685452291437251,0.6358389736160797,-1.725000647642552,-0.9548547694402619,-0.2250370106551404,-0.6031803074001773,-1.1451469894566473,1.041087467399137,-0.3075394730177125,-0.2592588381211093,-2.8125820738342386,-0.0630428352508275,-0.3139891512226067,-1.3806277928090338,-0.5894462756846416,-0.19046981721009973,0.30194209764536145,0.5048219239249278,0.03314959303712693,-1.5740926235873482,-0.3731117383420975,-0.1009571214456144,1.5357839366870487,-0.9793053123230482,-1.1096657233977292,-0.8010288018955751,-1.4875981371366593,0.3032285438919636,-0.36182030149451055,-1.6517700174043022,0.13418103415995045,1.00084507079135,0.6068421038293886,0.08658120141763168,0.4388857146699468,-1.0807000730351164,-0.5932109569006637,-0.39907365255557287,-1.0933520086434285,-1.3427944876955982,-0.17727245731088123,0.4808925253600302,-1.4361517306499623,0.7992133932898633,0.20856170080504607,0.21941085342067815,1.5148555001386816,0.8484513347832735,-1.2116733713220018,0.1955340063223997,-1.776340478745634,-1.418612300116902,-1.0716753413037978,-0.2807712413810616,0.6031650963682019,-0.8779669525616524,-0.6391863320491697,1.3836299890934498,-0.5672799518622996,-0.39788998220756727,-0.7670622207292299,0.7521360122447434,0.8729944465064794,-0.9399191973480867,-0.9827272815293338,-0.194207433240659,-0.3344311988924336,0.61830632122162,1.7652146231547032,-0.3274961728713471,-0.3304967653917048,0.35138955656591636,0.687833229519024,1.2315217044012088,0.11417273260536316,0.09288758992076684,-1.4349095862147714,-1.2373597525512348,-0.5164076175898568,0.7444024881823896,1.0799684500455804,-1.7683397791652964,0.6429445396573226,-0.17090259743981126,1.8020015892468284],\"type\":\"box\"}],                        {\"legend\":{\"bgcolor\":\"#F5F6F9\",\"font\":{\"color\":\"#4D5663\"}},\"paper_bgcolor\":\"#F5F6F9\",\"plot_bgcolor\":\"#F5F6F9\",\"template\":{\"data\":{\"barpolar\":[{\"marker\":{\"line\":{\"color\":\"#E5ECF6\",\"width\":0.5},\"pattern\":{\"fillmode\":\"overlay\",\"size\":10,\"solidity\":0.2}},\"type\":\"barpolar\"}],\"bar\":[{\"error_x\":{\"color\":\"#2a3f5f\"},\"error_y\":{\"color\":\"#2a3f5f\"},\"marker\":{\"line\":{\"color\":\"#E5ECF6\",\"width\":0.5},\"pattern\":{\"fillmode\":\"overlay\",\"size\":10,\"solidity\":0.2}},\"type\":\"bar\"}],\"carpet\":[{\"aaxis\":{\"endlinecolor\":\"#2a3f5f\",\"gridcolor\":\"white\",\"linecolor\":\"white\",\"minorgridcolor\":\"white\",\"startlinecolor\":\"#2a3f5f\"},\"baxis\":{\"endlinecolor\":\"#2a3f5f\",\"gridcolor\":\"white\",\"linecolor\":\"white\",\"minorgridcolor\":\"white\",\"startlinecolor\":\"#2a3f5f\"},\"type\":\"carpet\"}],\"choropleth\":[{\"colorbar\":{\"outlinewidth\":0,\"ticks\":\"\"},\"type\":\"choropleth\"}],\"contourcarpet\":[{\"colorbar\":{\"outlinewidth\":0,\"ticks\":\"\"},\"type\":\"contourcarpet\"}],\"contour\":[{\"colorbar\":{\"outlinewidth\":0,\"ticks\":\"\"},\"colorscale\":[[0.0,\"#0d0887\"],[0.1111111111111111,\"#46039f\"],[0.2222222222222222,\"#7201a8\"],[0.3333333333333333,\"#9c179e\"],[0.4444444444444444,\"#bd3786\"],[0.5555555555555556,\"#d8576b\"],[0.6666666666666666,\"#ed7953\"],[0.7777777777777778,\"#fb9f3a\"],[0.8888888888888888,\"#fdca26\"],[1.0,\"#f0f921\"]],\"type\":\"contour\"}],\"heatmapgl\":[{\"colorbar\":{\"outlinewidth\":0,\"ticks\":\"\"},\"colorscale\":[[0.0,\"#0d0887\"],[0.1111111111111111,\"#46039f\"],[0.2222222222222222,\"#7201a8\"],[0.3333333333333333,\"#9c179e\"],[0.4444444444444444,\"#bd3786\"],[0.5555555555555556,\"#d8576b\"],[0.6666666666666666,\"#ed7953\"],[0.7777777777777778,\"#fb9f3a\"],[0.8888888888888888,\"#fdca26\"],[1.0,\"#f0f921\"]],\"type\":\"heatmapgl\"}],\"heatmap\":[{\"colorbar\":{\"outlinewidth\":0,\"ticks\":\"\"},\"colorscale\":[[0.0,\"#0d0887\"],[0.1111111111111111,\"#46039f\"],[0.2222222222222222,\"#7201a8\"],[0.3333333333333333,\"#9c179e\"],[0.4444444444444444,\"#bd3786\"],[0.5555555555555556,\"#d8576b\"],[0.6666666666666666,\"#ed7953\"],[0.7777777777777778,\"#fb9f3a\"],[0.8888888888888888,\"#fdca26\"],[1.0,\"#f0f921\"]],\"type\":\"heatmap\"}],\"histogram2dcontour\":[{\"colorbar\":{\"outlinewidth\":0,\"ticks\":\"\"},\"colorscale\":[[0.0,\"#0d0887\"],[0.1111111111111111,\"#46039f\"],[0.2222222222222222,\"#7201a8\"],[0.3333333333333333,\"#9c179e\"],[0.4444444444444444,\"#bd3786\"],[0.5555555555555556,\"#d8576b\"],[0.6666666666666666,\"#ed7953\"],[0.7777777777777778,\"#fb9f3a\"],[0.8888888888888888,\"#fdca26\"],[1.0,\"#f0f921\"]],\"type\":\"histogram2dcontour\"}],\"histogram2d\":[{\"colorbar\":{\"outlinewidth\":0,\"ticks\":\"\"},\"colorscale\":[[0.0,\"#0d0887\"],[0.1111111111111111,\"#46039f\"],[0.2222222222222222,\"#7201a8\"],[0.3333333333333333,\"#9c179e\"],[0.4444444444444444,\"#bd3786\"],[0.5555555555555556,\"#d8576b\"],[0.6666666666666666,\"#ed7953\"],[0.7777777777777778,\"#fb9f3a\"],[0.8888888888888888,\"#fdca26\"],[1.0,\"#f0f921\"]],\"type\":\"histogram2d\"}],\"histogram\":[{\"marker\":{\"pattern\":{\"fillmode\":\"overlay\",\"size\":10,\"solidity\":0.2}},\"type\":\"histogram\"}],\"mesh3d\":[{\"colorbar\":{\"outlinewidth\":0,\"ticks\":\"\"},\"type\":\"mesh3d\"}],\"parcoords\":[{\"line\":{\"colorbar\":{\"outlinewidth\":0,\"ticks\":\"\"}},\"type\":\"parcoords\"}],\"pie\":[{\"automargin\":true,\"type\":\"pie\"}],\"scatter3d\":[{\"line\":{\"colorbar\":{\"outlinewidth\":0,\"ticks\":\"\"}},\"marker\":{\"colorbar\":{\"outlinewidth\":0,\"ticks\":\"\"}},\"type\":\"scatter3d\"}],\"scattercarpet\":[{\"marker\":{\"colorbar\":{\"outlinewidth\":0,\"ticks\":\"\"}},\"type\":\"scattercarpet\"}],\"scattergeo\":[{\"marker\":{\"colorbar\":{\"outlinewidth\":0,\"ticks\":\"\"}},\"type\":\"scattergeo\"}],\"scattergl\":[{\"marker\":{\"colorbar\":{\"outlinewidth\":0,\"ticks\":\"\"}},\"type\":\"scattergl\"}],\"scattermapbox\":[{\"marker\":{\"colorbar\":{\"outlinewidth\":0,\"ticks\":\"\"}},\"type\":\"scattermapbox\"}],\"scatterpolargl\":[{\"marker\":{\"colorbar\":{\"outlinewidth\":0,\"ticks\":\"\"}},\"type\":\"scatterpolargl\"}],\"scatterpolar\":[{\"marker\":{\"colorbar\":{\"outlinewidth\":0,\"ticks\":\"\"}},\"type\":\"scatterpolar\"}],\"scatter\":[{\"fillpattern\":{\"fillmode\":\"overlay\",\"size\":10,\"solidity\":0.2},\"type\":\"scatter\"}],\"scatterternary\":[{\"marker\":{\"colorbar\":{\"outlinewidth\":0,\"ticks\":\"\"}},\"type\":\"scatterternary\"}],\"surface\":[{\"colorbar\":{\"outlinewidth\":0,\"ticks\":\"\"},\"colorscale\":[[0.0,\"#0d0887\"],[0.1111111111111111,\"#46039f\"],[0.2222222222222222,\"#7201a8\"],[0.3333333333333333,\"#9c179e\"],[0.4444444444444444,\"#bd3786\"],[0.5555555555555556,\"#d8576b\"],[0.6666666666666666,\"#ed7953\"],[0.7777777777777778,\"#fb9f3a\"],[0.8888888888888888,\"#fdca26\"],[1.0,\"#f0f921\"]],\"type\":\"surface\"}],\"table\":[{\"cells\":{\"fill\":{\"color\":\"#EBF0F8\"},\"line\":{\"color\":\"white\"}},\"header\":{\"fill\":{\"color\":\"#C8D4E3\"},\"line\":{\"color\":\"white\"}},\"type\":\"table\"}]},\"layout\":{\"annotationdefaults\":{\"arrowcolor\":\"#2a3f5f\",\"arrowhead\":0,\"arrowwidth\":1},\"autotypenumbers\":\"strict\",\"coloraxis\":{\"colorbar\":{\"outlinewidth\":0,\"ticks\":\"\"}},\"colorscale\":{\"diverging\":[[0,\"#8e0152\"],[0.1,\"#c51b7d\"],[0.2,\"#de77ae\"],[0.3,\"#f1b6da\"],[0.4,\"#fde0ef\"],[0.5,\"#f7f7f7\"],[0.6,\"#e6f5d0\"],[0.7,\"#b8e186\"],[0.8,\"#7fbc41\"],[0.9,\"#4d9221\"],[1,\"#276419\"]],\"sequential\":[[0.0,\"#0d0887\"],[0.1111111111111111,\"#46039f\"],[0.2222222222222222,\"#7201a8\"],[0.3333333333333333,\"#9c179e\"],[0.4444444444444444,\"#bd3786\"],[0.5555555555555556,\"#d8576b\"],[0.6666666666666666,\"#ed7953\"],[0.7777777777777778,\"#fb9f3a\"],[0.8888888888888888,\"#fdca26\"],[1.0,\"#f0f921\"]],\"sequentialminus\":[[0.0,\"#0d0887\"],[0.1111111111111111,\"#46039f\"],[0.2222222222222222,\"#7201a8\"],[0.3333333333333333,\"#9c179e\"],[0.4444444444444444,\"#bd3786\"],[0.5555555555555556,\"#d8576b\"],[0.6666666666666666,\"#ed7953\"],[0.7777777777777778,\"#fb9f3a\"],[0.8888888888888888,\"#fdca26\"],[1.0,\"#f0f921\"]]},\"colorway\":[\"#636efa\",\"#EF553B\",\"#00cc96\",\"#ab63fa\",\"#FFA15A\",\"#19d3f3\",\"#FF6692\",\"#B6E880\",\"#FF97FF\",\"#FECB52\"],\"font\":{\"color\":\"#2a3f5f\"},\"geo\":{\"bgcolor\":\"white\",\"lakecolor\":\"white\",\"landcolor\":\"#E5ECF6\",\"showlakes\":true,\"showland\":true,\"subunitcolor\":\"white\"},\"hoverlabel\":{\"align\":\"left\"},\"hovermode\":\"closest\",\"mapbox\":{\"style\":\"light\"},\"paper_bgcolor\":\"white\",\"plot_bgcolor\":\"#E5ECF6\",\"polar\":{\"angularaxis\":{\"gridcolor\":\"white\",\"linecolor\":\"white\",\"ticks\":\"\"},\"bgcolor\":\"#E5ECF6\",\"radialaxis\":{\"gridcolor\":\"white\",\"linecolor\":\"white\",\"ticks\":\"\"}},\"scene\":{\"xaxis\":{\"backgroundcolor\":\"#E5ECF6\",\"gridcolor\":\"white\",\"gridwidth\":2,\"linecolor\":\"white\",\"showbackground\":true,\"ticks\":\"\",\"zerolinecolor\":\"white\"},\"yaxis\":{\"backgroundcolor\":\"#E5ECF6\",\"gridcolor\":\"white\",\"gridwidth\":2,\"linecolor\":\"white\",\"showbackground\":true,\"ticks\":\"\",\"zerolinecolor\":\"white\"},\"zaxis\":{\"backgroundcolor\":\"#E5ECF6\",\"gridcolor\":\"white\",\"gridwidth\":2,\"linecolor\":\"white\",\"showbackground\":true,\"ticks\":\"\",\"zerolinecolor\":\"white\"}},\"shapedefaults\":{\"line\":{\"color\":\"#2a3f5f\"}},\"ternary\":{\"aaxis\":{\"gridcolor\":\"white\",\"linecolor\":\"white\",\"ticks\":\"\"},\"baxis\":{\"gridcolor\":\"white\",\"linecolor\":\"white\",\"ticks\":\"\"},\"bgcolor\":\"#E5ECF6\",\"caxis\":{\"gridcolor\":\"white\",\"linecolor\":\"white\",\"ticks\":\"\"}},\"title\":{\"x\":0.05},\"xaxis\":{\"automargin\":true,\"gridcolor\":\"white\",\"linecolor\":\"white\",\"ticks\":\"\",\"title\":{\"standoff\":15},\"zerolinecolor\":\"white\",\"zerolinewidth\":2},\"yaxis\":{\"automargin\":true,\"gridcolor\":\"white\",\"linecolor\":\"white\",\"ticks\":\"\",\"title\":{\"standoff\":15},\"zerolinecolor\":\"white\",\"zerolinewidth\":2}}},\"title\":{\"font\":{\"color\":\"#4D5663\"}},\"xaxis\":{\"gridcolor\":\"#E1E5ED\",\"showgrid\":true,\"tickfont\":{\"color\":\"#4D5663\"},\"title\":{\"font\":{\"color\":\"#4D5663\"},\"text\":\"\"},\"zerolinecolor\":\"#E1E5ED\"},\"yaxis\":{\"gridcolor\":\"#E1E5ED\",\"showgrid\":true,\"tickfont\":{\"color\":\"#4D5663\"},\"title\":{\"font\":{\"color\":\"#4D5663\"},\"text\":\"\"},\"zerolinecolor\":\"#E1E5ED\"}},                        {\"showLink\": true, \"linkText\": \"Export to plot.ly\", \"plotlyServerURL\": \"https://plot.ly\", \"responsive\": true}                    ).then(function(){\n",
       "                            \n",
       "var gd = document.getElementById('e5ee8a1f-6283-4552-96ec-05191df5a4c6');\n",
       "var x = new MutationObserver(function (mutations, observer) {{\n",
       "        var display = window.getComputedStyle(gd).display;\n",
       "        if (!display || display === 'none') {{\n",
       "            console.log([gd, 'removed!']);\n",
       "            Plotly.purge(gd);\n",
       "            observer.disconnect();\n",
       "        }}\n",
       "}});\n",
       "\n",
       "// Listen for the removal of the full notebook cells\n",
       "var notebookContainer = gd.closest('#notebook-container');\n",
       "if (notebookContainer) {{\n",
       "    x.observe(notebookContainer, {childList: true});\n",
       "}}\n",
       "\n",
       "// Listen for the clearing of the current output cell\n",
       "var outputEl = gd.closest('.output');\n",
       "if (outputEl) {{\n",
       "    x.observe(outputEl, {childList: true});\n",
       "}}\n",
       "\n",
       "                        })                };                });            </script>        </div>"
      ]
     },
     "metadata": {},
     "output_type": "display_data"
    }
   ],
   "source": [
    "df.iplot(kind='box')"
   ]
  },
  {
   "cell_type": "markdown",
   "metadata": {},
   "source": [
    "## 3d Surface"
   ]
  },
  {
   "cell_type": "code",
   "execution_count": 15,
   "metadata": {},
   "outputs": [
    {
     "data": {
      "application/vnd.plotly.v1+json": {
       "config": {
        "linkText": "Export to plot.ly",
        "plotlyServerURL": "https://plot.ly",
        "showLink": true
       },
       "data": [
        {
         "colorscale": [
          [
           0,
           "rgb(165,0,38)"
          ],
          [
           0.1,
           "rgb(215,48,39)"
          ],
          [
           0.2,
           "rgb(244,109,67)"
          ],
          [
           0.3,
           "rgb(253,174,97)"
          ],
          [
           0.4,
           "rgb(254,224,144)"
          ],
          [
           0.5,
           "rgb(255,255,191)"
          ],
          [
           0.6,
           "rgb(224,243,248)"
          ],
          [
           0.7,
           "rgb(171,217,233)"
          ],
          [
           0.8,
           "rgb(116,173,209)"
          ],
          [
           0.9,
           "rgb(69,117,180)"
          ],
          [
           1,
           "rgb(49,54,149)"
          ]
         ],
         "type": "surface",
         "x": [
          0,
          1,
          2,
          3,
          4
         ],
         "y": [
          "x",
          "y",
          "z"
         ],
         "z": [
          [
           1,
           2,
           3,
           4,
           5
          ],
          [
           10,
           20,
           30,
           20,
           10
          ],
          [
           5,
           4,
           3,
           2,
           1
          ]
         ]
        }
       ],
       "layout": {
        "legend": {
         "bgcolor": "#F5F6F9",
         "font": {
          "color": "#4D5663"
         }
        },
        "paper_bgcolor": "#F5F6F9",
        "plot_bgcolor": "#F5F6F9",
        "template": {
         "data": {
          "bar": [
           {
            "error_x": {
             "color": "#2a3f5f"
            },
            "error_y": {
             "color": "#2a3f5f"
            },
            "marker": {
             "line": {
              "color": "#E5ECF6",
              "width": 0.5
             },
             "pattern": {
              "fillmode": "overlay",
              "size": 10,
              "solidity": 0.2
             }
            },
            "type": "bar"
           }
          ],
          "barpolar": [
           {
            "marker": {
             "line": {
              "color": "#E5ECF6",
              "width": 0.5
             },
             "pattern": {
              "fillmode": "overlay",
              "size": 10,
              "solidity": 0.2
             }
            },
            "type": "barpolar"
           }
          ],
          "carpet": [
           {
            "aaxis": {
             "endlinecolor": "#2a3f5f",
             "gridcolor": "white",
             "linecolor": "white",
             "minorgridcolor": "white",
             "startlinecolor": "#2a3f5f"
            },
            "baxis": {
             "endlinecolor": "#2a3f5f",
             "gridcolor": "white",
             "linecolor": "white",
             "minorgridcolor": "white",
             "startlinecolor": "#2a3f5f"
            },
            "type": "carpet"
           }
          ],
          "choropleth": [
           {
            "colorbar": {
             "outlinewidth": 0,
             "ticks": ""
            },
            "type": "choropleth"
           }
          ],
          "contour": [
           {
            "colorbar": {
             "outlinewidth": 0,
             "ticks": ""
            },
            "colorscale": [
             [
              0,
              "#0d0887"
             ],
             [
              0.1111111111111111,
              "#46039f"
             ],
             [
              0.2222222222222222,
              "#7201a8"
             ],
             [
              0.3333333333333333,
              "#9c179e"
             ],
             [
              0.4444444444444444,
              "#bd3786"
             ],
             [
              0.5555555555555556,
              "#d8576b"
             ],
             [
              0.6666666666666666,
              "#ed7953"
             ],
             [
              0.7777777777777778,
              "#fb9f3a"
             ],
             [
              0.8888888888888888,
              "#fdca26"
             ],
             [
              1,
              "#f0f921"
             ]
            ],
            "type": "contour"
           }
          ],
          "contourcarpet": [
           {
            "colorbar": {
             "outlinewidth": 0,
             "ticks": ""
            },
            "type": "contourcarpet"
           }
          ],
          "heatmap": [
           {
            "colorbar": {
             "outlinewidth": 0,
             "ticks": ""
            },
            "colorscale": [
             [
              0,
              "#0d0887"
             ],
             [
              0.1111111111111111,
              "#46039f"
             ],
             [
              0.2222222222222222,
              "#7201a8"
             ],
             [
              0.3333333333333333,
              "#9c179e"
             ],
             [
              0.4444444444444444,
              "#bd3786"
             ],
             [
              0.5555555555555556,
              "#d8576b"
             ],
             [
              0.6666666666666666,
              "#ed7953"
             ],
             [
              0.7777777777777778,
              "#fb9f3a"
             ],
             [
              0.8888888888888888,
              "#fdca26"
             ],
             [
              1,
              "#f0f921"
             ]
            ],
            "type": "heatmap"
           }
          ],
          "heatmapgl": [
           {
            "colorbar": {
             "outlinewidth": 0,
             "ticks": ""
            },
            "colorscale": [
             [
              0,
              "#0d0887"
             ],
             [
              0.1111111111111111,
              "#46039f"
             ],
             [
              0.2222222222222222,
              "#7201a8"
             ],
             [
              0.3333333333333333,
              "#9c179e"
             ],
             [
              0.4444444444444444,
              "#bd3786"
             ],
             [
              0.5555555555555556,
              "#d8576b"
             ],
             [
              0.6666666666666666,
              "#ed7953"
             ],
             [
              0.7777777777777778,
              "#fb9f3a"
             ],
             [
              0.8888888888888888,
              "#fdca26"
             ],
             [
              1,
              "#f0f921"
             ]
            ],
            "type": "heatmapgl"
           }
          ],
          "histogram": [
           {
            "marker": {
             "pattern": {
              "fillmode": "overlay",
              "size": 10,
              "solidity": 0.2
             }
            },
            "type": "histogram"
           }
          ],
          "histogram2d": [
           {
            "colorbar": {
             "outlinewidth": 0,
             "ticks": ""
            },
            "colorscale": [
             [
              0,
              "#0d0887"
             ],
             [
              0.1111111111111111,
              "#46039f"
             ],
             [
              0.2222222222222222,
              "#7201a8"
             ],
             [
              0.3333333333333333,
              "#9c179e"
             ],
             [
              0.4444444444444444,
              "#bd3786"
             ],
             [
              0.5555555555555556,
              "#d8576b"
             ],
             [
              0.6666666666666666,
              "#ed7953"
             ],
             [
              0.7777777777777778,
              "#fb9f3a"
             ],
             [
              0.8888888888888888,
              "#fdca26"
             ],
             [
              1,
              "#f0f921"
             ]
            ],
            "type": "histogram2d"
           }
          ],
          "histogram2dcontour": [
           {
            "colorbar": {
             "outlinewidth": 0,
             "ticks": ""
            },
            "colorscale": [
             [
              0,
              "#0d0887"
             ],
             [
              0.1111111111111111,
              "#46039f"
             ],
             [
              0.2222222222222222,
              "#7201a8"
             ],
             [
              0.3333333333333333,
              "#9c179e"
             ],
             [
              0.4444444444444444,
              "#bd3786"
             ],
             [
              0.5555555555555556,
              "#d8576b"
             ],
             [
              0.6666666666666666,
              "#ed7953"
             ],
             [
              0.7777777777777778,
              "#fb9f3a"
             ],
             [
              0.8888888888888888,
              "#fdca26"
             ],
             [
              1,
              "#f0f921"
             ]
            ],
            "type": "histogram2dcontour"
           }
          ],
          "mesh3d": [
           {
            "colorbar": {
             "outlinewidth": 0,
             "ticks": ""
            },
            "type": "mesh3d"
           }
          ],
          "parcoords": [
           {
            "line": {
             "colorbar": {
              "outlinewidth": 0,
              "ticks": ""
             }
            },
            "type": "parcoords"
           }
          ],
          "pie": [
           {
            "automargin": true,
            "type": "pie"
           }
          ],
          "scatter": [
           {
            "fillpattern": {
             "fillmode": "overlay",
             "size": 10,
             "solidity": 0.2
            },
            "type": "scatter"
           }
          ],
          "scatter3d": [
           {
            "line": {
             "colorbar": {
              "outlinewidth": 0,
              "ticks": ""
             }
            },
            "marker": {
             "colorbar": {
              "outlinewidth": 0,
              "ticks": ""
             }
            },
            "type": "scatter3d"
           }
          ],
          "scattercarpet": [
           {
            "marker": {
             "colorbar": {
              "outlinewidth": 0,
              "ticks": ""
             }
            },
            "type": "scattercarpet"
           }
          ],
          "scattergeo": [
           {
            "marker": {
             "colorbar": {
              "outlinewidth": 0,
              "ticks": ""
             }
            },
            "type": "scattergeo"
           }
          ],
          "scattergl": [
           {
            "marker": {
             "colorbar": {
              "outlinewidth": 0,
              "ticks": ""
             }
            },
            "type": "scattergl"
           }
          ],
          "scattermapbox": [
           {
            "marker": {
             "colorbar": {
              "outlinewidth": 0,
              "ticks": ""
             }
            },
            "type": "scattermapbox"
           }
          ],
          "scatterpolar": [
           {
            "marker": {
             "colorbar": {
              "outlinewidth": 0,
              "ticks": ""
             }
            },
            "type": "scatterpolar"
           }
          ],
          "scatterpolargl": [
           {
            "marker": {
             "colorbar": {
              "outlinewidth": 0,
              "ticks": ""
             }
            },
            "type": "scatterpolargl"
           }
          ],
          "scatterternary": [
           {
            "marker": {
             "colorbar": {
              "outlinewidth": 0,
              "ticks": ""
             }
            },
            "type": "scatterternary"
           }
          ],
          "surface": [
           {
            "colorbar": {
             "outlinewidth": 0,
             "ticks": ""
            },
            "colorscale": [
             [
              0,
              "#0d0887"
             ],
             [
              0.1111111111111111,
              "#46039f"
             ],
             [
              0.2222222222222222,
              "#7201a8"
             ],
             [
              0.3333333333333333,
              "#9c179e"
             ],
             [
              0.4444444444444444,
              "#bd3786"
             ],
             [
              0.5555555555555556,
              "#d8576b"
             ],
             [
              0.6666666666666666,
              "#ed7953"
             ],
             [
              0.7777777777777778,
              "#fb9f3a"
             ],
             [
              0.8888888888888888,
              "#fdca26"
             ],
             [
              1,
              "#f0f921"
             ]
            ],
            "type": "surface"
           }
          ],
          "table": [
           {
            "cells": {
             "fill": {
              "color": "#EBF0F8"
             },
             "line": {
              "color": "white"
             }
            },
            "header": {
             "fill": {
              "color": "#C8D4E3"
             },
             "line": {
              "color": "white"
             }
            },
            "type": "table"
           }
          ]
         },
         "layout": {
          "annotationdefaults": {
           "arrowcolor": "#2a3f5f",
           "arrowhead": 0,
           "arrowwidth": 1
          },
          "autotypenumbers": "strict",
          "coloraxis": {
           "colorbar": {
            "outlinewidth": 0,
            "ticks": ""
           }
          },
          "colorscale": {
           "diverging": [
            [
             0,
             "#8e0152"
            ],
            [
             0.1,
             "#c51b7d"
            ],
            [
             0.2,
             "#de77ae"
            ],
            [
             0.3,
             "#f1b6da"
            ],
            [
             0.4,
             "#fde0ef"
            ],
            [
             0.5,
             "#f7f7f7"
            ],
            [
             0.6,
             "#e6f5d0"
            ],
            [
             0.7,
             "#b8e186"
            ],
            [
             0.8,
             "#7fbc41"
            ],
            [
             0.9,
             "#4d9221"
            ],
            [
             1,
             "#276419"
            ]
           ],
           "sequential": [
            [
             0,
             "#0d0887"
            ],
            [
             0.1111111111111111,
             "#46039f"
            ],
            [
             0.2222222222222222,
             "#7201a8"
            ],
            [
             0.3333333333333333,
             "#9c179e"
            ],
            [
             0.4444444444444444,
             "#bd3786"
            ],
            [
             0.5555555555555556,
             "#d8576b"
            ],
            [
             0.6666666666666666,
             "#ed7953"
            ],
            [
             0.7777777777777778,
             "#fb9f3a"
            ],
            [
             0.8888888888888888,
             "#fdca26"
            ],
            [
             1,
             "#f0f921"
            ]
           ],
           "sequentialminus": [
            [
             0,
             "#0d0887"
            ],
            [
             0.1111111111111111,
             "#46039f"
            ],
            [
             0.2222222222222222,
             "#7201a8"
            ],
            [
             0.3333333333333333,
             "#9c179e"
            ],
            [
             0.4444444444444444,
             "#bd3786"
            ],
            [
             0.5555555555555556,
             "#d8576b"
            ],
            [
             0.6666666666666666,
             "#ed7953"
            ],
            [
             0.7777777777777778,
             "#fb9f3a"
            ],
            [
             0.8888888888888888,
             "#fdca26"
            ],
            [
             1,
             "#f0f921"
            ]
           ]
          },
          "colorway": [
           "#636efa",
           "#EF553B",
           "#00cc96",
           "#ab63fa",
           "#FFA15A",
           "#19d3f3",
           "#FF6692",
           "#B6E880",
           "#FF97FF",
           "#FECB52"
          ],
          "font": {
           "color": "#2a3f5f"
          },
          "geo": {
           "bgcolor": "white",
           "lakecolor": "white",
           "landcolor": "#E5ECF6",
           "showlakes": true,
           "showland": true,
           "subunitcolor": "white"
          },
          "hoverlabel": {
           "align": "left"
          },
          "hovermode": "closest",
          "mapbox": {
           "style": "light"
          },
          "paper_bgcolor": "white",
          "plot_bgcolor": "#E5ECF6",
          "polar": {
           "angularaxis": {
            "gridcolor": "white",
            "linecolor": "white",
            "ticks": ""
           },
           "bgcolor": "#E5ECF6",
           "radialaxis": {
            "gridcolor": "white",
            "linecolor": "white",
            "ticks": ""
           }
          },
          "scene": {
           "xaxis": {
            "backgroundcolor": "#E5ECF6",
            "gridcolor": "white",
            "gridwidth": 2,
            "linecolor": "white",
            "showbackground": true,
            "ticks": "",
            "zerolinecolor": "white"
           },
           "yaxis": {
            "backgroundcolor": "#E5ECF6",
            "gridcolor": "white",
            "gridwidth": 2,
            "linecolor": "white",
            "showbackground": true,
            "ticks": "",
            "zerolinecolor": "white"
           },
           "zaxis": {
            "backgroundcolor": "#E5ECF6",
            "gridcolor": "white",
            "gridwidth": 2,
            "linecolor": "white",
            "showbackground": true,
            "ticks": "",
            "zerolinecolor": "white"
           }
          },
          "shapedefaults": {
           "line": {
            "color": "#2a3f5f"
           }
          },
          "ternary": {
           "aaxis": {
            "gridcolor": "white",
            "linecolor": "white",
            "ticks": ""
           },
           "baxis": {
            "gridcolor": "white",
            "linecolor": "white",
            "ticks": ""
           },
           "bgcolor": "#E5ECF6",
           "caxis": {
            "gridcolor": "white",
            "linecolor": "white",
            "ticks": ""
           }
          },
          "title": {
           "x": 0.05
          },
          "xaxis": {
           "automargin": true,
           "gridcolor": "white",
           "linecolor": "white",
           "ticks": "",
           "title": {
            "standoff": 15
           },
           "zerolinecolor": "white",
           "zerolinewidth": 2
          },
          "yaxis": {
           "automargin": true,
           "gridcolor": "white",
           "linecolor": "white",
           "ticks": "",
           "title": {
            "standoff": 15
           },
           "zerolinecolor": "white",
           "zerolinewidth": 2
          }
         }
        },
        "title": {
         "font": {
          "color": "#4D5663"
         }
        },
        "xaxis": {
         "gridcolor": "#E1E5ED",
         "showgrid": true,
         "tickfont": {
          "color": "#4D5663"
         },
         "title": {
          "font": {
           "color": "#4D5663"
          },
          "text": ""
         },
         "zerolinecolor": "#E1E5ED"
        },
        "yaxis": {
         "gridcolor": "#E1E5ED",
         "showgrid": true,
         "tickfont": {
          "color": "#4D5663"
         },
         "title": {
          "font": {
           "color": "#4D5663"
          },
          "text": ""
         },
         "zerolinecolor": "#E1E5ED"
        }
       }
      },
      "text/html": [
       "<div>                            <div id=\"33435b09-1bc5-4c3b-9bd6-d5e2de09a513\" class=\"plotly-graph-div\" style=\"height:525px; width:100%;\"></div>            <script type=\"text/javascript\">                require([\"plotly\"], function(Plotly) {                    window.PLOTLYENV=window.PLOTLYENV || {};\n",
       "                    window.PLOTLYENV.BASE_URL='https://plot.ly';                                    if (document.getElementById(\"33435b09-1bc5-4c3b-9bd6-d5e2de09a513\")) {                    Plotly.newPlot(                        \"33435b09-1bc5-4c3b-9bd6-d5e2de09a513\",                        [{\"colorscale\":[[0.0,\"rgb(165,0,38)\"],[0.1,\"rgb(215,48,39)\"],[0.2,\"rgb(244,109,67)\"],[0.3,\"rgb(253,174,97)\"],[0.4,\"rgb(254,224,144)\"],[0.5,\"rgb(255,255,191)\"],[0.6,\"rgb(224,243,248)\"],[0.7,\"rgb(171,217,233)\"],[0.8,\"rgb(116,173,209)\"],[0.9,\"rgb(69,117,180)\"],[1.0,\"rgb(49,54,149)\"]],\"x\":[0,1,2,3,4],\"y\":[\"x\",\"y\",\"z\"],\"z\":[[1,2,3,4,5],[10,20,30,20,10],[5,4,3,2,1]],\"type\":\"surface\"}],                        {\"legend\":{\"bgcolor\":\"#F5F6F9\",\"font\":{\"color\":\"#4D5663\"}},\"paper_bgcolor\":\"#F5F6F9\",\"plot_bgcolor\":\"#F5F6F9\",\"template\":{\"data\":{\"barpolar\":[{\"marker\":{\"line\":{\"color\":\"#E5ECF6\",\"width\":0.5},\"pattern\":{\"fillmode\":\"overlay\",\"size\":10,\"solidity\":0.2}},\"type\":\"barpolar\"}],\"bar\":[{\"error_x\":{\"color\":\"#2a3f5f\"},\"error_y\":{\"color\":\"#2a3f5f\"},\"marker\":{\"line\":{\"color\":\"#E5ECF6\",\"width\":0.5},\"pattern\":{\"fillmode\":\"overlay\",\"size\":10,\"solidity\":0.2}},\"type\":\"bar\"}],\"carpet\":[{\"aaxis\":{\"endlinecolor\":\"#2a3f5f\",\"gridcolor\":\"white\",\"linecolor\":\"white\",\"minorgridcolor\":\"white\",\"startlinecolor\":\"#2a3f5f\"},\"baxis\":{\"endlinecolor\":\"#2a3f5f\",\"gridcolor\":\"white\",\"linecolor\":\"white\",\"minorgridcolor\":\"white\",\"startlinecolor\":\"#2a3f5f\"},\"type\":\"carpet\"}],\"choropleth\":[{\"colorbar\":{\"outlinewidth\":0,\"ticks\":\"\"},\"type\":\"choropleth\"}],\"contourcarpet\":[{\"colorbar\":{\"outlinewidth\":0,\"ticks\":\"\"},\"type\":\"contourcarpet\"}],\"contour\":[{\"colorbar\":{\"outlinewidth\":0,\"ticks\":\"\"},\"colorscale\":[[0.0,\"#0d0887\"],[0.1111111111111111,\"#46039f\"],[0.2222222222222222,\"#7201a8\"],[0.3333333333333333,\"#9c179e\"],[0.4444444444444444,\"#bd3786\"],[0.5555555555555556,\"#d8576b\"],[0.6666666666666666,\"#ed7953\"],[0.7777777777777778,\"#fb9f3a\"],[0.8888888888888888,\"#fdca26\"],[1.0,\"#f0f921\"]],\"type\":\"contour\"}],\"heatmapgl\":[{\"colorbar\":{\"outlinewidth\":0,\"ticks\":\"\"},\"colorscale\":[[0.0,\"#0d0887\"],[0.1111111111111111,\"#46039f\"],[0.2222222222222222,\"#7201a8\"],[0.3333333333333333,\"#9c179e\"],[0.4444444444444444,\"#bd3786\"],[0.5555555555555556,\"#d8576b\"],[0.6666666666666666,\"#ed7953\"],[0.7777777777777778,\"#fb9f3a\"],[0.8888888888888888,\"#fdca26\"],[1.0,\"#f0f921\"]],\"type\":\"heatmapgl\"}],\"heatmap\":[{\"colorbar\":{\"outlinewidth\":0,\"ticks\":\"\"},\"colorscale\":[[0.0,\"#0d0887\"],[0.1111111111111111,\"#46039f\"],[0.2222222222222222,\"#7201a8\"],[0.3333333333333333,\"#9c179e\"],[0.4444444444444444,\"#bd3786\"],[0.5555555555555556,\"#d8576b\"],[0.6666666666666666,\"#ed7953\"],[0.7777777777777778,\"#fb9f3a\"],[0.8888888888888888,\"#fdca26\"],[1.0,\"#f0f921\"]],\"type\":\"heatmap\"}],\"histogram2dcontour\":[{\"colorbar\":{\"outlinewidth\":0,\"ticks\":\"\"},\"colorscale\":[[0.0,\"#0d0887\"],[0.1111111111111111,\"#46039f\"],[0.2222222222222222,\"#7201a8\"],[0.3333333333333333,\"#9c179e\"],[0.4444444444444444,\"#bd3786\"],[0.5555555555555556,\"#d8576b\"],[0.6666666666666666,\"#ed7953\"],[0.7777777777777778,\"#fb9f3a\"],[0.8888888888888888,\"#fdca26\"],[1.0,\"#f0f921\"]],\"type\":\"histogram2dcontour\"}],\"histogram2d\":[{\"colorbar\":{\"outlinewidth\":0,\"ticks\":\"\"},\"colorscale\":[[0.0,\"#0d0887\"],[0.1111111111111111,\"#46039f\"],[0.2222222222222222,\"#7201a8\"],[0.3333333333333333,\"#9c179e\"],[0.4444444444444444,\"#bd3786\"],[0.5555555555555556,\"#d8576b\"],[0.6666666666666666,\"#ed7953\"],[0.7777777777777778,\"#fb9f3a\"],[0.8888888888888888,\"#fdca26\"],[1.0,\"#f0f921\"]],\"type\":\"histogram2d\"}],\"histogram\":[{\"marker\":{\"pattern\":{\"fillmode\":\"overlay\",\"size\":10,\"solidity\":0.2}},\"type\":\"histogram\"}],\"mesh3d\":[{\"colorbar\":{\"outlinewidth\":0,\"ticks\":\"\"},\"type\":\"mesh3d\"}],\"parcoords\":[{\"line\":{\"colorbar\":{\"outlinewidth\":0,\"ticks\":\"\"}},\"type\":\"parcoords\"}],\"pie\":[{\"automargin\":true,\"type\":\"pie\"}],\"scatter3d\":[{\"line\":{\"colorbar\":{\"outlinewidth\":0,\"ticks\":\"\"}},\"marker\":{\"colorbar\":{\"outlinewidth\":0,\"ticks\":\"\"}},\"type\":\"scatter3d\"}],\"scattercarpet\":[{\"marker\":{\"colorbar\":{\"outlinewidth\":0,\"ticks\":\"\"}},\"type\":\"scattercarpet\"}],\"scattergeo\":[{\"marker\":{\"colorbar\":{\"outlinewidth\":0,\"ticks\":\"\"}},\"type\":\"scattergeo\"}],\"scattergl\":[{\"marker\":{\"colorbar\":{\"outlinewidth\":0,\"ticks\":\"\"}},\"type\":\"scattergl\"}],\"scattermapbox\":[{\"marker\":{\"colorbar\":{\"outlinewidth\":0,\"ticks\":\"\"}},\"type\":\"scattermapbox\"}],\"scatterpolargl\":[{\"marker\":{\"colorbar\":{\"outlinewidth\":0,\"ticks\":\"\"}},\"type\":\"scatterpolargl\"}],\"scatterpolar\":[{\"marker\":{\"colorbar\":{\"outlinewidth\":0,\"ticks\":\"\"}},\"type\":\"scatterpolar\"}],\"scatter\":[{\"fillpattern\":{\"fillmode\":\"overlay\",\"size\":10,\"solidity\":0.2},\"type\":\"scatter\"}],\"scatterternary\":[{\"marker\":{\"colorbar\":{\"outlinewidth\":0,\"ticks\":\"\"}},\"type\":\"scatterternary\"}],\"surface\":[{\"colorbar\":{\"outlinewidth\":0,\"ticks\":\"\"},\"colorscale\":[[0.0,\"#0d0887\"],[0.1111111111111111,\"#46039f\"],[0.2222222222222222,\"#7201a8\"],[0.3333333333333333,\"#9c179e\"],[0.4444444444444444,\"#bd3786\"],[0.5555555555555556,\"#d8576b\"],[0.6666666666666666,\"#ed7953\"],[0.7777777777777778,\"#fb9f3a\"],[0.8888888888888888,\"#fdca26\"],[1.0,\"#f0f921\"]],\"type\":\"surface\"}],\"table\":[{\"cells\":{\"fill\":{\"color\":\"#EBF0F8\"},\"line\":{\"color\":\"white\"}},\"header\":{\"fill\":{\"color\":\"#C8D4E3\"},\"line\":{\"color\":\"white\"}},\"type\":\"table\"}]},\"layout\":{\"annotationdefaults\":{\"arrowcolor\":\"#2a3f5f\",\"arrowhead\":0,\"arrowwidth\":1},\"autotypenumbers\":\"strict\",\"coloraxis\":{\"colorbar\":{\"outlinewidth\":0,\"ticks\":\"\"}},\"colorscale\":{\"diverging\":[[0,\"#8e0152\"],[0.1,\"#c51b7d\"],[0.2,\"#de77ae\"],[0.3,\"#f1b6da\"],[0.4,\"#fde0ef\"],[0.5,\"#f7f7f7\"],[0.6,\"#e6f5d0\"],[0.7,\"#b8e186\"],[0.8,\"#7fbc41\"],[0.9,\"#4d9221\"],[1,\"#276419\"]],\"sequential\":[[0.0,\"#0d0887\"],[0.1111111111111111,\"#46039f\"],[0.2222222222222222,\"#7201a8\"],[0.3333333333333333,\"#9c179e\"],[0.4444444444444444,\"#bd3786\"],[0.5555555555555556,\"#d8576b\"],[0.6666666666666666,\"#ed7953\"],[0.7777777777777778,\"#fb9f3a\"],[0.8888888888888888,\"#fdca26\"],[1.0,\"#f0f921\"]],\"sequentialminus\":[[0.0,\"#0d0887\"],[0.1111111111111111,\"#46039f\"],[0.2222222222222222,\"#7201a8\"],[0.3333333333333333,\"#9c179e\"],[0.4444444444444444,\"#bd3786\"],[0.5555555555555556,\"#d8576b\"],[0.6666666666666666,\"#ed7953\"],[0.7777777777777778,\"#fb9f3a\"],[0.8888888888888888,\"#fdca26\"],[1.0,\"#f0f921\"]]},\"colorway\":[\"#636efa\",\"#EF553B\",\"#00cc96\",\"#ab63fa\",\"#FFA15A\",\"#19d3f3\",\"#FF6692\",\"#B6E880\",\"#FF97FF\",\"#FECB52\"],\"font\":{\"color\":\"#2a3f5f\"},\"geo\":{\"bgcolor\":\"white\",\"lakecolor\":\"white\",\"landcolor\":\"#E5ECF6\",\"showlakes\":true,\"showland\":true,\"subunitcolor\":\"white\"},\"hoverlabel\":{\"align\":\"left\"},\"hovermode\":\"closest\",\"mapbox\":{\"style\":\"light\"},\"paper_bgcolor\":\"white\",\"plot_bgcolor\":\"#E5ECF6\",\"polar\":{\"angularaxis\":{\"gridcolor\":\"white\",\"linecolor\":\"white\",\"ticks\":\"\"},\"bgcolor\":\"#E5ECF6\",\"radialaxis\":{\"gridcolor\":\"white\",\"linecolor\":\"white\",\"ticks\":\"\"}},\"scene\":{\"xaxis\":{\"backgroundcolor\":\"#E5ECF6\",\"gridcolor\":\"white\",\"gridwidth\":2,\"linecolor\":\"white\",\"showbackground\":true,\"ticks\":\"\",\"zerolinecolor\":\"white\"},\"yaxis\":{\"backgroundcolor\":\"#E5ECF6\",\"gridcolor\":\"white\",\"gridwidth\":2,\"linecolor\":\"white\",\"showbackground\":true,\"ticks\":\"\",\"zerolinecolor\":\"white\"},\"zaxis\":{\"backgroundcolor\":\"#E5ECF6\",\"gridcolor\":\"white\",\"gridwidth\":2,\"linecolor\":\"white\",\"showbackground\":true,\"ticks\":\"\",\"zerolinecolor\":\"white\"}},\"shapedefaults\":{\"line\":{\"color\":\"#2a3f5f\"}},\"ternary\":{\"aaxis\":{\"gridcolor\":\"white\",\"linecolor\":\"white\",\"ticks\":\"\"},\"baxis\":{\"gridcolor\":\"white\",\"linecolor\":\"white\",\"ticks\":\"\"},\"bgcolor\":\"#E5ECF6\",\"caxis\":{\"gridcolor\":\"white\",\"linecolor\":\"white\",\"ticks\":\"\"}},\"title\":{\"x\":0.05},\"xaxis\":{\"automargin\":true,\"gridcolor\":\"white\",\"linecolor\":\"white\",\"ticks\":\"\",\"title\":{\"standoff\":15},\"zerolinecolor\":\"white\",\"zerolinewidth\":2},\"yaxis\":{\"automargin\":true,\"gridcolor\":\"white\",\"linecolor\":\"white\",\"ticks\":\"\",\"title\":{\"standoff\":15},\"zerolinecolor\":\"white\",\"zerolinewidth\":2}}},\"title\":{\"font\":{\"color\":\"#4D5663\"}},\"xaxis\":{\"gridcolor\":\"#E1E5ED\",\"showgrid\":true,\"tickfont\":{\"color\":\"#4D5663\"},\"title\":{\"font\":{\"color\":\"#4D5663\"},\"text\":\"\"},\"zerolinecolor\":\"#E1E5ED\"},\"yaxis\":{\"gridcolor\":\"#E1E5ED\",\"showgrid\":true,\"tickfont\":{\"color\":\"#4D5663\"},\"title\":{\"font\":{\"color\":\"#4D5663\"},\"text\":\"\"},\"zerolinecolor\":\"#E1E5ED\"}},                        {\"showLink\": true, \"linkText\": \"Export to plot.ly\", \"plotlyServerURL\": \"https://plot.ly\", \"responsive\": true}                    ).then(function(){\n",
       "                            \n",
       "var gd = document.getElementById('33435b09-1bc5-4c3b-9bd6-d5e2de09a513');\n",
       "var x = new MutationObserver(function (mutations, observer) {{\n",
       "        var display = window.getComputedStyle(gd).display;\n",
       "        if (!display || display === 'none') {{\n",
       "            console.log([gd, 'removed!']);\n",
       "            Plotly.purge(gd);\n",
       "            observer.disconnect();\n",
       "        }}\n",
       "}});\n",
       "\n",
       "// Listen for the removal of the full notebook cells\n",
       "var notebookContainer = gd.closest('#notebook-container');\n",
       "if (notebookContainer) {{\n",
       "    x.observe(notebookContainer, {childList: true});\n",
       "}}\n",
       "\n",
       "// Listen for the clearing of the current output cell\n",
       "var outputEl = gd.closest('.output');\n",
       "if (outputEl) {{\n",
       "    x.observe(outputEl, {childList: true});\n",
       "}}\n",
       "\n",
       "                        })                };                });            </script>        </div>"
      ]
     },
     "metadata": {},
     "output_type": "display_data"
    }
   ],
   "source": [
    "df3 = pd.DataFrame({'x':[1,2,3,4,5],'y':[10,20,30,20,10],'z':[5,4,3,2,1]})\n",
    "df3.iplot(kind='surface',colorscale='rdylbu')"
   ]
  },
  {
   "cell_type": "markdown",
   "metadata": {},
   "source": [
    "## Spread"
   ]
  },
  {
   "cell_type": "code",
   "execution_count": 16,
   "metadata": {
    "scrolled": false
   },
   "outputs": [
    {
     "name": "stderr",
     "output_type": "stream",
     "text": [
      "/home/shanmukh/.local/lib/python3.10/site-packages/cufflinks/plotlytools.py:849: FutureWarning:\n",
      "\n",
      "The pandas.np module is deprecated and will be removed from pandas in a future version. Import numpy directly instead.\n",
      "\n",
      "/home/shanmukh/.local/lib/python3.10/site-packages/cufflinks/plotlytools.py:850: FutureWarning:\n",
      "\n",
      "The pandas.np module is deprecated and will be removed from pandas in a future version. Import numpy directly instead.\n",
      "\n"
     ]
    },
    {
     "data": {
      "application/vnd.plotly.v1+json": {
       "config": {
        "linkText": "Export to plot.ly",
        "plotlyServerURL": "https://plot.ly",
        "showLink": true
       },
       "data": [
        {
         "line": {
          "color": "rgba(255, 153, 51, 1.0)",
          "dash": "solid",
          "shape": "linear",
          "width": 1.3
         },
         "mode": "lines",
         "name": "A",
         "text": "",
         "type": "scatter",
         "x": [
          0,
          1,
          2,
          3,
          4,
          5,
          6,
          7,
          8,
          9,
          10,
          11,
          12,
          13,
          14,
          15,
          16,
          17,
          18,
          19,
          20,
          21,
          22,
          23,
          24,
          25,
          26,
          27,
          28,
          29,
          30,
          31,
          32,
          33,
          34,
          35,
          36,
          37,
          38,
          39,
          40,
          41,
          42,
          43,
          44,
          45,
          46,
          47,
          48,
          49,
          50,
          51,
          52,
          53,
          54,
          55,
          56,
          57,
          58,
          59,
          60,
          61,
          62,
          63,
          64,
          65,
          66,
          67,
          68,
          69,
          70,
          71,
          72,
          73,
          74,
          75,
          76,
          77,
          78,
          79,
          80,
          81,
          82,
          83,
          84,
          85,
          86,
          87,
          88,
          89,
          90,
          91,
          92,
          93,
          94,
          95,
          96,
          97,
          98,
          99
         ],
         "y": [
          -0.4948803672448772,
          -1.278606917283569,
          0.07106421334385374,
          1.0619587030601383,
          -1.4440555967233013,
          -0.22858606681894317,
          1.0030057486241948,
          0.04484795456415611,
          1.1619652312215167,
          -0.3063834419687249,
          0.5573171280834106,
          -1.4004848970008938,
          0.07213998245936415,
          -0.1992952156759034,
          0.963590047242657,
          0.1777390611535859,
          0.3189703863207484,
          0.6566964416263336,
          -1.2392354456388477,
          0.6737524737410653,
          1.4126321439046603,
          0.871402533205939,
          -0.8008377075281847,
          0.2066366446481001,
          0.7843129613261675,
          0.3612288487362664,
          0.42751052801441863,
          -1.3907782385950074,
          0.6062586949880656,
          -0.9710333735809482,
          0.47891605023133554,
          1.2337314105990314,
          0.9082028305785744,
          0.8446175169590872,
          0.2213111437943422,
          0.6040793357601695,
          -0.08588004121752364,
          -1.734245229493394,
          0.3647044551034887,
          0.0972210006165413,
          1.5046750299472174,
          -0.2810942500199662,
          3.0486427088955197,
          0.8443707688013775,
          -1.1933916647937377,
          -0.746046118365644,
          -1.1939737089247473,
          0.40617833718975777,
          -2.662736129779989,
          1.1340143561785632,
          -1.3431317646811118,
          -1.5882524199465087,
          -0.6483975035034787,
          1.3152824593173136,
          0.1333759544313208,
          0.30894298034457474,
          -0.6356048656438124,
          1.3659277658214952,
          -0.8456641943132652,
          0.5792996706265964,
          -0.12359290321284937,
          0.3266371728879937,
          1.295394749603058,
          -1.808102978075752,
          1.00915672491599,
          1.0642108345710921,
          1.466414923863723,
          0.8008328209289889,
          -0.09580001650492555,
          -0.38362804920073745,
          1.3351436888107087,
          -1.9884141016609131,
          0.4263071451958101,
          2.2681107757035783,
          0.5787490360176778,
          0.2831479916822075,
          -0.5928277608139828,
          1.0258181150691483,
          0.6891934792638104,
          -1.2325795921811449,
          0.46801777318662463,
          1.1160736213980393,
          -0.7838575266232529,
          1.0298022519136174,
          -0.7014308136007442,
          0.6960023389885786,
          1.1930852729550367,
          -0.4791890698641037,
          -0.3679677031951291,
          0.7966573079412141,
          -0.3211027262453276,
          -0.7608238050371512,
          -0.9710853823227727,
          0.22756984546431366,
          0.35529269618747356,
          -0.9526719129304471,
          -0.303544912011667,
          0.7324609793244885,
          1.2023945170669637,
          1.320809141414054
         ]
        },
        {
         "line": {
          "color": "rgba(55, 128, 191, 1.0)",
          "dash": "solid",
          "shape": "linear",
          "width": 1.3
         },
         "mode": "lines",
         "name": "B",
         "text": "",
         "type": "scatter",
         "x": [
          0,
          1,
          2,
          3,
          4,
          5,
          6,
          7,
          8,
          9,
          10,
          11,
          12,
          13,
          14,
          15,
          16,
          17,
          18,
          19,
          20,
          21,
          22,
          23,
          24,
          25,
          26,
          27,
          28,
          29,
          30,
          31,
          32,
          33,
          34,
          35,
          36,
          37,
          38,
          39,
          40,
          41,
          42,
          43,
          44,
          45,
          46,
          47,
          48,
          49,
          50,
          51,
          52,
          53,
          54,
          55,
          56,
          57,
          58,
          59,
          60,
          61,
          62,
          63,
          64,
          65,
          66,
          67,
          68,
          69,
          70,
          71,
          72,
          73,
          74,
          75,
          76,
          77,
          78,
          79,
          80,
          81,
          82,
          83,
          84,
          85,
          86,
          87,
          88,
          89,
          90,
          91,
          92,
          93,
          94,
          95,
          96,
          97,
          98,
          99
         ],
         "y": [
          0.1776044584804704,
          -0.30579446317958037,
          0.13659788724493616,
          0.013966560660043948,
          1.3273022146782885,
          0.4245281639427591,
          0.13993688841338434,
          0.1364806923102963,
          -2.1065412864272086,
          -0.7493121467001574,
          -0.21907401933298437,
          1.3552891173188997,
          1.3823839058712768,
          0.26110714954987385,
          0.6670584552397943,
          0.697742052337499,
          -1.4770059522646852,
          -0.9466999513182942,
          -0.41620999378775114,
          0.23120654972488888,
          0.1053455114042331,
          -1.098711099169789,
          1.4008705791090683,
          -0.434654050392941,
          -1.207128568186926,
          -0.03525291190838535,
          0.14426598640881158,
          -1.6202847005796388,
          0.7627104472323303,
          1.2241416006731294,
          -0.6465533718632971,
          0.7415566179979918,
          -1.428988584175279,
          -1.928358672485835,
          -0.07720665593274657,
          0.5671077245400157,
          -1.795702440431457,
          -0.7941695676657354,
          3.907184367978601,
          1.8762239910918184,
          -0.8640392128710467,
          0.14788580454689232,
          0.4848657485550836,
          -0.39822234778649335,
          -0.2143508229290543,
          0.5421028547170331,
          0.9470213452638643,
          0.6079341780818952,
          0.08236570323112267,
          -0.4206814224407974,
          -0.2751572370420352,
          0.6632291561159293,
          -0.1672811079836468,
          0.84269169025041,
          0.7089604299130701,
          0.2458080265524387,
          -1.5136335159268992,
          -1.1978392671156282,
          -1.618336530284113,
          0.012290688929548993,
          1.619220248352336,
          1.110592869177345,
          0.7018241042017215,
          0.3702183639470843,
          -1.7388309041310908,
          -0.0875310813749589,
          -0.9124345858997445,
          1.1530317074144363,
          0.4714579218231528,
          0.48493178299862316,
          -0.35122660893540913,
          2.451773260240074,
          0.9309728827074173,
          -0.8834813115281297,
          -0.24448564745225207,
          0.46071894306278166,
          -2.309648368476434,
          1.7172733786642822,
          0.2073435746324365,
          -0.7662927627171758,
          -0.3838240458423306,
          1.2410093848919947,
          -0.24166136762679763,
          -0.16830385578843002,
          -1.704143002064265,
          -0.9899666399550905,
          -0.2962403884733509,
          -0.1531779038411322,
          0.015868120719419496,
          0.8272629094610052,
          1.868780342551116,
          0.4496997798754286,
          0.1255705622513645,
          -1.0699432646501854,
          1.2467596372794354,
          -0.22818951517464736,
          1.1230267105010945,
          -0.10288297183350929,
          -0.6189159183061426,
          1.13100404498498
         ]
        },
        {
         "connectgaps": false,
         "fill": "tozeroy",
         "line": {
          "color": "green",
          "dash": "solid",
          "shape": "linear",
          "width": 0.5
         },
         "mode": "lines",
         "name": "Spread",
         "showlegend": false,
         "type": "scatter",
         "x": [
          0,
          1,
          2,
          3,
          4,
          5,
          6,
          7,
          8,
          9,
          10,
          11,
          12,
          13,
          14,
          15,
          16,
          17,
          18,
          19,
          20,
          21,
          22,
          23,
          24,
          25,
          26,
          27,
          28,
          29,
          30,
          31,
          32,
          33,
          34,
          35,
          36,
          37,
          38,
          39,
          40,
          41,
          42,
          43,
          44,
          45,
          46,
          47,
          48,
          49,
          50,
          51,
          52,
          53,
          54,
          55,
          56,
          57,
          58,
          59,
          60,
          61,
          62,
          63,
          64,
          65,
          66,
          67,
          68,
          69,
          70,
          71,
          72,
          73,
          74,
          75,
          76,
          77,
          78,
          79,
          80,
          81,
          82,
          83,
          84,
          85,
          86,
          87,
          88,
          89,
          90,
          91,
          92,
          93,
          94,
          95,
          96,
          97,
          98,
          99
         ],
         "xaxis": "x2",
         "y": [
          "",
          "",
          "",
          1.0479921424000944,
          "",
          "",
          0.8630688602108104,
          "",
          3.268506517648725,
          0.44292870473143253,
          0.7763911474163949,
          "",
          "",
          "",
          0.2965315920028626,
          "",
          1.7959763385854337,
          1.6033963929446278,
          "",
          0.44254592401617643,
          1.307286632500427,
          1.970113632375728,
          "",
          0.6412906950410411,
          1.9914415295130934,
          0.39648176064465174,
          0.2832445416056071,
          0.22950646198463143,
          "",
          "",
          1.1254694220946326,
          0.4921747926010396,
          2.3371914147538533,
          2.7729761894449223,
          0.29851779972708875,
          0.0369716112201538,
          1.7098223992139334,
          "",
          "",
          "",
          2.368714242818264,
          "",
          2.5637769603404363,
          1.2425931165878707,
          "",
          "",
          "",
          "",
          "",
          1.5546957786193607,
          "",
          "",
          "",
          0.47259076906690356,
          "",
          0.06313495379213604,
          0.8780286502830869,
          2.5637670329371236,
          0.7726723359708478,
          0.5670089816970474,
          "",
          "",
          0.5935706454013365,
          "",
          2.747987629047081,
          1.151741915946051,
          2.3788495097634677,
          "",
          "",
          "",
          1.6863702977461177,
          "",
          "",
          3.151592087231708,
          0.8232346834699299,
          "",
          1.7168206076624513,
          "",
          0.4818499046313739,
          "",
          0.8518418190289552,
          "",
          "",
          1.1981061077020474,
          1.0027121884635206,
          1.6859689789436691,
          1.4893256614283876,
          "",
          "",
          "",
          "",
          "",
          "",
          1.297513110114499,
          "",
          "",
          "",
          0.8353439511579978,
          1.8213104353731062,
          0.18980509642907384
         ],
         "yaxis": "y2"
        },
        {
         "connectgaps": false,
         "fill": "tozeroy",
         "line": {
          "color": "red",
          "dash": "solid",
          "shape": "linear",
          "width": 0.5
         },
         "mode": "lines",
         "name": "Spread",
         "showlegend": false,
         "type": "scatter",
         "x": [
          0,
          1,
          2,
          3,
          4,
          5,
          6,
          7,
          8,
          9,
          10,
          11,
          12,
          13,
          14,
          15,
          16,
          17,
          18,
          19,
          20,
          21,
          22,
          23,
          24,
          25,
          26,
          27,
          28,
          29,
          30,
          31,
          32,
          33,
          34,
          35,
          36,
          37,
          38,
          39,
          40,
          41,
          42,
          43,
          44,
          45,
          46,
          47,
          48,
          49,
          50,
          51,
          52,
          53,
          54,
          55,
          56,
          57,
          58,
          59,
          60,
          61,
          62,
          63,
          64,
          65,
          66,
          67,
          68,
          69,
          70,
          71,
          72,
          73,
          74,
          75,
          76,
          77,
          78,
          79,
          80,
          81,
          82,
          83,
          84,
          85,
          86,
          87,
          88,
          89,
          90,
          91,
          92,
          93,
          94,
          95,
          96,
          97,
          98,
          99
         ],
         "xaxis": "x2",
         "y": [
          -0.6724848257253476,
          -0.9728124541039886,
          -0.06553367390108242,
          "",
          -2.7713578114015895,
          -0.6531142307617023,
          "",
          -0.0916327377461402,
          "",
          "",
          "",
          -2.7557740143197935,
          -1.3102439234119125,
          -0.46040236522577727,
          "",
          -0.520002991183913,
          "",
          "",
          -0.8230254518510965,
          "",
          "",
          "",
          -2.201708286637253,
          "",
          "",
          "",
          "",
          "",
          -0.15645175224426466,
          -2.1951749742540776,
          "",
          "",
          "",
          "",
          "",
          "",
          "",
          -0.9400756618276587,
          -3.542479912875112,
          -1.779002990475277,
          "",
          -0.4289800545668585,
          "",
          "",
          -0.9790408418646834,
          -1.2881489730826772,
          -2.1409950541886116,
          -0.20175584089213744,
          -2.7451018330111117,
          "",
          -1.0679745276390766,
          -2.251481576062438,
          -0.4811163955198319,
          "",
          -0.5755844754817493,
          "",
          "",
          "",
          "",
          "",
          -1.7428131515651852,
          -0.7839556962893512,
          "",
          -2.1783213420228362,
          "",
          "",
          "",
          -0.3521988864854474,
          -0.5672579383280784,
          -0.8685598321993606,
          "",
          -4.440187361900987,
          -0.5046657375116073,
          "",
          "",
          -0.17757095138057416,
          "",
          -0.6914552635951339,
          "",
          -0.46628682946396904,
          "",
          -0.12493576349395541,
          -0.5421961589964552,
          "",
          "",
          "",
          "",
          -0.32601116602297153,
          -0.3838358239145486,
          -0.03060560151979108,
          -2.1898830687964437,
          -1.2105235849125797,
          -1.0966559445741373,
          "",
          -0.8914669410919618,
          -0.7244823977557997,
          -1.4265716225127614,
          "",
          "",
          ""
         ],
         "yaxis": "y2"
        }
       ],
       "layout": {
        "hovermode": "x",
        "legend": {
         "bgcolor": "#F5F6F9",
         "font": {
          "color": "#4D5663"
         }
        },
        "paper_bgcolor": "#F5F6F9",
        "plot_bgcolor": "#F5F6F9",
        "template": {
         "data": {
          "bar": [
           {
            "error_x": {
             "color": "#2a3f5f"
            },
            "error_y": {
             "color": "#2a3f5f"
            },
            "marker": {
             "line": {
              "color": "#E5ECF6",
              "width": 0.5
             },
             "pattern": {
              "fillmode": "overlay",
              "size": 10,
              "solidity": 0.2
             }
            },
            "type": "bar"
           }
          ],
          "barpolar": [
           {
            "marker": {
             "line": {
              "color": "#E5ECF6",
              "width": 0.5
             },
             "pattern": {
              "fillmode": "overlay",
              "size": 10,
              "solidity": 0.2
             }
            },
            "type": "barpolar"
           }
          ],
          "carpet": [
           {
            "aaxis": {
             "endlinecolor": "#2a3f5f",
             "gridcolor": "white",
             "linecolor": "white",
             "minorgridcolor": "white",
             "startlinecolor": "#2a3f5f"
            },
            "baxis": {
             "endlinecolor": "#2a3f5f",
             "gridcolor": "white",
             "linecolor": "white",
             "minorgridcolor": "white",
             "startlinecolor": "#2a3f5f"
            },
            "type": "carpet"
           }
          ],
          "choropleth": [
           {
            "colorbar": {
             "outlinewidth": 0,
             "ticks": ""
            },
            "type": "choropleth"
           }
          ],
          "contour": [
           {
            "colorbar": {
             "outlinewidth": 0,
             "ticks": ""
            },
            "colorscale": [
             [
              0,
              "#0d0887"
             ],
             [
              0.1111111111111111,
              "#46039f"
             ],
             [
              0.2222222222222222,
              "#7201a8"
             ],
             [
              0.3333333333333333,
              "#9c179e"
             ],
             [
              0.4444444444444444,
              "#bd3786"
             ],
             [
              0.5555555555555556,
              "#d8576b"
             ],
             [
              0.6666666666666666,
              "#ed7953"
             ],
             [
              0.7777777777777778,
              "#fb9f3a"
             ],
             [
              0.8888888888888888,
              "#fdca26"
             ],
             [
              1,
              "#f0f921"
             ]
            ],
            "type": "contour"
           }
          ],
          "contourcarpet": [
           {
            "colorbar": {
             "outlinewidth": 0,
             "ticks": ""
            },
            "type": "contourcarpet"
           }
          ],
          "heatmap": [
           {
            "colorbar": {
             "outlinewidth": 0,
             "ticks": ""
            },
            "colorscale": [
             [
              0,
              "#0d0887"
             ],
             [
              0.1111111111111111,
              "#46039f"
             ],
             [
              0.2222222222222222,
              "#7201a8"
             ],
             [
              0.3333333333333333,
              "#9c179e"
             ],
             [
              0.4444444444444444,
              "#bd3786"
             ],
             [
              0.5555555555555556,
              "#d8576b"
             ],
             [
              0.6666666666666666,
              "#ed7953"
             ],
             [
              0.7777777777777778,
              "#fb9f3a"
             ],
             [
              0.8888888888888888,
              "#fdca26"
             ],
             [
              1,
              "#f0f921"
             ]
            ],
            "type": "heatmap"
           }
          ],
          "heatmapgl": [
           {
            "colorbar": {
             "outlinewidth": 0,
             "ticks": ""
            },
            "colorscale": [
             [
              0,
              "#0d0887"
             ],
             [
              0.1111111111111111,
              "#46039f"
             ],
             [
              0.2222222222222222,
              "#7201a8"
             ],
             [
              0.3333333333333333,
              "#9c179e"
             ],
             [
              0.4444444444444444,
              "#bd3786"
             ],
             [
              0.5555555555555556,
              "#d8576b"
             ],
             [
              0.6666666666666666,
              "#ed7953"
             ],
             [
              0.7777777777777778,
              "#fb9f3a"
             ],
             [
              0.8888888888888888,
              "#fdca26"
             ],
             [
              1,
              "#f0f921"
             ]
            ],
            "type": "heatmapgl"
           }
          ],
          "histogram": [
           {
            "marker": {
             "pattern": {
              "fillmode": "overlay",
              "size": 10,
              "solidity": 0.2
             }
            },
            "type": "histogram"
           }
          ],
          "histogram2d": [
           {
            "colorbar": {
             "outlinewidth": 0,
             "ticks": ""
            },
            "colorscale": [
             [
              0,
              "#0d0887"
             ],
             [
              0.1111111111111111,
              "#46039f"
             ],
             [
              0.2222222222222222,
              "#7201a8"
             ],
             [
              0.3333333333333333,
              "#9c179e"
             ],
             [
              0.4444444444444444,
              "#bd3786"
             ],
             [
              0.5555555555555556,
              "#d8576b"
             ],
             [
              0.6666666666666666,
              "#ed7953"
             ],
             [
              0.7777777777777778,
              "#fb9f3a"
             ],
             [
              0.8888888888888888,
              "#fdca26"
             ],
             [
              1,
              "#f0f921"
             ]
            ],
            "type": "histogram2d"
           }
          ],
          "histogram2dcontour": [
           {
            "colorbar": {
             "outlinewidth": 0,
             "ticks": ""
            },
            "colorscale": [
             [
              0,
              "#0d0887"
             ],
             [
              0.1111111111111111,
              "#46039f"
             ],
             [
              0.2222222222222222,
              "#7201a8"
             ],
             [
              0.3333333333333333,
              "#9c179e"
             ],
             [
              0.4444444444444444,
              "#bd3786"
             ],
             [
              0.5555555555555556,
              "#d8576b"
             ],
             [
              0.6666666666666666,
              "#ed7953"
             ],
             [
              0.7777777777777778,
              "#fb9f3a"
             ],
             [
              0.8888888888888888,
              "#fdca26"
             ],
             [
              1,
              "#f0f921"
             ]
            ],
            "type": "histogram2dcontour"
           }
          ],
          "mesh3d": [
           {
            "colorbar": {
             "outlinewidth": 0,
             "ticks": ""
            },
            "type": "mesh3d"
           }
          ],
          "parcoords": [
           {
            "line": {
             "colorbar": {
              "outlinewidth": 0,
              "ticks": ""
             }
            },
            "type": "parcoords"
           }
          ],
          "pie": [
           {
            "automargin": true,
            "type": "pie"
           }
          ],
          "scatter": [
           {
            "fillpattern": {
             "fillmode": "overlay",
             "size": 10,
             "solidity": 0.2
            },
            "type": "scatter"
           }
          ],
          "scatter3d": [
           {
            "line": {
             "colorbar": {
              "outlinewidth": 0,
              "ticks": ""
             }
            },
            "marker": {
             "colorbar": {
              "outlinewidth": 0,
              "ticks": ""
             }
            },
            "type": "scatter3d"
           }
          ],
          "scattercarpet": [
           {
            "marker": {
             "colorbar": {
              "outlinewidth": 0,
              "ticks": ""
             }
            },
            "type": "scattercarpet"
           }
          ],
          "scattergeo": [
           {
            "marker": {
             "colorbar": {
              "outlinewidth": 0,
              "ticks": ""
             }
            },
            "type": "scattergeo"
           }
          ],
          "scattergl": [
           {
            "marker": {
             "colorbar": {
              "outlinewidth": 0,
              "ticks": ""
             }
            },
            "type": "scattergl"
           }
          ],
          "scattermapbox": [
           {
            "marker": {
             "colorbar": {
              "outlinewidth": 0,
              "ticks": ""
             }
            },
            "type": "scattermapbox"
           }
          ],
          "scatterpolar": [
           {
            "marker": {
             "colorbar": {
              "outlinewidth": 0,
              "ticks": ""
             }
            },
            "type": "scatterpolar"
           }
          ],
          "scatterpolargl": [
           {
            "marker": {
             "colorbar": {
              "outlinewidth": 0,
              "ticks": ""
             }
            },
            "type": "scatterpolargl"
           }
          ],
          "scatterternary": [
           {
            "marker": {
             "colorbar": {
              "outlinewidth": 0,
              "ticks": ""
             }
            },
            "type": "scatterternary"
           }
          ],
          "surface": [
           {
            "colorbar": {
             "outlinewidth": 0,
             "ticks": ""
            },
            "colorscale": [
             [
              0,
              "#0d0887"
             ],
             [
              0.1111111111111111,
              "#46039f"
             ],
             [
              0.2222222222222222,
              "#7201a8"
             ],
             [
              0.3333333333333333,
              "#9c179e"
             ],
             [
              0.4444444444444444,
              "#bd3786"
             ],
             [
              0.5555555555555556,
              "#d8576b"
             ],
             [
              0.6666666666666666,
              "#ed7953"
             ],
             [
              0.7777777777777778,
              "#fb9f3a"
             ],
             [
              0.8888888888888888,
              "#fdca26"
             ],
             [
              1,
              "#f0f921"
             ]
            ],
            "type": "surface"
           }
          ],
          "table": [
           {
            "cells": {
             "fill": {
              "color": "#EBF0F8"
             },
             "line": {
              "color": "white"
             }
            },
            "header": {
             "fill": {
              "color": "#C8D4E3"
             },
             "line": {
              "color": "white"
             }
            },
            "type": "table"
           }
          ]
         },
         "layout": {
          "annotationdefaults": {
           "arrowcolor": "#2a3f5f",
           "arrowhead": 0,
           "arrowwidth": 1
          },
          "autotypenumbers": "strict",
          "coloraxis": {
           "colorbar": {
            "outlinewidth": 0,
            "ticks": ""
           }
          },
          "colorscale": {
           "diverging": [
            [
             0,
             "#8e0152"
            ],
            [
             0.1,
             "#c51b7d"
            ],
            [
             0.2,
             "#de77ae"
            ],
            [
             0.3,
             "#f1b6da"
            ],
            [
             0.4,
             "#fde0ef"
            ],
            [
             0.5,
             "#f7f7f7"
            ],
            [
             0.6,
             "#e6f5d0"
            ],
            [
             0.7,
             "#b8e186"
            ],
            [
             0.8,
             "#7fbc41"
            ],
            [
             0.9,
             "#4d9221"
            ],
            [
             1,
             "#276419"
            ]
           ],
           "sequential": [
            [
             0,
             "#0d0887"
            ],
            [
             0.1111111111111111,
             "#46039f"
            ],
            [
             0.2222222222222222,
             "#7201a8"
            ],
            [
             0.3333333333333333,
             "#9c179e"
            ],
            [
             0.4444444444444444,
             "#bd3786"
            ],
            [
             0.5555555555555556,
             "#d8576b"
            ],
            [
             0.6666666666666666,
             "#ed7953"
            ],
            [
             0.7777777777777778,
             "#fb9f3a"
            ],
            [
             0.8888888888888888,
             "#fdca26"
            ],
            [
             1,
             "#f0f921"
            ]
           ],
           "sequentialminus": [
            [
             0,
             "#0d0887"
            ],
            [
             0.1111111111111111,
             "#46039f"
            ],
            [
             0.2222222222222222,
             "#7201a8"
            ],
            [
             0.3333333333333333,
             "#9c179e"
            ],
            [
             0.4444444444444444,
             "#bd3786"
            ],
            [
             0.5555555555555556,
             "#d8576b"
            ],
            [
             0.6666666666666666,
             "#ed7953"
            ],
            [
             0.7777777777777778,
             "#fb9f3a"
            ],
            [
             0.8888888888888888,
             "#fdca26"
            ],
            [
             1,
             "#f0f921"
            ]
           ]
          },
          "colorway": [
           "#636efa",
           "#EF553B",
           "#00cc96",
           "#ab63fa",
           "#FFA15A",
           "#19d3f3",
           "#FF6692",
           "#B6E880",
           "#FF97FF",
           "#FECB52"
          ],
          "font": {
           "color": "#2a3f5f"
          },
          "geo": {
           "bgcolor": "white",
           "lakecolor": "white",
           "landcolor": "#E5ECF6",
           "showlakes": true,
           "showland": true,
           "subunitcolor": "white"
          },
          "hoverlabel": {
           "align": "left"
          },
          "hovermode": "closest",
          "mapbox": {
           "style": "light"
          },
          "paper_bgcolor": "white",
          "plot_bgcolor": "#E5ECF6",
          "polar": {
           "angularaxis": {
            "gridcolor": "white",
            "linecolor": "white",
            "ticks": ""
           },
           "bgcolor": "#E5ECF6",
           "radialaxis": {
            "gridcolor": "white",
            "linecolor": "white",
            "ticks": ""
           }
          },
          "scene": {
           "xaxis": {
            "backgroundcolor": "#E5ECF6",
            "gridcolor": "white",
            "gridwidth": 2,
            "linecolor": "white",
            "showbackground": true,
            "ticks": "",
            "zerolinecolor": "white"
           },
           "yaxis": {
            "backgroundcolor": "#E5ECF6",
            "gridcolor": "white",
            "gridwidth": 2,
            "linecolor": "white",
            "showbackground": true,
            "ticks": "",
            "zerolinecolor": "white"
           },
           "zaxis": {
            "backgroundcolor": "#E5ECF6",
            "gridcolor": "white",
            "gridwidth": 2,
            "linecolor": "white",
            "showbackground": true,
            "ticks": "",
            "zerolinecolor": "white"
           }
          },
          "shapedefaults": {
           "line": {
            "color": "#2a3f5f"
           }
          },
          "ternary": {
           "aaxis": {
            "gridcolor": "white",
            "linecolor": "white",
            "ticks": ""
           },
           "baxis": {
            "gridcolor": "white",
            "linecolor": "white",
            "ticks": ""
           },
           "bgcolor": "#E5ECF6",
           "caxis": {
            "gridcolor": "white",
            "linecolor": "white",
            "ticks": ""
           }
          },
          "title": {
           "x": 0.05
          },
          "xaxis": {
           "automargin": true,
           "gridcolor": "white",
           "linecolor": "white",
           "ticks": "",
           "title": {
            "standoff": 15
           },
           "zerolinecolor": "white",
           "zerolinewidth": 2
          },
          "yaxis": {
           "automargin": true,
           "gridcolor": "white",
           "linecolor": "white",
           "ticks": "",
           "title": {
            "standoff": 15
           },
           "zerolinecolor": "white",
           "zerolinewidth": 2
          }
         }
        },
        "title": {
         "font": {
          "color": "#4D5663"
         }
        },
        "xaxis": {
         "gridcolor": "#E1E5ED",
         "showgrid": true,
         "tickfont": {
          "color": "#4D5663"
         },
         "title": {
          "font": {
           "color": "#4D5663"
          },
          "text": ""
         },
         "zerolinecolor": "#E1E5ED"
        },
        "xaxis2": {
         "anchor": "y2",
         "gridcolor": "#E1E5ED",
         "showgrid": true,
         "showticklabels": false,
         "tickfont": {
          "color": "#4D5663"
         },
         "title": {
          "font": {
           "color": "#4D5663"
          },
          "text": ""
         },
         "zerolinecolor": "#E1E5ED"
        },
        "yaxis": {
         "domain": [
          0.3,
          1
         ],
         "gridcolor": "#E1E5ED",
         "showgrid": true,
         "tickfont": {
          "color": "#4D5663"
         },
         "title": {
          "font": {
           "color": "#4D5663"
          },
          "text": ""
         },
         "zerolinecolor": "#E1E5ED"
        },
        "yaxis2": {
         "domain": [
          0,
          0.25
         ],
         "gridcolor": "#E1E5ED",
         "showgrid": true,
         "tickfont": {
          "color": "#4D5663"
         },
         "title": {
          "font": {
           "color": "#4D5663"
          },
          "text": "Spread"
         },
         "zerolinecolor": "#E1E5ED"
        }
       }
      },
      "text/html": [
       "<div>                            <div id=\"13102a18-f768-4bfb-b24b-6025260a4464\" class=\"plotly-graph-div\" style=\"height:525px; width:100%;\"></div>            <script type=\"text/javascript\">                require([\"plotly\"], function(Plotly) {                    window.PLOTLYENV=window.PLOTLYENV || {};\n",
       "                    window.PLOTLYENV.BASE_URL='https://plot.ly';                                    if (document.getElementById(\"13102a18-f768-4bfb-b24b-6025260a4464\")) {                    Plotly.newPlot(                        \"13102a18-f768-4bfb-b24b-6025260a4464\",                        [{\"line\":{\"color\":\"rgba(255, 153, 51, 1.0)\",\"dash\":\"solid\",\"shape\":\"linear\",\"width\":1.3},\"mode\":\"lines\",\"name\":\"A\",\"text\":\"\",\"x\":[0,1,2,3,4,5,6,7,8,9,10,11,12,13,14,15,16,17,18,19,20,21,22,23,24,25,26,27,28,29,30,31,32,33,34,35,36,37,38,39,40,41,42,43,44,45,46,47,48,49,50,51,52,53,54,55,56,57,58,59,60,61,62,63,64,65,66,67,68,69,70,71,72,73,74,75,76,77,78,79,80,81,82,83,84,85,86,87,88,89,90,91,92,93,94,95,96,97,98,99],\"y\":[-0.4948803672448772,-1.278606917283569,0.07106421334385374,1.0619587030601383,-1.4440555967233013,-0.22858606681894317,1.0030057486241948,0.04484795456415611,1.1619652312215167,-0.3063834419687249,0.5573171280834106,-1.4004848970008938,0.07213998245936415,-0.1992952156759034,0.963590047242657,0.1777390611535859,0.3189703863207484,0.6566964416263336,-1.2392354456388477,0.6737524737410653,1.4126321439046603,0.871402533205939,-0.8008377075281847,0.2066366446481001,0.7843129613261675,0.3612288487362664,0.42751052801441863,-1.3907782385950074,0.6062586949880656,-0.9710333735809482,0.47891605023133554,1.2337314105990314,0.9082028305785744,0.8446175169590872,0.2213111437943422,0.6040793357601695,-0.08588004121752364,-1.734245229493394,0.3647044551034887,0.0972210006165413,1.5046750299472174,-0.2810942500199662,3.0486427088955197,0.8443707688013775,-1.1933916647937377,-0.746046118365644,-1.1939737089247473,0.40617833718975777,-2.662736129779989,1.1340143561785632,-1.3431317646811118,-1.5882524199465087,-0.6483975035034787,1.3152824593173136,0.1333759544313208,0.30894298034457474,-0.6356048656438124,1.3659277658214952,-0.8456641943132652,0.5792996706265964,-0.12359290321284937,0.3266371728879937,1.295394749603058,-1.808102978075752,1.00915672491599,1.0642108345710921,1.466414923863723,0.8008328209289889,-0.09580001650492555,-0.38362804920073745,1.3351436888107087,-1.9884141016609131,0.4263071451958101,2.2681107757035783,0.5787490360176778,0.2831479916822075,-0.5928277608139828,1.0258181150691483,0.6891934792638104,-1.2325795921811449,0.46801777318662463,1.1160736213980393,-0.7838575266232529,1.0298022519136174,-0.7014308136007442,0.6960023389885786,1.1930852729550367,-0.4791890698641037,-0.3679677031951291,0.7966573079412141,-0.3211027262453276,-0.7608238050371512,-0.9710853823227727,0.22756984546431366,0.35529269618747356,-0.9526719129304471,-0.303544912011667,0.7324609793244885,1.2023945170669637,1.320809141414054],\"type\":\"scatter\"},{\"line\":{\"color\":\"rgba(55, 128, 191, 1.0)\",\"dash\":\"solid\",\"shape\":\"linear\",\"width\":1.3},\"mode\":\"lines\",\"name\":\"B\",\"text\":\"\",\"x\":[0,1,2,3,4,5,6,7,8,9,10,11,12,13,14,15,16,17,18,19,20,21,22,23,24,25,26,27,28,29,30,31,32,33,34,35,36,37,38,39,40,41,42,43,44,45,46,47,48,49,50,51,52,53,54,55,56,57,58,59,60,61,62,63,64,65,66,67,68,69,70,71,72,73,74,75,76,77,78,79,80,81,82,83,84,85,86,87,88,89,90,91,92,93,94,95,96,97,98,99],\"y\":[0.1776044584804704,-0.30579446317958037,0.13659788724493616,0.013966560660043948,1.3273022146782885,0.4245281639427591,0.13993688841338434,0.1364806923102963,-2.1065412864272086,-0.7493121467001574,-0.21907401933298437,1.3552891173188997,1.3823839058712768,0.26110714954987385,0.6670584552397943,0.697742052337499,-1.4770059522646852,-0.9466999513182942,-0.41620999378775114,0.23120654972488888,0.1053455114042331,-1.098711099169789,1.4008705791090683,-0.434654050392941,-1.207128568186926,-0.03525291190838535,0.14426598640881158,-1.6202847005796388,0.7627104472323303,1.2241416006731294,-0.6465533718632971,0.7415566179979918,-1.428988584175279,-1.928358672485835,-0.07720665593274657,0.5671077245400157,-1.795702440431457,-0.7941695676657354,3.907184367978601,1.8762239910918184,-0.8640392128710467,0.14788580454689232,0.4848657485550836,-0.39822234778649335,-0.2143508229290543,0.5421028547170331,0.9470213452638643,0.6079341780818952,0.08236570323112267,-0.4206814224407974,-0.2751572370420352,0.6632291561159293,-0.1672811079836468,0.84269169025041,0.7089604299130701,0.2458080265524387,-1.5136335159268992,-1.1978392671156282,-1.618336530284113,0.012290688929548993,1.619220248352336,1.110592869177345,0.7018241042017215,0.3702183639470843,-1.7388309041310908,-0.0875310813749589,-0.9124345858997445,1.1530317074144363,0.4714579218231528,0.48493178299862316,-0.35122660893540913,2.451773260240074,0.9309728827074173,-0.8834813115281297,-0.24448564745225207,0.46071894306278166,-2.309648368476434,1.7172733786642822,0.2073435746324365,-0.7662927627171758,-0.3838240458423306,1.2410093848919947,-0.24166136762679763,-0.16830385578843002,-1.704143002064265,-0.9899666399550905,-0.2962403884733509,-0.1531779038411322,0.015868120719419496,0.8272629094610052,1.868780342551116,0.4496997798754286,0.1255705622513645,-1.0699432646501854,1.2467596372794354,-0.22818951517464736,1.1230267105010945,-0.10288297183350929,-0.6189159183061426,1.13100404498498],\"type\":\"scatter\"},{\"connectgaps\":false,\"fill\":\"tozeroy\",\"line\":{\"color\":\"green\",\"dash\":\"solid\",\"shape\":\"linear\",\"width\":0.5},\"mode\":\"lines\",\"name\":\"Spread\",\"showlegend\":false,\"x\":[0,1,2,3,4,5,6,7,8,9,10,11,12,13,14,15,16,17,18,19,20,21,22,23,24,25,26,27,28,29,30,31,32,33,34,35,36,37,38,39,40,41,42,43,44,45,46,47,48,49,50,51,52,53,54,55,56,57,58,59,60,61,62,63,64,65,66,67,68,69,70,71,72,73,74,75,76,77,78,79,80,81,82,83,84,85,86,87,88,89,90,91,92,93,94,95,96,97,98,99],\"xaxis\":\"x2\",\"y\":[\"\",\"\",\"\",1.0479921424000944,\"\",\"\",0.8630688602108104,\"\",3.268506517648725,0.44292870473143253,0.7763911474163949,\"\",\"\",\"\",0.2965315920028626,\"\",1.7959763385854337,1.6033963929446278,\"\",0.44254592401617643,1.307286632500427,1.970113632375728,\"\",0.6412906950410411,1.9914415295130934,0.39648176064465174,0.2832445416056071,0.22950646198463143,\"\",\"\",1.1254694220946326,0.4921747926010396,2.3371914147538533,2.7729761894449223,0.29851779972708875,0.0369716112201538,1.7098223992139334,\"\",\"\",\"\",2.368714242818264,\"\",2.5637769603404363,1.2425931165878707,\"\",\"\",\"\",\"\",\"\",1.5546957786193607,\"\",\"\",\"\",0.47259076906690356,\"\",0.06313495379213604,0.8780286502830869,2.5637670329371236,0.7726723359708478,0.5670089816970474,\"\",\"\",0.5935706454013365,\"\",2.747987629047081,1.151741915946051,2.3788495097634677,\"\",\"\",\"\",1.6863702977461177,\"\",\"\",3.151592087231708,0.8232346834699299,\"\",1.7168206076624513,\"\",0.4818499046313739,\"\",0.8518418190289552,\"\",\"\",1.1981061077020474,1.0027121884635206,1.6859689789436691,1.4893256614283876,\"\",\"\",\"\",\"\",\"\",\"\",1.297513110114499,\"\",\"\",\"\",0.8353439511579978,1.8213104353731062,0.18980509642907384],\"yaxis\":\"y2\",\"type\":\"scatter\"},{\"connectgaps\":false,\"fill\":\"tozeroy\",\"line\":{\"color\":\"red\",\"dash\":\"solid\",\"shape\":\"linear\",\"width\":0.5},\"mode\":\"lines\",\"name\":\"Spread\",\"showlegend\":false,\"x\":[0,1,2,3,4,5,6,7,8,9,10,11,12,13,14,15,16,17,18,19,20,21,22,23,24,25,26,27,28,29,30,31,32,33,34,35,36,37,38,39,40,41,42,43,44,45,46,47,48,49,50,51,52,53,54,55,56,57,58,59,60,61,62,63,64,65,66,67,68,69,70,71,72,73,74,75,76,77,78,79,80,81,82,83,84,85,86,87,88,89,90,91,92,93,94,95,96,97,98,99],\"xaxis\":\"x2\",\"y\":[-0.6724848257253476,-0.9728124541039886,-0.06553367390108242,\"\",-2.7713578114015895,-0.6531142307617023,\"\",-0.0916327377461402,\"\",\"\",\"\",-2.7557740143197935,-1.3102439234119125,-0.46040236522577727,\"\",-0.520002991183913,\"\",\"\",-0.8230254518510965,\"\",\"\",\"\",-2.201708286637253,\"\",\"\",\"\",\"\",\"\",-0.15645175224426466,-2.1951749742540776,\"\",\"\",\"\",\"\",\"\",\"\",\"\",-0.9400756618276587,-3.542479912875112,-1.779002990475277,\"\",-0.4289800545668585,\"\",\"\",-0.9790408418646834,-1.2881489730826772,-2.1409950541886116,-0.20175584089213744,-2.7451018330111117,\"\",-1.0679745276390766,-2.251481576062438,-0.4811163955198319,\"\",-0.5755844754817493,\"\",\"\",\"\",\"\",\"\",-1.7428131515651852,-0.7839556962893512,\"\",-2.1783213420228362,\"\",\"\",\"\",-0.3521988864854474,-0.5672579383280784,-0.8685598321993606,\"\",-4.440187361900987,-0.5046657375116073,\"\",\"\",-0.17757095138057416,\"\",-0.6914552635951339,\"\",-0.46628682946396904,\"\",-0.12493576349395541,-0.5421961589964552,\"\",\"\",\"\",\"\",-0.32601116602297153,-0.3838358239145486,-0.03060560151979108,-2.1898830687964437,-1.2105235849125797,-1.0966559445741373,\"\",-0.8914669410919618,-0.7244823977557997,-1.4265716225127614,\"\",\"\",\"\"],\"yaxis\":\"y2\",\"type\":\"scatter\"}],                        {\"hovermode\":\"x\",\"legend\":{\"bgcolor\":\"#F5F6F9\",\"font\":{\"color\":\"#4D5663\"}},\"paper_bgcolor\":\"#F5F6F9\",\"plot_bgcolor\":\"#F5F6F9\",\"template\":{\"data\":{\"barpolar\":[{\"marker\":{\"line\":{\"color\":\"#E5ECF6\",\"width\":0.5},\"pattern\":{\"fillmode\":\"overlay\",\"size\":10,\"solidity\":0.2}},\"type\":\"barpolar\"}],\"bar\":[{\"error_x\":{\"color\":\"#2a3f5f\"},\"error_y\":{\"color\":\"#2a3f5f\"},\"marker\":{\"line\":{\"color\":\"#E5ECF6\",\"width\":0.5},\"pattern\":{\"fillmode\":\"overlay\",\"size\":10,\"solidity\":0.2}},\"type\":\"bar\"}],\"carpet\":[{\"aaxis\":{\"endlinecolor\":\"#2a3f5f\",\"gridcolor\":\"white\",\"linecolor\":\"white\",\"minorgridcolor\":\"white\",\"startlinecolor\":\"#2a3f5f\"},\"baxis\":{\"endlinecolor\":\"#2a3f5f\",\"gridcolor\":\"white\",\"linecolor\":\"white\",\"minorgridcolor\":\"white\",\"startlinecolor\":\"#2a3f5f\"},\"type\":\"carpet\"}],\"choropleth\":[{\"colorbar\":{\"outlinewidth\":0,\"ticks\":\"\"},\"type\":\"choropleth\"}],\"contourcarpet\":[{\"colorbar\":{\"outlinewidth\":0,\"ticks\":\"\"},\"type\":\"contourcarpet\"}],\"contour\":[{\"colorbar\":{\"outlinewidth\":0,\"ticks\":\"\"},\"colorscale\":[[0.0,\"#0d0887\"],[0.1111111111111111,\"#46039f\"],[0.2222222222222222,\"#7201a8\"],[0.3333333333333333,\"#9c179e\"],[0.4444444444444444,\"#bd3786\"],[0.5555555555555556,\"#d8576b\"],[0.6666666666666666,\"#ed7953\"],[0.7777777777777778,\"#fb9f3a\"],[0.8888888888888888,\"#fdca26\"],[1.0,\"#f0f921\"]],\"type\":\"contour\"}],\"heatmapgl\":[{\"colorbar\":{\"outlinewidth\":0,\"ticks\":\"\"},\"colorscale\":[[0.0,\"#0d0887\"],[0.1111111111111111,\"#46039f\"],[0.2222222222222222,\"#7201a8\"],[0.3333333333333333,\"#9c179e\"],[0.4444444444444444,\"#bd3786\"],[0.5555555555555556,\"#d8576b\"],[0.6666666666666666,\"#ed7953\"],[0.7777777777777778,\"#fb9f3a\"],[0.8888888888888888,\"#fdca26\"],[1.0,\"#f0f921\"]],\"type\":\"heatmapgl\"}],\"heatmap\":[{\"colorbar\":{\"outlinewidth\":0,\"ticks\":\"\"},\"colorscale\":[[0.0,\"#0d0887\"],[0.1111111111111111,\"#46039f\"],[0.2222222222222222,\"#7201a8\"],[0.3333333333333333,\"#9c179e\"],[0.4444444444444444,\"#bd3786\"],[0.5555555555555556,\"#d8576b\"],[0.6666666666666666,\"#ed7953\"],[0.7777777777777778,\"#fb9f3a\"],[0.8888888888888888,\"#fdca26\"],[1.0,\"#f0f921\"]],\"type\":\"heatmap\"}],\"histogram2dcontour\":[{\"colorbar\":{\"outlinewidth\":0,\"ticks\":\"\"},\"colorscale\":[[0.0,\"#0d0887\"],[0.1111111111111111,\"#46039f\"],[0.2222222222222222,\"#7201a8\"],[0.3333333333333333,\"#9c179e\"],[0.4444444444444444,\"#bd3786\"],[0.5555555555555556,\"#d8576b\"],[0.6666666666666666,\"#ed7953\"],[0.7777777777777778,\"#fb9f3a\"],[0.8888888888888888,\"#fdca26\"],[1.0,\"#f0f921\"]],\"type\":\"histogram2dcontour\"}],\"histogram2d\":[{\"colorbar\":{\"outlinewidth\":0,\"ticks\":\"\"},\"colorscale\":[[0.0,\"#0d0887\"],[0.1111111111111111,\"#46039f\"],[0.2222222222222222,\"#7201a8\"],[0.3333333333333333,\"#9c179e\"],[0.4444444444444444,\"#bd3786\"],[0.5555555555555556,\"#d8576b\"],[0.6666666666666666,\"#ed7953\"],[0.7777777777777778,\"#fb9f3a\"],[0.8888888888888888,\"#fdca26\"],[1.0,\"#f0f921\"]],\"type\":\"histogram2d\"}],\"histogram\":[{\"marker\":{\"pattern\":{\"fillmode\":\"overlay\",\"size\":10,\"solidity\":0.2}},\"type\":\"histogram\"}],\"mesh3d\":[{\"colorbar\":{\"outlinewidth\":0,\"ticks\":\"\"},\"type\":\"mesh3d\"}],\"parcoords\":[{\"line\":{\"colorbar\":{\"outlinewidth\":0,\"ticks\":\"\"}},\"type\":\"parcoords\"}],\"pie\":[{\"automargin\":true,\"type\":\"pie\"}],\"scatter3d\":[{\"line\":{\"colorbar\":{\"outlinewidth\":0,\"ticks\":\"\"}},\"marker\":{\"colorbar\":{\"outlinewidth\":0,\"ticks\":\"\"}},\"type\":\"scatter3d\"}],\"scattercarpet\":[{\"marker\":{\"colorbar\":{\"outlinewidth\":0,\"ticks\":\"\"}},\"type\":\"scattercarpet\"}],\"scattergeo\":[{\"marker\":{\"colorbar\":{\"outlinewidth\":0,\"ticks\":\"\"}},\"type\":\"scattergeo\"}],\"scattergl\":[{\"marker\":{\"colorbar\":{\"outlinewidth\":0,\"ticks\":\"\"}},\"type\":\"scattergl\"}],\"scattermapbox\":[{\"marker\":{\"colorbar\":{\"outlinewidth\":0,\"ticks\":\"\"}},\"type\":\"scattermapbox\"}],\"scatterpolargl\":[{\"marker\":{\"colorbar\":{\"outlinewidth\":0,\"ticks\":\"\"}},\"type\":\"scatterpolargl\"}],\"scatterpolar\":[{\"marker\":{\"colorbar\":{\"outlinewidth\":0,\"ticks\":\"\"}},\"type\":\"scatterpolar\"}],\"scatter\":[{\"fillpattern\":{\"fillmode\":\"overlay\",\"size\":10,\"solidity\":0.2},\"type\":\"scatter\"}],\"scatterternary\":[{\"marker\":{\"colorbar\":{\"outlinewidth\":0,\"ticks\":\"\"}},\"type\":\"scatterternary\"}],\"surface\":[{\"colorbar\":{\"outlinewidth\":0,\"ticks\":\"\"},\"colorscale\":[[0.0,\"#0d0887\"],[0.1111111111111111,\"#46039f\"],[0.2222222222222222,\"#7201a8\"],[0.3333333333333333,\"#9c179e\"],[0.4444444444444444,\"#bd3786\"],[0.5555555555555556,\"#d8576b\"],[0.6666666666666666,\"#ed7953\"],[0.7777777777777778,\"#fb9f3a\"],[0.8888888888888888,\"#fdca26\"],[1.0,\"#f0f921\"]],\"type\":\"surface\"}],\"table\":[{\"cells\":{\"fill\":{\"color\":\"#EBF0F8\"},\"line\":{\"color\":\"white\"}},\"header\":{\"fill\":{\"color\":\"#C8D4E3\"},\"line\":{\"color\":\"white\"}},\"type\":\"table\"}]},\"layout\":{\"annotationdefaults\":{\"arrowcolor\":\"#2a3f5f\",\"arrowhead\":0,\"arrowwidth\":1},\"autotypenumbers\":\"strict\",\"coloraxis\":{\"colorbar\":{\"outlinewidth\":0,\"ticks\":\"\"}},\"colorscale\":{\"diverging\":[[0,\"#8e0152\"],[0.1,\"#c51b7d\"],[0.2,\"#de77ae\"],[0.3,\"#f1b6da\"],[0.4,\"#fde0ef\"],[0.5,\"#f7f7f7\"],[0.6,\"#e6f5d0\"],[0.7,\"#b8e186\"],[0.8,\"#7fbc41\"],[0.9,\"#4d9221\"],[1,\"#276419\"]],\"sequential\":[[0.0,\"#0d0887\"],[0.1111111111111111,\"#46039f\"],[0.2222222222222222,\"#7201a8\"],[0.3333333333333333,\"#9c179e\"],[0.4444444444444444,\"#bd3786\"],[0.5555555555555556,\"#d8576b\"],[0.6666666666666666,\"#ed7953\"],[0.7777777777777778,\"#fb9f3a\"],[0.8888888888888888,\"#fdca26\"],[1.0,\"#f0f921\"]],\"sequentialminus\":[[0.0,\"#0d0887\"],[0.1111111111111111,\"#46039f\"],[0.2222222222222222,\"#7201a8\"],[0.3333333333333333,\"#9c179e\"],[0.4444444444444444,\"#bd3786\"],[0.5555555555555556,\"#d8576b\"],[0.6666666666666666,\"#ed7953\"],[0.7777777777777778,\"#fb9f3a\"],[0.8888888888888888,\"#fdca26\"],[1.0,\"#f0f921\"]]},\"colorway\":[\"#636efa\",\"#EF553B\",\"#00cc96\",\"#ab63fa\",\"#FFA15A\",\"#19d3f3\",\"#FF6692\",\"#B6E880\",\"#FF97FF\",\"#FECB52\"],\"font\":{\"color\":\"#2a3f5f\"},\"geo\":{\"bgcolor\":\"white\",\"lakecolor\":\"white\",\"landcolor\":\"#E5ECF6\",\"showlakes\":true,\"showland\":true,\"subunitcolor\":\"white\"},\"hoverlabel\":{\"align\":\"left\"},\"hovermode\":\"closest\",\"mapbox\":{\"style\":\"light\"},\"paper_bgcolor\":\"white\",\"plot_bgcolor\":\"#E5ECF6\",\"polar\":{\"angularaxis\":{\"gridcolor\":\"white\",\"linecolor\":\"white\",\"ticks\":\"\"},\"bgcolor\":\"#E5ECF6\",\"radialaxis\":{\"gridcolor\":\"white\",\"linecolor\":\"white\",\"ticks\":\"\"}},\"scene\":{\"xaxis\":{\"backgroundcolor\":\"#E5ECF6\",\"gridcolor\":\"white\",\"gridwidth\":2,\"linecolor\":\"white\",\"showbackground\":true,\"ticks\":\"\",\"zerolinecolor\":\"white\"},\"yaxis\":{\"backgroundcolor\":\"#E5ECF6\",\"gridcolor\":\"white\",\"gridwidth\":2,\"linecolor\":\"white\",\"showbackground\":true,\"ticks\":\"\",\"zerolinecolor\":\"white\"},\"zaxis\":{\"backgroundcolor\":\"#E5ECF6\",\"gridcolor\":\"white\",\"gridwidth\":2,\"linecolor\":\"white\",\"showbackground\":true,\"ticks\":\"\",\"zerolinecolor\":\"white\"}},\"shapedefaults\":{\"line\":{\"color\":\"#2a3f5f\"}},\"ternary\":{\"aaxis\":{\"gridcolor\":\"white\",\"linecolor\":\"white\",\"ticks\":\"\"},\"baxis\":{\"gridcolor\":\"white\",\"linecolor\":\"white\",\"ticks\":\"\"},\"bgcolor\":\"#E5ECF6\",\"caxis\":{\"gridcolor\":\"white\",\"linecolor\":\"white\",\"ticks\":\"\"}},\"title\":{\"x\":0.05},\"xaxis\":{\"automargin\":true,\"gridcolor\":\"white\",\"linecolor\":\"white\",\"ticks\":\"\",\"title\":{\"standoff\":15},\"zerolinecolor\":\"white\",\"zerolinewidth\":2},\"yaxis\":{\"automargin\":true,\"gridcolor\":\"white\",\"linecolor\":\"white\",\"ticks\":\"\",\"title\":{\"standoff\":15},\"zerolinecolor\":\"white\",\"zerolinewidth\":2}}},\"title\":{\"font\":{\"color\":\"#4D5663\"}},\"xaxis\":{\"gridcolor\":\"#E1E5ED\",\"showgrid\":true,\"tickfont\":{\"color\":\"#4D5663\"},\"title\":{\"font\":{\"color\":\"#4D5663\"},\"text\":\"\"},\"zerolinecolor\":\"#E1E5ED\"},\"yaxis\":{\"domain\":[0.3,1],\"gridcolor\":\"#E1E5ED\",\"showgrid\":true,\"tickfont\":{\"color\":\"#4D5663\"},\"title\":{\"font\":{\"color\":\"#4D5663\"},\"text\":\"\"},\"zerolinecolor\":\"#E1E5ED\"},\"yaxis2\":{\"domain\":[0,0.25],\"gridcolor\":\"#E1E5ED\",\"showgrid\":true,\"tickfont\":{\"color\":\"#4D5663\"},\"title\":{\"font\":{\"color\":\"#4D5663\"},\"text\":\"Spread\"},\"zerolinecolor\":\"#E1E5ED\"},\"xaxis2\":{\"anchor\":\"y2\",\"gridcolor\":\"#E1E5ED\",\"showgrid\":true,\"showticklabels\":false,\"tickfont\":{\"color\":\"#4D5663\"},\"title\":{\"font\":{\"color\":\"#4D5663\"},\"text\":\"\"},\"zerolinecolor\":\"#E1E5ED\"}},                        {\"showLink\": true, \"linkText\": \"Export to plot.ly\", \"plotlyServerURL\": \"https://plot.ly\", \"responsive\": true}                    ).then(function(){\n",
       "                            \n",
       "var gd = document.getElementById('13102a18-f768-4bfb-b24b-6025260a4464');\n",
       "var x = new MutationObserver(function (mutations, observer) {{\n",
       "        var display = window.getComputedStyle(gd).display;\n",
       "        if (!display || display === 'none') {{\n",
       "            console.log([gd, 'removed!']);\n",
       "            Plotly.purge(gd);\n",
       "            observer.disconnect();\n",
       "        }}\n",
       "}});\n",
       "\n",
       "// Listen for the removal of the full notebook cells\n",
       "var notebookContainer = gd.closest('#notebook-container');\n",
       "if (notebookContainer) {{\n",
       "    x.observe(notebookContainer, {childList: true});\n",
       "}}\n",
       "\n",
       "// Listen for the clearing of the current output cell\n",
       "var outputEl = gd.closest('.output');\n",
       "if (outputEl) {{\n",
       "    x.observe(outputEl, {childList: true});\n",
       "}}\n",
       "\n",
       "                        })                };                });            </script>        </div>"
      ]
     },
     "metadata": {},
     "output_type": "display_data"
    }
   ],
   "source": [
    "df[['A','B']].iplot(kind='spread')"
   ]
  },
  {
   "cell_type": "markdown",
   "metadata": {},
   "source": [
    "## histogram"
   ]
  },
  {
   "cell_type": "code",
   "execution_count": 17,
   "metadata": {},
   "outputs": [
    {
     "data": {
      "application/vnd.plotly.v1+json": {
       "config": {
        "linkText": "Export to plot.ly",
        "plotlyServerURL": "https://plot.ly",
        "showLink": true
       },
       "data": [
        {
         "histfunc": "count",
         "histnorm": "",
         "marker": {
          "color": "rgba(255, 153, 51, 1.0)",
          "line": {
           "color": "#4D5663",
           "width": 1.3
          }
         },
         "name": "A",
         "nbinsx": 25,
         "opacity": 0.8,
         "orientation": "v",
         "type": "histogram",
         "x": [
          -0.4948803672448772,
          -1.278606917283569,
          0.07106421334385374,
          1.0619587030601383,
          -1.4440555967233013,
          -0.22858606681894317,
          1.0030057486241948,
          0.04484795456415611,
          1.1619652312215167,
          -0.3063834419687249,
          0.5573171280834106,
          -1.4004848970008938,
          0.07213998245936415,
          -0.1992952156759034,
          0.963590047242657,
          0.1777390611535859,
          0.3189703863207484,
          0.6566964416263336,
          -1.2392354456388477,
          0.6737524737410653,
          1.4126321439046603,
          0.871402533205939,
          -0.8008377075281847,
          0.2066366446481001,
          0.7843129613261675,
          0.3612288487362664,
          0.42751052801441863,
          -1.3907782385950074,
          0.6062586949880656,
          -0.9710333735809482,
          0.47891605023133554,
          1.2337314105990314,
          0.9082028305785744,
          0.8446175169590872,
          0.2213111437943422,
          0.6040793357601695,
          -0.08588004121752364,
          -1.734245229493394,
          0.3647044551034887,
          0.0972210006165413,
          1.5046750299472174,
          -0.2810942500199662,
          3.0486427088955197,
          0.8443707688013775,
          -1.1933916647937377,
          -0.746046118365644,
          -1.1939737089247473,
          0.40617833718975777,
          -2.662736129779989,
          1.1340143561785632,
          -1.3431317646811118,
          -1.5882524199465087,
          -0.6483975035034787,
          1.3152824593173136,
          0.1333759544313208,
          0.30894298034457474,
          -0.6356048656438124,
          1.3659277658214952,
          -0.8456641943132652,
          0.5792996706265964,
          -0.12359290321284937,
          0.3266371728879937,
          1.295394749603058,
          -1.808102978075752,
          1.00915672491599,
          1.0642108345710921,
          1.466414923863723,
          0.8008328209289889,
          -0.09580001650492555,
          -0.38362804920073745,
          1.3351436888107087,
          -1.9884141016609131,
          0.4263071451958101,
          2.2681107757035783,
          0.5787490360176778,
          0.2831479916822075,
          -0.5928277608139828,
          1.0258181150691483,
          0.6891934792638104,
          -1.2325795921811449,
          0.46801777318662463,
          1.1160736213980393,
          -0.7838575266232529,
          1.0298022519136174,
          -0.7014308136007442,
          0.6960023389885786,
          1.1930852729550367,
          -0.4791890698641037,
          -0.3679677031951291,
          0.7966573079412141,
          -0.3211027262453276,
          -0.7608238050371512,
          -0.9710853823227727,
          0.22756984546431366,
          0.35529269618747356,
          -0.9526719129304471,
          -0.303544912011667,
          0.7324609793244885,
          1.2023945170669637,
          1.320809141414054
         ]
        }
       ],
       "layout": {
        "barmode": "overlay",
        "legend": {
         "bgcolor": "#F5F6F9",
         "font": {
          "color": "#4D5663"
         }
        },
        "paper_bgcolor": "#F5F6F9",
        "plot_bgcolor": "#F5F6F9",
        "template": {
         "data": {
          "bar": [
           {
            "error_x": {
             "color": "#2a3f5f"
            },
            "error_y": {
             "color": "#2a3f5f"
            },
            "marker": {
             "line": {
              "color": "#E5ECF6",
              "width": 0.5
             },
             "pattern": {
              "fillmode": "overlay",
              "size": 10,
              "solidity": 0.2
             }
            },
            "type": "bar"
           }
          ],
          "barpolar": [
           {
            "marker": {
             "line": {
              "color": "#E5ECF6",
              "width": 0.5
             },
             "pattern": {
              "fillmode": "overlay",
              "size": 10,
              "solidity": 0.2
             }
            },
            "type": "barpolar"
           }
          ],
          "carpet": [
           {
            "aaxis": {
             "endlinecolor": "#2a3f5f",
             "gridcolor": "white",
             "linecolor": "white",
             "minorgridcolor": "white",
             "startlinecolor": "#2a3f5f"
            },
            "baxis": {
             "endlinecolor": "#2a3f5f",
             "gridcolor": "white",
             "linecolor": "white",
             "minorgridcolor": "white",
             "startlinecolor": "#2a3f5f"
            },
            "type": "carpet"
           }
          ],
          "choropleth": [
           {
            "colorbar": {
             "outlinewidth": 0,
             "ticks": ""
            },
            "type": "choropleth"
           }
          ],
          "contour": [
           {
            "colorbar": {
             "outlinewidth": 0,
             "ticks": ""
            },
            "colorscale": [
             [
              0,
              "#0d0887"
             ],
             [
              0.1111111111111111,
              "#46039f"
             ],
             [
              0.2222222222222222,
              "#7201a8"
             ],
             [
              0.3333333333333333,
              "#9c179e"
             ],
             [
              0.4444444444444444,
              "#bd3786"
             ],
             [
              0.5555555555555556,
              "#d8576b"
             ],
             [
              0.6666666666666666,
              "#ed7953"
             ],
             [
              0.7777777777777778,
              "#fb9f3a"
             ],
             [
              0.8888888888888888,
              "#fdca26"
             ],
             [
              1,
              "#f0f921"
             ]
            ],
            "type": "contour"
           }
          ],
          "contourcarpet": [
           {
            "colorbar": {
             "outlinewidth": 0,
             "ticks": ""
            },
            "type": "contourcarpet"
           }
          ],
          "heatmap": [
           {
            "colorbar": {
             "outlinewidth": 0,
             "ticks": ""
            },
            "colorscale": [
             [
              0,
              "#0d0887"
             ],
             [
              0.1111111111111111,
              "#46039f"
             ],
             [
              0.2222222222222222,
              "#7201a8"
             ],
             [
              0.3333333333333333,
              "#9c179e"
             ],
             [
              0.4444444444444444,
              "#bd3786"
             ],
             [
              0.5555555555555556,
              "#d8576b"
             ],
             [
              0.6666666666666666,
              "#ed7953"
             ],
             [
              0.7777777777777778,
              "#fb9f3a"
             ],
             [
              0.8888888888888888,
              "#fdca26"
             ],
             [
              1,
              "#f0f921"
             ]
            ],
            "type": "heatmap"
           }
          ],
          "heatmapgl": [
           {
            "colorbar": {
             "outlinewidth": 0,
             "ticks": ""
            },
            "colorscale": [
             [
              0,
              "#0d0887"
             ],
             [
              0.1111111111111111,
              "#46039f"
             ],
             [
              0.2222222222222222,
              "#7201a8"
             ],
             [
              0.3333333333333333,
              "#9c179e"
             ],
             [
              0.4444444444444444,
              "#bd3786"
             ],
             [
              0.5555555555555556,
              "#d8576b"
             ],
             [
              0.6666666666666666,
              "#ed7953"
             ],
             [
              0.7777777777777778,
              "#fb9f3a"
             ],
             [
              0.8888888888888888,
              "#fdca26"
             ],
             [
              1,
              "#f0f921"
             ]
            ],
            "type": "heatmapgl"
           }
          ],
          "histogram": [
           {
            "marker": {
             "pattern": {
              "fillmode": "overlay",
              "size": 10,
              "solidity": 0.2
             }
            },
            "type": "histogram"
           }
          ],
          "histogram2d": [
           {
            "colorbar": {
             "outlinewidth": 0,
             "ticks": ""
            },
            "colorscale": [
             [
              0,
              "#0d0887"
             ],
             [
              0.1111111111111111,
              "#46039f"
             ],
             [
              0.2222222222222222,
              "#7201a8"
             ],
             [
              0.3333333333333333,
              "#9c179e"
             ],
             [
              0.4444444444444444,
              "#bd3786"
             ],
             [
              0.5555555555555556,
              "#d8576b"
             ],
             [
              0.6666666666666666,
              "#ed7953"
             ],
             [
              0.7777777777777778,
              "#fb9f3a"
             ],
             [
              0.8888888888888888,
              "#fdca26"
             ],
             [
              1,
              "#f0f921"
             ]
            ],
            "type": "histogram2d"
           }
          ],
          "histogram2dcontour": [
           {
            "colorbar": {
             "outlinewidth": 0,
             "ticks": ""
            },
            "colorscale": [
             [
              0,
              "#0d0887"
             ],
             [
              0.1111111111111111,
              "#46039f"
             ],
             [
              0.2222222222222222,
              "#7201a8"
             ],
             [
              0.3333333333333333,
              "#9c179e"
             ],
             [
              0.4444444444444444,
              "#bd3786"
             ],
             [
              0.5555555555555556,
              "#d8576b"
             ],
             [
              0.6666666666666666,
              "#ed7953"
             ],
             [
              0.7777777777777778,
              "#fb9f3a"
             ],
             [
              0.8888888888888888,
              "#fdca26"
             ],
             [
              1,
              "#f0f921"
             ]
            ],
            "type": "histogram2dcontour"
           }
          ],
          "mesh3d": [
           {
            "colorbar": {
             "outlinewidth": 0,
             "ticks": ""
            },
            "type": "mesh3d"
           }
          ],
          "parcoords": [
           {
            "line": {
             "colorbar": {
              "outlinewidth": 0,
              "ticks": ""
             }
            },
            "type": "parcoords"
           }
          ],
          "pie": [
           {
            "automargin": true,
            "type": "pie"
           }
          ],
          "scatter": [
           {
            "fillpattern": {
             "fillmode": "overlay",
             "size": 10,
             "solidity": 0.2
            },
            "type": "scatter"
           }
          ],
          "scatter3d": [
           {
            "line": {
             "colorbar": {
              "outlinewidth": 0,
              "ticks": ""
             }
            },
            "marker": {
             "colorbar": {
              "outlinewidth": 0,
              "ticks": ""
             }
            },
            "type": "scatter3d"
           }
          ],
          "scattercarpet": [
           {
            "marker": {
             "colorbar": {
              "outlinewidth": 0,
              "ticks": ""
             }
            },
            "type": "scattercarpet"
           }
          ],
          "scattergeo": [
           {
            "marker": {
             "colorbar": {
              "outlinewidth": 0,
              "ticks": ""
             }
            },
            "type": "scattergeo"
           }
          ],
          "scattergl": [
           {
            "marker": {
             "colorbar": {
              "outlinewidth": 0,
              "ticks": ""
             }
            },
            "type": "scattergl"
           }
          ],
          "scattermapbox": [
           {
            "marker": {
             "colorbar": {
              "outlinewidth": 0,
              "ticks": ""
             }
            },
            "type": "scattermapbox"
           }
          ],
          "scatterpolar": [
           {
            "marker": {
             "colorbar": {
              "outlinewidth": 0,
              "ticks": ""
             }
            },
            "type": "scatterpolar"
           }
          ],
          "scatterpolargl": [
           {
            "marker": {
             "colorbar": {
              "outlinewidth": 0,
              "ticks": ""
             }
            },
            "type": "scatterpolargl"
           }
          ],
          "scatterternary": [
           {
            "marker": {
             "colorbar": {
              "outlinewidth": 0,
              "ticks": ""
             }
            },
            "type": "scatterternary"
           }
          ],
          "surface": [
           {
            "colorbar": {
             "outlinewidth": 0,
             "ticks": ""
            },
            "colorscale": [
             [
              0,
              "#0d0887"
             ],
             [
              0.1111111111111111,
              "#46039f"
             ],
             [
              0.2222222222222222,
              "#7201a8"
             ],
             [
              0.3333333333333333,
              "#9c179e"
             ],
             [
              0.4444444444444444,
              "#bd3786"
             ],
             [
              0.5555555555555556,
              "#d8576b"
             ],
             [
              0.6666666666666666,
              "#ed7953"
             ],
             [
              0.7777777777777778,
              "#fb9f3a"
             ],
             [
              0.8888888888888888,
              "#fdca26"
             ],
             [
              1,
              "#f0f921"
             ]
            ],
            "type": "surface"
           }
          ],
          "table": [
           {
            "cells": {
             "fill": {
              "color": "#EBF0F8"
             },
             "line": {
              "color": "white"
             }
            },
            "header": {
             "fill": {
              "color": "#C8D4E3"
             },
             "line": {
              "color": "white"
             }
            },
            "type": "table"
           }
          ]
         },
         "layout": {
          "annotationdefaults": {
           "arrowcolor": "#2a3f5f",
           "arrowhead": 0,
           "arrowwidth": 1
          },
          "autotypenumbers": "strict",
          "coloraxis": {
           "colorbar": {
            "outlinewidth": 0,
            "ticks": ""
           }
          },
          "colorscale": {
           "diverging": [
            [
             0,
             "#8e0152"
            ],
            [
             0.1,
             "#c51b7d"
            ],
            [
             0.2,
             "#de77ae"
            ],
            [
             0.3,
             "#f1b6da"
            ],
            [
             0.4,
             "#fde0ef"
            ],
            [
             0.5,
             "#f7f7f7"
            ],
            [
             0.6,
             "#e6f5d0"
            ],
            [
             0.7,
             "#b8e186"
            ],
            [
             0.8,
             "#7fbc41"
            ],
            [
             0.9,
             "#4d9221"
            ],
            [
             1,
             "#276419"
            ]
           ],
           "sequential": [
            [
             0,
             "#0d0887"
            ],
            [
             0.1111111111111111,
             "#46039f"
            ],
            [
             0.2222222222222222,
             "#7201a8"
            ],
            [
             0.3333333333333333,
             "#9c179e"
            ],
            [
             0.4444444444444444,
             "#bd3786"
            ],
            [
             0.5555555555555556,
             "#d8576b"
            ],
            [
             0.6666666666666666,
             "#ed7953"
            ],
            [
             0.7777777777777778,
             "#fb9f3a"
            ],
            [
             0.8888888888888888,
             "#fdca26"
            ],
            [
             1,
             "#f0f921"
            ]
           ],
           "sequentialminus": [
            [
             0,
             "#0d0887"
            ],
            [
             0.1111111111111111,
             "#46039f"
            ],
            [
             0.2222222222222222,
             "#7201a8"
            ],
            [
             0.3333333333333333,
             "#9c179e"
            ],
            [
             0.4444444444444444,
             "#bd3786"
            ],
            [
             0.5555555555555556,
             "#d8576b"
            ],
            [
             0.6666666666666666,
             "#ed7953"
            ],
            [
             0.7777777777777778,
             "#fb9f3a"
            ],
            [
             0.8888888888888888,
             "#fdca26"
            ],
            [
             1,
             "#f0f921"
            ]
           ]
          },
          "colorway": [
           "#636efa",
           "#EF553B",
           "#00cc96",
           "#ab63fa",
           "#FFA15A",
           "#19d3f3",
           "#FF6692",
           "#B6E880",
           "#FF97FF",
           "#FECB52"
          ],
          "font": {
           "color": "#2a3f5f"
          },
          "geo": {
           "bgcolor": "white",
           "lakecolor": "white",
           "landcolor": "#E5ECF6",
           "showlakes": true,
           "showland": true,
           "subunitcolor": "white"
          },
          "hoverlabel": {
           "align": "left"
          },
          "hovermode": "closest",
          "mapbox": {
           "style": "light"
          },
          "paper_bgcolor": "white",
          "plot_bgcolor": "#E5ECF6",
          "polar": {
           "angularaxis": {
            "gridcolor": "white",
            "linecolor": "white",
            "ticks": ""
           },
           "bgcolor": "#E5ECF6",
           "radialaxis": {
            "gridcolor": "white",
            "linecolor": "white",
            "ticks": ""
           }
          },
          "scene": {
           "xaxis": {
            "backgroundcolor": "#E5ECF6",
            "gridcolor": "white",
            "gridwidth": 2,
            "linecolor": "white",
            "showbackground": true,
            "ticks": "",
            "zerolinecolor": "white"
           },
           "yaxis": {
            "backgroundcolor": "#E5ECF6",
            "gridcolor": "white",
            "gridwidth": 2,
            "linecolor": "white",
            "showbackground": true,
            "ticks": "",
            "zerolinecolor": "white"
           },
           "zaxis": {
            "backgroundcolor": "#E5ECF6",
            "gridcolor": "white",
            "gridwidth": 2,
            "linecolor": "white",
            "showbackground": true,
            "ticks": "",
            "zerolinecolor": "white"
           }
          },
          "shapedefaults": {
           "line": {
            "color": "#2a3f5f"
           }
          },
          "ternary": {
           "aaxis": {
            "gridcolor": "white",
            "linecolor": "white",
            "ticks": ""
           },
           "baxis": {
            "gridcolor": "white",
            "linecolor": "white",
            "ticks": ""
           },
           "bgcolor": "#E5ECF6",
           "caxis": {
            "gridcolor": "white",
            "linecolor": "white",
            "ticks": ""
           }
          },
          "title": {
           "x": 0.05
          },
          "xaxis": {
           "automargin": true,
           "gridcolor": "white",
           "linecolor": "white",
           "ticks": "",
           "title": {
            "standoff": 15
           },
           "zerolinecolor": "white",
           "zerolinewidth": 2
          },
          "yaxis": {
           "automargin": true,
           "gridcolor": "white",
           "linecolor": "white",
           "ticks": "",
           "title": {
            "standoff": 15
           },
           "zerolinecolor": "white",
           "zerolinewidth": 2
          }
         }
        },
        "title": {
         "font": {
          "color": "#4D5663"
         }
        },
        "xaxis": {
         "gridcolor": "#E1E5ED",
         "showgrid": true,
         "tickfont": {
          "color": "#4D5663"
         },
         "title": {
          "font": {
           "color": "#4D5663"
          },
          "text": ""
         },
         "zerolinecolor": "#E1E5ED"
        },
        "yaxis": {
         "gridcolor": "#E1E5ED",
         "showgrid": true,
         "tickfont": {
          "color": "#4D5663"
         },
         "title": {
          "font": {
           "color": "#4D5663"
          },
          "text": ""
         },
         "zerolinecolor": "#E1E5ED"
        }
       }
      },
      "text/html": [
       "<div>                            <div id=\"0de4e2d2-b851-4219-b732-bc4043b40750\" class=\"plotly-graph-div\" style=\"height:525px; width:100%;\"></div>            <script type=\"text/javascript\">                require([\"plotly\"], function(Plotly) {                    window.PLOTLYENV=window.PLOTLYENV || {};\n",
       "                    window.PLOTLYENV.BASE_URL='https://plot.ly';                                    if (document.getElementById(\"0de4e2d2-b851-4219-b732-bc4043b40750\")) {                    Plotly.newPlot(                        \"0de4e2d2-b851-4219-b732-bc4043b40750\",                        [{\"histfunc\":\"count\",\"histnorm\":\"\",\"marker\":{\"color\":\"rgba(255, 153, 51, 1.0)\",\"line\":{\"color\":\"#4D5663\",\"width\":1.3}},\"name\":\"A\",\"nbinsx\":25,\"opacity\":0.8,\"orientation\":\"v\",\"x\":[-0.4948803672448772,-1.278606917283569,0.07106421334385374,1.0619587030601383,-1.4440555967233013,-0.22858606681894317,1.0030057486241948,0.04484795456415611,1.1619652312215167,-0.3063834419687249,0.5573171280834106,-1.4004848970008938,0.07213998245936415,-0.1992952156759034,0.963590047242657,0.1777390611535859,0.3189703863207484,0.6566964416263336,-1.2392354456388477,0.6737524737410653,1.4126321439046603,0.871402533205939,-0.8008377075281847,0.2066366446481001,0.7843129613261675,0.3612288487362664,0.42751052801441863,-1.3907782385950074,0.6062586949880656,-0.9710333735809482,0.47891605023133554,1.2337314105990314,0.9082028305785744,0.8446175169590872,0.2213111437943422,0.6040793357601695,-0.08588004121752364,-1.734245229493394,0.3647044551034887,0.0972210006165413,1.5046750299472174,-0.2810942500199662,3.0486427088955197,0.8443707688013775,-1.1933916647937377,-0.746046118365644,-1.1939737089247473,0.40617833718975777,-2.662736129779989,1.1340143561785632,-1.3431317646811118,-1.5882524199465087,-0.6483975035034787,1.3152824593173136,0.1333759544313208,0.30894298034457474,-0.6356048656438124,1.3659277658214952,-0.8456641943132652,0.5792996706265964,-0.12359290321284937,0.3266371728879937,1.295394749603058,-1.808102978075752,1.00915672491599,1.0642108345710921,1.466414923863723,0.8008328209289889,-0.09580001650492555,-0.38362804920073745,1.3351436888107087,-1.9884141016609131,0.4263071451958101,2.2681107757035783,0.5787490360176778,0.2831479916822075,-0.5928277608139828,1.0258181150691483,0.6891934792638104,-1.2325795921811449,0.46801777318662463,1.1160736213980393,-0.7838575266232529,1.0298022519136174,-0.7014308136007442,0.6960023389885786,1.1930852729550367,-0.4791890698641037,-0.3679677031951291,0.7966573079412141,-0.3211027262453276,-0.7608238050371512,-0.9710853823227727,0.22756984546431366,0.35529269618747356,-0.9526719129304471,-0.303544912011667,0.7324609793244885,1.2023945170669637,1.320809141414054],\"type\":\"histogram\"}],                        {\"barmode\":\"overlay\",\"legend\":{\"bgcolor\":\"#F5F6F9\",\"font\":{\"color\":\"#4D5663\"}},\"paper_bgcolor\":\"#F5F6F9\",\"plot_bgcolor\":\"#F5F6F9\",\"template\":{\"data\":{\"barpolar\":[{\"marker\":{\"line\":{\"color\":\"#E5ECF6\",\"width\":0.5},\"pattern\":{\"fillmode\":\"overlay\",\"size\":10,\"solidity\":0.2}},\"type\":\"barpolar\"}],\"bar\":[{\"error_x\":{\"color\":\"#2a3f5f\"},\"error_y\":{\"color\":\"#2a3f5f\"},\"marker\":{\"line\":{\"color\":\"#E5ECF6\",\"width\":0.5},\"pattern\":{\"fillmode\":\"overlay\",\"size\":10,\"solidity\":0.2}},\"type\":\"bar\"}],\"carpet\":[{\"aaxis\":{\"endlinecolor\":\"#2a3f5f\",\"gridcolor\":\"white\",\"linecolor\":\"white\",\"minorgridcolor\":\"white\",\"startlinecolor\":\"#2a3f5f\"},\"baxis\":{\"endlinecolor\":\"#2a3f5f\",\"gridcolor\":\"white\",\"linecolor\":\"white\",\"minorgridcolor\":\"white\",\"startlinecolor\":\"#2a3f5f\"},\"type\":\"carpet\"}],\"choropleth\":[{\"colorbar\":{\"outlinewidth\":0,\"ticks\":\"\"},\"type\":\"choropleth\"}],\"contourcarpet\":[{\"colorbar\":{\"outlinewidth\":0,\"ticks\":\"\"},\"type\":\"contourcarpet\"}],\"contour\":[{\"colorbar\":{\"outlinewidth\":0,\"ticks\":\"\"},\"colorscale\":[[0.0,\"#0d0887\"],[0.1111111111111111,\"#46039f\"],[0.2222222222222222,\"#7201a8\"],[0.3333333333333333,\"#9c179e\"],[0.4444444444444444,\"#bd3786\"],[0.5555555555555556,\"#d8576b\"],[0.6666666666666666,\"#ed7953\"],[0.7777777777777778,\"#fb9f3a\"],[0.8888888888888888,\"#fdca26\"],[1.0,\"#f0f921\"]],\"type\":\"contour\"}],\"heatmapgl\":[{\"colorbar\":{\"outlinewidth\":0,\"ticks\":\"\"},\"colorscale\":[[0.0,\"#0d0887\"],[0.1111111111111111,\"#46039f\"],[0.2222222222222222,\"#7201a8\"],[0.3333333333333333,\"#9c179e\"],[0.4444444444444444,\"#bd3786\"],[0.5555555555555556,\"#d8576b\"],[0.6666666666666666,\"#ed7953\"],[0.7777777777777778,\"#fb9f3a\"],[0.8888888888888888,\"#fdca26\"],[1.0,\"#f0f921\"]],\"type\":\"heatmapgl\"}],\"heatmap\":[{\"colorbar\":{\"outlinewidth\":0,\"ticks\":\"\"},\"colorscale\":[[0.0,\"#0d0887\"],[0.1111111111111111,\"#46039f\"],[0.2222222222222222,\"#7201a8\"],[0.3333333333333333,\"#9c179e\"],[0.4444444444444444,\"#bd3786\"],[0.5555555555555556,\"#d8576b\"],[0.6666666666666666,\"#ed7953\"],[0.7777777777777778,\"#fb9f3a\"],[0.8888888888888888,\"#fdca26\"],[1.0,\"#f0f921\"]],\"type\":\"heatmap\"}],\"histogram2dcontour\":[{\"colorbar\":{\"outlinewidth\":0,\"ticks\":\"\"},\"colorscale\":[[0.0,\"#0d0887\"],[0.1111111111111111,\"#46039f\"],[0.2222222222222222,\"#7201a8\"],[0.3333333333333333,\"#9c179e\"],[0.4444444444444444,\"#bd3786\"],[0.5555555555555556,\"#d8576b\"],[0.6666666666666666,\"#ed7953\"],[0.7777777777777778,\"#fb9f3a\"],[0.8888888888888888,\"#fdca26\"],[1.0,\"#f0f921\"]],\"type\":\"histogram2dcontour\"}],\"histogram2d\":[{\"colorbar\":{\"outlinewidth\":0,\"ticks\":\"\"},\"colorscale\":[[0.0,\"#0d0887\"],[0.1111111111111111,\"#46039f\"],[0.2222222222222222,\"#7201a8\"],[0.3333333333333333,\"#9c179e\"],[0.4444444444444444,\"#bd3786\"],[0.5555555555555556,\"#d8576b\"],[0.6666666666666666,\"#ed7953\"],[0.7777777777777778,\"#fb9f3a\"],[0.8888888888888888,\"#fdca26\"],[1.0,\"#f0f921\"]],\"type\":\"histogram2d\"}],\"histogram\":[{\"marker\":{\"pattern\":{\"fillmode\":\"overlay\",\"size\":10,\"solidity\":0.2}},\"type\":\"histogram\"}],\"mesh3d\":[{\"colorbar\":{\"outlinewidth\":0,\"ticks\":\"\"},\"type\":\"mesh3d\"}],\"parcoords\":[{\"line\":{\"colorbar\":{\"outlinewidth\":0,\"ticks\":\"\"}},\"type\":\"parcoords\"}],\"pie\":[{\"automargin\":true,\"type\":\"pie\"}],\"scatter3d\":[{\"line\":{\"colorbar\":{\"outlinewidth\":0,\"ticks\":\"\"}},\"marker\":{\"colorbar\":{\"outlinewidth\":0,\"ticks\":\"\"}},\"type\":\"scatter3d\"}],\"scattercarpet\":[{\"marker\":{\"colorbar\":{\"outlinewidth\":0,\"ticks\":\"\"}},\"type\":\"scattercarpet\"}],\"scattergeo\":[{\"marker\":{\"colorbar\":{\"outlinewidth\":0,\"ticks\":\"\"}},\"type\":\"scattergeo\"}],\"scattergl\":[{\"marker\":{\"colorbar\":{\"outlinewidth\":0,\"ticks\":\"\"}},\"type\":\"scattergl\"}],\"scattermapbox\":[{\"marker\":{\"colorbar\":{\"outlinewidth\":0,\"ticks\":\"\"}},\"type\":\"scattermapbox\"}],\"scatterpolargl\":[{\"marker\":{\"colorbar\":{\"outlinewidth\":0,\"ticks\":\"\"}},\"type\":\"scatterpolargl\"}],\"scatterpolar\":[{\"marker\":{\"colorbar\":{\"outlinewidth\":0,\"ticks\":\"\"}},\"type\":\"scatterpolar\"}],\"scatter\":[{\"fillpattern\":{\"fillmode\":\"overlay\",\"size\":10,\"solidity\":0.2},\"type\":\"scatter\"}],\"scatterternary\":[{\"marker\":{\"colorbar\":{\"outlinewidth\":0,\"ticks\":\"\"}},\"type\":\"scatterternary\"}],\"surface\":[{\"colorbar\":{\"outlinewidth\":0,\"ticks\":\"\"},\"colorscale\":[[0.0,\"#0d0887\"],[0.1111111111111111,\"#46039f\"],[0.2222222222222222,\"#7201a8\"],[0.3333333333333333,\"#9c179e\"],[0.4444444444444444,\"#bd3786\"],[0.5555555555555556,\"#d8576b\"],[0.6666666666666666,\"#ed7953\"],[0.7777777777777778,\"#fb9f3a\"],[0.8888888888888888,\"#fdca26\"],[1.0,\"#f0f921\"]],\"type\":\"surface\"}],\"table\":[{\"cells\":{\"fill\":{\"color\":\"#EBF0F8\"},\"line\":{\"color\":\"white\"}},\"header\":{\"fill\":{\"color\":\"#C8D4E3\"},\"line\":{\"color\":\"white\"}},\"type\":\"table\"}]},\"layout\":{\"annotationdefaults\":{\"arrowcolor\":\"#2a3f5f\",\"arrowhead\":0,\"arrowwidth\":1},\"autotypenumbers\":\"strict\",\"coloraxis\":{\"colorbar\":{\"outlinewidth\":0,\"ticks\":\"\"}},\"colorscale\":{\"diverging\":[[0,\"#8e0152\"],[0.1,\"#c51b7d\"],[0.2,\"#de77ae\"],[0.3,\"#f1b6da\"],[0.4,\"#fde0ef\"],[0.5,\"#f7f7f7\"],[0.6,\"#e6f5d0\"],[0.7,\"#b8e186\"],[0.8,\"#7fbc41\"],[0.9,\"#4d9221\"],[1,\"#276419\"]],\"sequential\":[[0.0,\"#0d0887\"],[0.1111111111111111,\"#46039f\"],[0.2222222222222222,\"#7201a8\"],[0.3333333333333333,\"#9c179e\"],[0.4444444444444444,\"#bd3786\"],[0.5555555555555556,\"#d8576b\"],[0.6666666666666666,\"#ed7953\"],[0.7777777777777778,\"#fb9f3a\"],[0.8888888888888888,\"#fdca26\"],[1.0,\"#f0f921\"]],\"sequentialminus\":[[0.0,\"#0d0887\"],[0.1111111111111111,\"#46039f\"],[0.2222222222222222,\"#7201a8\"],[0.3333333333333333,\"#9c179e\"],[0.4444444444444444,\"#bd3786\"],[0.5555555555555556,\"#d8576b\"],[0.6666666666666666,\"#ed7953\"],[0.7777777777777778,\"#fb9f3a\"],[0.8888888888888888,\"#fdca26\"],[1.0,\"#f0f921\"]]},\"colorway\":[\"#636efa\",\"#EF553B\",\"#00cc96\",\"#ab63fa\",\"#FFA15A\",\"#19d3f3\",\"#FF6692\",\"#B6E880\",\"#FF97FF\",\"#FECB52\"],\"font\":{\"color\":\"#2a3f5f\"},\"geo\":{\"bgcolor\":\"white\",\"lakecolor\":\"white\",\"landcolor\":\"#E5ECF6\",\"showlakes\":true,\"showland\":true,\"subunitcolor\":\"white\"},\"hoverlabel\":{\"align\":\"left\"},\"hovermode\":\"closest\",\"mapbox\":{\"style\":\"light\"},\"paper_bgcolor\":\"white\",\"plot_bgcolor\":\"#E5ECF6\",\"polar\":{\"angularaxis\":{\"gridcolor\":\"white\",\"linecolor\":\"white\",\"ticks\":\"\"},\"bgcolor\":\"#E5ECF6\",\"radialaxis\":{\"gridcolor\":\"white\",\"linecolor\":\"white\",\"ticks\":\"\"}},\"scene\":{\"xaxis\":{\"backgroundcolor\":\"#E5ECF6\",\"gridcolor\":\"white\",\"gridwidth\":2,\"linecolor\":\"white\",\"showbackground\":true,\"ticks\":\"\",\"zerolinecolor\":\"white\"},\"yaxis\":{\"backgroundcolor\":\"#E5ECF6\",\"gridcolor\":\"white\",\"gridwidth\":2,\"linecolor\":\"white\",\"showbackground\":true,\"ticks\":\"\",\"zerolinecolor\":\"white\"},\"zaxis\":{\"backgroundcolor\":\"#E5ECF6\",\"gridcolor\":\"white\",\"gridwidth\":2,\"linecolor\":\"white\",\"showbackground\":true,\"ticks\":\"\",\"zerolinecolor\":\"white\"}},\"shapedefaults\":{\"line\":{\"color\":\"#2a3f5f\"}},\"ternary\":{\"aaxis\":{\"gridcolor\":\"white\",\"linecolor\":\"white\",\"ticks\":\"\"},\"baxis\":{\"gridcolor\":\"white\",\"linecolor\":\"white\",\"ticks\":\"\"},\"bgcolor\":\"#E5ECF6\",\"caxis\":{\"gridcolor\":\"white\",\"linecolor\":\"white\",\"ticks\":\"\"}},\"title\":{\"x\":0.05},\"xaxis\":{\"automargin\":true,\"gridcolor\":\"white\",\"linecolor\":\"white\",\"ticks\":\"\",\"title\":{\"standoff\":15},\"zerolinecolor\":\"white\",\"zerolinewidth\":2},\"yaxis\":{\"automargin\":true,\"gridcolor\":\"white\",\"linecolor\":\"white\",\"ticks\":\"\",\"title\":{\"standoff\":15},\"zerolinecolor\":\"white\",\"zerolinewidth\":2}}},\"title\":{\"font\":{\"color\":\"#4D5663\"}},\"xaxis\":{\"gridcolor\":\"#E1E5ED\",\"showgrid\":true,\"tickfont\":{\"color\":\"#4D5663\"},\"title\":{\"font\":{\"color\":\"#4D5663\"},\"text\":\"\"},\"zerolinecolor\":\"#E1E5ED\"},\"yaxis\":{\"gridcolor\":\"#E1E5ED\",\"showgrid\":true,\"tickfont\":{\"color\":\"#4D5663\"},\"title\":{\"font\":{\"color\":\"#4D5663\"},\"text\":\"\"},\"zerolinecolor\":\"#E1E5ED\"}},                        {\"showLink\": true, \"linkText\": \"Export to plot.ly\", \"plotlyServerURL\": \"https://plot.ly\", \"responsive\": true}                    ).then(function(){\n",
       "                            \n",
       "var gd = document.getElementById('0de4e2d2-b851-4219-b732-bc4043b40750');\n",
       "var x = new MutationObserver(function (mutations, observer) {{\n",
       "        var display = window.getComputedStyle(gd).display;\n",
       "        if (!display || display === 'none') {{\n",
       "            console.log([gd, 'removed!']);\n",
       "            Plotly.purge(gd);\n",
       "            observer.disconnect();\n",
       "        }}\n",
       "}});\n",
       "\n",
       "// Listen for the removal of the full notebook cells\n",
       "var notebookContainer = gd.closest('#notebook-container');\n",
       "if (notebookContainer) {{\n",
       "    x.observe(notebookContainer, {childList: true});\n",
       "}}\n",
       "\n",
       "// Listen for the clearing of the current output cell\n",
       "var outputEl = gd.closest('.output');\n",
       "if (outputEl) {{\n",
       "    x.observe(outputEl, {childList: true});\n",
       "}}\n",
       "\n",
       "                        })                };                });            </script>        </div>"
      ]
     },
     "metadata": {},
     "output_type": "display_data"
    }
   ],
   "source": [
    "df['A'].iplot(kind='hist',bins=25)"
   ]
  },
  {
   "cell_type": "code",
   "execution_count": 20,
   "metadata": {},
   "outputs": [
    {
     "data": {
      "application/vnd.plotly.v1+json": {
       "config": {
        "linkText": "Export to plot.ly",
        "plotlyServerURL": "https://plot.ly",
        "showLink": true
       },
       "data": [
        {
         "marker": {
          "color": [
           "red",
           "red",
           "red",
           "red",
           "red",
           "red",
           "red",
           "red",
           "red",
           "red",
           "red",
           "red",
           "red",
           "red",
           "red",
           "red",
           "red",
           "red",
           "red",
           "red",
           "red",
           "red",
           "red",
           "red",
           "red",
           "red",
           "red",
           "red",
           "red",
           "red",
           "red",
           "red",
           "red",
           "red",
           "red",
           "red",
           "red",
           "red",
           "red",
           "red",
           "red",
           "red",
           "red",
           "red",
           "red",
           "red",
           "red",
           "red",
           "red",
           "red",
           "red",
           "red",
           "red",
           "red",
           "red",
           "red",
           "red",
           "red",
           "red",
           "red",
           "red",
           "red",
           "red",
           "red",
           "red",
           "red",
           "red",
           "red",
           "red",
           "red",
           "red",
           "red",
           "red",
           "red",
           "red",
           "red",
           "red",
           "red",
           "red",
           "red",
           "red",
           "red",
           "red",
           "red",
           "red",
           "red",
           "red",
           "red",
           "red",
           "red",
           "red",
           "red",
           "red",
           "red",
           "red",
           "red",
           "red",
           "red",
           "red",
           "red"
          ],
          "line": {
           "width": 1.3
          },
          "size": [
           61,
           82,
           46,
           59,
           33,
           49,
           61,
           69,
           18,
           44,
           86,
           53,
           45,
           46,
           46,
           78,
           54,
           47,
           69,
           42,
           77,
           12,
           51,
           40,
           37,
           29,
           42,
           90,
           57,
           66,
           68,
           52,
           46,
           52,
           78,
           78,
           86,
           53,
           92,
           83,
           70,
           41,
           48,
           46,
           52,
           47,
           40,
           49,
           65,
           56,
           62,
           78,
           43,
           70,
           25,
           52,
           50,
           44,
           51,
           25,
           59,
           30,
           38,
           68,
           51,
           37,
           69,
           51,
           63,
           54,
           14,
           37,
           45,
           57,
           112,
           44,
           55,
           48,
           48,
           35,
           44,
           60,
           64,
           46,
           35,
           39,
           53,
           67,
           36,
           34,
           14,
           42,
           60,
           33,
           72,
           78,
           51,
           32,
           49,
           47
          ],
          "symbol": "circle"
         },
         "mode": "markers",
         "text": "",
         "type": "scatter",
         "x": [
          -0.4948803672448772,
          -1.278606917283569,
          0.07106421334385374,
          1.0619587030601383,
          -1.4440555967233013,
          -0.22858606681894317,
          1.0030057486241948,
          0.04484795456415611,
          1.1619652312215167,
          -0.3063834419687249,
          0.5573171280834106,
          -1.4004848970008938,
          0.07213998245936415,
          -0.1992952156759034,
          0.963590047242657,
          0.1777390611535859,
          0.3189703863207484,
          0.6566964416263336,
          -1.2392354456388477,
          0.6737524737410653,
          1.4126321439046603,
          0.871402533205939,
          -0.8008377075281847,
          0.2066366446481001,
          0.7843129613261675,
          0.3612288487362664,
          0.42751052801441863,
          -1.3907782385950074,
          0.6062586949880656,
          -0.9710333735809482,
          0.47891605023133554,
          1.2337314105990314,
          0.9082028305785744,
          0.8446175169590872,
          0.2213111437943422,
          0.6040793357601695,
          -0.08588004121752364,
          -1.734245229493394,
          0.3647044551034887,
          0.0972210006165413,
          1.5046750299472174,
          -0.2810942500199662,
          3.0486427088955197,
          0.8443707688013775,
          -1.1933916647937377,
          -0.746046118365644,
          -1.1939737089247473,
          0.40617833718975777,
          -2.662736129779989,
          1.1340143561785632,
          -1.3431317646811118,
          -1.5882524199465087,
          -0.6483975035034787,
          1.3152824593173136,
          0.1333759544313208,
          0.30894298034457474,
          -0.6356048656438124,
          1.3659277658214952,
          -0.8456641943132652,
          0.5792996706265964,
          -0.12359290321284937,
          0.3266371728879937,
          1.295394749603058,
          -1.808102978075752,
          1.00915672491599,
          1.0642108345710921,
          1.466414923863723,
          0.8008328209289889,
          -0.09580001650492555,
          -0.38362804920073745,
          1.3351436888107087,
          -1.9884141016609131,
          0.4263071451958101,
          2.2681107757035783,
          0.5787490360176778,
          0.2831479916822075,
          -0.5928277608139828,
          1.0258181150691483,
          0.6891934792638104,
          -1.2325795921811449,
          0.46801777318662463,
          1.1160736213980393,
          -0.7838575266232529,
          1.0298022519136174,
          -0.7014308136007442,
          0.6960023389885786,
          1.1930852729550367,
          -0.4791890698641037,
          -0.3679677031951291,
          0.7966573079412141,
          -0.3211027262453276,
          -0.7608238050371512,
          -0.9710853823227727,
          0.22756984546431366,
          0.35529269618747356,
          -0.9526719129304471,
          -0.303544912011667,
          0.7324609793244885,
          1.2023945170669637,
          1.320809141414054
         ],
         "y": [
          0.1776044584804704,
          -0.30579446317958037,
          0.13659788724493616,
          0.013966560660043948,
          1.3273022146782885,
          0.4245281639427591,
          0.13993688841338434,
          0.1364806923102963,
          -2.1065412864272086,
          -0.7493121467001574,
          -0.21907401933298437,
          1.3552891173188997,
          1.3823839058712768,
          0.26110714954987385,
          0.6670584552397943,
          0.697742052337499,
          -1.4770059522646852,
          -0.9466999513182942,
          -0.41620999378775114,
          0.23120654972488888,
          0.1053455114042331,
          -1.098711099169789,
          1.4008705791090683,
          -0.434654050392941,
          -1.207128568186926,
          -0.03525291190838535,
          0.14426598640881158,
          -1.6202847005796388,
          0.7627104472323303,
          1.2241416006731294,
          -0.6465533718632971,
          0.7415566179979918,
          -1.428988584175279,
          -1.928358672485835,
          -0.07720665593274657,
          0.5671077245400157,
          -1.795702440431457,
          -0.7941695676657354,
          3.907184367978601,
          1.8762239910918184,
          -0.8640392128710467,
          0.14788580454689232,
          0.4848657485550836,
          -0.39822234778649335,
          -0.2143508229290543,
          0.5421028547170331,
          0.9470213452638643,
          0.6079341780818952,
          0.08236570323112267,
          -0.4206814224407974,
          -0.2751572370420352,
          0.6632291561159293,
          -0.1672811079836468,
          0.84269169025041,
          0.7089604299130701,
          0.2458080265524387,
          -1.5136335159268992,
          -1.1978392671156282,
          -1.618336530284113,
          0.012290688929548993,
          1.619220248352336,
          1.110592869177345,
          0.7018241042017215,
          0.3702183639470843,
          -1.7388309041310908,
          -0.0875310813749589,
          -0.9124345858997445,
          1.1530317074144363,
          0.4714579218231528,
          0.48493178299862316,
          -0.35122660893540913,
          2.451773260240074,
          0.9309728827074173,
          -0.8834813115281297,
          -0.24448564745225207,
          0.46071894306278166,
          -2.309648368476434,
          1.7172733786642822,
          0.2073435746324365,
          -0.7662927627171758,
          -0.3838240458423306,
          1.2410093848919947,
          -0.24166136762679763,
          -0.16830385578843002,
          -1.704143002064265,
          -0.9899666399550905,
          -0.2962403884733509,
          -0.1531779038411322,
          0.015868120719419496,
          0.8272629094610052,
          1.868780342551116,
          0.4496997798754286,
          0.1255705622513645,
          -1.0699432646501854,
          1.2467596372794354,
          -0.22818951517464736,
          1.1230267105010945,
          -0.10288297183350929,
          -0.6189159183061426,
          1.13100404498498
         ]
        }
       ],
       "layout": {
        "legend": {
         "bgcolor": "#F5F6F9",
         "font": {
          "color": "#4D5663"
         }
        },
        "paper_bgcolor": "#F5F6F9",
        "plot_bgcolor": "#F5F6F9",
        "template": {
         "data": {
          "bar": [
           {
            "error_x": {
             "color": "#2a3f5f"
            },
            "error_y": {
             "color": "#2a3f5f"
            },
            "marker": {
             "line": {
              "color": "#E5ECF6",
              "width": 0.5
             },
             "pattern": {
              "fillmode": "overlay",
              "size": 10,
              "solidity": 0.2
             }
            },
            "type": "bar"
           }
          ],
          "barpolar": [
           {
            "marker": {
             "line": {
              "color": "#E5ECF6",
              "width": 0.5
             },
             "pattern": {
              "fillmode": "overlay",
              "size": 10,
              "solidity": 0.2
             }
            },
            "type": "barpolar"
           }
          ],
          "carpet": [
           {
            "aaxis": {
             "endlinecolor": "#2a3f5f",
             "gridcolor": "white",
             "linecolor": "white",
             "minorgridcolor": "white",
             "startlinecolor": "#2a3f5f"
            },
            "baxis": {
             "endlinecolor": "#2a3f5f",
             "gridcolor": "white",
             "linecolor": "white",
             "minorgridcolor": "white",
             "startlinecolor": "#2a3f5f"
            },
            "type": "carpet"
           }
          ],
          "choropleth": [
           {
            "colorbar": {
             "outlinewidth": 0,
             "ticks": ""
            },
            "type": "choropleth"
           }
          ],
          "contour": [
           {
            "colorbar": {
             "outlinewidth": 0,
             "ticks": ""
            },
            "colorscale": [
             [
              0,
              "#0d0887"
             ],
             [
              0.1111111111111111,
              "#46039f"
             ],
             [
              0.2222222222222222,
              "#7201a8"
             ],
             [
              0.3333333333333333,
              "#9c179e"
             ],
             [
              0.4444444444444444,
              "#bd3786"
             ],
             [
              0.5555555555555556,
              "#d8576b"
             ],
             [
              0.6666666666666666,
              "#ed7953"
             ],
             [
              0.7777777777777778,
              "#fb9f3a"
             ],
             [
              0.8888888888888888,
              "#fdca26"
             ],
             [
              1,
              "#f0f921"
             ]
            ],
            "type": "contour"
           }
          ],
          "contourcarpet": [
           {
            "colorbar": {
             "outlinewidth": 0,
             "ticks": ""
            },
            "type": "contourcarpet"
           }
          ],
          "heatmap": [
           {
            "colorbar": {
             "outlinewidth": 0,
             "ticks": ""
            },
            "colorscale": [
             [
              0,
              "#0d0887"
             ],
             [
              0.1111111111111111,
              "#46039f"
             ],
             [
              0.2222222222222222,
              "#7201a8"
             ],
             [
              0.3333333333333333,
              "#9c179e"
             ],
             [
              0.4444444444444444,
              "#bd3786"
             ],
             [
              0.5555555555555556,
              "#d8576b"
             ],
             [
              0.6666666666666666,
              "#ed7953"
             ],
             [
              0.7777777777777778,
              "#fb9f3a"
             ],
             [
              0.8888888888888888,
              "#fdca26"
             ],
             [
              1,
              "#f0f921"
             ]
            ],
            "type": "heatmap"
           }
          ],
          "heatmapgl": [
           {
            "colorbar": {
             "outlinewidth": 0,
             "ticks": ""
            },
            "colorscale": [
             [
              0,
              "#0d0887"
             ],
             [
              0.1111111111111111,
              "#46039f"
             ],
             [
              0.2222222222222222,
              "#7201a8"
             ],
             [
              0.3333333333333333,
              "#9c179e"
             ],
             [
              0.4444444444444444,
              "#bd3786"
             ],
             [
              0.5555555555555556,
              "#d8576b"
             ],
             [
              0.6666666666666666,
              "#ed7953"
             ],
             [
              0.7777777777777778,
              "#fb9f3a"
             ],
             [
              0.8888888888888888,
              "#fdca26"
             ],
             [
              1,
              "#f0f921"
             ]
            ],
            "type": "heatmapgl"
           }
          ],
          "histogram": [
           {
            "marker": {
             "pattern": {
              "fillmode": "overlay",
              "size": 10,
              "solidity": 0.2
             }
            },
            "type": "histogram"
           }
          ],
          "histogram2d": [
           {
            "colorbar": {
             "outlinewidth": 0,
             "ticks": ""
            },
            "colorscale": [
             [
              0,
              "#0d0887"
             ],
             [
              0.1111111111111111,
              "#46039f"
             ],
             [
              0.2222222222222222,
              "#7201a8"
             ],
             [
              0.3333333333333333,
              "#9c179e"
             ],
             [
              0.4444444444444444,
              "#bd3786"
             ],
             [
              0.5555555555555556,
              "#d8576b"
             ],
             [
              0.6666666666666666,
              "#ed7953"
             ],
             [
              0.7777777777777778,
              "#fb9f3a"
             ],
             [
              0.8888888888888888,
              "#fdca26"
             ],
             [
              1,
              "#f0f921"
             ]
            ],
            "type": "histogram2d"
           }
          ],
          "histogram2dcontour": [
           {
            "colorbar": {
             "outlinewidth": 0,
             "ticks": ""
            },
            "colorscale": [
             [
              0,
              "#0d0887"
             ],
             [
              0.1111111111111111,
              "#46039f"
             ],
             [
              0.2222222222222222,
              "#7201a8"
             ],
             [
              0.3333333333333333,
              "#9c179e"
             ],
             [
              0.4444444444444444,
              "#bd3786"
             ],
             [
              0.5555555555555556,
              "#d8576b"
             ],
             [
              0.6666666666666666,
              "#ed7953"
             ],
             [
              0.7777777777777778,
              "#fb9f3a"
             ],
             [
              0.8888888888888888,
              "#fdca26"
             ],
             [
              1,
              "#f0f921"
             ]
            ],
            "type": "histogram2dcontour"
           }
          ],
          "mesh3d": [
           {
            "colorbar": {
             "outlinewidth": 0,
             "ticks": ""
            },
            "type": "mesh3d"
           }
          ],
          "parcoords": [
           {
            "line": {
             "colorbar": {
              "outlinewidth": 0,
              "ticks": ""
             }
            },
            "type": "parcoords"
           }
          ],
          "pie": [
           {
            "automargin": true,
            "type": "pie"
           }
          ],
          "scatter": [
           {
            "fillpattern": {
             "fillmode": "overlay",
             "size": 10,
             "solidity": 0.2
            },
            "type": "scatter"
           }
          ],
          "scatter3d": [
           {
            "line": {
             "colorbar": {
              "outlinewidth": 0,
              "ticks": ""
             }
            },
            "marker": {
             "colorbar": {
              "outlinewidth": 0,
              "ticks": ""
             }
            },
            "type": "scatter3d"
           }
          ],
          "scattercarpet": [
           {
            "marker": {
             "colorbar": {
              "outlinewidth": 0,
              "ticks": ""
             }
            },
            "type": "scattercarpet"
           }
          ],
          "scattergeo": [
           {
            "marker": {
             "colorbar": {
              "outlinewidth": 0,
              "ticks": ""
             }
            },
            "type": "scattergeo"
           }
          ],
          "scattergl": [
           {
            "marker": {
             "colorbar": {
              "outlinewidth": 0,
              "ticks": ""
             }
            },
            "type": "scattergl"
           }
          ],
          "scattermapbox": [
           {
            "marker": {
             "colorbar": {
              "outlinewidth": 0,
              "ticks": ""
             }
            },
            "type": "scattermapbox"
           }
          ],
          "scatterpolar": [
           {
            "marker": {
             "colorbar": {
              "outlinewidth": 0,
              "ticks": ""
             }
            },
            "type": "scatterpolar"
           }
          ],
          "scatterpolargl": [
           {
            "marker": {
             "colorbar": {
              "outlinewidth": 0,
              "ticks": ""
             }
            },
            "type": "scatterpolargl"
           }
          ],
          "scatterternary": [
           {
            "marker": {
             "colorbar": {
              "outlinewidth": 0,
              "ticks": ""
             }
            },
            "type": "scatterternary"
           }
          ],
          "surface": [
           {
            "colorbar": {
             "outlinewidth": 0,
             "ticks": ""
            },
            "colorscale": [
             [
              0,
              "#0d0887"
             ],
             [
              0.1111111111111111,
              "#46039f"
             ],
             [
              0.2222222222222222,
              "#7201a8"
             ],
             [
              0.3333333333333333,
              "#9c179e"
             ],
             [
              0.4444444444444444,
              "#bd3786"
             ],
             [
              0.5555555555555556,
              "#d8576b"
             ],
             [
              0.6666666666666666,
              "#ed7953"
             ],
             [
              0.7777777777777778,
              "#fb9f3a"
             ],
             [
              0.8888888888888888,
              "#fdca26"
             ],
             [
              1,
              "#f0f921"
             ]
            ],
            "type": "surface"
           }
          ],
          "table": [
           {
            "cells": {
             "fill": {
              "color": "#EBF0F8"
             },
             "line": {
              "color": "white"
             }
            },
            "header": {
             "fill": {
              "color": "#C8D4E3"
             },
             "line": {
              "color": "white"
             }
            },
            "type": "table"
           }
          ]
         },
         "layout": {
          "annotationdefaults": {
           "arrowcolor": "#2a3f5f",
           "arrowhead": 0,
           "arrowwidth": 1
          },
          "autotypenumbers": "strict",
          "coloraxis": {
           "colorbar": {
            "outlinewidth": 0,
            "ticks": ""
           }
          },
          "colorscale": {
           "diverging": [
            [
             0,
             "#8e0152"
            ],
            [
             0.1,
             "#c51b7d"
            ],
            [
             0.2,
             "#de77ae"
            ],
            [
             0.3,
             "#f1b6da"
            ],
            [
             0.4,
             "#fde0ef"
            ],
            [
             0.5,
             "#f7f7f7"
            ],
            [
             0.6,
             "#e6f5d0"
            ],
            [
             0.7,
             "#b8e186"
            ],
            [
             0.8,
             "#7fbc41"
            ],
            [
             0.9,
             "#4d9221"
            ],
            [
             1,
             "#276419"
            ]
           ],
           "sequential": [
            [
             0,
             "#0d0887"
            ],
            [
             0.1111111111111111,
             "#46039f"
            ],
            [
             0.2222222222222222,
             "#7201a8"
            ],
            [
             0.3333333333333333,
             "#9c179e"
            ],
            [
             0.4444444444444444,
             "#bd3786"
            ],
            [
             0.5555555555555556,
             "#d8576b"
            ],
            [
             0.6666666666666666,
             "#ed7953"
            ],
            [
             0.7777777777777778,
             "#fb9f3a"
            ],
            [
             0.8888888888888888,
             "#fdca26"
            ],
            [
             1,
             "#f0f921"
            ]
           ],
           "sequentialminus": [
            [
             0,
             "#0d0887"
            ],
            [
             0.1111111111111111,
             "#46039f"
            ],
            [
             0.2222222222222222,
             "#7201a8"
            ],
            [
             0.3333333333333333,
             "#9c179e"
            ],
            [
             0.4444444444444444,
             "#bd3786"
            ],
            [
             0.5555555555555556,
             "#d8576b"
            ],
            [
             0.6666666666666666,
             "#ed7953"
            ],
            [
             0.7777777777777778,
             "#fb9f3a"
            ],
            [
             0.8888888888888888,
             "#fdca26"
            ],
            [
             1,
             "#f0f921"
            ]
           ]
          },
          "colorway": [
           "#636efa",
           "#EF553B",
           "#00cc96",
           "#ab63fa",
           "#FFA15A",
           "#19d3f3",
           "#FF6692",
           "#B6E880",
           "#FF97FF",
           "#FECB52"
          ],
          "font": {
           "color": "#2a3f5f"
          },
          "geo": {
           "bgcolor": "white",
           "lakecolor": "white",
           "landcolor": "#E5ECF6",
           "showlakes": true,
           "showland": true,
           "subunitcolor": "white"
          },
          "hoverlabel": {
           "align": "left"
          },
          "hovermode": "closest",
          "mapbox": {
           "style": "light"
          },
          "paper_bgcolor": "white",
          "plot_bgcolor": "#E5ECF6",
          "polar": {
           "angularaxis": {
            "gridcolor": "white",
            "linecolor": "white",
            "ticks": ""
           },
           "bgcolor": "#E5ECF6",
           "radialaxis": {
            "gridcolor": "white",
            "linecolor": "white",
            "ticks": ""
           }
          },
          "scene": {
           "xaxis": {
            "backgroundcolor": "#E5ECF6",
            "gridcolor": "white",
            "gridwidth": 2,
            "linecolor": "white",
            "showbackground": true,
            "ticks": "",
            "zerolinecolor": "white"
           },
           "yaxis": {
            "backgroundcolor": "#E5ECF6",
            "gridcolor": "white",
            "gridwidth": 2,
            "linecolor": "white",
            "showbackground": true,
            "ticks": "",
            "zerolinecolor": "white"
           },
           "zaxis": {
            "backgroundcolor": "#E5ECF6",
            "gridcolor": "white",
            "gridwidth": 2,
            "linecolor": "white",
            "showbackground": true,
            "ticks": "",
            "zerolinecolor": "white"
           }
          },
          "shapedefaults": {
           "line": {
            "color": "#2a3f5f"
           }
          },
          "ternary": {
           "aaxis": {
            "gridcolor": "white",
            "linecolor": "white",
            "ticks": ""
           },
           "baxis": {
            "gridcolor": "white",
            "linecolor": "white",
            "ticks": ""
           },
           "bgcolor": "#E5ECF6",
           "caxis": {
            "gridcolor": "white",
            "linecolor": "white",
            "ticks": ""
           }
          },
          "title": {
           "x": 0.05
          },
          "xaxis": {
           "automargin": true,
           "gridcolor": "white",
           "linecolor": "white",
           "ticks": "",
           "title": {
            "standoff": 15
           },
           "zerolinecolor": "white",
           "zerolinewidth": 2
          },
          "yaxis": {
           "automargin": true,
           "gridcolor": "white",
           "linecolor": "white",
           "ticks": "",
           "title": {
            "standoff": 15
           },
           "zerolinecolor": "white",
           "zerolinewidth": 2
          }
         }
        },
        "title": {
         "font": {
          "color": "#4D5663"
         }
        },
        "xaxis": {
         "gridcolor": "#E1E5ED",
         "showgrid": true,
         "tickfont": {
          "color": "#4D5663"
         },
         "title": {
          "font": {
           "color": "#4D5663"
          },
          "text": ""
         },
         "zerolinecolor": "#E1E5ED"
        },
        "yaxis": {
         "gridcolor": "#E1E5ED",
         "showgrid": true,
         "tickfont": {
          "color": "#4D5663"
         },
         "title": {
          "font": {
           "color": "#4D5663"
          },
          "text": ""
         },
         "zerolinecolor": "#E1E5ED"
        }
       }
      },
      "text/html": [
       "<div>                            <div id=\"e577ee4b-e3a2-4756-bd22-c7ac039dd41b\" class=\"plotly-graph-div\" style=\"height:525px; width:100%;\"></div>            <script type=\"text/javascript\">                require([\"plotly\"], function(Plotly) {                    window.PLOTLYENV=window.PLOTLYENV || {};\n",
       "                    window.PLOTLYENV.BASE_URL='https://plot.ly';                                    if (document.getElementById(\"e577ee4b-e3a2-4756-bd22-c7ac039dd41b\")) {                    Plotly.newPlot(                        \"e577ee4b-e3a2-4756-bd22-c7ac039dd41b\",                        [{\"marker\":{\"color\":[\"red\",\"red\",\"red\",\"red\",\"red\",\"red\",\"red\",\"red\",\"red\",\"red\",\"red\",\"red\",\"red\",\"red\",\"red\",\"red\",\"red\",\"red\",\"red\",\"red\",\"red\",\"red\",\"red\",\"red\",\"red\",\"red\",\"red\",\"red\",\"red\",\"red\",\"red\",\"red\",\"red\",\"red\",\"red\",\"red\",\"red\",\"red\",\"red\",\"red\",\"red\",\"red\",\"red\",\"red\",\"red\",\"red\",\"red\",\"red\",\"red\",\"red\",\"red\",\"red\",\"red\",\"red\",\"red\",\"red\",\"red\",\"red\",\"red\",\"red\",\"red\",\"red\",\"red\",\"red\",\"red\",\"red\",\"red\",\"red\",\"red\",\"red\",\"red\",\"red\",\"red\",\"red\",\"red\",\"red\",\"red\",\"red\",\"red\",\"red\",\"red\",\"red\",\"red\",\"red\",\"red\",\"red\",\"red\",\"red\",\"red\",\"red\",\"red\",\"red\",\"red\",\"red\",\"red\",\"red\",\"red\",\"red\",\"red\",\"red\"],\"line\":{\"width\":1.3},\"size\":[61,82,46,59,33,49,61,69,18,44,86,53,45,46,46,78,54,47,69,42,77,12,51,40,37,29,42,90,57,66,68,52,46,52,78,78,86,53,92,83,70,41,48,46,52,47,40,49,65,56,62,78,43,70,25,52,50,44,51,25,59,30,38,68,51,37,69,51,63,54,14,37,45,57,112,44,55,48,48,35,44,60,64,46,35,39,53,67,36,34,14,42,60,33,72,78,51,32,49,47],\"symbol\":\"circle\"},\"mode\":\"markers\",\"text\":\"\",\"x\":[-0.4948803672448772,-1.278606917283569,0.07106421334385374,1.0619587030601383,-1.4440555967233013,-0.22858606681894317,1.0030057486241948,0.04484795456415611,1.1619652312215167,-0.3063834419687249,0.5573171280834106,-1.4004848970008938,0.07213998245936415,-0.1992952156759034,0.963590047242657,0.1777390611535859,0.3189703863207484,0.6566964416263336,-1.2392354456388477,0.6737524737410653,1.4126321439046603,0.871402533205939,-0.8008377075281847,0.2066366446481001,0.7843129613261675,0.3612288487362664,0.42751052801441863,-1.3907782385950074,0.6062586949880656,-0.9710333735809482,0.47891605023133554,1.2337314105990314,0.9082028305785744,0.8446175169590872,0.2213111437943422,0.6040793357601695,-0.08588004121752364,-1.734245229493394,0.3647044551034887,0.0972210006165413,1.5046750299472174,-0.2810942500199662,3.0486427088955197,0.8443707688013775,-1.1933916647937377,-0.746046118365644,-1.1939737089247473,0.40617833718975777,-2.662736129779989,1.1340143561785632,-1.3431317646811118,-1.5882524199465087,-0.6483975035034787,1.3152824593173136,0.1333759544313208,0.30894298034457474,-0.6356048656438124,1.3659277658214952,-0.8456641943132652,0.5792996706265964,-0.12359290321284937,0.3266371728879937,1.295394749603058,-1.808102978075752,1.00915672491599,1.0642108345710921,1.466414923863723,0.8008328209289889,-0.09580001650492555,-0.38362804920073745,1.3351436888107087,-1.9884141016609131,0.4263071451958101,2.2681107757035783,0.5787490360176778,0.2831479916822075,-0.5928277608139828,1.0258181150691483,0.6891934792638104,-1.2325795921811449,0.46801777318662463,1.1160736213980393,-0.7838575266232529,1.0298022519136174,-0.7014308136007442,0.6960023389885786,1.1930852729550367,-0.4791890698641037,-0.3679677031951291,0.7966573079412141,-0.3211027262453276,-0.7608238050371512,-0.9710853823227727,0.22756984546431366,0.35529269618747356,-0.9526719129304471,-0.303544912011667,0.7324609793244885,1.2023945170669637,1.320809141414054],\"y\":[0.1776044584804704,-0.30579446317958037,0.13659788724493616,0.013966560660043948,1.3273022146782885,0.4245281639427591,0.13993688841338434,0.1364806923102963,-2.1065412864272086,-0.7493121467001574,-0.21907401933298437,1.3552891173188997,1.3823839058712768,0.26110714954987385,0.6670584552397943,0.697742052337499,-1.4770059522646852,-0.9466999513182942,-0.41620999378775114,0.23120654972488888,0.1053455114042331,-1.098711099169789,1.4008705791090683,-0.434654050392941,-1.207128568186926,-0.03525291190838535,0.14426598640881158,-1.6202847005796388,0.7627104472323303,1.2241416006731294,-0.6465533718632971,0.7415566179979918,-1.428988584175279,-1.928358672485835,-0.07720665593274657,0.5671077245400157,-1.795702440431457,-0.7941695676657354,3.907184367978601,1.8762239910918184,-0.8640392128710467,0.14788580454689232,0.4848657485550836,-0.39822234778649335,-0.2143508229290543,0.5421028547170331,0.9470213452638643,0.6079341780818952,0.08236570323112267,-0.4206814224407974,-0.2751572370420352,0.6632291561159293,-0.1672811079836468,0.84269169025041,0.7089604299130701,0.2458080265524387,-1.5136335159268992,-1.1978392671156282,-1.618336530284113,0.012290688929548993,1.619220248352336,1.110592869177345,0.7018241042017215,0.3702183639470843,-1.7388309041310908,-0.0875310813749589,-0.9124345858997445,1.1530317074144363,0.4714579218231528,0.48493178299862316,-0.35122660893540913,2.451773260240074,0.9309728827074173,-0.8834813115281297,-0.24448564745225207,0.46071894306278166,-2.309648368476434,1.7172733786642822,0.2073435746324365,-0.7662927627171758,-0.3838240458423306,1.2410093848919947,-0.24166136762679763,-0.16830385578843002,-1.704143002064265,-0.9899666399550905,-0.2962403884733509,-0.1531779038411322,0.015868120719419496,0.8272629094610052,1.868780342551116,0.4496997798754286,0.1255705622513645,-1.0699432646501854,1.2467596372794354,-0.22818951517464736,1.1230267105010945,-0.10288297183350929,-0.6189159183061426,1.13100404498498],\"type\":\"scatter\"}],                        {\"legend\":{\"bgcolor\":\"#F5F6F9\",\"font\":{\"color\":\"#4D5663\"}},\"paper_bgcolor\":\"#F5F6F9\",\"plot_bgcolor\":\"#F5F6F9\",\"template\":{\"data\":{\"barpolar\":[{\"marker\":{\"line\":{\"color\":\"#E5ECF6\",\"width\":0.5},\"pattern\":{\"fillmode\":\"overlay\",\"size\":10,\"solidity\":0.2}},\"type\":\"barpolar\"}],\"bar\":[{\"error_x\":{\"color\":\"#2a3f5f\"},\"error_y\":{\"color\":\"#2a3f5f\"},\"marker\":{\"line\":{\"color\":\"#E5ECF6\",\"width\":0.5},\"pattern\":{\"fillmode\":\"overlay\",\"size\":10,\"solidity\":0.2}},\"type\":\"bar\"}],\"carpet\":[{\"aaxis\":{\"endlinecolor\":\"#2a3f5f\",\"gridcolor\":\"white\",\"linecolor\":\"white\",\"minorgridcolor\":\"white\",\"startlinecolor\":\"#2a3f5f\"},\"baxis\":{\"endlinecolor\":\"#2a3f5f\",\"gridcolor\":\"white\",\"linecolor\":\"white\",\"minorgridcolor\":\"white\",\"startlinecolor\":\"#2a3f5f\"},\"type\":\"carpet\"}],\"choropleth\":[{\"colorbar\":{\"outlinewidth\":0,\"ticks\":\"\"},\"type\":\"choropleth\"}],\"contourcarpet\":[{\"colorbar\":{\"outlinewidth\":0,\"ticks\":\"\"},\"type\":\"contourcarpet\"}],\"contour\":[{\"colorbar\":{\"outlinewidth\":0,\"ticks\":\"\"},\"colorscale\":[[0.0,\"#0d0887\"],[0.1111111111111111,\"#46039f\"],[0.2222222222222222,\"#7201a8\"],[0.3333333333333333,\"#9c179e\"],[0.4444444444444444,\"#bd3786\"],[0.5555555555555556,\"#d8576b\"],[0.6666666666666666,\"#ed7953\"],[0.7777777777777778,\"#fb9f3a\"],[0.8888888888888888,\"#fdca26\"],[1.0,\"#f0f921\"]],\"type\":\"contour\"}],\"heatmapgl\":[{\"colorbar\":{\"outlinewidth\":0,\"ticks\":\"\"},\"colorscale\":[[0.0,\"#0d0887\"],[0.1111111111111111,\"#46039f\"],[0.2222222222222222,\"#7201a8\"],[0.3333333333333333,\"#9c179e\"],[0.4444444444444444,\"#bd3786\"],[0.5555555555555556,\"#d8576b\"],[0.6666666666666666,\"#ed7953\"],[0.7777777777777778,\"#fb9f3a\"],[0.8888888888888888,\"#fdca26\"],[1.0,\"#f0f921\"]],\"type\":\"heatmapgl\"}],\"heatmap\":[{\"colorbar\":{\"outlinewidth\":0,\"ticks\":\"\"},\"colorscale\":[[0.0,\"#0d0887\"],[0.1111111111111111,\"#46039f\"],[0.2222222222222222,\"#7201a8\"],[0.3333333333333333,\"#9c179e\"],[0.4444444444444444,\"#bd3786\"],[0.5555555555555556,\"#d8576b\"],[0.6666666666666666,\"#ed7953\"],[0.7777777777777778,\"#fb9f3a\"],[0.8888888888888888,\"#fdca26\"],[1.0,\"#f0f921\"]],\"type\":\"heatmap\"}],\"histogram2dcontour\":[{\"colorbar\":{\"outlinewidth\":0,\"ticks\":\"\"},\"colorscale\":[[0.0,\"#0d0887\"],[0.1111111111111111,\"#46039f\"],[0.2222222222222222,\"#7201a8\"],[0.3333333333333333,\"#9c179e\"],[0.4444444444444444,\"#bd3786\"],[0.5555555555555556,\"#d8576b\"],[0.6666666666666666,\"#ed7953\"],[0.7777777777777778,\"#fb9f3a\"],[0.8888888888888888,\"#fdca26\"],[1.0,\"#f0f921\"]],\"type\":\"histogram2dcontour\"}],\"histogram2d\":[{\"colorbar\":{\"outlinewidth\":0,\"ticks\":\"\"},\"colorscale\":[[0.0,\"#0d0887\"],[0.1111111111111111,\"#46039f\"],[0.2222222222222222,\"#7201a8\"],[0.3333333333333333,\"#9c179e\"],[0.4444444444444444,\"#bd3786\"],[0.5555555555555556,\"#d8576b\"],[0.6666666666666666,\"#ed7953\"],[0.7777777777777778,\"#fb9f3a\"],[0.8888888888888888,\"#fdca26\"],[1.0,\"#f0f921\"]],\"type\":\"histogram2d\"}],\"histogram\":[{\"marker\":{\"pattern\":{\"fillmode\":\"overlay\",\"size\":10,\"solidity\":0.2}},\"type\":\"histogram\"}],\"mesh3d\":[{\"colorbar\":{\"outlinewidth\":0,\"ticks\":\"\"},\"type\":\"mesh3d\"}],\"parcoords\":[{\"line\":{\"colorbar\":{\"outlinewidth\":0,\"ticks\":\"\"}},\"type\":\"parcoords\"}],\"pie\":[{\"automargin\":true,\"type\":\"pie\"}],\"scatter3d\":[{\"line\":{\"colorbar\":{\"outlinewidth\":0,\"ticks\":\"\"}},\"marker\":{\"colorbar\":{\"outlinewidth\":0,\"ticks\":\"\"}},\"type\":\"scatter3d\"}],\"scattercarpet\":[{\"marker\":{\"colorbar\":{\"outlinewidth\":0,\"ticks\":\"\"}},\"type\":\"scattercarpet\"}],\"scattergeo\":[{\"marker\":{\"colorbar\":{\"outlinewidth\":0,\"ticks\":\"\"}},\"type\":\"scattergeo\"}],\"scattergl\":[{\"marker\":{\"colorbar\":{\"outlinewidth\":0,\"ticks\":\"\"}},\"type\":\"scattergl\"}],\"scattermapbox\":[{\"marker\":{\"colorbar\":{\"outlinewidth\":0,\"ticks\":\"\"}},\"type\":\"scattermapbox\"}],\"scatterpolargl\":[{\"marker\":{\"colorbar\":{\"outlinewidth\":0,\"ticks\":\"\"}},\"type\":\"scatterpolargl\"}],\"scatterpolar\":[{\"marker\":{\"colorbar\":{\"outlinewidth\":0,\"ticks\":\"\"}},\"type\":\"scatterpolar\"}],\"scatter\":[{\"fillpattern\":{\"fillmode\":\"overlay\",\"size\":10,\"solidity\":0.2},\"type\":\"scatter\"}],\"scatterternary\":[{\"marker\":{\"colorbar\":{\"outlinewidth\":0,\"ticks\":\"\"}},\"type\":\"scatterternary\"}],\"surface\":[{\"colorbar\":{\"outlinewidth\":0,\"ticks\":\"\"},\"colorscale\":[[0.0,\"#0d0887\"],[0.1111111111111111,\"#46039f\"],[0.2222222222222222,\"#7201a8\"],[0.3333333333333333,\"#9c179e\"],[0.4444444444444444,\"#bd3786\"],[0.5555555555555556,\"#d8576b\"],[0.6666666666666666,\"#ed7953\"],[0.7777777777777778,\"#fb9f3a\"],[0.8888888888888888,\"#fdca26\"],[1.0,\"#f0f921\"]],\"type\":\"surface\"}],\"table\":[{\"cells\":{\"fill\":{\"color\":\"#EBF0F8\"},\"line\":{\"color\":\"white\"}},\"header\":{\"fill\":{\"color\":\"#C8D4E3\"},\"line\":{\"color\":\"white\"}},\"type\":\"table\"}]},\"layout\":{\"annotationdefaults\":{\"arrowcolor\":\"#2a3f5f\",\"arrowhead\":0,\"arrowwidth\":1},\"autotypenumbers\":\"strict\",\"coloraxis\":{\"colorbar\":{\"outlinewidth\":0,\"ticks\":\"\"}},\"colorscale\":{\"diverging\":[[0,\"#8e0152\"],[0.1,\"#c51b7d\"],[0.2,\"#de77ae\"],[0.3,\"#f1b6da\"],[0.4,\"#fde0ef\"],[0.5,\"#f7f7f7\"],[0.6,\"#e6f5d0\"],[0.7,\"#b8e186\"],[0.8,\"#7fbc41\"],[0.9,\"#4d9221\"],[1,\"#276419\"]],\"sequential\":[[0.0,\"#0d0887\"],[0.1111111111111111,\"#46039f\"],[0.2222222222222222,\"#7201a8\"],[0.3333333333333333,\"#9c179e\"],[0.4444444444444444,\"#bd3786\"],[0.5555555555555556,\"#d8576b\"],[0.6666666666666666,\"#ed7953\"],[0.7777777777777778,\"#fb9f3a\"],[0.8888888888888888,\"#fdca26\"],[1.0,\"#f0f921\"]],\"sequentialminus\":[[0.0,\"#0d0887\"],[0.1111111111111111,\"#46039f\"],[0.2222222222222222,\"#7201a8\"],[0.3333333333333333,\"#9c179e\"],[0.4444444444444444,\"#bd3786\"],[0.5555555555555556,\"#d8576b\"],[0.6666666666666666,\"#ed7953\"],[0.7777777777777778,\"#fb9f3a\"],[0.8888888888888888,\"#fdca26\"],[1.0,\"#f0f921\"]]},\"colorway\":[\"#636efa\",\"#EF553B\",\"#00cc96\",\"#ab63fa\",\"#FFA15A\",\"#19d3f3\",\"#FF6692\",\"#B6E880\",\"#FF97FF\",\"#FECB52\"],\"font\":{\"color\":\"#2a3f5f\"},\"geo\":{\"bgcolor\":\"white\",\"lakecolor\":\"white\",\"landcolor\":\"#E5ECF6\",\"showlakes\":true,\"showland\":true,\"subunitcolor\":\"white\"},\"hoverlabel\":{\"align\":\"left\"},\"hovermode\":\"closest\",\"mapbox\":{\"style\":\"light\"},\"paper_bgcolor\":\"white\",\"plot_bgcolor\":\"#E5ECF6\",\"polar\":{\"angularaxis\":{\"gridcolor\":\"white\",\"linecolor\":\"white\",\"ticks\":\"\"},\"bgcolor\":\"#E5ECF6\",\"radialaxis\":{\"gridcolor\":\"white\",\"linecolor\":\"white\",\"ticks\":\"\"}},\"scene\":{\"xaxis\":{\"backgroundcolor\":\"#E5ECF6\",\"gridcolor\":\"white\",\"gridwidth\":2,\"linecolor\":\"white\",\"showbackground\":true,\"ticks\":\"\",\"zerolinecolor\":\"white\"},\"yaxis\":{\"backgroundcolor\":\"#E5ECF6\",\"gridcolor\":\"white\",\"gridwidth\":2,\"linecolor\":\"white\",\"showbackground\":true,\"ticks\":\"\",\"zerolinecolor\":\"white\"},\"zaxis\":{\"backgroundcolor\":\"#E5ECF6\",\"gridcolor\":\"white\",\"gridwidth\":2,\"linecolor\":\"white\",\"showbackground\":true,\"ticks\":\"\",\"zerolinecolor\":\"white\"}},\"shapedefaults\":{\"line\":{\"color\":\"#2a3f5f\"}},\"ternary\":{\"aaxis\":{\"gridcolor\":\"white\",\"linecolor\":\"white\",\"ticks\":\"\"},\"baxis\":{\"gridcolor\":\"white\",\"linecolor\":\"white\",\"ticks\":\"\"},\"bgcolor\":\"#E5ECF6\",\"caxis\":{\"gridcolor\":\"white\",\"linecolor\":\"white\",\"ticks\":\"\"}},\"title\":{\"x\":0.05},\"xaxis\":{\"automargin\":true,\"gridcolor\":\"white\",\"linecolor\":\"white\",\"ticks\":\"\",\"title\":{\"standoff\":15},\"zerolinecolor\":\"white\",\"zerolinewidth\":2},\"yaxis\":{\"automargin\":true,\"gridcolor\":\"white\",\"linecolor\":\"white\",\"ticks\":\"\",\"title\":{\"standoff\":15},\"zerolinecolor\":\"white\",\"zerolinewidth\":2}}},\"title\":{\"font\":{\"color\":\"#4D5663\"}},\"xaxis\":{\"gridcolor\":\"#E1E5ED\",\"showgrid\":true,\"tickfont\":{\"color\":\"#4D5663\"},\"title\":{\"font\":{\"color\":\"#4D5663\"},\"text\":\"\"},\"zerolinecolor\":\"#E1E5ED\"},\"yaxis\":{\"gridcolor\":\"#E1E5ED\",\"showgrid\":true,\"tickfont\":{\"color\":\"#4D5663\"},\"title\":{\"font\":{\"color\":\"#4D5663\"},\"text\":\"\"},\"zerolinecolor\":\"#E1E5ED\"}},                        {\"showLink\": true, \"linkText\": \"Export to plot.ly\", \"plotlyServerURL\": \"https://plot.ly\", \"responsive\": true}                    ).then(function(){\n",
       "                            \n",
       "var gd = document.getElementById('e577ee4b-e3a2-4756-bd22-c7ac039dd41b');\n",
       "var x = new MutationObserver(function (mutations, observer) {{\n",
       "        var display = window.getComputedStyle(gd).display;\n",
       "        if (!display || display === 'none') {{\n",
       "            console.log([gd, 'removed!']);\n",
       "            Plotly.purge(gd);\n",
       "            observer.disconnect();\n",
       "        }}\n",
       "}});\n",
       "\n",
       "// Listen for the removal of the full notebook cells\n",
       "var notebookContainer = gd.closest('#notebook-container');\n",
       "if (notebookContainer) {{\n",
       "    x.observe(notebookContainer, {childList: true});\n",
       "}}\n",
       "\n",
       "// Listen for the clearing of the current output cell\n",
       "var outputEl = gd.closest('.output');\n",
       "if (outputEl) {{\n",
       "    x.observe(outputEl, {childList: true});\n",
       "}}\n",
       "\n",
       "                        })                };                });            </script>        </div>"
      ]
     },
     "metadata": {},
     "output_type": "display_data"
    }
   ],
   "source": [
    "df.iplot(kind='bubble',x='A',y='B',size='C',colors='red')"
   ]
  },
  {
   "cell_type": "markdown",
   "metadata": {},
   "source": [
    "## scatter_matrix()\n",
    "\n",
    "Similar to sns.pairplot()"
   ]
  },
  {
   "cell_type": "code",
   "execution_count": 21,
   "metadata": {},
   "outputs": [
    {
     "data": {
      "application/vnd.plotly.v1+json": {
       "config": {
        "linkText": "Export to plot.ly",
        "plotlyServerURL": "https://plot.ly",
        "showLink": true
       },
       "data": [
        {
         "histfunc": "count",
         "histnorm": "",
         "marker": {
          "color": "rgba(255, 153, 51, 1.0)",
          "line": {
           "color": "#4D5663",
           "width": 1.3
          }
         },
         "name": "A",
         "nbinsx": 10,
         "opacity": 0.8,
         "orientation": "v",
         "type": "histogram",
         "x": [
          -0.4948803672448772,
          -1.278606917283569,
          0.07106421334385374,
          1.0619587030601383,
          -1.4440555967233013,
          -0.22858606681894317,
          1.0030057486241948,
          0.04484795456415611,
          1.1619652312215167,
          -0.3063834419687249,
          0.5573171280834106,
          -1.4004848970008938,
          0.07213998245936415,
          -0.1992952156759034,
          0.963590047242657,
          0.1777390611535859,
          0.3189703863207484,
          0.6566964416263336,
          -1.2392354456388477,
          0.6737524737410653,
          1.4126321439046603,
          0.871402533205939,
          -0.8008377075281847,
          0.2066366446481001,
          0.7843129613261675,
          0.3612288487362664,
          0.42751052801441863,
          -1.3907782385950074,
          0.6062586949880656,
          -0.9710333735809482,
          0.47891605023133554,
          1.2337314105990314,
          0.9082028305785744,
          0.8446175169590872,
          0.2213111437943422,
          0.6040793357601695,
          -0.08588004121752364,
          -1.734245229493394,
          0.3647044551034887,
          0.0972210006165413,
          1.5046750299472174,
          -0.2810942500199662,
          3.0486427088955197,
          0.8443707688013775,
          -1.1933916647937377,
          -0.746046118365644,
          -1.1939737089247473,
          0.40617833718975777,
          -2.662736129779989,
          1.1340143561785632,
          -1.3431317646811118,
          -1.5882524199465087,
          -0.6483975035034787,
          1.3152824593173136,
          0.1333759544313208,
          0.30894298034457474,
          -0.6356048656438124,
          1.3659277658214952,
          -0.8456641943132652,
          0.5792996706265964,
          -0.12359290321284937,
          0.3266371728879937,
          1.295394749603058,
          -1.808102978075752,
          1.00915672491599,
          1.0642108345710921,
          1.466414923863723,
          0.8008328209289889,
          -0.09580001650492555,
          -0.38362804920073745,
          1.3351436888107087,
          -1.9884141016609131,
          0.4263071451958101,
          2.2681107757035783,
          0.5787490360176778,
          0.2831479916822075,
          -0.5928277608139828,
          1.0258181150691483,
          0.6891934792638104,
          -1.2325795921811449,
          0.46801777318662463,
          1.1160736213980393,
          -0.7838575266232529,
          1.0298022519136174,
          -0.7014308136007442,
          0.6960023389885786,
          1.1930852729550367,
          -0.4791890698641037,
          -0.3679677031951291,
          0.7966573079412141,
          -0.3211027262453276,
          -0.7608238050371512,
          -0.9710853823227727,
          0.22756984546431366,
          0.35529269618747356,
          -0.9526719129304471,
          -0.303544912011667,
          0.7324609793244885,
          1.2023945170669637,
          1.320809141414054
         ],
         "xaxis": "x",
         "yaxis": "y"
        },
        {
         "line": {
          "color": "rgba(128, 128, 128, 1.0)",
          "dash": "solid",
          "shape": "linear",
          "width": 1.3
         },
         "marker": {
          "size": 2,
          "symbol": "circle"
         },
         "mode": "markers",
         "name": "A",
         "text": "",
         "type": "scatter",
         "x": [
          0.1776044584804704,
          -0.30579446317958037,
          0.13659788724493616,
          0.013966560660043948,
          1.3273022146782885,
          0.4245281639427591,
          0.13993688841338434,
          0.1364806923102963,
          -2.1065412864272086,
          -0.7493121467001574,
          -0.21907401933298437,
          1.3552891173188997,
          1.3823839058712768,
          0.26110714954987385,
          0.6670584552397943,
          0.697742052337499,
          -1.4770059522646852,
          -0.9466999513182942,
          -0.41620999378775114,
          0.23120654972488888,
          0.1053455114042331,
          -1.098711099169789,
          1.4008705791090683,
          -0.434654050392941,
          -1.207128568186926,
          -0.03525291190838535,
          0.14426598640881158,
          -1.6202847005796388,
          0.7627104472323303,
          1.2241416006731294,
          -0.6465533718632971,
          0.7415566179979918,
          -1.428988584175279,
          -1.928358672485835,
          -0.07720665593274657,
          0.5671077245400157,
          -1.795702440431457,
          -0.7941695676657354,
          3.907184367978601,
          1.8762239910918184,
          -0.8640392128710467,
          0.14788580454689232,
          0.4848657485550836,
          -0.39822234778649335,
          -0.2143508229290543,
          0.5421028547170331,
          0.9470213452638643,
          0.6079341780818952,
          0.08236570323112267,
          -0.4206814224407974,
          -0.2751572370420352,
          0.6632291561159293,
          -0.1672811079836468,
          0.84269169025041,
          0.7089604299130701,
          0.2458080265524387,
          -1.5136335159268992,
          -1.1978392671156282,
          -1.618336530284113,
          0.012290688929548993,
          1.619220248352336,
          1.110592869177345,
          0.7018241042017215,
          0.3702183639470843,
          -1.7388309041310908,
          -0.0875310813749589,
          -0.9124345858997445,
          1.1530317074144363,
          0.4714579218231528,
          0.48493178299862316,
          -0.35122660893540913,
          2.451773260240074,
          0.9309728827074173,
          -0.8834813115281297,
          -0.24448564745225207,
          0.46071894306278166,
          -2.309648368476434,
          1.7172733786642822,
          0.2073435746324365,
          -0.7662927627171758,
          -0.3838240458423306,
          1.2410093848919947,
          -0.24166136762679763,
          -0.16830385578843002,
          -1.704143002064265,
          -0.9899666399550905,
          -0.2962403884733509,
          -0.1531779038411322,
          0.015868120719419496,
          0.8272629094610052,
          1.868780342551116,
          0.4496997798754286,
          0.1255705622513645,
          -1.0699432646501854,
          1.2467596372794354,
          -0.22818951517464736,
          1.1230267105010945,
          -0.10288297183350929,
          -0.6189159183061426,
          1.13100404498498
         ],
         "xaxis": "x2",
         "y": [
          -0.4948803672448772,
          -1.278606917283569,
          0.07106421334385374,
          1.0619587030601383,
          -1.4440555967233013,
          -0.22858606681894317,
          1.0030057486241948,
          0.04484795456415611,
          1.1619652312215167,
          -0.3063834419687249,
          0.5573171280834106,
          -1.4004848970008938,
          0.07213998245936415,
          -0.1992952156759034,
          0.963590047242657,
          0.1777390611535859,
          0.3189703863207484,
          0.6566964416263336,
          -1.2392354456388477,
          0.6737524737410653,
          1.4126321439046603,
          0.871402533205939,
          -0.8008377075281847,
          0.2066366446481001,
          0.7843129613261675,
          0.3612288487362664,
          0.42751052801441863,
          -1.3907782385950074,
          0.6062586949880656,
          -0.9710333735809482,
          0.47891605023133554,
          1.2337314105990314,
          0.9082028305785744,
          0.8446175169590872,
          0.2213111437943422,
          0.6040793357601695,
          -0.08588004121752364,
          -1.734245229493394,
          0.3647044551034887,
          0.0972210006165413,
          1.5046750299472174,
          -0.2810942500199662,
          3.0486427088955197,
          0.8443707688013775,
          -1.1933916647937377,
          -0.746046118365644,
          -1.1939737089247473,
          0.40617833718975777,
          -2.662736129779989,
          1.1340143561785632,
          -1.3431317646811118,
          -1.5882524199465087,
          -0.6483975035034787,
          1.3152824593173136,
          0.1333759544313208,
          0.30894298034457474,
          -0.6356048656438124,
          1.3659277658214952,
          -0.8456641943132652,
          0.5792996706265964,
          -0.12359290321284937,
          0.3266371728879937,
          1.295394749603058,
          -1.808102978075752,
          1.00915672491599,
          1.0642108345710921,
          1.466414923863723,
          0.8008328209289889,
          -0.09580001650492555,
          -0.38362804920073745,
          1.3351436888107087,
          -1.9884141016609131,
          0.4263071451958101,
          2.2681107757035783,
          0.5787490360176778,
          0.2831479916822075,
          -0.5928277608139828,
          1.0258181150691483,
          0.6891934792638104,
          -1.2325795921811449,
          0.46801777318662463,
          1.1160736213980393,
          -0.7838575266232529,
          1.0298022519136174,
          -0.7014308136007442,
          0.6960023389885786,
          1.1930852729550367,
          -0.4791890698641037,
          -0.3679677031951291,
          0.7966573079412141,
          -0.3211027262453276,
          -0.7608238050371512,
          -0.9710853823227727,
          0.22756984546431366,
          0.35529269618747356,
          -0.9526719129304471,
          -0.303544912011667,
          0.7324609793244885,
          1.2023945170669637,
          1.320809141414054
         ],
         "yaxis": "y2"
        },
        {
         "line": {
          "color": "rgba(128, 128, 128, 1.0)",
          "dash": "solid",
          "shape": "linear",
          "width": 1.3
         },
         "marker": {
          "size": 2,
          "symbol": "circle"
         },
         "mode": "markers",
         "name": "A",
         "text": "",
         "type": "scatter",
         "x": [
          0.6080779995637853,
          1.7400246486916582,
          -0.13999133244817188,
          0.5352452489269939,
          -0.8607015748953641,
          -0.007577661562544845,
          0.6133874834270073,
          1.042079651193935,
          -1.6496004343838335,
          -0.2772290474878759,
          1.927748188628256,
          0.21679357483834014,
          -0.20041124642629127,
          -0.15735712069223926,
          -0.1396328615527953,
          1.4990379552532895,
          0.2365629551373359,
          -0.12562032481682733,
          1.0285067781204562,
          -0.34642867035988806,
          1.4893699293400513,
          -1.9678488029261485,
          0.11641549389965557,
          -0.447936521222829,
          -0.6317844721599816,
          -1.0620496792256486,
          -0.38036500817521507,
          2.124900554465702,
          0.4176334714155671,
          0.8933949427558404,
          0.9750339799707942,
          0.13396229912448,
          -0.139655695684182,
          0.17145230653256055,
          1.5265891392044315,
          1.5424348038693838,
          1.933135986859975,
          0.20063815169898097,
          2.259911527433026,
          1.7669830001106346,
          1.1264021854414936,
          -0.4326594740578652,
          -0.07852422323803551,
          -0.17367413397700165,
          0.14559273498432715,
          -0.09450610368119483,
          -0.450311635214802,
          0.024483633111631667,
          0.8619034378215645,
          0.37576934786638294,
          0.6604784693060562,
          1.546898477722581,
          -0.31644669207614307,
          1.0751080409363547,
          -1.2545891292729636,
          0.1652974648823601,
          0.04470676810755846,
          -0.2853696671175998,
          0.1073633384432158,
          -1.2434323810760282,
          0.5130174305940749,
          -0.9786133934918884,
          -0.5850284411117955,
          1.0087853298195266,
          0.0936606978721186,
          -0.6137428792942979,
          1.0481297523140083,
          0.11656293160882521,
          0.753428399507512,
          0.24104721358810266,
          -1.8199327065995095,
          -0.6165839730840095,
          -0.19348008375295506,
          0.3977934592352505,
          3.278574831460349,
          -0.28406450546619827,
          0.3198320310456906,
          -0.05262022144420799,
          -0.045281211887611104,
          -0.7173894584996944,
          -0.2513974832277044,
          0.570196634208274,
          0.7948931502537384,
          -0.16873272917163948,
          -0.7565934615943875,
          -0.5168679886509878,
          0.21810968565505992,
          0.9258187116883008,
          -0.6918576365484003,
          -0.7818441109847707,
          -1.851220746970328,
          -0.3652710146348525,
          0.5724495069039409,
          -0.8437185537568656,
          1.2061404955091923,
          1.5015837466076076,
          0.08721080361940686,
          -0.8843929865373923,
          -0.008309018221935336,
          -0.09636389045842066
         ],
         "xaxis": "x3",
         "y": [
          -0.4948803672448772,
          -1.278606917283569,
          0.07106421334385374,
          1.0619587030601383,
          -1.4440555967233013,
          -0.22858606681894317,
          1.0030057486241948,
          0.04484795456415611,
          1.1619652312215167,
          -0.3063834419687249,
          0.5573171280834106,
          -1.4004848970008938,
          0.07213998245936415,
          -0.1992952156759034,
          0.963590047242657,
          0.1777390611535859,
          0.3189703863207484,
          0.6566964416263336,
          -1.2392354456388477,
          0.6737524737410653,
          1.4126321439046603,
          0.871402533205939,
          -0.8008377075281847,
          0.2066366446481001,
          0.7843129613261675,
          0.3612288487362664,
          0.42751052801441863,
          -1.3907782385950074,
          0.6062586949880656,
          -0.9710333735809482,
          0.47891605023133554,
          1.2337314105990314,
          0.9082028305785744,
          0.8446175169590872,
          0.2213111437943422,
          0.6040793357601695,
          -0.08588004121752364,
          -1.734245229493394,
          0.3647044551034887,
          0.0972210006165413,
          1.5046750299472174,
          -0.2810942500199662,
          3.0486427088955197,
          0.8443707688013775,
          -1.1933916647937377,
          -0.746046118365644,
          -1.1939737089247473,
          0.40617833718975777,
          -2.662736129779989,
          1.1340143561785632,
          -1.3431317646811118,
          -1.5882524199465087,
          -0.6483975035034787,
          1.3152824593173136,
          0.1333759544313208,
          0.30894298034457474,
          -0.6356048656438124,
          1.3659277658214952,
          -0.8456641943132652,
          0.5792996706265964,
          -0.12359290321284937,
          0.3266371728879937,
          1.295394749603058,
          -1.808102978075752,
          1.00915672491599,
          1.0642108345710921,
          1.466414923863723,
          0.8008328209289889,
          -0.09580001650492555,
          -0.38362804920073745,
          1.3351436888107087,
          -1.9884141016609131,
          0.4263071451958101,
          2.2681107757035783,
          0.5787490360176778,
          0.2831479916822075,
          -0.5928277608139828,
          1.0258181150691483,
          0.6891934792638104,
          -1.2325795921811449,
          0.46801777318662463,
          1.1160736213980393,
          -0.7838575266232529,
          1.0298022519136174,
          -0.7014308136007442,
          0.6960023389885786,
          1.1930852729550367,
          -0.4791890698641037,
          -0.3679677031951291,
          0.7966573079412141,
          -0.3211027262453276,
          -0.7608238050371512,
          -0.9710853823227727,
          0.22756984546431366,
          0.35529269618747356,
          -0.9526719129304471,
          -0.303544912011667,
          0.7324609793244885,
          1.2023945170669637,
          1.320809141414054
         ],
         "yaxis": "y3"
        },
        {
         "line": {
          "color": "rgba(128, 128, 128, 1.0)",
          "dash": "solid",
          "shape": "linear",
          "width": 1.3
         },
         "marker": {
          "size": 2,
          "symbol": "circle"
         },
         "mode": "markers",
         "name": "A",
         "text": "",
         "type": "scatter",
         "x": [
          -1.1249579601855308,
          -0.9410991973950514,
          -0.4486593530065986,
          0.05962675628963897,
          -0.7359737933474149,
          -0.675096201791584,
          1.7012601865464954,
          0.8231840515700299,
          2.172744571974603,
          -0.2527565359843745,
          0.7927540343172109,
          2.2197072906786492,
          -0.6511628526372234,
          0.8193223439928156,
          0.6516281382253095,
          0.8685452291437251,
          0.6358389736160797,
          -1.725000647642552,
          -0.9548547694402619,
          -0.2250370106551404,
          -0.6031803074001773,
          -1.1451469894566473,
          1.041087467399137,
          -0.3075394730177125,
          -0.2592588381211093,
          -2.8125820738342386,
          -0.0630428352508275,
          -0.3139891512226067,
          -1.3806277928090338,
          -0.5894462756846416,
          -0.19046981721009973,
          0.30194209764536145,
          0.5048219239249278,
          0.03314959303712693,
          -1.5740926235873482,
          -0.3731117383420975,
          -0.1009571214456144,
          1.5357839366870487,
          -0.9793053123230482,
          -1.1096657233977292,
          -0.8010288018955751,
          -1.4875981371366593,
          0.3032285438919636,
          -0.36182030149451055,
          -1.6517700174043022,
          0.13418103415995045,
          1.00084507079135,
          0.6068421038293886,
          0.08658120141763168,
          0.4388857146699468,
          -1.0807000730351164,
          -0.5932109569006637,
          -0.39907365255557287,
          -1.0933520086434285,
          -1.3427944876955982,
          -0.17727245731088123,
          0.4808925253600302,
          -1.4361517306499623,
          0.7992133932898633,
          0.20856170080504607,
          0.21941085342067815,
          1.5148555001386816,
          0.8484513347832735,
          -1.2116733713220018,
          0.1955340063223997,
          -1.776340478745634,
          -1.418612300116902,
          -1.0716753413037978,
          -0.2807712413810616,
          0.6031650963682019,
          -0.8779669525616524,
          -0.6391863320491697,
          1.3836299890934498,
          -0.5672799518622996,
          -0.39788998220756727,
          -0.7670622207292299,
          0.7521360122447434,
          0.8729944465064794,
          -0.9399191973480867,
          -0.9827272815293338,
          -0.194207433240659,
          -0.3344311988924336,
          0.61830632122162,
          1.7652146231547032,
          -0.3274961728713471,
          -0.3304967653917048,
          0.35138955656591636,
          0.687833229519024,
          1.2315217044012088,
          0.11417273260536316,
          0.09288758992076684,
          -1.4349095862147714,
          -1.2373597525512348,
          -0.5164076175898568,
          0.7444024881823896,
          1.0799684500455804,
          -1.7683397791652964,
          0.6429445396573226,
          -0.17090259743981126,
          1.8020015892468284
         ],
         "xaxis": "x4",
         "y": [
          -0.4948803672448772,
          -1.278606917283569,
          0.07106421334385374,
          1.0619587030601383,
          -1.4440555967233013,
          -0.22858606681894317,
          1.0030057486241948,
          0.04484795456415611,
          1.1619652312215167,
          -0.3063834419687249,
          0.5573171280834106,
          -1.4004848970008938,
          0.07213998245936415,
          -0.1992952156759034,
          0.963590047242657,
          0.1777390611535859,
          0.3189703863207484,
          0.6566964416263336,
          -1.2392354456388477,
          0.6737524737410653,
          1.4126321439046603,
          0.871402533205939,
          -0.8008377075281847,
          0.2066366446481001,
          0.7843129613261675,
          0.3612288487362664,
          0.42751052801441863,
          -1.3907782385950074,
          0.6062586949880656,
          -0.9710333735809482,
          0.47891605023133554,
          1.2337314105990314,
          0.9082028305785744,
          0.8446175169590872,
          0.2213111437943422,
          0.6040793357601695,
          -0.08588004121752364,
          -1.734245229493394,
          0.3647044551034887,
          0.0972210006165413,
          1.5046750299472174,
          -0.2810942500199662,
          3.0486427088955197,
          0.8443707688013775,
          -1.1933916647937377,
          -0.746046118365644,
          -1.1939737089247473,
          0.40617833718975777,
          -2.662736129779989,
          1.1340143561785632,
          -1.3431317646811118,
          -1.5882524199465087,
          -0.6483975035034787,
          1.3152824593173136,
          0.1333759544313208,
          0.30894298034457474,
          -0.6356048656438124,
          1.3659277658214952,
          -0.8456641943132652,
          0.5792996706265964,
          -0.12359290321284937,
          0.3266371728879937,
          1.295394749603058,
          -1.808102978075752,
          1.00915672491599,
          1.0642108345710921,
          1.466414923863723,
          0.8008328209289889,
          -0.09580001650492555,
          -0.38362804920073745,
          1.3351436888107087,
          -1.9884141016609131,
          0.4263071451958101,
          2.2681107757035783,
          0.5787490360176778,
          0.2831479916822075,
          -0.5928277608139828,
          1.0258181150691483,
          0.6891934792638104,
          -1.2325795921811449,
          0.46801777318662463,
          1.1160736213980393,
          -0.7838575266232529,
          1.0298022519136174,
          -0.7014308136007442,
          0.6960023389885786,
          1.1930852729550367,
          -0.4791890698641037,
          -0.3679677031951291,
          0.7966573079412141,
          -0.3211027262453276,
          -0.7608238050371512,
          -0.9710853823227727,
          0.22756984546431366,
          0.35529269618747356,
          -0.9526719129304471,
          -0.303544912011667,
          0.7324609793244885,
          1.2023945170669637,
          1.320809141414054
         ],
         "yaxis": "y4"
        },
        {
         "line": {
          "color": "rgba(128, 128, 128, 1.0)",
          "dash": "solid",
          "shape": "linear",
          "width": 1.3
         },
         "marker": {
          "size": 2,
          "symbol": "circle"
         },
         "mode": "markers",
         "name": "B",
         "text": "",
         "type": "scatter",
         "x": [
          -0.4948803672448772,
          -1.278606917283569,
          0.07106421334385374,
          1.0619587030601383,
          -1.4440555967233013,
          -0.22858606681894317,
          1.0030057486241948,
          0.04484795456415611,
          1.1619652312215167,
          -0.3063834419687249,
          0.5573171280834106,
          -1.4004848970008938,
          0.07213998245936415,
          -0.1992952156759034,
          0.963590047242657,
          0.1777390611535859,
          0.3189703863207484,
          0.6566964416263336,
          -1.2392354456388477,
          0.6737524737410653,
          1.4126321439046603,
          0.871402533205939,
          -0.8008377075281847,
          0.2066366446481001,
          0.7843129613261675,
          0.3612288487362664,
          0.42751052801441863,
          -1.3907782385950074,
          0.6062586949880656,
          -0.9710333735809482,
          0.47891605023133554,
          1.2337314105990314,
          0.9082028305785744,
          0.8446175169590872,
          0.2213111437943422,
          0.6040793357601695,
          -0.08588004121752364,
          -1.734245229493394,
          0.3647044551034887,
          0.0972210006165413,
          1.5046750299472174,
          -0.2810942500199662,
          3.0486427088955197,
          0.8443707688013775,
          -1.1933916647937377,
          -0.746046118365644,
          -1.1939737089247473,
          0.40617833718975777,
          -2.662736129779989,
          1.1340143561785632,
          -1.3431317646811118,
          -1.5882524199465087,
          -0.6483975035034787,
          1.3152824593173136,
          0.1333759544313208,
          0.30894298034457474,
          -0.6356048656438124,
          1.3659277658214952,
          -0.8456641943132652,
          0.5792996706265964,
          -0.12359290321284937,
          0.3266371728879937,
          1.295394749603058,
          -1.808102978075752,
          1.00915672491599,
          1.0642108345710921,
          1.466414923863723,
          0.8008328209289889,
          -0.09580001650492555,
          -0.38362804920073745,
          1.3351436888107087,
          -1.9884141016609131,
          0.4263071451958101,
          2.2681107757035783,
          0.5787490360176778,
          0.2831479916822075,
          -0.5928277608139828,
          1.0258181150691483,
          0.6891934792638104,
          -1.2325795921811449,
          0.46801777318662463,
          1.1160736213980393,
          -0.7838575266232529,
          1.0298022519136174,
          -0.7014308136007442,
          0.6960023389885786,
          1.1930852729550367,
          -0.4791890698641037,
          -0.3679677031951291,
          0.7966573079412141,
          -0.3211027262453276,
          -0.7608238050371512,
          -0.9710853823227727,
          0.22756984546431366,
          0.35529269618747356,
          -0.9526719129304471,
          -0.303544912011667,
          0.7324609793244885,
          1.2023945170669637,
          1.320809141414054
         ],
         "xaxis": "x5",
         "y": [
          0.1776044584804704,
          -0.30579446317958037,
          0.13659788724493616,
          0.013966560660043948,
          1.3273022146782885,
          0.4245281639427591,
          0.13993688841338434,
          0.1364806923102963,
          -2.1065412864272086,
          -0.7493121467001574,
          -0.21907401933298437,
          1.3552891173188997,
          1.3823839058712768,
          0.26110714954987385,
          0.6670584552397943,
          0.697742052337499,
          -1.4770059522646852,
          -0.9466999513182942,
          -0.41620999378775114,
          0.23120654972488888,
          0.1053455114042331,
          -1.098711099169789,
          1.4008705791090683,
          -0.434654050392941,
          -1.207128568186926,
          -0.03525291190838535,
          0.14426598640881158,
          -1.6202847005796388,
          0.7627104472323303,
          1.2241416006731294,
          -0.6465533718632971,
          0.7415566179979918,
          -1.428988584175279,
          -1.928358672485835,
          -0.07720665593274657,
          0.5671077245400157,
          -1.795702440431457,
          -0.7941695676657354,
          3.907184367978601,
          1.8762239910918184,
          -0.8640392128710467,
          0.14788580454689232,
          0.4848657485550836,
          -0.39822234778649335,
          -0.2143508229290543,
          0.5421028547170331,
          0.9470213452638643,
          0.6079341780818952,
          0.08236570323112267,
          -0.4206814224407974,
          -0.2751572370420352,
          0.6632291561159293,
          -0.1672811079836468,
          0.84269169025041,
          0.7089604299130701,
          0.2458080265524387,
          -1.5136335159268992,
          -1.1978392671156282,
          -1.618336530284113,
          0.012290688929548993,
          1.619220248352336,
          1.110592869177345,
          0.7018241042017215,
          0.3702183639470843,
          -1.7388309041310908,
          -0.0875310813749589,
          -0.9124345858997445,
          1.1530317074144363,
          0.4714579218231528,
          0.48493178299862316,
          -0.35122660893540913,
          2.451773260240074,
          0.9309728827074173,
          -0.8834813115281297,
          -0.24448564745225207,
          0.46071894306278166,
          -2.309648368476434,
          1.7172733786642822,
          0.2073435746324365,
          -0.7662927627171758,
          -0.3838240458423306,
          1.2410093848919947,
          -0.24166136762679763,
          -0.16830385578843002,
          -1.704143002064265,
          -0.9899666399550905,
          -0.2962403884733509,
          -0.1531779038411322,
          0.015868120719419496,
          0.8272629094610052,
          1.868780342551116,
          0.4496997798754286,
          0.1255705622513645,
          -1.0699432646501854,
          1.2467596372794354,
          -0.22818951517464736,
          1.1230267105010945,
          -0.10288297183350929,
          -0.6189159183061426,
          1.13100404498498
         ],
         "yaxis": "y5"
        },
        {
         "histfunc": "count",
         "histnorm": "",
         "marker": {
          "color": "rgba(55, 128, 191, 1.0)",
          "line": {
           "color": "#4D5663",
           "width": 1.3
          }
         },
         "name": "B",
         "nbinsx": 10,
         "opacity": 0.8,
         "orientation": "v",
         "type": "histogram",
         "x": [
          0.1776044584804704,
          -0.30579446317958037,
          0.13659788724493616,
          0.013966560660043948,
          1.3273022146782885,
          0.4245281639427591,
          0.13993688841338434,
          0.1364806923102963,
          -2.1065412864272086,
          -0.7493121467001574,
          -0.21907401933298437,
          1.3552891173188997,
          1.3823839058712768,
          0.26110714954987385,
          0.6670584552397943,
          0.697742052337499,
          -1.4770059522646852,
          -0.9466999513182942,
          -0.41620999378775114,
          0.23120654972488888,
          0.1053455114042331,
          -1.098711099169789,
          1.4008705791090683,
          -0.434654050392941,
          -1.207128568186926,
          -0.03525291190838535,
          0.14426598640881158,
          -1.6202847005796388,
          0.7627104472323303,
          1.2241416006731294,
          -0.6465533718632971,
          0.7415566179979918,
          -1.428988584175279,
          -1.928358672485835,
          -0.07720665593274657,
          0.5671077245400157,
          -1.795702440431457,
          -0.7941695676657354,
          3.907184367978601,
          1.8762239910918184,
          -0.8640392128710467,
          0.14788580454689232,
          0.4848657485550836,
          -0.39822234778649335,
          -0.2143508229290543,
          0.5421028547170331,
          0.9470213452638643,
          0.6079341780818952,
          0.08236570323112267,
          -0.4206814224407974,
          -0.2751572370420352,
          0.6632291561159293,
          -0.1672811079836468,
          0.84269169025041,
          0.7089604299130701,
          0.2458080265524387,
          -1.5136335159268992,
          -1.1978392671156282,
          -1.618336530284113,
          0.012290688929548993,
          1.619220248352336,
          1.110592869177345,
          0.7018241042017215,
          0.3702183639470843,
          -1.7388309041310908,
          -0.0875310813749589,
          -0.9124345858997445,
          1.1530317074144363,
          0.4714579218231528,
          0.48493178299862316,
          -0.35122660893540913,
          2.451773260240074,
          0.9309728827074173,
          -0.8834813115281297,
          -0.24448564745225207,
          0.46071894306278166,
          -2.309648368476434,
          1.7172733786642822,
          0.2073435746324365,
          -0.7662927627171758,
          -0.3838240458423306,
          1.2410093848919947,
          -0.24166136762679763,
          -0.16830385578843002,
          -1.704143002064265,
          -0.9899666399550905,
          -0.2962403884733509,
          -0.1531779038411322,
          0.015868120719419496,
          0.8272629094610052,
          1.868780342551116,
          0.4496997798754286,
          0.1255705622513645,
          -1.0699432646501854,
          1.2467596372794354,
          -0.22818951517464736,
          1.1230267105010945,
          -0.10288297183350929,
          -0.6189159183061426,
          1.13100404498498
         ],
         "xaxis": "x6",
         "yaxis": "y6"
        },
        {
         "line": {
          "color": "rgba(128, 128, 128, 1.0)",
          "dash": "solid",
          "shape": "linear",
          "width": 1.3
         },
         "marker": {
          "size": 2,
          "symbol": "circle"
         },
         "mode": "markers",
         "name": "B",
         "text": "",
         "type": "scatter",
         "x": [
          0.6080779995637853,
          1.7400246486916582,
          -0.13999133244817188,
          0.5352452489269939,
          -0.8607015748953641,
          -0.007577661562544845,
          0.6133874834270073,
          1.042079651193935,
          -1.6496004343838335,
          -0.2772290474878759,
          1.927748188628256,
          0.21679357483834014,
          -0.20041124642629127,
          -0.15735712069223926,
          -0.1396328615527953,
          1.4990379552532895,
          0.2365629551373359,
          -0.12562032481682733,
          1.0285067781204562,
          -0.34642867035988806,
          1.4893699293400513,
          -1.9678488029261485,
          0.11641549389965557,
          -0.447936521222829,
          -0.6317844721599816,
          -1.0620496792256486,
          -0.38036500817521507,
          2.124900554465702,
          0.4176334714155671,
          0.8933949427558404,
          0.9750339799707942,
          0.13396229912448,
          -0.139655695684182,
          0.17145230653256055,
          1.5265891392044315,
          1.5424348038693838,
          1.933135986859975,
          0.20063815169898097,
          2.259911527433026,
          1.7669830001106346,
          1.1264021854414936,
          -0.4326594740578652,
          -0.07852422323803551,
          -0.17367413397700165,
          0.14559273498432715,
          -0.09450610368119483,
          -0.450311635214802,
          0.024483633111631667,
          0.8619034378215645,
          0.37576934786638294,
          0.6604784693060562,
          1.546898477722581,
          -0.31644669207614307,
          1.0751080409363547,
          -1.2545891292729636,
          0.1652974648823601,
          0.04470676810755846,
          -0.2853696671175998,
          0.1073633384432158,
          -1.2434323810760282,
          0.5130174305940749,
          -0.9786133934918884,
          -0.5850284411117955,
          1.0087853298195266,
          0.0936606978721186,
          -0.6137428792942979,
          1.0481297523140083,
          0.11656293160882521,
          0.753428399507512,
          0.24104721358810266,
          -1.8199327065995095,
          -0.6165839730840095,
          -0.19348008375295506,
          0.3977934592352505,
          3.278574831460349,
          -0.28406450546619827,
          0.3198320310456906,
          -0.05262022144420799,
          -0.045281211887611104,
          -0.7173894584996944,
          -0.2513974832277044,
          0.570196634208274,
          0.7948931502537384,
          -0.16873272917163948,
          -0.7565934615943875,
          -0.5168679886509878,
          0.21810968565505992,
          0.9258187116883008,
          -0.6918576365484003,
          -0.7818441109847707,
          -1.851220746970328,
          -0.3652710146348525,
          0.5724495069039409,
          -0.8437185537568656,
          1.2061404955091923,
          1.5015837466076076,
          0.08721080361940686,
          -0.8843929865373923,
          -0.008309018221935336,
          -0.09636389045842066
         ],
         "xaxis": "x7",
         "y": [
          0.1776044584804704,
          -0.30579446317958037,
          0.13659788724493616,
          0.013966560660043948,
          1.3273022146782885,
          0.4245281639427591,
          0.13993688841338434,
          0.1364806923102963,
          -2.1065412864272086,
          -0.7493121467001574,
          -0.21907401933298437,
          1.3552891173188997,
          1.3823839058712768,
          0.26110714954987385,
          0.6670584552397943,
          0.697742052337499,
          -1.4770059522646852,
          -0.9466999513182942,
          -0.41620999378775114,
          0.23120654972488888,
          0.1053455114042331,
          -1.098711099169789,
          1.4008705791090683,
          -0.434654050392941,
          -1.207128568186926,
          -0.03525291190838535,
          0.14426598640881158,
          -1.6202847005796388,
          0.7627104472323303,
          1.2241416006731294,
          -0.6465533718632971,
          0.7415566179979918,
          -1.428988584175279,
          -1.928358672485835,
          -0.07720665593274657,
          0.5671077245400157,
          -1.795702440431457,
          -0.7941695676657354,
          3.907184367978601,
          1.8762239910918184,
          -0.8640392128710467,
          0.14788580454689232,
          0.4848657485550836,
          -0.39822234778649335,
          -0.2143508229290543,
          0.5421028547170331,
          0.9470213452638643,
          0.6079341780818952,
          0.08236570323112267,
          -0.4206814224407974,
          -0.2751572370420352,
          0.6632291561159293,
          -0.1672811079836468,
          0.84269169025041,
          0.7089604299130701,
          0.2458080265524387,
          -1.5136335159268992,
          -1.1978392671156282,
          -1.618336530284113,
          0.012290688929548993,
          1.619220248352336,
          1.110592869177345,
          0.7018241042017215,
          0.3702183639470843,
          -1.7388309041310908,
          -0.0875310813749589,
          -0.9124345858997445,
          1.1530317074144363,
          0.4714579218231528,
          0.48493178299862316,
          -0.35122660893540913,
          2.451773260240074,
          0.9309728827074173,
          -0.8834813115281297,
          -0.24448564745225207,
          0.46071894306278166,
          -2.309648368476434,
          1.7172733786642822,
          0.2073435746324365,
          -0.7662927627171758,
          -0.3838240458423306,
          1.2410093848919947,
          -0.24166136762679763,
          -0.16830385578843002,
          -1.704143002064265,
          -0.9899666399550905,
          -0.2962403884733509,
          -0.1531779038411322,
          0.015868120719419496,
          0.8272629094610052,
          1.868780342551116,
          0.4496997798754286,
          0.1255705622513645,
          -1.0699432646501854,
          1.2467596372794354,
          -0.22818951517464736,
          1.1230267105010945,
          -0.10288297183350929,
          -0.6189159183061426,
          1.13100404498498
         ],
         "yaxis": "y7"
        },
        {
         "line": {
          "color": "rgba(128, 128, 128, 1.0)",
          "dash": "solid",
          "shape": "linear",
          "width": 1.3
         },
         "marker": {
          "size": 2,
          "symbol": "circle"
         },
         "mode": "markers",
         "name": "B",
         "text": "",
         "type": "scatter",
         "x": [
          -1.1249579601855308,
          -0.9410991973950514,
          -0.4486593530065986,
          0.05962675628963897,
          -0.7359737933474149,
          -0.675096201791584,
          1.7012601865464954,
          0.8231840515700299,
          2.172744571974603,
          -0.2527565359843745,
          0.7927540343172109,
          2.2197072906786492,
          -0.6511628526372234,
          0.8193223439928156,
          0.6516281382253095,
          0.8685452291437251,
          0.6358389736160797,
          -1.725000647642552,
          -0.9548547694402619,
          -0.2250370106551404,
          -0.6031803074001773,
          -1.1451469894566473,
          1.041087467399137,
          -0.3075394730177125,
          -0.2592588381211093,
          -2.8125820738342386,
          -0.0630428352508275,
          -0.3139891512226067,
          -1.3806277928090338,
          -0.5894462756846416,
          -0.19046981721009973,
          0.30194209764536145,
          0.5048219239249278,
          0.03314959303712693,
          -1.5740926235873482,
          -0.3731117383420975,
          -0.1009571214456144,
          1.5357839366870487,
          -0.9793053123230482,
          -1.1096657233977292,
          -0.8010288018955751,
          -1.4875981371366593,
          0.3032285438919636,
          -0.36182030149451055,
          -1.6517700174043022,
          0.13418103415995045,
          1.00084507079135,
          0.6068421038293886,
          0.08658120141763168,
          0.4388857146699468,
          -1.0807000730351164,
          -0.5932109569006637,
          -0.39907365255557287,
          -1.0933520086434285,
          -1.3427944876955982,
          -0.17727245731088123,
          0.4808925253600302,
          -1.4361517306499623,
          0.7992133932898633,
          0.20856170080504607,
          0.21941085342067815,
          1.5148555001386816,
          0.8484513347832735,
          -1.2116733713220018,
          0.1955340063223997,
          -1.776340478745634,
          -1.418612300116902,
          -1.0716753413037978,
          -0.2807712413810616,
          0.6031650963682019,
          -0.8779669525616524,
          -0.6391863320491697,
          1.3836299890934498,
          -0.5672799518622996,
          -0.39788998220756727,
          -0.7670622207292299,
          0.7521360122447434,
          0.8729944465064794,
          -0.9399191973480867,
          -0.9827272815293338,
          -0.194207433240659,
          -0.3344311988924336,
          0.61830632122162,
          1.7652146231547032,
          -0.3274961728713471,
          -0.3304967653917048,
          0.35138955656591636,
          0.687833229519024,
          1.2315217044012088,
          0.11417273260536316,
          0.09288758992076684,
          -1.4349095862147714,
          -1.2373597525512348,
          -0.5164076175898568,
          0.7444024881823896,
          1.0799684500455804,
          -1.7683397791652964,
          0.6429445396573226,
          -0.17090259743981126,
          1.8020015892468284
         ],
         "xaxis": "x8",
         "y": [
          0.1776044584804704,
          -0.30579446317958037,
          0.13659788724493616,
          0.013966560660043948,
          1.3273022146782885,
          0.4245281639427591,
          0.13993688841338434,
          0.1364806923102963,
          -2.1065412864272086,
          -0.7493121467001574,
          -0.21907401933298437,
          1.3552891173188997,
          1.3823839058712768,
          0.26110714954987385,
          0.6670584552397943,
          0.697742052337499,
          -1.4770059522646852,
          -0.9466999513182942,
          -0.41620999378775114,
          0.23120654972488888,
          0.1053455114042331,
          -1.098711099169789,
          1.4008705791090683,
          -0.434654050392941,
          -1.207128568186926,
          -0.03525291190838535,
          0.14426598640881158,
          -1.6202847005796388,
          0.7627104472323303,
          1.2241416006731294,
          -0.6465533718632971,
          0.7415566179979918,
          -1.428988584175279,
          -1.928358672485835,
          -0.07720665593274657,
          0.5671077245400157,
          -1.795702440431457,
          -0.7941695676657354,
          3.907184367978601,
          1.8762239910918184,
          -0.8640392128710467,
          0.14788580454689232,
          0.4848657485550836,
          -0.39822234778649335,
          -0.2143508229290543,
          0.5421028547170331,
          0.9470213452638643,
          0.6079341780818952,
          0.08236570323112267,
          -0.4206814224407974,
          -0.2751572370420352,
          0.6632291561159293,
          -0.1672811079836468,
          0.84269169025041,
          0.7089604299130701,
          0.2458080265524387,
          -1.5136335159268992,
          -1.1978392671156282,
          -1.618336530284113,
          0.012290688929548993,
          1.619220248352336,
          1.110592869177345,
          0.7018241042017215,
          0.3702183639470843,
          -1.7388309041310908,
          -0.0875310813749589,
          -0.9124345858997445,
          1.1530317074144363,
          0.4714579218231528,
          0.48493178299862316,
          -0.35122660893540913,
          2.451773260240074,
          0.9309728827074173,
          -0.8834813115281297,
          -0.24448564745225207,
          0.46071894306278166,
          -2.309648368476434,
          1.7172733786642822,
          0.2073435746324365,
          -0.7662927627171758,
          -0.3838240458423306,
          1.2410093848919947,
          -0.24166136762679763,
          -0.16830385578843002,
          -1.704143002064265,
          -0.9899666399550905,
          -0.2962403884733509,
          -0.1531779038411322,
          0.015868120719419496,
          0.8272629094610052,
          1.868780342551116,
          0.4496997798754286,
          0.1255705622513645,
          -1.0699432646501854,
          1.2467596372794354,
          -0.22818951517464736,
          1.1230267105010945,
          -0.10288297183350929,
          -0.6189159183061426,
          1.13100404498498
         ],
         "yaxis": "y8"
        },
        {
         "line": {
          "color": "rgba(128, 128, 128, 1.0)",
          "dash": "solid",
          "shape": "linear",
          "width": 1.3
         },
         "marker": {
          "size": 2,
          "symbol": "circle"
         },
         "mode": "markers",
         "name": "C",
         "text": "",
         "type": "scatter",
         "x": [
          -0.4948803672448772,
          -1.278606917283569,
          0.07106421334385374,
          1.0619587030601383,
          -1.4440555967233013,
          -0.22858606681894317,
          1.0030057486241948,
          0.04484795456415611,
          1.1619652312215167,
          -0.3063834419687249,
          0.5573171280834106,
          -1.4004848970008938,
          0.07213998245936415,
          -0.1992952156759034,
          0.963590047242657,
          0.1777390611535859,
          0.3189703863207484,
          0.6566964416263336,
          -1.2392354456388477,
          0.6737524737410653,
          1.4126321439046603,
          0.871402533205939,
          -0.8008377075281847,
          0.2066366446481001,
          0.7843129613261675,
          0.3612288487362664,
          0.42751052801441863,
          -1.3907782385950074,
          0.6062586949880656,
          -0.9710333735809482,
          0.47891605023133554,
          1.2337314105990314,
          0.9082028305785744,
          0.8446175169590872,
          0.2213111437943422,
          0.6040793357601695,
          -0.08588004121752364,
          -1.734245229493394,
          0.3647044551034887,
          0.0972210006165413,
          1.5046750299472174,
          -0.2810942500199662,
          3.0486427088955197,
          0.8443707688013775,
          -1.1933916647937377,
          -0.746046118365644,
          -1.1939737089247473,
          0.40617833718975777,
          -2.662736129779989,
          1.1340143561785632,
          -1.3431317646811118,
          -1.5882524199465087,
          -0.6483975035034787,
          1.3152824593173136,
          0.1333759544313208,
          0.30894298034457474,
          -0.6356048656438124,
          1.3659277658214952,
          -0.8456641943132652,
          0.5792996706265964,
          -0.12359290321284937,
          0.3266371728879937,
          1.295394749603058,
          -1.808102978075752,
          1.00915672491599,
          1.0642108345710921,
          1.466414923863723,
          0.8008328209289889,
          -0.09580001650492555,
          -0.38362804920073745,
          1.3351436888107087,
          -1.9884141016609131,
          0.4263071451958101,
          2.2681107757035783,
          0.5787490360176778,
          0.2831479916822075,
          -0.5928277608139828,
          1.0258181150691483,
          0.6891934792638104,
          -1.2325795921811449,
          0.46801777318662463,
          1.1160736213980393,
          -0.7838575266232529,
          1.0298022519136174,
          -0.7014308136007442,
          0.6960023389885786,
          1.1930852729550367,
          -0.4791890698641037,
          -0.3679677031951291,
          0.7966573079412141,
          -0.3211027262453276,
          -0.7608238050371512,
          -0.9710853823227727,
          0.22756984546431366,
          0.35529269618747356,
          -0.9526719129304471,
          -0.303544912011667,
          0.7324609793244885,
          1.2023945170669637,
          1.320809141414054
         ],
         "xaxis": "x9",
         "y": [
          0.6080779995637853,
          1.7400246486916582,
          -0.13999133244817188,
          0.5352452489269939,
          -0.8607015748953641,
          -0.007577661562544845,
          0.6133874834270073,
          1.042079651193935,
          -1.6496004343838335,
          -0.2772290474878759,
          1.927748188628256,
          0.21679357483834014,
          -0.20041124642629127,
          -0.15735712069223926,
          -0.1396328615527953,
          1.4990379552532895,
          0.2365629551373359,
          -0.12562032481682733,
          1.0285067781204562,
          -0.34642867035988806,
          1.4893699293400513,
          -1.9678488029261485,
          0.11641549389965557,
          -0.447936521222829,
          -0.6317844721599816,
          -1.0620496792256486,
          -0.38036500817521507,
          2.124900554465702,
          0.4176334714155671,
          0.8933949427558404,
          0.9750339799707942,
          0.13396229912448,
          -0.139655695684182,
          0.17145230653256055,
          1.5265891392044315,
          1.5424348038693838,
          1.933135986859975,
          0.20063815169898097,
          2.259911527433026,
          1.7669830001106346,
          1.1264021854414936,
          -0.4326594740578652,
          -0.07852422323803551,
          -0.17367413397700165,
          0.14559273498432715,
          -0.09450610368119483,
          -0.450311635214802,
          0.024483633111631667,
          0.8619034378215645,
          0.37576934786638294,
          0.6604784693060562,
          1.546898477722581,
          -0.31644669207614307,
          1.0751080409363547,
          -1.2545891292729636,
          0.1652974648823601,
          0.04470676810755846,
          -0.2853696671175998,
          0.1073633384432158,
          -1.2434323810760282,
          0.5130174305940749,
          -0.9786133934918884,
          -0.5850284411117955,
          1.0087853298195266,
          0.0936606978721186,
          -0.6137428792942979,
          1.0481297523140083,
          0.11656293160882521,
          0.753428399507512,
          0.24104721358810266,
          -1.8199327065995095,
          -0.6165839730840095,
          -0.19348008375295506,
          0.3977934592352505,
          3.278574831460349,
          -0.28406450546619827,
          0.3198320310456906,
          -0.05262022144420799,
          -0.045281211887611104,
          -0.7173894584996944,
          -0.2513974832277044,
          0.570196634208274,
          0.7948931502537384,
          -0.16873272917163948,
          -0.7565934615943875,
          -0.5168679886509878,
          0.21810968565505992,
          0.9258187116883008,
          -0.6918576365484003,
          -0.7818441109847707,
          -1.851220746970328,
          -0.3652710146348525,
          0.5724495069039409,
          -0.8437185537568656,
          1.2061404955091923,
          1.5015837466076076,
          0.08721080361940686,
          -0.8843929865373923,
          -0.008309018221935336,
          -0.09636389045842066
         ],
         "yaxis": "y9"
        },
        {
         "line": {
          "color": "rgba(128, 128, 128, 1.0)",
          "dash": "solid",
          "shape": "linear",
          "width": 1.3
         },
         "marker": {
          "size": 2,
          "symbol": "circle"
         },
         "mode": "markers",
         "name": "C",
         "text": "",
         "type": "scatter",
         "x": [
          0.1776044584804704,
          -0.30579446317958037,
          0.13659788724493616,
          0.013966560660043948,
          1.3273022146782885,
          0.4245281639427591,
          0.13993688841338434,
          0.1364806923102963,
          -2.1065412864272086,
          -0.7493121467001574,
          -0.21907401933298437,
          1.3552891173188997,
          1.3823839058712768,
          0.26110714954987385,
          0.6670584552397943,
          0.697742052337499,
          -1.4770059522646852,
          -0.9466999513182942,
          -0.41620999378775114,
          0.23120654972488888,
          0.1053455114042331,
          -1.098711099169789,
          1.4008705791090683,
          -0.434654050392941,
          -1.207128568186926,
          -0.03525291190838535,
          0.14426598640881158,
          -1.6202847005796388,
          0.7627104472323303,
          1.2241416006731294,
          -0.6465533718632971,
          0.7415566179979918,
          -1.428988584175279,
          -1.928358672485835,
          -0.07720665593274657,
          0.5671077245400157,
          -1.795702440431457,
          -0.7941695676657354,
          3.907184367978601,
          1.8762239910918184,
          -0.8640392128710467,
          0.14788580454689232,
          0.4848657485550836,
          -0.39822234778649335,
          -0.2143508229290543,
          0.5421028547170331,
          0.9470213452638643,
          0.6079341780818952,
          0.08236570323112267,
          -0.4206814224407974,
          -0.2751572370420352,
          0.6632291561159293,
          -0.1672811079836468,
          0.84269169025041,
          0.7089604299130701,
          0.2458080265524387,
          -1.5136335159268992,
          -1.1978392671156282,
          -1.618336530284113,
          0.012290688929548993,
          1.619220248352336,
          1.110592869177345,
          0.7018241042017215,
          0.3702183639470843,
          -1.7388309041310908,
          -0.0875310813749589,
          -0.9124345858997445,
          1.1530317074144363,
          0.4714579218231528,
          0.48493178299862316,
          -0.35122660893540913,
          2.451773260240074,
          0.9309728827074173,
          -0.8834813115281297,
          -0.24448564745225207,
          0.46071894306278166,
          -2.309648368476434,
          1.7172733786642822,
          0.2073435746324365,
          -0.7662927627171758,
          -0.3838240458423306,
          1.2410093848919947,
          -0.24166136762679763,
          -0.16830385578843002,
          -1.704143002064265,
          -0.9899666399550905,
          -0.2962403884733509,
          -0.1531779038411322,
          0.015868120719419496,
          0.8272629094610052,
          1.868780342551116,
          0.4496997798754286,
          0.1255705622513645,
          -1.0699432646501854,
          1.2467596372794354,
          -0.22818951517464736,
          1.1230267105010945,
          -0.10288297183350929,
          -0.6189159183061426,
          1.13100404498498
         ],
         "xaxis": "x10",
         "y": [
          0.6080779995637853,
          1.7400246486916582,
          -0.13999133244817188,
          0.5352452489269939,
          -0.8607015748953641,
          -0.007577661562544845,
          0.6133874834270073,
          1.042079651193935,
          -1.6496004343838335,
          -0.2772290474878759,
          1.927748188628256,
          0.21679357483834014,
          -0.20041124642629127,
          -0.15735712069223926,
          -0.1396328615527953,
          1.4990379552532895,
          0.2365629551373359,
          -0.12562032481682733,
          1.0285067781204562,
          -0.34642867035988806,
          1.4893699293400513,
          -1.9678488029261485,
          0.11641549389965557,
          -0.447936521222829,
          -0.6317844721599816,
          -1.0620496792256486,
          -0.38036500817521507,
          2.124900554465702,
          0.4176334714155671,
          0.8933949427558404,
          0.9750339799707942,
          0.13396229912448,
          -0.139655695684182,
          0.17145230653256055,
          1.5265891392044315,
          1.5424348038693838,
          1.933135986859975,
          0.20063815169898097,
          2.259911527433026,
          1.7669830001106346,
          1.1264021854414936,
          -0.4326594740578652,
          -0.07852422323803551,
          -0.17367413397700165,
          0.14559273498432715,
          -0.09450610368119483,
          -0.450311635214802,
          0.024483633111631667,
          0.8619034378215645,
          0.37576934786638294,
          0.6604784693060562,
          1.546898477722581,
          -0.31644669207614307,
          1.0751080409363547,
          -1.2545891292729636,
          0.1652974648823601,
          0.04470676810755846,
          -0.2853696671175998,
          0.1073633384432158,
          -1.2434323810760282,
          0.5130174305940749,
          -0.9786133934918884,
          -0.5850284411117955,
          1.0087853298195266,
          0.0936606978721186,
          -0.6137428792942979,
          1.0481297523140083,
          0.11656293160882521,
          0.753428399507512,
          0.24104721358810266,
          -1.8199327065995095,
          -0.6165839730840095,
          -0.19348008375295506,
          0.3977934592352505,
          3.278574831460349,
          -0.28406450546619827,
          0.3198320310456906,
          -0.05262022144420799,
          -0.045281211887611104,
          -0.7173894584996944,
          -0.2513974832277044,
          0.570196634208274,
          0.7948931502537384,
          -0.16873272917163948,
          -0.7565934615943875,
          -0.5168679886509878,
          0.21810968565505992,
          0.9258187116883008,
          -0.6918576365484003,
          -0.7818441109847707,
          -1.851220746970328,
          -0.3652710146348525,
          0.5724495069039409,
          -0.8437185537568656,
          1.2061404955091923,
          1.5015837466076076,
          0.08721080361940686,
          -0.8843929865373923,
          -0.008309018221935336,
          -0.09636389045842066
         ],
         "yaxis": "y10"
        },
        {
         "histfunc": "count",
         "histnorm": "",
         "marker": {
          "color": "rgba(50, 171, 96, 1.0)",
          "line": {
           "color": "#4D5663",
           "width": 1.3
          }
         },
         "name": "C",
         "nbinsx": 10,
         "opacity": 0.8,
         "orientation": "v",
         "type": "histogram",
         "x": [
          0.6080779995637853,
          1.7400246486916582,
          -0.13999133244817188,
          0.5352452489269939,
          -0.8607015748953641,
          -0.007577661562544845,
          0.6133874834270073,
          1.042079651193935,
          -1.6496004343838335,
          -0.2772290474878759,
          1.927748188628256,
          0.21679357483834014,
          -0.20041124642629127,
          -0.15735712069223926,
          -0.1396328615527953,
          1.4990379552532895,
          0.2365629551373359,
          -0.12562032481682733,
          1.0285067781204562,
          -0.34642867035988806,
          1.4893699293400513,
          -1.9678488029261485,
          0.11641549389965557,
          -0.447936521222829,
          -0.6317844721599816,
          -1.0620496792256486,
          -0.38036500817521507,
          2.124900554465702,
          0.4176334714155671,
          0.8933949427558404,
          0.9750339799707942,
          0.13396229912448,
          -0.139655695684182,
          0.17145230653256055,
          1.5265891392044315,
          1.5424348038693838,
          1.933135986859975,
          0.20063815169898097,
          2.259911527433026,
          1.7669830001106346,
          1.1264021854414936,
          -0.4326594740578652,
          -0.07852422323803551,
          -0.17367413397700165,
          0.14559273498432715,
          -0.09450610368119483,
          -0.450311635214802,
          0.024483633111631667,
          0.8619034378215645,
          0.37576934786638294,
          0.6604784693060562,
          1.546898477722581,
          -0.31644669207614307,
          1.0751080409363547,
          -1.2545891292729636,
          0.1652974648823601,
          0.04470676810755846,
          -0.2853696671175998,
          0.1073633384432158,
          -1.2434323810760282,
          0.5130174305940749,
          -0.9786133934918884,
          -0.5850284411117955,
          1.0087853298195266,
          0.0936606978721186,
          -0.6137428792942979,
          1.0481297523140083,
          0.11656293160882521,
          0.753428399507512,
          0.24104721358810266,
          -1.8199327065995095,
          -0.6165839730840095,
          -0.19348008375295506,
          0.3977934592352505,
          3.278574831460349,
          -0.28406450546619827,
          0.3198320310456906,
          -0.05262022144420799,
          -0.045281211887611104,
          -0.7173894584996944,
          -0.2513974832277044,
          0.570196634208274,
          0.7948931502537384,
          -0.16873272917163948,
          -0.7565934615943875,
          -0.5168679886509878,
          0.21810968565505992,
          0.9258187116883008,
          -0.6918576365484003,
          -0.7818441109847707,
          -1.851220746970328,
          -0.3652710146348525,
          0.5724495069039409,
          -0.8437185537568656,
          1.2061404955091923,
          1.5015837466076076,
          0.08721080361940686,
          -0.8843929865373923,
          -0.008309018221935336,
          -0.09636389045842066
         ],
         "xaxis": "x11",
         "yaxis": "y11"
        },
        {
         "line": {
          "color": "rgba(128, 128, 128, 1.0)",
          "dash": "solid",
          "shape": "linear",
          "width": 1.3
         },
         "marker": {
          "size": 2,
          "symbol": "circle"
         },
         "mode": "markers",
         "name": "C",
         "text": "",
         "type": "scatter",
         "x": [
          -1.1249579601855308,
          -0.9410991973950514,
          -0.4486593530065986,
          0.05962675628963897,
          -0.7359737933474149,
          -0.675096201791584,
          1.7012601865464954,
          0.8231840515700299,
          2.172744571974603,
          -0.2527565359843745,
          0.7927540343172109,
          2.2197072906786492,
          -0.6511628526372234,
          0.8193223439928156,
          0.6516281382253095,
          0.8685452291437251,
          0.6358389736160797,
          -1.725000647642552,
          -0.9548547694402619,
          -0.2250370106551404,
          -0.6031803074001773,
          -1.1451469894566473,
          1.041087467399137,
          -0.3075394730177125,
          -0.2592588381211093,
          -2.8125820738342386,
          -0.0630428352508275,
          -0.3139891512226067,
          -1.3806277928090338,
          -0.5894462756846416,
          -0.19046981721009973,
          0.30194209764536145,
          0.5048219239249278,
          0.03314959303712693,
          -1.5740926235873482,
          -0.3731117383420975,
          -0.1009571214456144,
          1.5357839366870487,
          -0.9793053123230482,
          -1.1096657233977292,
          -0.8010288018955751,
          -1.4875981371366593,
          0.3032285438919636,
          -0.36182030149451055,
          -1.6517700174043022,
          0.13418103415995045,
          1.00084507079135,
          0.6068421038293886,
          0.08658120141763168,
          0.4388857146699468,
          -1.0807000730351164,
          -0.5932109569006637,
          -0.39907365255557287,
          -1.0933520086434285,
          -1.3427944876955982,
          -0.17727245731088123,
          0.4808925253600302,
          -1.4361517306499623,
          0.7992133932898633,
          0.20856170080504607,
          0.21941085342067815,
          1.5148555001386816,
          0.8484513347832735,
          -1.2116733713220018,
          0.1955340063223997,
          -1.776340478745634,
          -1.418612300116902,
          -1.0716753413037978,
          -0.2807712413810616,
          0.6031650963682019,
          -0.8779669525616524,
          -0.6391863320491697,
          1.3836299890934498,
          -0.5672799518622996,
          -0.39788998220756727,
          -0.7670622207292299,
          0.7521360122447434,
          0.8729944465064794,
          -0.9399191973480867,
          -0.9827272815293338,
          -0.194207433240659,
          -0.3344311988924336,
          0.61830632122162,
          1.7652146231547032,
          -0.3274961728713471,
          -0.3304967653917048,
          0.35138955656591636,
          0.687833229519024,
          1.2315217044012088,
          0.11417273260536316,
          0.09288758992076684,
          -1.4349095862147714,
          -1.2373597525512348,
          -0.5164076175898568,
          0.7444024881823896,
          1.0799684500455804,
          -1.7683397791652964,
          0.6429445396573226,
          -0.17090259743981126,
          1.8020015892468284
         ],
         "xaxis": "x12",
         "y": [
          0.6080779995637853,
          1.7400246486916582,
          -0.13999133244817188,
          0.5352452489269939,
          -0.8607015748953641,
          -0.007577661562544845,
          0.6133874834270073,
          1.042079651193935,
          -1.6496004343838335,
          -0.2772290474878759,
          1.927748188628256,
          0.21679357483834014,
          -0.20041124642629127,
          -0.15735712069223926,
          -0.1396328615527953,
          1.4990379552532895,
          0.2365629551373359,
          -0.12562032481682733,
          1.0285067781204562,
          -0.34642867035988806,
          1.4893699293400513,
          -1.9678488029261485,
          0.11641549389965557,
          -0.447936521222829,
          -0.6317844721599816,
          -1.0620496792256486,
          -0.38036500817521507,
          2.124900554465702,
          0.4176334714155671,
          0.8933949427558404,
          0.9750339799707942,
          0.13396229912448,
          -0.139655695684182,
          0.17145230653256055,
          1.5265891392044315,
          1.5424348038693838,
          1.933135986859975,
          0.20063815169898097,
          2.259911527433026,
          1.7669830001106346,
          1.1264021854414936,
          -0.4326594740578652,
          -0.07852422323803551,
          -0.17367413397700165,
          0.14559273498432715,
          -0.09450610368119483,
          -0.450311635214802,
          0.024483633111631667,
          0.8619034378215645,
          0.37576934786638294,
          0.6604784693060562,
          1.546898477722581,
          -0.31644669207614307,
          1.0751080409363547,
          -1.2545891292729636,
          0.1652974648823601,
          0.04470676810755846,
          -0.2853696671175998,
          0.1073633384432158,
          -1.2434323810760282,
          0.5130174305940749,
          -0.9786133934918884,
          -0.5850284411117955,
          1.0087853298195266,
          0.0936606978721186,
          -0.6137428792942979,
          1.0481297523140083,
          0.11656293160882521,
          0.753428399507512,
          0.24104721358810266,
          -1.8199327065995095,
          -0.6165839730840095,
          -0.19348008375295506,
          0.3977934592352505,
          3.278574831460349,
          -0.28406450546619827,
          0.3198320310456906,
          -0.05262022144420799,
          -0.045281211887611104,
          -0.7173894584996944,
          -0.2513974832277044,
          0.570196634208274,
          0.7948931502537384,
          -0.16873272917163948,
          -0.7565934615943875,
          -0.5168679886509878,
          0.21810968565505992,
          0.9258187116883008,
          -0.6918576365484003,
          -0.7818441109847707,
          -1.851220746970328,
          -0.3652710146348525,
          0.5724495069039409,
          -0.8437185537568656,
          1.2061404955091923,
          1.5015837466076076,
          0.08721080361940686,
          -0.8843929865373923,
          -0.008309018221935336,
          -0.09636389045842066
         ],
         "yaxis": "y12"
        },
        {
         "line": {
          "color": "rgba(128, 128, 128, 1.0)",
          "dash": "solid",
          "shape": "linear",
          "width": 1.3
         },
         "marker": {
          "size": 2,
          "symbol": "circle"
         },
         "mode": "markers",
         "name": "D",
         "text": "",
         "type": "scatter",
         "x": [
          -0.4948803672448772,
          -1.278606917283569,
          0.07106421334385374,
          1.0619587030601383,
          -1.4440555967233013,
          -0.22858606681894317,
          1.0030057486241948,
          0.04484795456415611,
          1.1619652312215167,
          -0.3063834419687249,
          0.5573171280834106,
          -1.4004848970008938,
          0.07213998245936415,
          -0.1992952156759034,
          0.963590047242657,
          0.1777390611535859,
          0.3189703863207484,
          0.6566964416263336,
          -1.2392354456388477,
          0.6737524737410653,
          1.4126321439046603,
          0.871402533205939,
          -0.8008377075281847,
          0.2066366446481001,
          0.7843129613261675,
          0.3612288487362664,
          0.42751052801441863,
          -1.3907782385950074,
          0.6062586949880656,
          -0.9710333735809482,
          0.47891605023133554,
          1.2337314105990314,
          0.9082028305785744,
          0.8446175169590872,
          0.2213111437943422,
          0.6040793357601695,
          -0.08588004121752364,
          -1.734245229493394,
          0.3647044551034887,
          0.0972210006165413,
          1.5046750299472174,
          -0.2810942500199662,
          3.0486427088955197,
          0.8443707688013775,
          -1.1933916647937377,
          -0.746046118365644,
          -1.1939737089247473,
          0.40617833718975777,
          -2.662736129779989,
          1.1340143561785632,
          -1.3431317646811118,
          -1.5882524199465087,
          -0.6483975035034787,
          1.3152824593173136,
          0.1333759544313208,
          0.30894298034457474,
          -0.6356048656438124,
          1.3659277658214952,
          -0.8456641943132652,
          0.5792996706265964,
          -0.12359290321284937,
          0.3266371728879937,
          1.295394749603058,
          -1.808102978075752,
          1.00915672491599,
          1.0642108345710921,
          1.466414923863723,
          0.8008328209289889,
          -0.09580001650492555,
          -0.38362804920073745,
          1.3351436888107087,
          -1.9884141016609131,
          0.4263071451958101,
          2.2681107757035783,
          0.5787490360176778,
          0.2831479916822075,
          -0.5928277608139828,
          1.0258181150691483,
          0.6891934792638104,
          -1.2325795921811449,
          0.46801777318662463,
          1.1160736213980393,
          -0.7838575266232529,
          1.0298022519136174,
          -0.7014308136007442,
          0.6960023389885786,
          1.1930852729550367,
          -0.4791890698641037,
          -0.3679677031951291,
          0.7966573079412141,
          -0.3211027262453276,
          -0.7608238050371512,
          -0.9710853823227727,
          0.22756984546431366,
          0.35529269618747356,
          -0.9526719129304471,
          -0.303544912011667,
          0.7324609793244885,
          1.2023945170669637,
          1.320809141414054
         ],
         "xaxis": "x13",
         "y": [
          -1.1249579601855308,
          -0.9410991973950514,
          -0.4486593530065986,
          0.05962675628963897,
          -0.7359737933474149,
          -0.675096201791584,
          1.7012601865464954,
          0.8231840515700299,
          2.172744571974603,
          -0.2527565359843745,
          0.7927540343172109,
          2.2197072906786492,
          -0.6511628526372234,
          0.8193223439928156,
          0.6516281382253095,
          0.8685452291437251,
          0.6358389736160797,
          -1.725000647642552,
          -0.9548547694402619,
          -0.2250370106551404,
          -0.6031803074001773,
          -1.1451469894566473,
          1.041087467399137,
          -0.3075394730177125,
          -0.2592588381211093,
          -2.8125820738342386,
          -0.0630428352508275,
          -0.3139891512226067,
          -1.3806277928090338,
          -0.5894462756846416,
          -0.19046981721009973,
          0.30194209764536145,
          0.5048219239249278,
          0.03314959303712693,
          -1.5740926235873482,
          -0.3731117383420975,
          -0.1009571214456144,
          1.5357839366870487,
          -0.9793053123230482,
          -1.1096657233977292,
          -0.8010288018955751,
          -1.4875981371366593,
          0.3032285438919636,
          -0.36182030149451055,
          -1.6517700174043022,
          0.13418103415995045,
          1.00084507079135,
          0.6068421038293886,
          0.08658120141763168,
          0.4388857146699468,
          -1.0807000730351164,
          -0.5932109569006637,
          -0.39907365255557287,
          -1.0933520086434285,
          -1.3427944876955982,
          -0.17727245731088123,
          0.4808925253600302,
          -1.4361517306499623,
          0.7992133932898633,
          0.20856170080504607,
          0.21941085342067815,
          1.5148555001386816,
          0.8484513347832735,
          -1.2116733713220018,
          0.1955340063223997,
          -1.776340478745634,
          -1.418612300116902,
          -1.0716753413037978,
          -0.2807712413810616,
          0.6031650963682019,
          -0.8779669525616524,
          -0.6391863320491697,
          1.3836299890934498,
          -0.5672799518622996,
          -0.39788998220756727,
          -0.7670622207292299,
          0.7521360122447434,
          0.8729944465064794,
          -0.9399191973480867,
          -0.9827272815293338,
          -0.194207433240659,
          -0.3344311988924336,
          0.61830632122162,
          1.7652146231547032,
          -0.3274961728713471,
          -0.3304967653917048,
          0.35138955656591636,
          0.687833229519024,
          1.2315217044012088,
          0.11417273260536316,
          0.09288758992076684,
          -1.4349095862147714,
          -1.2373597525512348,
          -0.5164076175898568,
          0.7444024881823896,
          1.0799684500455804,
          -1.7683397791652964,
          0.6429445396573226,
          -0.17090259743981126,
          1.8020015892468284
         ],
         "yaxis": "y13"
        },
        {
         "line": {
          "color": "rgba(128, 128, 128, 1.0)",
          "dash": "solid",
          "shape": "linear",
          "width": 1.3
         },
         "marker": {
          "size": 2,
          "symbol": "circle"
         },
         "mode": "markers",
         "name": "D",
         "text": "",
         "type": "scatter",
         "x": [
          0.1776044584804704,
          -0.30579446317958037,
          0.13659788724493616,
          0.013966560660043948,
          1.3273022146782885,
          0.4245281639427591,
          0.13993688841338434,
          0.1364806923102963,
          -2.1065412864272086,
          -0.7493121467001574,
          -0.21907401933298437,
          1.3552891173188997,
          1.3823839058712768,
          0.26110714954987385,
          0.6670584552397943,
          0.697742052337499,
          -1.4770059522646852,
          -0.9466999513182942,
          -0.41620999378775114,
          0.23120654972488888,
          0.1053455114042331,
          -1.098711099169789,
          1.4008705791090683,
          -0.434654050392941,
          -1.207128568186926,
          -0.03525291190838535,
          0.14426598640881158,
          -1.6202847005796388,
          0.7627104472323303,
          1.2241416006731294,
          -0.6465533718632971,
          0.7415566179979918,
          -1.428988584175279,
          -1.928358672485835,
          -0.07720665593274657,
          0.5671077245400157,
          -1.795702440431457,
          -0.7941695676657354,
          3.907184367978601,
          1.8762239910918184,
          -0.8640392128710467,
          0.14788580454689232,
          0.4848657485550836,
          -0.39822234778649335,
          -0.2143508229290543,
          0.5421028547170331,
          0.9470213452638643,
          0.6079341780818952,
          0.08236570323112267,
          -0.4206814224407974,
          -0.2751572370420352,
          0.6632291561159293,
          -0.1672811079836468,
          0.84269169025041,
          0.7089604299130701,
          0.2458080265524387,
          -1.5136335159268992,
          -1.1978392671156282,
          -1.618336530284113,
          0.012290688929548993,
          1.619220248352336,
          1.110592869177345,
          0.7018241042017215,
          0.3702183639470843,
          -1.7388309041310908,
          -0.0875310813749589,
          -0.9124345858997445,
          1.1530317074144363,
          0.4714579218231528,
          0.48493178299862316,
          -0.35122660893540913,
          2.451773260240074,
          0.9309728827074173,
          -0.8834813115281297,
          -0.24448564745225207,
          0.46071894306278166,
          -2.309648368476434,
          1.7172733786642822,
          0.2073435746324365,
          -0.7662927627171758,
          -0.3838240458423306,
          1.2410093848919947,
          -0.24166136762679763,
          -0.16830385578843002,
          -1.704143002064265,
          -0.9899666399550905,
          -0.2962403884733509,
          -0.1531779038411322,
          0.015868120719419496,
          0.8272629094610052,
          1.868780342551116,
          0.4496997798754286,
          0.1255705622513645,
          -1.0699432646501854,
          1.2467596372794354,
          -0.22818951517464736,
          1.1230267105010945,
          -0.10288297183350929,
          -0.6189159183061426,
          1.13100404498498
         ],
         "xaxis": "x14",
         "y": [
          -1.1249579601855308,
          -0.9410991973950514,
          -0.4486593530065986,
          0.05962675628963897,
          -0.7359737933474149,
          -0.675096201791584,
          1.7012601865464954,
          0.8231840515700299,
          2.172744571974603,
          -0.2527565359843745,
          0.7927540343172109,
          2.2197072906786492,
          -0.6511628526372234,
          0.8193223439928156,
          0.6516281382253095,
          0.8685452291437251,
          0.6358389736160797,
          -1.725000647642552,
          -0.9548547694402619,
          -0.2250370106551404,
          -0.6031803074001773,
          -1.1451469894566473,
          1.041087467399137,
          -0.3075394730177125,
          -0.2592588381211093,
          -2.8125820738342386,
          -0.0630428352508275,
          -0.3139891512226067,
          -1.3806277928090338,
          -0.5894462756846416,
          -0.19046981721009973,
          0.30194209764536145,
          0.5048219239249278,
          0.03314959303712693,
          -1.5740926235873482,
          -0.3731117383420975,
          -0.1009571214456144,
          1.5357839366870487,
          -0.9793053123230482,
          -1.1096657233977292,
          -0.8010288018955751,
          -1.4875981371366593,
          0.3032285438919636,
          -0.36182030149451055,
          -1.6517700174043022,
          0.13418103415995045,
          1.00084507079135,
          0.6068421038293886,
          0.08658120141763168,
          0.4388857146699468,
          -1.0807000730351164,
          -0.5932109569006637,
          -0.39907365255557287,
          -1.0933520086434285,
          -1.3427944876955982,
          -0.17727245731088123,
          0.4808925253600302,
          -1.4361517306499623,
          0.7992133932898633,
          0.20856170080504607,
          0.21941085342067815,
          1.5148555001386816,
          0.8484513347832735,
          -1.2116733713220018,
          0.1955340063223997,
          -1.776340478745634,
          -1.418612300116902,
          -1.0716753413037978,
          -0.2807712413810616,
          0.6031650963682019,
          -0.8779669525616524,
          -0.6391863320491697,
          1.3836299890934498,
          -0.5672799518622996,
          -0.39788998220756727,
          -0.7670622207292299,
          0.7521360122447434,
          0.8729944465064794,
          -0.9399191973480867,
          -0.9827272815293338,
          -0.194207433240659,
          -0.3344311988924336,
          0.61830632122162,
          1.7652146231547032,
          -0.3274961728713471,
          -0.3304967653917048,
          0.35138955656591636,
          0.687833229519024,
          1.2315217044012088,
          0.11417273260536316,
          0.09288758992076684,
          -1.4349095862147714,
          -1.2373597525512348,
          -0.5164076175898568,
          0.7444024881823896,
          1.0799684500455804,
          -1.7683397791652964,
          0.6429445396573226,
          -0.17090259743981126,
          1.8020015892468284
         ],
         "yaxis": "y14"
        },
        {
         "line": {
          "color": "rgba(128, 128, 128, 1.0)",
          "dash": "solid",
          "shape": "linear",
          "width": 1.3
         },
         "marker": {
          "size": 2,
          "symbol": "circle"
         },
         "mode": "markers",
         "name": "D",
         "text": "",
         "type": "scatter",
         "x": [
          0.6080779995637853,
          1.7400246486916582,
          -0.13999133244817188,
          0.5352452489269939,
          -0.8607015748953641,
          -0.007577661562544845,
          0.6133874834270073,
          1.042079651193935,
          -1.6496004343838335,
          -0.2772290474878759,
          1.927748188628256,
          0.21679357483834014,
          -0.20041124642629127,
          -0.15735712069223926,
          -0.1396328615527953,
          1.4990379552532895,
          0.2365629551373359,
          -0.12562032481682733,
          1.0285067781204562,
          -0.34642867035988806,
          1.4893699293400513,
          -1.9678488029261485,
          0.11641549389965557,
          -0.447936521222829,
          -0.6317844721599816,
          -1.0620496792256486,
          -0.38036500817521507,
          2.124900554465702,
          0.4176334714155671,
          0.8933949427558404,
          0.9750339799707942,
          0.13396229912448,
          -0.139655695684182,
          0.17145230653256055,
          1.5265891392044315,
          1.5424348038693838,
          1.933135986859975,
          0.20063815169898097,
          2.259911527433026,
          1.7669830001106346,
          1.1264021854414936,
          -0.4326594740578652,
          -0.07852422323803551,
          -0.17367413397700165,
          0.14559273498432715,
          -0.09450610368119483,
          -0.450311635214802,
          0.024483633111631667,
          0.8619034378215645,
          0.37576934786638294,
          0.6604784693060562,
          1.546898477722581,
          -0.31644669207614307,
          1.0751080409363547,
          -1.2545891292729636,
          0.1652974648823601,
          0.04470676810755846,
          -0.2853696671175998,
          0.1073633384432158,
          -1.2434323810760282,
          0.5130174305940749,
          -0.9786133934918884,
          -0.5850284411117955,
          1.0087853298195266,
          0.0936606978721186,
          -0.6137428792942979,
          1.0481297523140083,
          0.11656293160882521,
          0.753428399507512,
          0.24104721358810266,
          -1.8199327065995095,
          -0.6165839730840095,
          -0.19348008375295506,
          0.3977934592352505,
          3.278574831460349,
          -0.28406450546619827,
          0.3198320310456906,
          -0.05262022144420799,
          -0.045281211887611104,
          -0.7173894584996944,
          -0.2513974832277044,
          0.570196634208274,
          0.7948931502537384,
          -0.16873272917163948,
          -0.7565934615943875,
          -0.5168679886509878,
          0.21810968565505992,
          0.9258187116883008,
          -0.6918576365484003,
          -0.7818441109847707,
          -1.851220746970328,
          -0.3652710146348525,
          0.5724495069039409,
          -0.8437185537568656,
          1.2061404955091923,
          1.5015837466076076,
          0.08721080361940686,
          -0.8843929865373923,
          -0.008309018221935336,
          -0.09636389045842066
         ],
         "xaxis": "x15",
         "y": [
          -1.1249579601855308,
          -0.9410991973950514,
          -0.4486593530065986,
          0.05962675628963897,
          -0.7359737933474149,
          -0.675096201791584,
          1.7012601865464954,
          0.8231840515700299,
          2.172744571974603,
          -0.2527565359843745,
          0.7927540343172109,
          2.2197072906786492,
          -0.6511628526372234,
          0.8193223439928156,
          0.6516281382253095,
          0.8685452291437251,
          0.6358389736160797,
          -1.725000647642552,
          -0.9548547694402619,
          -0.2250370106551404,
          -0.6031803074001773,
          -1.1451469894566473,
          1.041087467399137,
          -0.3075394730177125,
          -0.2592588381211093,
          -2.8125820738342386,
          -0.0630428352508275,
          -0.3139891512226067,
          -1.3806277928090338,
          -0.5894462756846416,
          -0.19046981721009973,
          0.30194209764536145,
          0.5048219239249278,
          0.03314959303712693,
          -1.5740926235873482,
          -0.3731117383420975,
          -0.1009571214456144,
          1.5357839366870487,
          -0.9793053123230482,
          -1.1096657233977292,
          -0.8010288018955751,
          -1.4875981371366593,
          0.3032285438919636,
          -0.36182030149451055,
          -1.6517700174043022,
          0.13418103415995045,
          1.00084507079135,
          0.6068421038293886,
          0.08658120141763168,
          0.4388857146699468,
          -1.0807000730351164,
          -0.5932109569006637,
          -0.39907365255557287,
          -1.0933520086434285,
          -1.3427944876955982,
          -0.17727245731088123,
          0.4808925253600302,
          -1.4361517306499623,
          0.7992133932898633,
          0.20856170080504607,
          0.21941085342067815,
          1.5148555001386816,
          0.8484513347832735,
          -1.2116733713220018,
          0.1955340063223997,
          -1.776340478745634,
          -1.418612300116902,
          -1.0716753413037978,
          -0.2807712413810616,
          0.6031650963682019,
          -0.8779669525616524,
          -0.6391863320491697,
          1.3836299890934498,
          -0.5672799518622996,
          -0.39788998220756727,
          -0.7670622207292299,
          0.7521360122447434,
          0.8729944465064794,
          -0.9399191973480867,
          -0.9827272815293338,
          -0.194207433240659,
          -0.3344311988924336,
          0.61830632122162,
          1.7652146231547032,
          -0.3274961728713471,
          -0.3304967653917048,
          0.35138955656591636,
          0.687833229519024,
          1.2315217044012088,
          0.11417273260536316,
          0.09288758992076684,
          -1.4349095862147714,
          -1.2373597525512348,
          -0.5164076175898568,
          0.7444024881823896,
          1.0799684500455804,
          -1.7683397791652964,
          0.6429445396573226,
          -0.17090259743981126,
          1.8020015892468284
         ],
         "yaxis": "y15"
        },
        {
         "histfunc": "count",
         "histnorm": "",
         "marker": {
          "color": "rgba(128, 0, 128, 1.0)",
          "line": {
           "color": "#4D5663",
           "width": 1.3
          }
         },
         "name": "D",
         "nbinsx": 10,
         "opacity": 0.8,
         "orientation": "v",
         "type": "histogram",
         "x": [
          -1.1249579601855308,
          -0.9410991973950514,
          -0.4486593530065986,
          0.05962675628963897,
          -0.7359737933474149,
          -0.675096201791584,
          1.7012601865464954,
          0.8231840515700299,
          2.172744571974603,
          -0.2527565359843745,
          0.7927540343172109,
          2.2197072906786492,
          -0.6511628526372234,
          0.8193223439928156,
          0.6516281382253095,
          0.8685452291437251,
          0.6358389736160797,
          -1.725000647642552,
          -0.9548547694402619,
          -0.2250370106551404,
          -0.6031803074001773,
          -1.1451469894566473,
          1.041087467399137,
          -0.3075394730177125,
          -0.2592588381211093,
          -2.8125820738342386,
          -0.0630428352508275,
          -0.3139891512226067,
          -1.3806277928090338,
          -0.5894462756846416,
          -0.19046981721009973,
          0.30194209764536145,
          0.5048219239249278,
          0.03314959303712693,
          -1.5740926235873482,
          -0.3731117383420975,
          -0.1009571214456144,
          1.5357839366870487,
          -0.9793053123230482,
          -1.1096657233977292,
          -0.8010288018955751,
          -1.4875981371366593,
          0.3032285438919636,
          -0.36182030149451055,
          -1.6517700174043022,
          0.13418103415995045,
          1.00084507079135,
          0.6068421038293886,
          0.08658120141763168,
          0.4388857146699468,
          -1.0807000730351164,
          -0.5932109569006637,
          -0.39907365255557287,
          -1.0933520086434285,
          -1.3427944876955982,
          -0.17727245731088123,
          0.4808925253600302,
          -1.4361517306499623,
          0.7992133932898633,
          0.20856170080504607,
          0.21941085342067815,
          1.5148555001386816,
          0.8484513347832735,
          -1.2116733713220018,
          0.1955340063223997,
          -1.776340478745634,
          -1.418612300116902,
          -1.0716753413037978,
          -0.2807712413810616,
          0.6031650963682019,
          -0.8779669525616524,
          -0.6391863320491697,
          1.3836299890934498,
          -0.5672799518622996,
          -0.39788998220756727,
          -0.7670622207292299,
          0.7521360122447434,
          0.8729944465064794,
          -0.9399191973480867,
          -0.9827272815293338,
          -0.194207433240659,
          -0.3344311988924336,
          0.61830632122162,
          1.7652146231547032,
          -0.3274961728713471,
          -0.3304967653917048,
          0.35138955656591636,
          0.687833229519024,
          1.2315217044012088,
          0.11417273260536316,
          0.09288758992076684,
          -1.4349095862147714,
          -1.2373597525512348,
          -0.5164076175898568,
          0.7444024881823896,
          1.0799684500455804,
          -1.7683397791652964,
          0.6429445396573226,
          -0.17090259743981126,
          1.8020015892468284
         ],
         "xaxis": "x16",
         "yaxis": "y16"
        }
       ],
       "layout": {
        "bargap": 0.02,
        "legend": {
         "bgcolor": "#F5F6F9",
         "font": {
          "color": "#4D5663"
         }
        },
        "paper_bgcolor": "#F5F6F9",
        "plot_bgcolor": "#F5F6F9",
        "showlegend": false,
        "template": {
         "data": {
          "bar": [
           {
            "error_x": {
             "color": "#2a3f5f"
            },
            "error_y": {
             "color": "#2a3f5f"
            },
            "marker": {
             "line": {
              "color": "#E5ECF6",
              "width": 0.5
             },
             "pattern": {
              "fillmode": "overlay",
              "size": 10,
              "solidity": 0.2
             }
            },
            "type": "bar"
           }
          ],
          "barpolar": [
           {
            "marker": {
             "line": {
              "color": "#E5ECF6",
              "width": 0.5
             },
             "pattern": {
              "fillmode": "overlay",
              "size": 10,
              "solidity": 0.2
             }
            },
            "type": "barpolar"
           }
          ],
          "carpet": [
           {
            "aaxis": {
             "endlinecolor": "#2a3f5f",
             "gridcolor": "white",
             "linecolor": "white",
             "minorgridcolor": "white",
             "startlinecolor": "#2a3f5f"
            },
            "baxis": {
             "endlinecolor": "#2a3f5f",
             "gridcolor": "white",
             "linecolor": "white",
             "minorgridcolor": "white",
             "startlinecolor": "#2a3f5f"
            },
            "type": "carpet"
           }
          ],
          "choropleth": [
           {
            "colorbar": {
             "outlinewidth": 0,
             "ticks": ""
            },
            "type": "choropleth"
           }
          ],
          "contour": [
           {
            "colorbar": {
             "outlinewidth": 0,
             "ticks": ""
            },
            "colorscale": [
             [
              0,
              "#0d0887"
             ],
             [
              0.1111111111111111,
              "#46039f"
             ],
             [
              0.2222222222222222,
              "#7201a8"
             ],
             [
              0.3333333333333333,
              "#9c179e"
             ],
             [
              0.4444444444444444,
              "#bd3786"
             ],
             [
              0.5555555555555556,
              "#d8576b"
             ],
             [
              0.6666666666666666,
              "#ed7953"
             ],
             [
              0.7777777777777778,
              "#fb9f3a"
             ],
             [
              0.8888888888888888,
              "#fdca26"
             ],
             [
              1,
              "#f0f921"
             ]
            ],
            "type": "contour"
           }
          ],
          "contourcarpet": [
           {
            "colorbar": {
             "outlinewidth": 0,
             "ticks": ""
            },
            "type": "contourcarpet"
           }
          ],
          "heatmap": [
           {
            "colorbar": {
             "outlinewidth": 0,
             "ticks": ""
            },
            "colorscale": [
             [
              0,
              "#0d0887"
             ],
             [
              0.1111111111111111,
              "#46039f"
             ],
             [
              0.2222222222222222,
              "#7201a8"
             ],
             [
              0.3333333333333333,
              "#9c179e"
             ],
             [
              0.4444444444444444,
              "#bd3786"
             ],
             [
              0.5555555555555556,
              "#d8576b"
             ],
             [
              0.6666666666666666,
              "#ed7953"
             ],
             [
              0.7777777777777778,
              "#fb9f3a"
             ],
             [
              0.8888888888888888,
              "#fdca26"
             ],
             [
              1,
              "#f0f921"
             ]
            ],
            "type": "heatmap"
           }
          ],
          "heatmapgl": [
           {
            "colorbar": {
             "outlinewidth": 0,
             "ticks": ""
            },
            "colorscale": [
             [
              0,
              "#0d0887"
             ],
             [
              0.1111111111111111,
              "#46039f"
             ],
             [
              0.2222222222222222,
              "#7201a8"
             ],
             [
              0.3333333333333333,
              "#9c179e"
             ],
             [
              0.4444444444444444,
              "#bd3786"
             ],
             [
              0.5555555555555556,
              "#d8576b"
             ],
             [
              0.6666666666666666,
              "#ed7953"
             ],
             [
              0.7777777777777778,
              "#fb9f3a"
             ],
             [
              0.8888888888888888,
              "#fdca26"
             ],
             [
              1,
              "#f0f921"
             ]
            ],
            "type": "heatmapgl"
           }
          ],
          "histogram": [
           {
            "marker": {
             "pattern": {
              "fillmode": "overlay",
              "size": 10,
              "solidity": 0.2
             }
            },
            "type": "histogram"
           }
          ],
          "histogram2d": [
           {
            "colorbar": {
             "outlinewidth": 0,
             "ticks": ""
            },
            "colorscale": [
             [
              0,
              "#0d0887"
             ],
             [
              0.1111111111111111,
              "#46039f"
             ],
             [
              0.2222222222222222,
              "#7201a8"
             ],
             [
              0.3333333333333333,
              "#9c179e"
             ],
             [
              0.4444444444444444,
              "#bd3786"
             ],
             [
              0.5555555555555556,
              "#d8576b"
             ],
             [
              0.6666666666666666,
              "#ed7953"
             ],
             [
              0.7777777777777778,
              "#fb9f3a"
             ],
             [
              0.8888888888888888,
              "#fdca26"
             ],
             [
              1,
              "#f0f921"
             ]
            ],
            "type": "histogram2d"
           }
          ],
          "histogram2dcontour": [
           {
            "colorbar": {
             "outlinewidth": 0,
             "ticks": ""
            },
            "colorscale": [
             [
              0,
              "#0d0887"
             ],
             [
              0.1111111111111111,
              "#46039f"
             ],
             [
              0.2222222222222222,
              "#7201a8"
             ],
             [
              0.3333333333333333,
              "#9c179e"
             ],
             [
              0.4444444444444444,
              "#bd3786"
             ],
             [
              0.5555555555555556,
              "#d8576b"
             ],
             [
              0.6666666666666666,
              "#ed7953"
             ],
             [
              0.7777777777777778,
              "#fb9f3a"
             ],
             [
              0.8888888888888888,
              "#fdca26"
             ],
             [
              1,
              "#f0f921"
             ]
            ],
            "type": "histogram2dcontour"
           }
          ],
          "mesh3d": [
           {
            "colorbar": {
             "outlinewidth": 0,
             "ticks": ""
            },
            "type": "mesh3d"
           }
          ],
          "parcoords": [
           {
            "line": {
             "colorbar": {
              "outlinewidth": 0,
              "ticks": ""
             }
            },
            "type": "parcoords"
           }
          ],
          "pie": [
           {
            "automargin": true,
            "type": "pie"
           }
          ],
          "scatter": [
           {
            "fillpattern": {
             "fillmode": "overlay",
             "size": 10,
             "solidity": 0.2
            },
            "type": "scatter"
           }
          ],
          "scatter3d": [
           {
            "line": {
             "colorbar": {
              "outlinewidth": 0,
              "ticks": ""
             }
            },
            "marker": {
             "colorbar": {
              "outlinewidth": 0,
              "ticks": ""
             }
            },
            "type": "scatter3d"
           }
          ],
          "scattercarpet": [
           {
            "marker": {
             "colorbar": {
              "outlinewidth": 0,
              "ticks": ""
             }
            },
            "type": "scattercarpet"
           }
          ],
          "scattergeo": [
           {
            "marker": {
             "colorbar": {
              "outlinewidth": 0,
              "ticks": ""
             }
            },
            "type": "scattergeo"
           }
          ],
          "scattergl": [
           {
            "marker": {
             "colorbar": {
              "outlinewidth": 0,
              "ticks": ""
             }
            },
            "type": "scattergl"
           }
          ],
          "scattermapbox": [
           {
            "marker": {
             "colorbar": {
              "outlinewidth": 0,
              "ticks": ""
             }
            },
            "type": "scattermapbox"
           }
          ],
          "scatterpolar": [
           {
            "marker": {
             "colorbar": {
              "outlinewidth": 0,
              "ticks": ""
             }
            },
            "type": "scatterpolar"
           }
          ],
          "scatterpolargl": [
           {
            "marker": {
             "colorbar": {
              "outlinewidth": 0,
              "ticks": ""
             }
            },
            "type": "scatterpolargl"
           }
          ],
          "scatterternary": [
           {
            "marker": {
             "colorbar": {
              "outlinewidth": 0,
              "ticks": ""
             }
            },
            "type": "scatterternary"
           }
          ],
          "surface": [
           {
            "colorbar": {
             "outlinewidth": 0,
             "ticks": ""
            },
            "colorscale": [
             [
              0,
              "#0d0887"
             ],
             [
              0.1111111111111111,
              "#46039f"
             ],
             [
              0.2222222222222222,
              "#7201a8"
             ],
             [
              0.3333333333333333,
              "#9c179e"
             ],
             [
              0.4444444444444444,
              "#bd3786"
             ],
             [
              0.5555555555555556,
              "#d8576b"
             ],
             [
              0.6666666666666666,
              "#ed7953"
             ],
             [
              0.7777777777777778,
              "#fb9f3a"
             ],
             [
              0.8888888888888888,
              "#fdca26"
             ],
             [
              1,
              "#f0f921"
             ]
            ],
            "type": "surface"
           }
          ],
          "table": [
           {
            "cells": {
             "fill": {
              "color": "#EBF0F8"
             },
             "line": {
              "color": "white"
             }
            },
            "header": {
             "fill": {
              "color": "#C8D4E3"
             },
             "line": {
              "color": "white"
             }
            },
            "type": "table"
           }
          ]
         },
         "layout": {
          "annotationdefaults": {
           "arrowcolor": "#2a3f5f",
           "arrowhead": 0,
           "arrowwidth": 1
          },
          "autotypenumbers": "strict",
          "coloraxis": {
           "colorbar": {
            "outlinewidth": 0,
            "ticks": ""
           }
          },
          "colorscale": {
           "diverging": [
            [
             0,
             "#8e0152"
            ],
            [
             0.1,
             "#c51b7d"
            ],
            [
             0.2,
             "#de77ae"
            ],
            [
             0.3,
             "#f1b6da"
            ],
            [
             0.4,
             "#fde0ef"
            ],
            [
             0.5,
             "#f7f7f7"
            ],
            [
             0.6,
             "#e6f5d0"
            ],
            [
             0.7,
             "#b8e186"
            ],
            [
             0.8,
             "#7fbc41"
            ],
            [
             0.9,
             "#4d9221"
            ],
            [
             1,
             "#276419"
            ]
           ],
           "sequential": [
            [
             0,
             "#0d0887"
            ],
            [
             0.1111111111111111,
             "#46039f"
            ],
            [
             0.2222222222222222,
             "#7201a8"
            ],
            [
             0.3333333333333333,
             "#9c179e"
            ],
            [
             0.4444444444444444,
             "#bd3786"
            ],
            [
             0.5555555555555556,
             "#d8576b"
            ],
            [
             0.6666666666666666,
             "#ed7953"
            ],
            [
             0.7777777777777778,
             "#fb9f3a"
            ],
            [
             0.8888888888888888,
             "#fdca26"
            ],
            [
             1,
             "#f0f921"
            ]
           ],
           "sequentialminus": [
            [
             0,
             "#0d0887"
            ],
            [
             0.1111111111111111,
             "#46039f"
            ],
            [
             0.2222222222222222,
             "#7201a8"
            ],
            [
             0.3333333333333333,
             "#9c179e"
            ],
            [
             0.4444444444444444,
             "#bd3786"
            ],
            [
             0.5555555555555556,
             "#d8576b"
            ],
            [
             0.6666666666666666,
             "#ed7953"
            ],
            [
             0.7777777777777778,
             "#fb9f3a"
            ],
            [
             0.8888888888888888,
             "#fdca26"
            ],
            [
             1,
             "#f0f921"
            ]
           ]
          },
          "colorway": [
           "#636efa",
           "#EF553B",
           "#00cc96",
           "#ab63fa",
           "#FFA15A",
           "#19d3f3",
           "#FF6692",
           "#B6E880",
           "#FF97FF",
           "#FECB52"
          ],
          "font": {
           "color": "#2a3f5f"
          },
          "geo": {
           "bgcolor": "white",
           "lakecolor": "white",
           "landcolor": "#E5ECF6",
           "showlakes": true,
           "showland": true,
           "subunitcolor": "white"
          },
          "hoverlabel": {
           "align": "left"
          },
          "hovermode": "closest",
          "mapbox": {
           "style": "light"
          },
          "paper_bgcolor": "white",
          "plot_bgcolor": "#E5ECF6",
          "polar": {
           "angularaxis": {
            "gridcolor": "white",
            "linecolor": "white",
            "ticks": ""
           },
           "bgcolor": "#E5ECF6",
           "radialaxis": {
            "gridcolor": "white",
            "linecolor": "white",
            "ticks": ""
           }
          },
          "scene": {
           "xaxis": {
            "backgroundcolor": "#E5ECF6",
            "gridcolor": "white",
            "gridwidth": 2,
            "linecolor": "white",
            "showbackground": true,
            "ticks": "",
            "zerolinecolor": "white"
           },
           "yaxis": {
            "backgroundcolor": "#E5ECF6",
            "gridcolor": "white",
            "gridwidth": 2,
            "linecolor": "white",
            "showbackground": true,
            "ticks": "",
            "zerolinecolor": "white"
           },
           "zaxis": {
            "backgroundcolor": "#E5ECF6",
            "gridcolor": "white",
            "gridwidth": 2,
            "linecolor": "white",
            "showbackground": true,
            "ticks": "",
            "zerolinecolor": "white"
           }
          },
          "shapedefaults": {
           "line": {
            "color": "#2a3f5f"
           }
          },
          "ternary": {
           "aaxis": {
            "gridcolor": "white",
            "linecolor": "white",
            "ticks": ""
           },
           "baxis": {
            "gridcolor": "white",
            "linecolor": "white",
            "ticks": ""
           },
           "bgcolor": "#E5ECF6",
           "caxis": {
            "gridcolor": "white",
            "linecolor": "white",
            "ticks": ""
           }
          },
          "title": {
           "x": 0.05
          },
          "xaxis": {
           "automargin": true,
           "gridcolor": "white",
           "linecolor": "white",
           "ticks": "",
           "title": {
            "standoff": 15
           },
           "zerolinecolor": "white",
           "zerolinewidth": 2
          },
          "yaxis": {
           "automargin": true,
           "gridcolor": "white",
           "linecolor": "white",
           "ticks": "",
           "title": {
            "standoff": 15
           },
           "zerolinecolor": "white",
           "zerolinewidth": 2
          }
         }
        },
        "title": {
         "font": {
          "color": "#4D5663"
         }
        },
        "xaxis": {
         "anchor": "y",
         "domain": [
          0,
          0.2125
         ],
         "gridcolor": "#E1E5ED",
         "showgrid": false,
         "tickfont": {
          "color": "#4D5663"
         },
         "title": {
          "font": {
           "color": "#4D5663"
          },
          "text": ""
         },
         "zerolinecolor": "#E1E5ED"
        },
        "xaxis10": {
         "anchor": "y10",
         "domain": [
          0.2625,
          0.475
         ],
         "gridcolor": "#E1E5ED",
         "showgrid": false,
         "tickfont": {
          "color": "#4D5663"
         },
         "title": {
          "font": {
           "color": "#4D5663"
          },
          "text": ""
         },
         "zerolinecolor": "#E1E5ED"
        },
        "xaxis11": {
         "anchor": "y11",
         "domain": [
          0.525,
          0.7375
         ],
         "gridcolor": "#E1E5ED",
         "showgrid": false,
         "tickfont": {
          "color": "#4D5663"
         },
         "title": {
          "font": {
           "color": "#4D5663"
          },
          "text": ""
         },
         "zerolinecolor": "#E1E5ED"
        },
        "xaxis12": {
         "anchor": "y12",
         "domain": [
          0.7875,
          1
         ],
         "gridcolor": "#E1E5ED",
         "showgrid": false,
         "tickfont": {
          "color": "#4D5663"
         },
         "title": {
          "font": {
           "color": "#4D5663"
          },
          "text": ""
         },
         "zerolinecolor": "#E1E5ED"
        },
        "xaxis13": {
         "anchor": "y13",
         "domain": [
          0,
          0.2125
         ],
         "gridcolor": "#E1E5ED",
         "showgrid": false,
         "tickfont": {
          "color": "#4D5663"
         },
         "title": {
          "font": {
           "color": "#4D5663"
          },
          "text": ""
         },
         "zerolinecolor": "#E1E5ED"
        },
        "xaxis14": {
         "anchor": "y14",
         "domain": [
          0.2625,
          0.475
         ],
         "gridcolor": "#E1E5ED",
         "showgrid": false,
         "tickfont": {
          "color": "#4D5663"
         },
         "title": {
          "font": {
           "color": "#4D5663"
          },
          "text": ""
         },
         "zerolinecolor": "#E1E5ED"
        },
        "xaxis15": {
         "anchor": "y15",
         "domain": [
          0.525,
          0.7375
         ],
         "gridcolor": "#E1E5ED",
         "showgrid": false,
         "tickfont": {
          "color": "#4D5663"
         },
         "title": {
          "font": {
           "color": "#4D5663"
          },
          "text": ""
         },
         "zerolinecolor": "#E1E5ED"
        },
        "xaxis16": {
         "anchor": "y16",
         "domain": [
          0.7875,
          1
         ],
         "gridcolor": "#E1E5ED",
         "showgrid": false,
         "tickfont": {
          "color": "#4D5663"
         },
         "title": {
          "font": {
           "color": "#4D5663"
          },
          "text": ""
         },
         "zerolinecolor": "#E1E5ED"
        },
        "xaxis2": {
         "anchor": "y2",
         "domain": [
          0.2625,
          0.475
         ],
         "gridcolor": "#E1E5ED",
         "showgrid": false,
         "tickfont": {
          "color": "#4D5663"
         },
         "title": {
          "font": {
           "color": "#4D5663"
          },
          "text": ""
         },
         "zerolinecolor": "#E1E5ED"
        },
        "xaxis3": {
         "anchor": "y3",
         "domain": [
          0.525,
          0.7375
         ],
         "gridcolor": "#E1E5ED",
         "showgrid": false,
         "tickfont": {
          "color": "#4D5663"
         },
         "title": {
          "font": {
           "color": "#4D5663"
          },
          "text": ""
         },
         "zerolinecolor": "#E1E5ED"
        },
        "xaxis4": {
         "anchor": "y4",
         "domain": [
          0.7875,
          1
         ],
         "gridcolor": "#E1E5ED",
         "showgrid": false,
         "tickfont": {
          "color": "#4D5663"
         },
         "title": {
          "font": {
           "color": "#4D5663"
          },
          "text": ""
         },
         "zerolinecolor": "#E1E5ED"
        },
        "xaxis5": {
         "anchor": "y5",
         "domain": [
          0,
          0.2125
         ],
         "gridcolor": "#E1E5ED",
         "showgrid": false,
         "tickfont": {
          "color": "#4D5663"
         },
         "title": {
          "font": {
           "color": "#4D5663"
          },
          "text": ""
         },
         "zerolinecolor": "#E1E5ED"
        },
        "xaxis6": {
         "anchor": "y6",
         "domain": [
          0.2625,
          0.475
         ],
         "gridcolor": "#E1E5ED",
         "showgrid": false,
         "tickfont": {
          "color": "#4D5663"
         },
         "title": {
          "font": {
           "color": "#4D5663"
          },
          "text": ""
         },
         "zerolinecolor": "#E1E5ED"
        },
        "xaxis7": {
         "anchor": "y7",
         "domain": [
          0.525,
          0.7375
         ],
         "gridcolor": "#E1E5ED",
         "showgrid": false,
         "tickfont": {
          "color": "#4D5663"
         },
         "title": {
          "font": {
           "color": "#4D5663"
          },
          "text": ""
         },
         "zerolinecolor": "#E1E5ED"
        },
        "xaxis8": {
         "anchor": "y8",
         "domain": [
          0.7875,
          1
         ],
         "gridcolor": "#E1E5ED",
         "showgrid": false,
         "tickfont": {
          "color": "#4D5663"
         },
         "title": {
          "font": {
           "color": "#4D5663"
          },
          "text": ""
         },
         "zerolinecolor": "#E1E5ED"
        },
        "xaxis9": {
         "anchor": "y9",
         "domain": [
          0,
          0.2125
         ],
         "gridcolor": "#E1E5ED",
         "showgrid": false,
         "tickfont": {
          "color": "#4D5663"
         },
         "title": {
          "font": {
           "color": "#4D5663"
          },
          "text": ""
         },
         "zerolinecolor": "#E1E5ED"
        },
        "yaxis": {
         "anchor": "x",
         "domain": [
          0.8025,
          1
         ],
         "gridcolor": "#E1E5ED",
         "showgrid": false,
         "tickfont": {
          "color": "#4D5663"
         },
         "title": {
          "font": {
           "color": "#4D5663"
          },
          "text": ""
         },
         "zerolinecolor": "#E1E5ED"
        },
        "yaxis10": {
         "anchor": "x10",
         "domain": [
          0.2675,
          0.465
         ],
         "gridcolor": "#E1E5ED",
         "showgrid": false,
         "tickfont": {
          "color": "#4D5663"
         },
         "title": {
          "font": {
           "color": "#4D5663"
          },
          "text": ""
         },
         "zerolinecolor": "#E1E5ED"
        },
        "yaxis11": {
         "anchor": "x11",
         "domain": [
          0.2675,
          0.465
         ],
         "gridcolor": "#E1E5ED",
         "showgrid": false,
         "tickfont": {
          "color": "#4D5663"
         },
         "title": {
          "font": {
           "color": "#4D5663"
          },
          "text": ""
         },
         "zerolinecolor": "#E1E5ED"
        },
        "yaxis12": {
         "anchor": "x12",
         "domain": [
          0.2675,
          0.465
         ],
         "gridcolor": "#E1E5ED",
         "showgrid": false,
         "tickfont": {
          "color": "#4D5663"
         },
         "title": {
          "font": {
           "color": "#4D5663"
          },
          "text": ""
         },
         "zerolinecolor": "#E1E5ED"
        },
        "yaxis13": {
         "anchor": "x13",
         "domain": [
          0,
          0.1975
         ],
         "gridcolor": "#E1E5ED",
         "showgrid": false,
         "tickfont": {
          "color": "#4D5663"
         },
         "title": {
          "font": {
           "color": "#4D5663"
          },
          "text": ""
         },
         "zerolinecolor": "#E1E5ED"
        },
        "yaxis14": {
         "anchor": "x14",
         "domain": [
          0,
          0.1975
         ],
         "gridcolor": "#E1E5ED",
         "showgrid": false,
         "tickfont": {
          "color": "#4D5663"
         },
         "title": {
          "font": {
           "color": "#4D5663"
          },
          "text": ""
         },
         "zerolinecolor": "#E1E5ED"
        },
        "yaxis15": {
         "anchor": "x15",
         "domain": [
          0,
          0.1975
         ],
         "gridcolor": "#E1E5ED",
         "showgrid": false,
         "tickfont": {
          "color": "#4D5663"
         },
         "title": {
          "font": {
           "color": "#4D5663"
          },
          "text": ""
         },
         "zerolinecolor": "#E1E5ED"
        },
        "yaxis16": {
         "anchor": "x16",
         "domain": [
          0,
          0.1975
         ],
         "gridcolor": "#E1E5ED",
         "showgrid": false,
         "tickfont": {
          "color": "#4D5663"
         },
         "title": {
          "font": {
           "color": "#4D5663"
          },
          "text": ""
         },
         "zerolinecolor": "#E1E5ED"
        },
        "yaxis2": {
         "anchor": "x2",
         "domain": [
          0.8025,
          1
         ],
         "gridcolor": "#E1E5ED",
         "showgrid": false,
         "tickfont": {
          "color": "#4D5663"
         },
         "title": {
          "font": {
           "color": "#4D5663"
          },
          "text": ""
         },
         "zerolinecolor": "#E1E5ED"
        },
        "yaxis3": {
         "anchor": "x3",
         "domain": [
          0.8025,
          1
         ],
         "gridcolor": "#E1E5ED",
         "showgrid": false,
         "tickfont": {
          "color": "#4D5663"
         },
         "title": {
          "font": {
           "color": "#4D5663"
          },
          "text": ""
         },
         "zerolinecolor": "#E1E5ED"
        },
        "yaxis4": {
         "anchor": "x4",
         "domain": [
          0.8025,
          1
         ],
         "gridcolor": "#E1E5ED",
         "showgrid": false,
         "tickfont": {
          "color": "#4D5663"
         },
         "title": {
          "font": {
           "color": "#4D5663"
          },
          "text": ""
         },
         "zerolinecolor": "#E1E5ED"
        },
        "yaxis5": {
         "anchor": "x5",
         "domain": [
          0.535,
          0.7325
         ],
         "gridcolor": "#E1E5ED",
         "showgrid": false,
         "tickfont": {
          "color": "#4D5663"
         },
         "title": {
          "font": {
           "color": "#4D5663"
          },
          "text": ""
         },
         "zerolinecolor": "#E1E5ED"
        },
        "yaxis6": {
         "anchor": "x6",
         "domain": [
          0.535,
          0.7325
         ],
         "gridcolor": "#E1E5ED",
         "showgrid": false,
         "tickfont": {
          "color": "#4D5663"
         },
         "title": {
          "font": {
           "color": "#4D5663"
          },
          "text": ""
         },
         "zerolinecolor": "#E1E5ED"
        },
        "yaxis7": {
         "anchor": "x7",
         "domain": [
          0.535,
          0.7325
         ],
         "gridcolor": "#E1E5ED",
         "showgrid": false,
         "tickfont": {
          "color": "#4D5663"
         },
         "title": {
          "font": {
           "color": "#4D5663"
          },
          "text": ""
         },
         "zerolinecolor": "#E1E5ED"
        },
        "yaxis8": {
         "anchor": "x8",
         "domain": [
          0.535,
          0.7325
         ],
         "gridcolor": "#E1E5ED",
         "showgrid": false,
         "tickfont": {
          "color": "#4D5663"
         },
         "title": {
          "font": {
           "color": "#4D5663"
          },
          "text": ""
         },
         "zerolinecolor": "#E1E5ED"
        },
        "yaxis9": {
         "anchor": "x9",
         "domain": [
          0.2675,
          0.465
         ],
         "gridcolor": "#E1E5ED",
         "showgrid": false,
         "tickfont": {
          "color": "#4D5663"
         },
         "title": {
          "font": {
           "color": "#4D5663"
          },
          "text": ""
         },
         "zerolinecolor": "#E1E5ED"
        }
       }
      },
      "text/html": [
       "<div>                            <div id=\"e0403457-4e55-4546-8f41-e3bb706a7ced\" class=\"plotly-graph-div\" style=\"height:525px; width:100%;\"></div>            <script type=\"text/javascript\">                require([\"plotly\"], function(Plotly) {                    window.PLOTLYENV=window.PLOTLYENV || {};\n",
       "                    window.PLOTLYENV.BASE_URL='https://plot.ly';                                    if (document.getElementById(\"e0403457-4e55-4546-8f41-e3bb706a7ced\")) {                    Plotly.newPlot(                        \"e0403457-4e55-4546-8f41-e3bb706a7ced\",                        [{\"histfunc\":\"count\",\"histnorm\":\"\",\"marker\":{\"color\":\"rgba(255, 153, 51, 1.0)\",\"line\":{\"color\":\"#4D5663\",\"width\":1.3}},\"name\":\"A\",\"nbinsx\":10,\"opacity\":0.8,\"orientation\":\"v\",\"x\":[-0.4948803672448772,-1.278606917283569,0.07106421334385374,1.0619587030601383,-1.4440555967233013,-0.22858606681894317,1.0030057486241948,0.04484795456415611,1.1619652312215167,-0.3063834419687249,0.5573171280834106,-1.4004848970008938,0.07213998245936415,-0.1992952156759034,0.963590047242657,0.1777390611535859,0.3189703863207484,0.6566964416263336,-1.2392354456388477,0.6737524737410653,1.4126321439046603,0.871402533205939,-0.8008377075281847,0.2066366446481001,0.7843129613261675,0.3612288487362664,0.42751052801441863,-1.3907782385950074,0.6062586949880656,-0.9710333735809482,0.47891605023133554,1.2337314105990314,0.9082028305785744,0.8446175169590872,0.2213111437943422,0.6040793357601695,-0.08588004121752364,-1.734245229493394,0.3647044551034887,0.0972210006165413,1.5046750299472174,-0.2810942500199662,3.0486427088955197,0.8443707688013775,-1.1933916647937377,-0.746046118365644,-1.1939737089247473,0.40617833718975777,-2.662736129779989,1.1340143561785632,-1.3431317646811118,-1.5882524199465087,-0.6483975035034787,1.3152824593173136,0.1333759544313208,0.30894298034457474,-0.6356048656438124,1.3659277658214952,-0.8456641943132652,0.5792996706265964,-0.12359290321284937,0.3266371728879937,1.295394749603058,-1.808102978075752,1.00915672491599,1.0642108345710921,1.466414923863723,0.8008328209289889,-0.09580001650492555,-0.38362804920073745,1.3351436888107087,-1.9884141016609131,0.4263071451958101,2.2681107757035783,0.5787490360176778,0.2831479916822075,-0.5928277608139828,1.0258181150691483,0.6891934792638104,-1.2325795921811449,0.46801777318662463,1.1160736213980393,-0.7838575266232529,1.0298022519136174,-0.7014308136007442,0.6960023389885786,1.1930852729550367,-0.4791890698641037,-0.3679677031951291,0.7966573079412141,-0.3211027262453276,-0.7608238050371512,-0.9710853823227727,0.22756984546431366,0.35529269618747356,-0.9526719129304471,-0.303544912011667,0.7324609793244885,1.2023945170669637,1.320809141414054],\"xaxis\":\"x\",\"yaxis\":\"y\",\"type\":\"histogram\"},{\"line\":{\"color\":\"rgba(128, 128, 128, 1.0)\",\"dash\":\"solid\",\"shape\":\"linear\",\"width\":1.3},\"marker\":{\"size\":2,\"symbol\":\"circle\"},\"mode\":\"markers\",\"name\":\"A\",\"text\":\"\",\"x\":[0.1776044584804704,-0.30579446317958037,0.13659788724493616,0.013966560660043948,1.3273022146782885,0.4245281639427591,0.13993688841338434,0.1364806923102963,-2.1065412864272086,-0.7493121467001574,-0.21907401933298437,1.3552891173188997,1.3823839058712768,0.26110714954987385,0.6670584552397943,0.697742052337499,-1.4770059522646852,-0.9466999513182942,-0.41620999378775114,0.23120654972488888,0.1053455114042331,-1.098711099169789,1.4008705791090683,-0.434654050392941,-1.207128568186926,-0.03525291190838535,0.14426598640881158,-1.6202847005796388,0.7627104472323303,1.2241416006731294,-0.6465533718632971,0.7415566179979918,-1.428988584175279,-1.928358672485835,-0.07720665593274657,0.5671077245400157,-1.795702440431457,-0.7941695676657354,3.907184367978601,1.8762239910918184,-0.8640392128710467,0.14788580454689232,0.4848657485550836,-0.39822234778649335,-0.2143508229290543,0.5421028547170331,0.9470213452638643,0.6079341780818952,0.08236570323112267,-0.4206814224407974,-0.2751572370420352,0.6632291561159293,-0.1672811079836468,0.84269169025041,0.7089604299130701,0.2458080265524387,-1.5136335159268992,-1.1978392671156282,-1.618336530284113,0.012290688929548993,1.619220248352336,1.110592869177345,0.7018241042017215,0.3702183639470843,-1.7388309041310908,-0.0875310813749589,-0.9124345858997445,1.1530317074144363,0.4714579218231528,0.48493178299862316,-0.35122660893540913,2.451773260240074,0.9309728827074173,-0.8834813115281297,-0.24448564745225207,0.46071894306278166,-2.309648368476434,1.7172733786642822,0.2073435746324365,-0.7662927627171758,-0.3838240458423306,1.2410093848919947,-0.24166136762679763,-0.16830385578843002,-1.704143002064265,-0.9899666399550905,-0.2962403884733509,-0.1531779038411322,0.015868120719419496,0.8272629094610052,1.868780342551116,0.4496997798754286,0.1255705622513645,-1.0699432646501854,1.2467596372794354,-0.22818951517464736,1.1230267105010945,-0.10288297183350929,-0.6189159183061426,1.13100404498498],\"xaxis\":\"x2\",\"y\":[-0.4948803672448772,-1.278606917283569,0.07106421334385374,1.0619587030601383,-1.4440555967233013,-0.22858606681894317,1.0030057486241948,0.04484795456415611,1.1619652312215167,-0.3063834419687249,0.5573171280834106,-1.4004848970008938,0.07213998245936415,-0.1992952156759034,0.963590047242657,0.1777390611535859,0.3189703863207484,0.6566964416263336,-1.2392354456388477,0.6737524737410653,1.4126321439046603,0.871402533205939,-0.8008377075281847,0.2066366446481001,0.7843129613261675,0.3612288487362664,0.42751052801441863,-1.3907782385950074,0.6062586949880656,-0.9710333735809482,0.47891605023133554,1.2337314105990314,0.9082028305785744,0.8446175169590872,0.2213111437943422,0.6040793357601695,-0.08588004121752364,-1.734245229493394,0.3647044551034887,0.0972210006165413,1.5046750299472174,-0.2810942500199662,3.0486427088955197,0.8443707688013775,-1.1933916647937377,-0.746046118365644,-1.1939737089247473,0.40617833718975777,-2.662736129779989,1.1340143561785632,-1.3431317646811118,-1.5882524199465087,-0.6483975035034787,1.3152824593173136,0.1333759544313208,0.30894298034457474,-0.6356048656438124,1.3659277658214952,-0.8456641943132652,0.5792996706265964,-0.12359290321284937,0.3266371728879937,1.295394749603058,-1.808102978075752,1.00915672491599,1.0642108345710921,1.466414923863723,0.8008328209289889,-0.09580001650492555,-0.38362804920073745,1.3351436888107087,-1.9884141016609131,0.4263071451958101,2.2681107757035783,0.5787490360176778,0.2831479916822075,-0.5928277608139828,1.0258181150691483,0.6891934792638104,-1.2325795921811449,0.46801777318662463,1.1160736213980393,-0.7838575266232529,1.0298022519136174,-0.7014308136007442,0.6960023389885786,1.1930852729550367,-0.4791890698641037,-0.3679677031951291,0.7966573079412141,-0.3211027262453276,-0.7608238050371512,-0.9710853823227727,0.22756984546431366,0.35529269618747356,-0.9526719129304471,-0.303544912011667,0.7324609793244885,1.2023945170669637,1.320809141414054],\"yaxis\":\"y2\",\"type\":\"scatter\"},{\"line\":{\"color\":\"rgba(128, 128, 128, 1.0)\",\"dash\":\"solid\",\"shape\":\"linear\",\"width\":1.3},\"marker\":{\"size\":2,\"symbol\":\"circle\"},\"mode\":\"markers\",\"name\":\"A\",\"text\":\"\",\"x\":[0.6080779995637853,1.7400246486916582,-0.13999133244817188,0.5352452489269939,-0.8607015748953641,-0.007577661562544845,0.6133874834270073,1.042079651193935,-1.6496004343838335,-0.2772290474878759,1.927748188628256,0.21679357483834014,-0.20041124642629127,-0.15735712069223926,-0.1396328615527953,1.4990379552532895,0.2365629551373359,-0.12562032481682733,1.0285067781204562,-0.34642867035988806,1.4893699293400513,-1.9678488029261485,0.11641549389965557,-0.447936521222829,-0.6317844721599816,-1.0620496792256486,-0.38036500817521507,2.124900554465702,0.4176334714155671,0.8933949427558404,0.9750339799707942,0.13396229912448,-0.139655695684182,0.17145230653256055,1.5265891392044315,1.5424348038693838,1.933135986859975,0.20063815169898097,2.259911527433026,1.7669830001106346,1.1264021854414936,-0.4326594740578652,-0.07852422323803551,-0.17367413397700165,0.14559273498432715,-0.09450610368119483,-0.450311635214802,0.024483633111631667,0.8619034378215645,0.37576934786638294,0.6604784693060562,1.546898477722581,-0.31644669207614307,1.0751080409363547,-1.2545891292729636,0.1652974648823601,0.04470676810755846,-0.2853696671175998,0.1073633384432158,-1.2434323810760282,0.5130174305940749,-0.9786133934918884,-0.5850284411117955,1.0087853298195266,0.0936606978721186,-0.6137428792942979,1.0481297523140083,0.11656293160882521,0.753428399507512,0.24104721358810266,-1.8199327065995095,-0.6165839730840095,-0.19348008375295506,0.3977934592352505,3.278574831460349,-0.28406450546619827,0.3198320310456906,-0.05262022144420799,-0.045281211887611104,-0.7173894584996944,-0.2513974832277044,0.570196634208274,0.7948931502537384,-0.16873272917163948,-0.7565934615943875,-0.5168679886509878,0.21810968565505992,0.9258187116883008,-0.6918576365484003,-0.7818441109847707,-1.851220746970328,-0.3652710146348525,0.5724495069039409,-0.8437185537568656,1.2061404955091923,1.5015837466076076,0.08721080361940686,-0.8843929865373923,-0.008309018221935336,-0.09636389045842066],\"xaxis\":\"x3\",\"y\":[-0.4948803672448772,-1.278606917283569,0.07106421334385374,1.0619587030601383,-1.4440555967233013,-0.22858606681894317,1.0030057486241948,0.04484795456415611,1.1619652312215167,-0.3063834419687249,0.5573171280834106,-1.4004848970008938,0.07213998245936415,-0.1992952156759034,0.963590047242657,0.1777390611535859,0.3189703863207484,0.6566964416263336,-1.2392354456388477,0.6737524737410653,1.4126321439046603,0.871402533205939,-0.8008377075281847,0.2066366446481001,0.7843129613261675,0.3612288487362664,0.42751052801441863,-1.3907782385950074,0.6062586949880656,-0.9710333735809482,0.47891605023133554,1.2337314105990314,0.9082028305785744,0.8446175169590872,0.2213111437943422,0.6040793357601695,-0.08588004121752364,-1.734245229493394,0.3647044551034887,0.0972210006165413,1.5046750299472174,-0.2810942500199662,3.0486427088955197,0.8443707688013775,-1.1933916647937377,-0.746046118365644,-1.1939737089247473,0.40617833718975777,-2.662736129779989,1.1340143561785632,-1.3431317646811118,-1.5882524199465087,-0.6483975035034787,1.3152824593173136,0.1333759544313208,0.30894298034457474,-0.6356048656438124,1.3659277658214952,-0.8456641943132652,0.5792996706265964,-0.12359290321284937,0.3266371728879937,1.295394749603058,-1.808102978075752,1.00915672491599,1.0642108345710921,1.466414923863723,0.8008328209289889,-0.09580001650492555,-0.38362804920073745,1.3351436888107087,-1.9884141016609131,0.4263071451958101,2.2681107757035783,0.5787490360176778,0.2831479916822075,-0.5928277608139828,1.0258181150691483,0.6891934792638104,-1.2325795921811449,0.46801777318662463,1.1160736213980393,-0.7838575266232529,1.0298022519136174,-0.7014308136007442,0.6960023389885786,1.1930852729550367,-0.4791890698641037,-0.3679677031951291,0.7966573079412141,-0.3211027262453276,-0.7608238050371512,-0.9710853823227727,0.22756984546431366,0.35529269618747356,-0.9526719129304471,-0.303544912011667,0.7324609793244885,1.2023945170669637,1.320809141414054],\"yaxis\":\"y3\",\"type\":\"scatter\"},{\"line\":{\"color\":\"rgba(128, 128, 128, 1.0)\",\"dash\":\"solid\",\"shape\":\"linear\",\"width\":1.3},\"marker\":{\"size\":2,\"symbol\":\"circle\"},\"mode\":\"markers\",\"name\":\"A\",\"text\":\"\",\"x\":[-1.1249579601855308,-0.9410991973950514,-0.4486593530065986,0.05962675628963897,-0.7359737933474149,-0.675096201791584,1.7012601865464954,0.8231840515700299,2.172744571974603,-0.2527565359843745,0.7927540343172109,2.2197072906786492,-0.6511628526372234,0.8193223439928156,0.6516281382253095,0.8685452291437251,0.6358389736160797,-1.725000647642552,-0.9548547694402619,-0.2250370106551404,-0.6031803074001773,-1.1451469894566473,1.041087467399137,-0.3075394730177125,-0.2592588381211093,-2.8125820738342386,-0.0630428352508275,-0.3139891512226067,-1.3806277928090338,-0.5894462756846416,-0.19046981721009973,0.30194209764536145,0.5048219239249278,0.03314959303712693,-1.5740926235873482,-0.3731117383420975,-0.1009571214456144,1.5357839366870487,-0.9793053123230482,-1.1096657233977292,-0.8010288018955751,-1.4875981371366593,0.3032285438919636,-0.36182030149451055,-1.6517700174043022,0.13418103415995045,1.00084507079135,0.6068421038293886,0.08658120141763168,0.4388857146699468,-1.0807000730351164,-0.5932109569006637,-0.39907365255557287,-1.0933520086434285,-1.3427944876955982,-0.17727245731088123,0.4808925253600302,-1.4361517306499623,0.7992133932898633,0.20856170080504607,0.21941085342067815,1.5148555001386816,0.8484513347832735,-1.2116733713220018,0.1955340063223997,-1.776340478745634,-1.418612300116902,-1.0716753413037978,-0.2807712413810616,0.6031650963682019,-0.8779669525616524,-0.6391863320491697,1.3836299890934498,-0.5672799518622996,-0.39788998220756727,-0.7670622207292299,0.7521360122447434,0.8729944465064794,-0.9399191973480867,-0.9827272815293338,-0.194207433240659,-0.3344311988924336,0.61830632122162,1.7652146231547032,-0.3274961728713471,-0.3304967653917048,0.35138955656591636,0.687833229519024,1.2315217044012088,0.11417273260536316,0.09288758992076684,-1.4349095862147714,-1.2373597525512348,-0.5164076175898568,0.7444024881823896,1.0799684500455804,-1.7683397791652964,0.6429445396573226,-0.17090259743981126,1.8020015892468284],\"xaxis\":\"x4\",\"y\":[-0.4948803672448772,-1.278606917283569,0.07106421334385374,1.0619587030601383,-1.4440555967233013,-0.22858606681894317,1.0030057486241948,0.04484795456415611,1.1619652312215167,-0.3063834419687249,0.5573171280834106,-1.4004848970008938,0.07213998245936415,-0.1992952156759034,0.963590047242657,0.1777390611535859,0.3189703863207484,0.6566964416263336,-1.2392354456388477,0.6737524737410653,1.4126321439046603,0.871402533205939,-0.8008377075281847,0.2066366446481001,0.7843129613261675,0.3612288487362664,0.42751052801441863,-1.3907782385950074,0.6062586949880656,-0.9710333735809482,0.47891605023133554,1.2337314105990314,0.9082028305785744,0.8446175169590872,0.2213111437943422,0.6040793357601695,-0.08588004121752364,-1.734245229493394,0.3647044551034887,0.0972210006165413,1.5046750299472174,-0.2810942500199662,3.0486427088955197,0.8443707688013775,-1.1933916647937377,-0.746046118365644,-1.1939737089247473,0.40617833718975777,-2.662736129779989,1.1340143561785632,-1.3431317646811118,-1.5882524199465087,-0.6483975035034787,1.3152824593173136,0.1333759544313208,0.30894298034457474,-0.6356048656438124,1.3659277658214952,-0.8456641943132652,0.5792996706265964,-0.12359290321284937,0.3266371728879937,1.295394749603058,-1.808102978075752,1.00915672491599,1.0642108345710921,1.466414923863723,0.8008328209289889,-0.09580001650492555,-0.38362804920073745,1.3351436888107087,-1.9884141016609131,0.4263071451958101,2.2681107757035783,0.5787490360176778,0.2831479916822075,-0.5928277608139828,1.0258181150691483,0.6891934792638104,-1.2325795921811449,0.46801777318662463,1.1160736213980393,-0.7838575266232529,1.0298022519136174,-0.7014308136007442,0.6960023389885786,1.1930852729550367,-0.4791890698641037,-0.3679677031951291,0.7966573079412141,-0.3211027262453276,-0.7608238050371512,-0.9710853823227727,0.22756984546431366,0.35529269618747356,-0.9526719129304471,-0.303544912011667,0.7324609793244885,1.2023945170669637,1.320809141414054],\"yaxis\":\"y4\",\"type\":\"scatter\"},{\"line\":{\"color\":\"rgba(128, 128, 128, 1.0)\",\"dash\":\"solid\",\"shape\":\"linear\",\"width\":1.3},\"marker\":{\"size\":2,\"symbol\":\"circle\"},\"mode\":\"markers\",\"name\":\"B\",\"text\":\"\",\"x\":[-0.4948803672448772,-1.278606917283569,0.07106421334385374,1.0619587030601383,-1.4440555967233013,-0.22858606681894317,1.0030057486241948,0.04484795456415611,1.1619652312215167,-0.3063834419687249,0.5573171280834106,-1.4004848970008938,0.07213998245936415,-0.1992952156759034,0.963590047242657,0.1777390611535859,0.3189703863207484,0.6566964416263336,-1.2392354456388477,0.6737524737410653,1.4126321439046603,0.871402533205939,-0.8008377075281847,0.2066366446481001,0.7843129613261675,0.3612288487362664,0.42751052801441863,-1.3907782385950074,0.6062586949880656,-0.9710333735809482,0.47891605023133554,1.2337314105990314,0.9082028305785744,0.8446175169590872,0.2213111437943422,0.6040793357601695,-0.08588004121752364,-1.734245229493394,0.3647044551034887,0.0972210006165413,1.5046750299472174,-0.2810942500199662,3.0486427088955197,0.8443707688013775,-1.1933916647937377,-0.746046118365644,-1.1939737089247473,0.40617833718975777,-2.662736129779989,1.1340143561785632,-1.3431317646811118,-1.5882524199465087,-0.6483975035034787,1.3152824593173136,0.1333759544313208,0.30894298034457474,-0.6356048656438124,1.3659277658214952,-0.8456641943132652,0.5792996706265964,-0.12359290321284937,0.3266371728879937,1.295394749603058,-1.808102978075752,1.00915672491599,1.0642108345710921,1.466414923863723,0.8008328209289889,-0.09580001650492555,-0.38362804920073745,1.3351436888107087,-1.9884141016609131,0.4263071451958101,2.2681107757035783,0.5787490360176778,0.2831479916822075,-0.5928277608139828,1.0258181150691483,0.6891934792638104,-1.2325795921811449,0.46801777318662463,1.1160736213980393,-0.7838575266232529,1.0298022519136174,-0.7014308136007442,0.6960023389885786,1.1930852729550367,-0.4791890698641037,-0.3679677031951291,0.7966573079412141,-0.3211027262453276,-0.7608238050371512,-0.9710853823227727,0.22756984546431366,0.35529269618747356,-0.9526719129304471,-0.303544912011667,0.7324609793244885,1.2023945170669637,1.320809141414054],\"xaxis\":\"x5\",\"y\":[0.1776044584804704,-0.30579446317958037,0.13659788724493616,0.013966560660043948,1.3273022146782885,0.4245281639427591,0.13993688841338434,0.1364806923102963,-2.1065412864272086,-0.7493121467001574,-0.21907401933298437,1.3552891173188997,1.3823839058712768,0.26110714954987385,0.6670584552397943,0.697742052337499,-1.4770059522646852,-0.9466999513182942,-0.41620999378775114,0.23120654972488888,0.1053455114042331,-1.098711099169789,1.4008705791090683,-0.434654050392941,-1.207128568186926,-0.03525291190838535,0.14426598640881158,-1.6202847005796388,0.7627104472323303,1.2241416006731294,-0.6465533718632971,0.7415566179979918,-1.428988584175279,-1.928358672485835,-0.07720665593274657,0.5671077245400157,-1.795702440431457,-0.7941695676657354,3.907184367978601,1.8762239910918184,-0.8640392128710467,0.14788580454689232,0.4848657485550836,-0.39822234778649335,-0.2143508229290543,0.5421028547170331,0.9470213452638643,0.6079341780818952,0.08236570323112267,-0.4206814224407974,-0.2751572370420352,0.6632291561159293,-0.1672811079836468,0.84269169025041,0.7089604299130701,0.2458080265524387,-1.5136335159268992,-1.1978392671156282,-1.618336530284113,0.012290688929548993,1.619220248352336,1.110592869177345,0.7018241042017215,0.3702183639470843,-1.7388309041310908,-0.0875310813749589,-0.9124345858997445,1.1530317074144363,0.4714579218231528,0.48493178299862316,-0.35122660893540913,2.451773260240074,0.9309728827074173,-0.8834813115281297,-0.24448564745225207,0.46071894306278166,-2.309648368476434,1.7172733786642822,0.2073435746324365,-0.7662927627171758,-0.3838240458423306,1.2410093848919947,-0.24166136762679763,-0.16830385578843002,-1.704143002064265,-0.9899666399550905,-0.2962403884733509,-0.1531779038411322,0.015868120719419496,0.8272629094610052,1.868780342551116,0.4496997798754286,0.1255705622513645,-1.0699432646501854,1.2467596372794354,-0.22818951517464736,1.1230267105010945,-0.10288297183350929,-0.6189159183061426,1.13100404498498],\"yaxis\":\"y5\",\"type\":\"scatter\"},{\"histfunc\":\"count\",\"histnorm\":\"\",\"marker\":{\"color\":\"rgba(55, 128, 191, 1.0)\",\"line\":{\"color\":\"#4D5663\",\"width\":1.3}},\"name\":\"B\",\"nbinsx\":10,\"opacity\":0.8,\"orientation\":\"v\",\"x\":[0.1776044584804704,-0.30579446317958037,0.13659788724493616,0.013966560660043948,1.3273022146782885,0.4245281639427591,0.13993688841338434,0.1364806923102963,-2.1065412864272086,-0.7493121467001574,-0.21907401933298437,1.3552891173188997,1.3823839058712768,0.26110714954987385,0.6670584552397943,0.697742052337499,-1.4770059522646852,-0.9466999513182942,-0.41620999378775114,0.23120654972488888,0.1053455114042331,-1.098711099169789,1.4008705791090683,-0.434654050392941,-1.207128568186926,-0.03525291190838535,0.14426598640881158,-1.6202847005796388,0.7627104472323303,1.2241416006731294,-0.6465533718632971,0.7415566179979918,-1.428988584175279,-1.928358672485835,-0.07720665593274657,0.5671077245400157,-1.795702440431457,-0.7941695676657354,3.907184367978601,1.8762239910918184,-0.8640392128710467,0.14788580454689232,0.4848657485550836,-0.39822234778649335,-0.2143508229290543,0.5421028547170331,0.9470213452638643,0.6079341780818952,0.08236570323112267,-0.4206814224407974,-0.2751572370420352,0.6632291561159293,-0.1672811079836468,0.84269169025041,0.7089604299130701,0.2458080265524387,-1.5136335159268992,-1.1978392671156282,-1.618336530284113,0.012290688929548993,1.619220248352336,1.110592869177345,0.7018241042017215,0.3702183639470843,-1.7388309041310908,-0.0875310813749589,-0.9124345858997445,1.1530317074144363,0.4714579218231528,0.48493178299862316,-0.35122660893540913,2.451773260240074,0.9309728827074173,-0.8834813115281297,-0.24448564745225207,0.46071894306278166,-2.309648368476434,1.7172733786642822,0.2073435746324365,-0.7662927627171758,-0.3838240458423306,1.2410093848919947,-0.24166136762679763,-0.16830385578843002,-1.704143002064265,-0.9899666399550905,-0.2962403884733509,-0.1531779038411322,0.015868120719419496,0.8272629094610052,1.868780342551116,0.4496997798754286,0.1255705622513645,-1.0699432646501854,1.2467596372794354,-0.22818951517464736,1.1230267105010945,-0.10288297183350929,-0.6189159183061426,1.13100404498498],\"xaxis\":\"x6\",\"yaxis\":\"y6\",\"type\":\"histogram\"},{\"line\":{\"color\":\"rgba(128, 128, 128, 1.0)\",\"dash\":\"solid\",\"shape\":\"linear\",\"width\":1.3},\"marker\":{\"size\":2,\"symbol\":\"circle\"},\"mode\":\"markers\",\"name\":\"B\",\"text\":\"\",\"x\":[0.6080779995637853,1.7400246486916582,-0.13999133244817188,0.5352452489269939,-0.8607015748953641,-0.007577661562544845,0.6133874834270073,1.042079651193935,-1.6496004343838335,-0.2772290474878759,1.927748188628256,0.21679357483834014,-0.20041124642629127,-0.15735712069223926,-0.1396328615527953,1.4990379552532895,0.2365629551373359,-0.12562032481682733,1.0285067781204562,-0.34642867035988806,1.4893699293400513,-1.9678488029261485,0.11641549389965557,-0.447936521222829,-0.6317844721599816,-1.0620496792256486,-0.38036500817521507,2.124900554465702,0.4176334714155671,0.8933949427558404,0.9750339799707942,0.13396229912448,-0.139655695684182,0.17145230653256055,1.5265891392044315,1.5424348038693838,1.933135986859975,0.20063815169898097,2.259911527433026,1.7669830001106346,1.1264021854414936,-0.4326594740578652,-0.07852422323803551,-0.17367413397700165,0.14559273498432715,-0.09450610368119483,-0.450311635214802,0.024483633111631667,0.8619034378215645,0.37576934786638294,0.6604784693060562,1.546898477722581,-0.31644669207614307,1.0751080409363547,-1.2545891292729636,0.1652974648823601,0.04470676810755846,-0.2853696671175998,0.1073633384432158,-1.2434323810760282,0.5130174305940749,-0.9786133934918884,-0.5850284411117955,1.0087853298195266,0.0936606978721186,-0.6137428792942979,1.0481297523140083,0.11656293160882521,0.753428399507512,0.24104721358810266,-1.8199327065995095,-0.6165839730840095,-0.19348008375295506,0.3977934592352505,3.278574831460349,-0.28406450546619827,0.3198320310456906,-0.05262022144420799,-0.045281211887611104,-0.7173894584996944,-0.2513974832277044,0.570196634208274,0.7948931502537384,-0.16873272917163948,-0.7565934615943875,-0.5168679886509878,0.21810968565505992,0.9258187116883008,-0.6918576365484003,-0.7818441109847707,-1.851220746970328,-0.3652710146348525,0.5724495069039409,-0.8437185537568656,1.2061404955091923,1.5015837466076076,0.08721080361940686,-0.8843929865373923,-0.008309018221935336,-0.09636389045842066],\"xaxis\":\"x7\",\"y\":[0.1776044584804704,-0.30579446317958037,0.13659788724493616,0.013966560660043948,1.3273022146782885,0.4245281639427591,0.13993688841338434,0.1364806923102963,-2.1065412864272086,-0.7493121467001574,-0.21907401933298437,1.3552891173188997,1.3823839058712768,0.26110714954987385,0.6670584552397943,0.697742052337499,-1.4770059522646852,-0.9466999513182942,-0.41620999378775114,0.23120654972488888,0.1053455114042331,-1.098711099169789,1.4008705791090683,-0.434654050392941,-1.207128568186926,-0.03525291190838535,0.14426598640881158,-1.6202847005796388,0.7627104472323303,1.2241416006731294,-0.6465533718632971,0.7415566179979918,-1.428988584175279,-1.928358672485835,-0.07720665593274657,0.5671077245400157,-1.795702440431457,-0.7941695676657354,3.907184367978601,1.8762239910918184,-0.8640392128710467,0.14788580454689232,0.4848657485550836,-0.39822234778649335,-0.2143508229290543,0.5421028547170331,0.9470213452638643,0.6079341780818952,0.08236570323112267,-0.4206814224407974,-0.2751572370420352,0.6632291561159293,-0.1672811079836468,0.84269169025041,0.7089604299130701,0.2458080265524387,-1.5136335159268992,-1.1978392671156282,-1.618336530284113,0.012290688929548993,1.619220248352336,1.110592869177345,0.7018241042017215,0.3702183639470843,-1.7388309041310908,-0.0875310813749589,-0.9124345858997445,1.1530317074144363,0.4714579218231528,0.48493178299862316,-0.35122660893540913,2.451773260240074,0.9309728827074173,-0.8834813115281297,-0.24448564745225207,0.46071894306278166,-2.309648368476434,1.7172733786642822,0.2073435746324365,-0.7662927627171758,-0.3838240458423306,1.2410093848919947,-0.24166136762679763,-0.16830385578843002,-1.704143002064265,-0.9899666399550905,-0.2962403884733509,-0.1531779038411322,0.015868120719419496,0.8272629094610052,1.868780342551116,0.4496997798754286,0.1255705622513645,-1.0699432646501854,1.2467596372794354,-0.22818951517464736,1.1230267105010945,-0.10288297183350929,-0.6189159183061426,1.13100404498498],\"yaxis\":\"y7\",\"type\":\"scatter\"},{\"line\":{\"color\":\"rgba(128, 128, 128, 1.0)\",\"dash\":\"solid\",\"shape\":\"linear\",\"width\":1.3},\"marker\":{\"size\":2,\"symbol\":\"circle\"},\"mode\":\"markers\",\"name\":\"B\",\"text\":\"\",\"x\":[-1.1249579601855308,-0.9410991973950514,-0.4486593530065986,0.05962675628963897,-0.7359737933474149,-0.675096201791584,1.7012601865464954,0.8231840515700299,2.172744571974603,-0.2527565359843745,0.7927540343172109,2.2197072906786492,-0.6511628526372234,0.8193223439928156,0.6516281382253095,0.8685452291437251,0.6358389736160797,-1.725000647642552,-0.9548547694402619,-0.2250370106551404,-0.6031803074001773,-1.1451469894566473,1.041087467399137,-0.3075394730177125,-0.2592588381211093,-2.8125820738342386,-0.0630428352508275,-0.3139891512226067,-1.3806277928090338,-0.5894462756846416,-0.19046981721009973,0.30194209764536145,0.5048219239249278,0.03314959303712693,-1.5740926235873482,-0.3731117383420975,-0.1009571214456144,1.5357839366870487,-0.9793053123230482,-1.1096657233977292,-0.8010288018955751,-1.4875981371366593,0.3032285438919636,-0.36182030149451055,-1.6517700174043022,0.13418103415995045,1.00084507079135,0.6068421038293886,0.08658120141763168,0.4388857146699468,-1.0807000730351164,-0.5932109569006637,-0.39907365255557287,-1.0933520086434285,-1.3427944876955982,-0.17727245731088123,0.4808925253600302,-1.4361517306499623,0.7992133932898633,0.20856170080504607,0.21941085342067815,1.5148555001386816,0.8484513347832735,-1.2116733713220018,0.1955340063223997,-1.776340478745634,-1.418612300116902,-1.0716753413037978,-0.2807712413810616,0.6031650963682019,-0.8779669525616524,-0.6391863320491697,1.3836299890934498,-0.5672799518622996,-0.39788998220756727,-0.7670622207292299,0.7521360122447434,0.8729944465064794,-0.9399191973480867,-0.9827272815293338,-0.194207433240659,-0.3344311988924336,0.61830632122162,1.7652146231547032,-0.3274961728713471,-0.3304967653917048,0.35138955656591636,0.687833229519024,1.2315217044012088,0.11417273260536316,0.09288758992076684,-1.4349095862147714,-1.2373597525512348,-0.5164076175898568,0.7444024881823896,1.0799684500455804,-1.7683397791652964,0.6429445396573226,-0.17090259743981126,1.8020015892468284],\"xaxis\":\"x8\",\"y\":[0.1776044584804704,-0.30579446317958037,0.13659788724493616,0.013966560660043948,1.3273022146782885,0.4245281639427591,0.13993688841338434,0.1364806923102963,-2.1065412864272086,-0.7493121467001574,-0.21907401933298437,1.3552891173188997,1.3823839058712768,0.26110714954987385,0.6670584552397943,0.697742052337499,-1.4770059522646852,-0.9466999513182942,-0.41620999378775114,0.23120654972488888,0.1053455114042331,-1.098711099169789,1.4008705791090683,-0.434654050392941,-1.207128568186926,-0.03525291190838535,0.14426598640881158,-1.6202847005796388,0.7627104472323303,1.2241416006731294,-0.6465533718632971,0.7415566179979918,-1.428988584175279,-1.928358672485835,-0.07720665593274657,0.5671077245400157,-1.795702440431457,-0.7941695676657354,3.907184367978601,1.8762239910918184,-0.8640392128710467,0.14788580454689232,0.4848657485550836,-0.39822234778649335,-0.2143508229290543,0.5421028547170331,0.9470213452638643,0.6079341780818952,0.08236570323112267,-0.4206814224407974,-0.2751572370420352,0.6632291561159293,-0.1672811079836468,0.84269169025041,0.7089604299130701,0.2458080265524387,-1.5136335159268992,-1.1978392671156282,-1.618336530284113,0.012290688929548993,1.619220248352336,1.110592869177345,0.7018241042017215,0.3702183639470843,-1.7388309041310908,-0.0875310813749589,-0.9124345858997445,1.1530317074144363,0.4714579218231528,0.48493178299862316,-0.35122660893540913,2.451773260240074,0.9309728827074173,-0.8834813115281297,-0.24448564745225207,0.46071894306278166,-2.309648368476434,1.7172733786642822,0.2073435746324365,-0.7662927627171758,-0.3838240458423306,1.2410093848919947,-0.24166136762679763,-0.16830385578843002,-1.704143002064265,-0.9899666399550905,-0.2962403884733509,-0.1531779038411322,0.015868120719419496,0.8272629094610052,1.868780342551116,0.4496997798754286,0.1255705622513645,-1.0699432646501854,1.2467596372794354,-0.22818951517464736,1.1230267105010945,-0.10288297183350929,-0.6189159183061426,1.13100404498498],\"yaxis\":\"y8\",\"type\":\"scatter\"},{\"line\":{\"color\":\"rgba(128, 128, 128, 1.0)\",\"dash\":\"solid\",\"shape\":\"linear\",\"width\":1.3},\"marker\":{\"size\":2,\"symbol\":\"circle\"},\"mode\":\"markers\",\"name\":\"C\",\"text\":\"\",\"x\":[-0.4948803672448772,-1.278606917283569,0.07106421334385374,1.0619587030601383,-1.4440555967233013,-0.22858606681894317,1.0030057486241948,0.04484795456415611,1.1619652312215167,-0.3063834419687249,0.5573171280834106,-1.4004848970008938,0.07213998245936415,-0.1992952156759034,0.963590047242657,0.1777390611535859,0.3189703863207484,0.6566964416263336,-1.2392354456388477,0.6737524737410653,1.4126321439046603,0.871402533205939,-0.8008377075281847,0.2066366446481001,0.7843129613261675,0.3612288487362664,0.42751052801441863,-1.3907782385950074,0.6062586949880656,-0.9710333735809482,0.47891605023133554,1.2337314105990314,0.9082028305785744,0.8446175169590872,0.2213111437943422,0.6040793357601695,-0.08588004121752364,-1.734245229493394,0.3647044551034887,0.0972210006165413,1.5046750299472174,-0.2810942500199662,3.0486427088955197,0.8443707688013775,-1.1933916647937377,-0.746046118365644,-1.1939737089247473,0.40617833718975777,-2.662736129779989,1.1340143561785632,-1.3431317646811118,-1.5882524199465087,-0.6483975035034787,1.3152824593173136,0.1333759544313208,0.30894298034457474,-0.6356048656438124,1.3659277658214952,-0.8456641943132652,0.5792996706265964,-0.12359290321284937,0.3266371728879937,1.295394749603058,-1.808102978075752,1.00915672491599,1.0642108345710921,1.466414923863723,0.8008328209289889,-0.09580001650492555,-0.38362804920073745,1.3351436888107087,-1.9884141016609131,0.4263071451958101,2.2681107757035783,0.5787490360176778,0.2831479916822075,-0.5928277608139828,1.0258181150691483,0.6891934792638104,-1.2325795921811449,0.46801777318662463,1.1160736213980393,-0.7838575266232529,1.0298022519136174,-0.7014308136007442,0.6960023389885786,1.1930852729550367,-0.4791890698641037,-0.3679677031951291,0.7966573079412141,-0.3211027262453276,-0.7608238050371512,-0.9710853823227727,0.22756984546431366,0.35529269618747356,-0.9526719129304471,-0.303544912011667,0.7324609793244885,1.2023945170669637,1.320809141414054],\"xaxis\":\"x9\",\"y\":[0.6080779995637853,1.7400246486916582,-0.13999133244817188,0.5352452489269939,-0.8607015748953641,-0.007577661562544845,0.6133874834270073,1.042079651193935,-1.6496004343838335,-0.2772290474878759,1.927748188628256,0.21679357483834014,-0.20041124642629127,-0.15735712069223926,-0.1396328615527953,1.4990379552532895,0.2365629551373359,-0.12562032481682733,1.0285067781204562,-0.34642867035988806,1.4893699293400513,-1.9678488029261485,0.11641549389965557,-0.447936521222829,-0.6317844721599816,-1.0620496792256486,-0.38036500817521507,2.124900554465702,0.4176334714155671,0.8933949427558404,0.9750339799707942,0.13396229912448,-0.139655695684182,0.17145230653256055,1.5265891392044315,1.5424348038693838,1.933135986859975,0.20063815169898097,2.259911527433026,1.7669830001106346,1.1264021854414936,-0.4326594740578652,-0.07852422323803551,-0.17367413397700165,0.14559273498432715,-0.09450610368119483,-0.450311635214802,0.024483633111631667,0.8619034378215645,0.37576934786638294,0.6604784693060562,1.546898477722581,-0.31644669207614307,1.0751080409363547,-1.2545891292729636,0.1652974648823601,0.04470676810755846,-0.2853696671175998,0.1073633384432158,-1.2434323810760282,0.5130174305940749,-0.9786133934918884,-0.5850284411117955,1.0087853298195266,0.0936606978721186,-0.6137428792942979,1.0481297523140083,0.11656293160882521,0.753428399507512,0.24104721358810266,-1.8199327065995095,-0.6165839730840095,-0.19348008375295506,0.3977934592352505,3.278574831460349,-0.28406450546619827,0.3198320310456906,-0.05262022144420799,-0.045281211887611104,-0.7173894584996944,-0.2513974832277044,0.570196634208274,0.7948931502537384,-0.16873272917163948,-0.7565934615943875,-0.5168679886509878,0.21810968565505992,0.9258187116883008,-0.6918576365484003,-0.7818441109847707,-1.851220746970328,-0.3652710146348525,0.5724495069039409,-0.8437185537568656,1.2061404955091923,1.5015837466076076,0.08721080361940686,-0.8843929865373923,-0.008309018221935336,-0.09636389045842066],\"yaxis\":\"y9\",\"type\":\"scatter\"},{\"line\":{\"color\":\"rgba(128, 128, 128, 1.0)\",\"dash\":\"solid\",\"shape\":\"linear\",\"width\":1.3},\"marker\":{\"size\":2,\"symbol\":\"circle\"},\"mode\":\"markers\",\"name\":\"C\",\"text\":\"\",\"x\":[0.1776044584804704,-0.30579446317958037,0.13659788724493616,0.013966560660043948,1.3273022146782885,0.4245281639427591,0.13993688841338434,0.1364806923102963,-2.1065412864272086,-0.7493121467001574,-0.21907401933298437,1.3552891173188997,1.3823839058712768,0.26110714954987385,0.6670584552397943,0.697742052337499,-1.4770059522646852,-0.9466999513182942,-0.41620999378775114,0.23120654972488888,0.1053455114042331,-1.098711099169789,1.4008705791090683,-0.434654050392941,-1.207128568186926,-0.03525291190838535,0.14426598640881158,-1.6202847005796388,0.7627104472323303,1.2241416006731294,-0.6465533718632971,0.7415566179979918,-1.428988584175279,-1.928358672485835,-0.07720665593274657,0.5671077245400157,-1.795702440431457,-0.7941695676657354,3.907184367978601,1.8762239910918184,-0.8640392128710467,0.14788580454689232,0.4848657485550836,-0.39822234778649335,-0.2143508229290543,0.5421028547170331,0.9470213452638643,0.6079341780818952,0.08236570323112267,-0.4206814224407974,-0.2751572370420352,0.6632291561159293,-0.1672811079836468,0.84269169025041,0.7089604299130701,0.2458080265524387,-1.5136335159268992,-1.1978392671156282,-1.618336530284113,0.012290688929548993,1.619220248352336,1.110592869177345,0.7018241042017215,0.3702183639470843,-1.7388309041310908,-0.0875310813749589,-0.9124345858997445,1.1530317074144363,0.4714579218231528,0.48493178299862316,-0.35122660893540913,2.451773260240074,0.9309728827074173,-0.8834813115281297,-0.24448564745225207,0.46071894306278166,-2.309648368476434,1.7172733786642822,0.2073435746324365,-0.7662927627171758,-0.3838240458423306,1.2410093848919947,-0.24166136762679763,-0.16830385578843002,-1.704143002064265,-0.9899666399550905,-0.2962403884733509,-0.1531779038411322,0.015868120719419496,0.8272629094610052,1.868780342551116,0.4496997798754286,0.1255705622513645,-1.0699432646501854,1.2467596372794354,-0.22818951517464736,1.1230267105010945,-0.10288297183350929,-0.6189159183061426,1.13100404498498],\"xaxis\":\"x10\",\"y\":[0.6080779995637853,1.7400246486916582,-0.13999133244817188,0.5352452489269939,-0.8607015748953641,-0.007577661562544845,0.6133874834270073,1.042079651193935,-1.6496004343838335,-0.2772290474878759,1.927748188628256,0.21679357483834014,-0.20041124642629127,-0.15735712069223926,-0.1396328615527953,1.4990379552532895,0.2365629551373359,-0.12562032481682733,1.0285067781204562,-0.34642867035988806,1.4893699293400513,-1.9678488029261485,0.11641549389965557,-0.447936521222829,-0.6317844721599816,-1.0620496792256486,-0.38036500817521507,2.124900554465702,0.4176334714155671,0.8933949427558404,0.9750339799707942,0.13396229912448,-0.139655695684182,0.17145230653256055,1.5265891392044315,1.5424348038693838,1.933135986859975,0.20063815169898097,2.259911527433026,1.7669830001106346,1.1264021854414936,-0.4326594740578652,-0.07852422323803551,-0.17367413397700165,0.14559273498432715,-0.09450610368119483,-0.450311635214802,0.024483633111631667,0.8619034378215645,0.37576934786638294,0.6604784693060562,1.546898477722581,-0.31644669207614307,1.0751080409363547,-1.2545891292729636,0.1652974648823601,0.04470676810755846,-0.2853696671175998,0.1073633384432158,-1.2434323810760282,0.5130174305940749,-0.9786133934918884,-0.5850284411117955,1.0087853298195266,0.0936606978721186,-0.6137428792942979,1.0481297523140083,0.11656293160882521,0.753428399507512,0.24104721358810266,-1.8199327065995095,-0.6165839730840095,-0.19348008375295506,0.3977934592352505,3.278574831460349,-0.28406450546619827,0.3198320310456906,-0.05262022144420799,-0.045281211887611104,-0.7173894584996944,-0.2513974832277044,0.570196634208274,0.7948931502537384,-0.16873272917163948,-0.7565934615943875,-0.5168679886509878,0.21810968565505992,0.9258187116883008,-0.6918576365484003,-0.7818441109847707,-1.851220746970328,-0.3652710146348525,0.5724495069039409,-0.8437185537568656,1.2061404955091923,1.5015837466076076,0.08721080361940686,-0.8843929865373923,-0.008309018221935336,-0.09636389045842066],\"yaxis\":\"y10\",\"type\":\"scatter\"},{\"histfunc\":\"count\",\"histnorm\":\"\",\"marker\":{\"color\":\"rgba(50, 171, 96, 1.0)\",\"line\":{\"color\":\"#4D5663\",\"width\":1.3}},\"name\":\"C\",\"nbinsx\":10,\"opacity\":0.8,\"orientation\":\"v\",\"x\":[0.6080779995637853,1.7400246486916582,-0.13999133244817188,0.5352452489269939,-0.8607015748953641,-0.007577661562544845,0.6133874834270073,1.042079651193935,-1.6496004343838335,-0.2772290474878759,1.927748188628256,0.21679357483834014,-0.20041124642629127,-0.15735712069223926,-0.1396328615527953,1.4990379552532895,0.2365629551373359,-0.12562032481682733,1.0285067781204562,-0.34642867035988806,1.4893699293400513,-1.9678488029261485,0.11641549389965557,-0.447936521222829,-0.6317844721599816,-1.0620496792256486,-0.38036500817521507,2.124900554465702,0.4176334714155671,0.8933949427558404,0.9750339799707942,0.13396229912448,-0.139655695684182,0.17145230653256055,1.5265891392044315,1.5424348038693838,1.933135986859975,0.20063815169898097,2.259911527433026,1.7669830001106346,1.1264021854414936,-0.4326594740578652,-0.07852422323803551,-0.17367413397700165,0.14559273498432715,-0.09450610368119483,-0.450311635214802,0.024483633111631667,0.8619034378215645,0.37576934786638294,0.6604784693060562,1.546898477722581,-0.31644669207614307,1.0751080409363547,-1.2545891292729636,0.1652974648823601,0.04470676810755846,-0.2853696671175998,0.1073633384432158,-1.2434323810760282,0.5130174305940749,-0.9786133934918884,-0.5850284411117955,1.0087853298195266,0.0936606978721186,-0.6137428792942979,1.0481297523140083,0.11656293160882521,0.753428399507512,0.24104721358810266,-1.8199327065995095,-0.6165839730840095,-0.19348008375295506,0.3977934592352505,3.278574831460349,-0.28406450546619827,0.3198320310456906,-0.05262022144420799,-0.045281211887611104,-0.7173894584996944,-0.2513974832277044,0.570196634208274,0.7948931502537384,-0.16873272917163948,-0.7565934615943875,-0.5168679886509878,0.21810968565505992,0.9258187116883008,-0.6918576365484003,-0.7818441109847707,-1.851220746970328,-0.3652710146348525,0.5724495069039409,-0.8437185537568656,1.2061404955091923,1.5015837466076076,0.08721080361940686,-0.8843929865373923,-0.008309018221935336,-0.09636389045842066],\"xaxis\":\"x11\",\"yaxis\":\"y11\",\"type\":\"histogram\"},{\"line\":{\"color\":\"rgba(128, 128, 128, 1.0)\",\"dash\":\"solid\",\"shape\":\"linear\",\"width\":1.3},\"marker\":{\"size\":2,\"symbol\":\"circle\"},\"mode\":\"markers\",\"name\":\"C\",\"text\":\"\",\"x\":[-1.1249579601855308,-0.9410991973950514,-0.4486593530065986,0.05962675628963897,-0.7359737933474149,-0.675096201791584,1.7012601865464954,0.8231840515700299,2.172744571974603,-0.2527565359843745,0.7927540343172109,2.2197072906786492,-0.6511628526372234,0.8193223439928156,0.6516281382253095,0.8685452291437251,0.6358389736160797,-1.725000647642552,-0.9548547694402619,-0.2250370106551404,-0.6031803074001773,-1.1451469894566473,1.041087467399137,-0.3075394730177125,-0.2592588381211093,-2.8125820738342386,-0.0630428352508275,-0.3139891512226067,-1.3806277928090338,-0.5894462756846416,-0.19046981721009973,0.30194209764536145,0.5048219239249278,0.03314959303712693,-1.5740926235873482,-0.3731117383420975,-0.1009571214456144,1.5357839366870487,-0.9793053123230482,-1.1096657233977292,-0.8010288018955751,-1.4875981371366593,0.3032285438919636,-0.36182030149451055,-1.6517700174043022,0.13418103415995045,1.00084507079135,0.6068421038293886,0.08658120141763168,0.4388857146699468,-1.0807000730351164,-0.5932109569006637,-0.39907365255557287,-1.0933520086434285,-1.3427944876955982,-0.17727245731088123,0.4808925253600302,-1.4361517306499623,0.7992133932898633,0.20856170080504607,0.21941085342067815,1.5148555001386816,0.8484513347832735,-1.2116733713220018,0.1955340063223997,-1.776340478745634,-1.418612300116902,-1.0716753413037978,-0.2807712413810616,0.6031650963682019,-0.8779669525616524,-0.6391863320491697,1.3836299890934498,-0.5672799518622996,-0.39788998220756727,-0.7670622207292299,0.7521360122447434,0.8729944465064794,-0.9399191973480867,-0.9827272815293338,-0.194207433240659,-0.3344311988924336,0.61830632122162,1.7652146231547032,-0.3274961728713471,-0.3304967653917048,0.35138955656591636,0.687833229519024,1.2315217044012088,0.11417273260536316,0.09288758992076684,-1.4349095862147714,-1.2373597525512348,-0.5164076175898568,0.7444024881823896,1.0799684500455804,-1.7683397791652964,0.6429445396573226,-0.17090259743981126,1.8020015892468284],\"xaxis\":\"x12\",\"y\":[0.6080779995637853,1.7400246486916582,-0.13999133244817188,0.5352452489269939,-0.8607015748953641,-0.007577661562544845,0.6133874834270073,1.042079651193935,-1.6496004343838335,-0.2772290474878759,1.927748188628256,0.21679357483834014,-0.20041124642629127,-0.15735712069223926,-0.1396328615527953,1.4990379552532895,0.2365629551373359,-0.12562032481682733,1.0285067781204562,-0.34642867035988806,1.4893699293400513,-1.9678488029261485,0.11641549389965557,-0.447936521222829,-0.6317844721599816,-1.0620496792256486,-0.38036500817521507,2.124900554465702,0.4176334714155671,0.8933949427558404,0.9750339799707942,0.13396229912448,-0.139655695684182,0.17145230653256055,1.5265891392044315,1.5424348038693838,1.933135986859975,0.20063815169898097,2.259911527433026,1.7669830001106346,1.1264021854414936,-0.4326594740578652,-0.07852422323803551,-0.17367413397700165,0.14559273498432715,-0.09450610368119483,-0.450311635214802,0.024483633111631667,0.8619034378215645,0.37576934786638294,0.6604784693060562,1.546898477722581,-0.31644669207614307,1.0751080409363547,-1.2545891292729636,0.1652974648823601,0.04470676810755846,-0.2853696671175998,0.1073633384432158,-1.2434323810760282,0.5130174305940749,-0.9786133934918884,-0.5850284411117955,1.0087853298195266,0.0936606978721186,-0.6137428792942979,1.0481297523140083,0.11656293160882521,0.753428399507512,0.24104721358810266,-1.8199327065995095,-0.6165839730840095,-0.19348008375295506,0.3977934592352505,3.278574831460349,-0.28406450546619827,0.3198320310456906,-0.05262022144420799,-0.045281211887611104,-0.7173894584996944,-0.2513974832277044,0.570196634208274,0.7948931502537384,-0.16873272917163948,-0.7565934615943875,-0.5168679886509878,0.21810968565505992,0.9258187116883008,-0.6918576365484003,-0.7818441109847707,-1.851220746970328,-0.3652710146348525,0.5724495069039409,-0.8437185537568656,1.2061404955091923,1.5015837466076076,0.08721080361940686,-0.8843929865373923,-0.008309018221935336,-0.09636389045842066],\"yaxis\":\"y12\",\"type\":\"scatter\"},{\"line\":{\"color\":\"rgba(128, 128, 128, 1.0)\",\"dash\":\"solid\",\"shape\":\"linear\",\"width\":1.3},\"marker\":{\"size\":2,\"symbol\":\"circle\"},\"mode\":\"markers\",\"name\":\"D\",\"text\":\"\",\"x\":[-0.4948803672448772,-1.278606917283569,0.07106421334385374,1.0619587030601383,-1.4440555967233013,-0.22858606681894317,1.0030057486241948,0.04484795456415611,1.1619652312215167,-0.3063834419687249,0.5573171280834106,-1.4004848970008938,0.07213998245936415,-0.1992952156759034,0.963590047242657,0.1777390611535859,0.3189703863207484,0.6566964416263336,-1.2392354456388477,0.6737524737410653,1.4126321439046603,0.871402533205939,-0.8008377075281847,0.2066366446481001,0.7843129613261675,0.3612288487362664,0.42751052801441863,-1.3907782385950074,0.6062586949880656,-0.9710333735809482,0.47891605023133554,1.2337314105990314,0.9082028305785744,0.8446175169590872,0.2213111437943422,0.6040793357601695,-0.08588004121752364,-1.734245229493394,0.3647044551034887,0.0972210006165413,1.5046750299472174,-0.2810942500199662,3.0486427088955197,0.8443707688013775,-1.1933916647937377,-0.746046118365644,-1.1939737089247473,0.40617833718975777,-2.662736129779989,1.1340143561785632,-1.3431317646811118,-1.5882524199465087,-0.6483975035034787,1.3152824593173136,0.1333759544313208,0.30894298034457474,-0.6356048656438124,1.3659277658214952,-0.8456641943132652,0.5792996706265964,-0.12359290321284937,0.3266371728879937,1.295394749603058,-1.808102978075752,1.00915672491599,1.0642108345710921,1.466414923863723,0.8008328209289889,-0.09580001650492555,-0.38362804920073745,1.3351436888107087,-1.9884141016609131,0.4263071451958101,2.2681107757035783,0.5787490360176778,0.2831479916822075,-0.5928277608139828,1.0258181150691483,0.6891934792638104,-1.2325795921811449,0.46801777318662463,1.1160736213980393,-0.7838575266232529,1.0298022519136174,-0.7014308136007442,0.6960023389885786,1.1930852729550367,-0.4791890698641037,-0.3679677031951291,0.7966573079412141,-0.3211027262453276,-0.7608238050371512,-0.9710853823227727,0.22756984546431366,0.35529269618747356,-0.9526719129304471,-0.303544912011667,0.7324609793244885,1.2023945170669637,1.320809141414054],\"xaxis\":\"x13\",\"y\":[-1.1249579601855308,-0.9410991973950514,-0.4486593530065986,0.05962675628963897,-0.7359737933474149,-0.675096201791584,1.7012601865464954,0.8231840515700299,2.172744571974603,-0.2527565359843745,0.7927540343172109,2.2197072906786492,-0.6511628526372234,0.8193223439928156,0.6516281382253095,0.8685452291437251,0.6358389736160797,-1.725000647642552,-0.9548547694402619,-0.2250370106551404,-0.6031803074001773,-1.1451469894566473,1.041087467399137,-0.3075394730177125,-0.2592588381211093,-2.8125820738342386,-0.0630428352508275,-0.3139891512226067,-1.3806277928090338,-0.5894462756846416,-0.19046981721009973,0.30194209764536145,0.5048219239249278,0.03314959303712693,-1.5740926235873482,-0.3731117383420975,-0.1009571214456144,1.5357839366870487,-0.9793053123230482,-1.1096657233977292,-0.8010288018955751,-1.4875981371366593,0.3032285438919636,-0.36182030149451055,-1.6517700174043022,0.13418103415995045,1.00084507079135,0.6068421038293886,0.08658120141763168,0.4388857146699468,-1.0807000730351164,-0.5932109569006637,-0.39907365255557287,-1.0933520086434285,-1.3427944876955982,-0.17727245731088123,0.4808925253600302,-1.4361517306499623,0.7992133932898633,0.20856170080504607,0.21941085342067815,1.5148555001386816,0.8484513347832735,-1.2116733713220018,0.1955340063223997,-1.776340478745634,-1.418612300116902,-1.0716753413037978,-0.2807712413810616,0.6031650963682019,-0.8779669525616524,-0.6391863320491697,1.3836299890934498,-0.5672799518622996,-0.39788998220756727,-0.7670622207292299,0.7521360122447434,0.8729944465064794,-0.9399191973480867,-0.9827272815293338,-0.194207433240659,-0.3344311988924336,0.61830632122162,1.7652146231547032,-0.3274961728713471,-0.3304967653917048,0.35138955656591636,0.687833229519024,1.2315217044012088,0.11417273260536316,0.09288758992076684,-1.4349095862147714,-1.2373597525512348,-0.5164076175898568,0.7444024881823896,1.0799684500455804,-1.7683397791652964,0.6429445396573226,-0.17090259743981126,1.8020015892468284],\"yaxis\":\"y13\",\"type\":\"scatter\"},{\"line\":{\"color\":\"rgba(128, 128, 128, 1.0)\",\"dash\":\"solid\",\"shape\":\"linear\",\"width\":1.3},\"marker\":{\"size\":2,\"symbol\":\"circle\"},\"mode\":\"markers\",\"name\":\"D\",\"text\":\"\",\"x\":[0.1776044584804704,-0.30579446317958037,0.13659788724493616,0.013966560660043948,1.3273022146782885,0.4245281639427591,0.13993688841338434,0.1364806923102963,-2.1065412864272086,-0.7493121467001574,-0.21907401933298437,1.3552891173188997,1.3823839058712768,0.26110714954987385,0.6670584552397943,0.697742052337499,-1.4770059522646852,-0.9466999513182942,-0.41620999378775114,0.23120654972488888,0.1053455114042331,-1.098711099169789,1.4008705791090683,-0.434654050392941,-1.207128568186926,-0.03525291190838535,0.14426598640881158,-1.6202847005796388,0.7627104472323303,1.2241416006731294,-0.6465533718632971,0.7415566179979918,-1.428988584175279,-1.928358672485835,-0.07720665593274657,0.5671077245400157,-1.795702440431457,-0.7941695676657354,3.907184367978601,1.8762239910918184,-0.8640392128710467,0.14788580454689232,0.4848657485550836,-0.39822234778649335,-0.2143508229290543,0.5421028547170331,0.9470213452638643,0.6079341780818952,0.08236570323112267,-0.4206814224407974,-0.2751572370420352,0.6632291561159293,-0.1672811079836468,0.84269169025041,0.7089604299130701,0.2458080265524387,-1.5136335159268992,-1.1978392671156282,-1.618336530284113,0.012290688929548993,1.619220248352336,1.110592869177345,0.7018241042017215,0.3702183639470843,-1.7388309041310908,-0.0875310813749589,-0.9124345858997445,1.1530317074144363,0.4714579218231528,0.48493178299862316,-0.35122660893540913,2.451773260240074,0.9309728827074173,-0.8834813115281297,-0.24448564745225207,0.46071894306278166,-2.309648368476434,1.7172733786642822,0.2073435746324365,-0.7662927627171758,-0.3838240458423306,1.2410093848919947,-0.24166136762679763,-0.16830385578843002,-1.704143002064265,-0.9899666399550905,-0.2962403884733509,-0.1531779038411322,0.015868120719419496,0.8272629094610052,1.868780342551116,0.4496997798754286,0.1255705622513645,-1.0699432646501854,1.2467596372794354,-0.22818951517464736,1.1230267105010945,-0.10288297183350929,-0.6189159183061426,1.13100404498498],\"xaxis\":\"x14\",\"y\":[-1.1249579601855308,-0.9410991973950514,-0.4486593530065986,0.05962675628963897,-0.7359737933474149,-0.675096201791584,1.7012601865464954,0.8231840515700299,2.172744571974603,-0.2527565359843745,0.7927540343172109,2.2197072906786492,-0.6511628526372234,0.8193223439928156,0.6516281382253095,0.8685452291437251,0.6358389736160797,-1.725000647642552,-0.9548547694402619,-0.2250370106551404,-0.6031803074001773,-1.1451469894566473,1.041087467399137,-0.3075394730177125,-0.2592588381211093,-2.8125820738342386,-0.0630428352508275,-0.3139891512226067,-1.3806277928090338,-0.5894462756846416,-0.19046981721009973,0.30194209764536145,0.5048219239249278,0.03314959303712693,-1.5740926235873482,-0.3731117383420975,-0.1009571214456144,1.5357839366870487,-0.9793053123230482,-1.1096657233977292,-0.8010288018955751,-1.4875981371366593,0.3032285438919636,-0.36182030149451055,-1.6517700174043022,0.13418103415995045,1.00084507079135,0.6068421038293886,0.08658120141763168,0.4388857146699468,-1.0807000730351164,-0.5932109569006637,-0.39907365255557287,-1.0933520086434285,-1.3427944876955982,-0.17727245731088123,0.4808925253600302,-1.4361517306499623,0.7992133932898633,0.20856170080504607,0.21941085342067815,1.5148555001386816,0.8484513347832735,-1.2116733713220018,0.1955340063223997,-1.776340478745634,-1.418612300116902,-1.0716753413037978,-0.2807712413810616,0.6031650963682019,-0.8779669525616524,-0.6391863320491697,1.3836299890934498,-0.5672799518622996,-0.39788998220756727,-0.7670622207292299,0.7521360122447434,0.8729944465064794,-0.9399191973480867,-0.9827272815293338,-0.194207433240659,-0.3344311988924336,0.61830632122162,1.7652146231547032,-0.3274961728713471,-0.3304967653917048,0.35138955656591636,0.687833229519024,1.2315217044012088,0.11417273260536316,0.09288758992076684,-1.4349095862147714,-1.2373597525512348,-0.5164076175898568,0.7444024881823896,1.0799684500455804,-1.7683397791652964,0.6429445396573226,-0.17090259743981126,1.8020015892468284],\"yaxis\":\"y14\",\"type\":\"scatter\"},{\"line\":{\"color\":\"rgba(128, 128, 128, 1.0)\",\"dash\":\"solid\",\"shape\":\"linear\",\"width\":1.3},\"marker\":{\"size\":2,\"symbol\":\"circle\"},\"mode\":\"markers\",\"name\":\"D\",\"text\":\"\",\"x\":[0.6080779995637853,1.7400246486916582,-0.13999133244817188,0.5352452489269939,-0.8607015748953641,-0.007577661562544845,0.6133874834270073,1.042079651193935,-1.6496004343838335,-0.2772290474878759,1.927748188628256,0.21679357483834014,-0.20041124642629127,-0.15735712069223926,-0.1396328615527953,1.4990379552532895,0.2365629551373359,-0.12562032481682733,1.0285067781204562,-0.34642867035988806,1.4893699293400513,-1.9678488029261485,0.11641549389965557,-0.447936521222829,-0.6317844721599816,-1.0620496792256486,-0.38036500817521507,2.124900554465702,0.4176334714155671,0.8933949427558404,0.9750339799707942,0.13396229912448,-0.139655695684182,0.17145230653256055,1.5265891392044315,1.5424348038693838,1.933135986859975,0.20063815169898097,2.259911527433026,1.7669830001106346,1.1264021854414936,-0.4326594740578652,-0.07852422323803551,-0.17367413397700165,0.14559273498432715,-0.09450610368119483,-0.450311635214802,0.024483633111631667,0.8619034378215645,0.37576934786638294,0.6604784693060562,1.546898477722581,-0.31644669207614307,1.0751080409363547,-1.2545891292729636,0.1652974648823601,0.04470676810755846,-0.2853696671175998,0.1073633384432158,-1.2434323810760282,0.5130174305940749,-0.9786133934918884,-0.5850284411117955,1.0087853298195266,0.0936606978721186,-0.6137428792942979,1.0481297523140083,0.11656293160882521,0.753428399507512,0.24104721358810266,-1.8199327065995095,-0.6165839730840095,-0.19348008375295506,0.3977934592352505,3.278574831460349,-0.28406450546619827,0.3198320310456906,-0.05262022144420799,-0.045281211887611104,-0.7173894584996944,-0.2513974832277044,0.570196634208274,0.7948931502537384,-0.16873272917163948,-0.7565934615943875,-0.5168679886509878,0.21810968565505992,0.9258187116883008,-0.6918576365484003,-0.7818441109847707,-1.851220746970328,-0.3652710146348525,0.5724495069039409,-0.8437185537568656,1.2061404955091923,1.5015837466076076,0.08721080361940686,-0.8843929865373923,-0.008309018221935336,-0.09636389045842066],\"xaxis\":\"x15\",\"y\":[-1.1249579601855308,-0.9410991973950514,-0.4486593530065986,0.05962675628963897,-0.7359737933474149,-0.675096201791584,1.7012601865464954,0.8231840515700299,2.172744571974603,-0.2527565359843745,0.7927540343172109,2.2197072906786492,-0.6511628526372234,0.8193223439928156,0.6516281382253095,0.8685452291437251,0.6358389736160797,-1.725000647642552,-0.9548547694402619,-0.2250370106551404,-0.6031803074001773,-1.1451469894566473,1.041087467399137,-0.3075394730177125,-0.2592588381211093,-2.8125820738342386,-0.0630428352508275,-0.3139891512226067,-1.3806277928090338,-0.5894462756846416,-0.19046981721009973,0.30194209764536145,0.5048219239249278,0.03314959303712693,-1.5740926235873482,-0.3731117383420975,-0.1009571214456144,1.5357839366870487,-0.9793053123230482,-1.1096657233977292,-0.8010288018955751,-1.4875981371366593,0.3032285438919636,-0.36182030149451055,-1.6517700174043022,0.13418103415995045,1.00084507079135,0.6068421038293886,0.08658120141763168,0.4388857146699468,-1.0807000730351164,-0.5932109569006637,-0.39907365255557287,-1.0933520086434285,-1.3427944876955982,-0.17727245731088123,0.4808925253600302,-1.4361517306499623,0.7992133932898633,0.20856170080504607,0.21941085342067815,1.5148555001386816,0.8484513347832735,-1.2116733713220018,0.1955340063223997,-1.776340478745634,-1.418612300116902,-1.0716753413037978,-0.2807712413810616,0.6031650963682019,-0.8779669525616524,-0.6391863320491697,1.3836299890934498,-0.5672799518622996,-0.39788998220756727,-0.7670622207292299,0.7521360122447434,0.8729944465064794,-0.9399191973480867,-0.9827272815293338,-0.194207433240659,-0.3344311988924336,0.61830632122162,1.7652146231547032,-0.3274961728713471,-0.3304967653917048,0.35138955656591636,0.687833229519024,1.2315217044012088,0.11417273260536316,0.09288758992076684,-1.4349095862147714,-1.2373597525512348,-0.5164076175898568,0.7444024881823896,1.0799684500455804,-1.7683397791652964,0.6429445396573226,-0.17090259743981126,1.8020015892468284],\"yaxis\":\"y15\",\"type\":\"scatter\"},{\"histfunc\":\"count\",\"histnorm\":\"\",\"marker\":{\"color\":\"rgba(128, 0, 128, 1.0)\",\"line\":{\"color\":\"#4D5663\",\"width\":1.3}},\"name\":\"D\",\"nbinsx\":10,\"opacity\":0.8,\"orientation\":\"v\",\"x\":[-1.1249579601855308,-0.9410991973950514,-0.4486593530065986,0.05962675628963897,-0.7359737933474149,-0.675096201791584,1.7012601865464954,0.8231840515700299,2.172744571974603,-0.2527565359843745,0.7927540343172109,2.2197072906786492,-0.6511628526372234,0.8193223439928156,0.6516281382253095,0.8685452291437251,0.6358389736160797,-1.725000647642552,-0.9548547694402619,-0.2250370106551404,-0.6031803074001773,-1.1451469894566473,1.041087467399137,-0.3075394730177125,-0.2592588381211093,-2.8125820738342386,-0.0630428352508275,-0.3139891512226067,-1.3806277928090338,-0.5894462756846416,-0.19046981721009973,0.30194209764536145,0.5048219239249278,0.03314959303712693,-1.5740926235873482,-0.3731117383420975,-0.1009571214456144,1.5357839366870487,-0.9793053123230482,-1.1096657233977292,-0.8010288018955751,-1.4875981371366593,0.3032285438919636,-0.36182030149451055,-1.6517700174043022,0.13418103415995045,1.00084507079135,0.6068421038293886,0.08658120141763168,0.4388857146699468,-1.0807000730351164,-0.5932109569006637,-0.39907365255557287,-1.0933520086434285,-1.3427944876955982,-0.17727245731088123,0.4808925253600302,-1.4361517306499623,0.7992133932898633,0.20856170080504607,0.21941085342067815,1.5148555001386816,0.8484513347832735,-1.2116733713220018,0.1955340063223997,-1.776340478745634,-1.418612300116902,-1.0716753413037978,-0.2807712413810616,0.6031650963682019,-0.8779669525616524,-0.6391863320491697,1.3836299890934498,-0.5672799518622996,-0.39788998220756727,-0.7670622207292299,0.7521360122447434,0.8729944465064794,-0.9399191973480867,-0.9827272815293338,-0.194207433240659,-0.3344311988924336,0.61830632122162,1.7652146231547032,-0.3274961728713471,-0.3304967653917048,0.35138955656591636,0.687833229519024,1.2315217044012088,0.11417273260536316,0.09288758992076684,-1.4349095862147714,-1.2373597525512348,-0.5164076175898568,0.7444024881823896,1.0799684500455804,-1.7683397791652964,0.6429445396573226,-0.17090259743981126,1.8020015892468284],\"xaxis\":\"x16\",\"yaxis\":\"y16\",\"type\":\"histogram\"}],                        {\"bargap\":0.02,\"legend\":{\"bgcolor\":\"#F5F6F9\",\"font\":{\"color\":\"#4D5663\"}},\"paper_bgcolor\":\"#F5F6F9\",\"plot_bgcolor\":\"#F5F6F9\",\"showlegend\":false,\"template\":{\"data\":{\"barpolar\":[{\"marker\":{\"line\":{\"color\":\"#E5ECF6\",\"width\":0.5},\"pattern\":{\"fillmode\":\"overlay\",\"size\":10,\"solidity\":0.2}},\"type\":\"barpolar\"}],\"bar\":[{\"error_x\":{\"color\":\"#2a3f5f\"},\"error_y\":{\"color\":\"#2a3f5f\"},\"marker\":{\"line\":{\"color\":\"#E5ECF6\",\"width\":0.5},\"pattern\":{\"fillmode\":\"overlay\",\"size\":10,\"solidity\":0.2}},\"type\":\"bar\"}],\"carpet\":[{\"aaxis\":{\"endlinecolor\":\"#2a3f5f\",\"gridcolor\":\"white\",\"linecolor\":\"white\",\"minorgridcolor\":\"white\",\"startlinecolor\":\"#2a3f5f\"},\"baxis\":{\"endlinecolor\":\"#2a3f5f\",\"gridcolor\":\"white\",\"linecolor\":\"white\",\"minorgridcolor\":\"white\",\"startlinecolor\":\"#2a3f5f\"},\"type\":\"carpet\"}],\"choropleth\":[{\"colorbar\":{\"outlinewidth\":0,\"ticks\":\"\"},\"type\":\"choropleth\"}],\"contourcarpet\":[{\"colorbar\":{\"outlinewidth\":0,\"ticks\":\"\"},\"type\":\"contourcarpet\"}],\"contour\":[{\"colorbar\":{\"outlinewidth\":0,\"ticks\":\"\"},\"colorscale\":[[0.0,\"#0d0887\"],[0.1111111111111111,\"#46039f\"],[0.2222222222222222,\"#7201a8\"],[0.3333333333333333,\"#9c179e\"],[0.4444444444444444,\"#bd3786\"],[0.5555555555555556,\"#d8576b\"],[0.6666666666666666,\"#ed7953\"],[0.7777777777777778,\"#fb9f3a\"],[0.8888888888888888,\"#fdca26\"],[1.0,\"#f0f921\"]],\"type\":\"contour\"}],\"heatmapgl\":[{\"colorbar\":{\"outlinewidth\":0,\"ticks\":\"\"},\"colorscale\":[[0.0,\"#0d0887\"],[0.1111111111111111,\"#46039f\"],[0.2222222222222222,\"#7201a8\"],[0.3333333333333333,\"#9c179e\"],[0.4444444444444444,\"#bd3786\"],[0.5555555555555556,\"#d8576b\"],[0.6666666666666666,\"#ed7953\"],[0.7777777777777778,\"#fb9f3a\"],[0.8888888888888888,\"#fdca26\"],[1.0,\"#f0f921\"]],\"type\":\"heatmapgl\"}],\"heatmap\":[{\"colorbar\":{\"outlinewidth\":0,\"ticks\":\"\"},\"colorscale\":[[0.0,\"#0d0887\"],[0.1111111111111111,\"#46039f\"],[0.2222222222222222,\"#7201a8\"],[0.3333333333333333,\"#9c179e\"],[0.4444444444444444,\"#bd3786\"],[0.5555555555555556,\"#d8576b\"],[0.6666666666666666,\"#ed7953\"],[0.7777777777777778,\"#fb9f3a\"],[0.8888888888888888,\"#fdca26\"],[1.0,\"#f0f921\"]],\"type\":\"heatmap\"}],\"histogram2dcontour\":[{\"colorbar\":{\"outlinewidth\":0,\"ticks\":\"\"},\"colorscale\":[[0.0,\"#0d0887\"],[0.1111111111111111,\"#46039f\"],[0.2222222222222222,\"#7201a8\"],[0.3333333333333333,\"#9c179e\"],[0.4444444444444444,\"#bd3786\"],[0.5555555555555556,\"#d8576b\"],[0.6666666666666666,\"#ed7953\"],[0.7777777777777778,\"#fb9f3a\"],[0.8888888888888888,\"#fdca26\"],[1.0,\"#f0f921\"]],\"type\":\"histogram2dcontour\"}],\"histogram2d\":[{\"colorbar\":{\"outlinewidth\":0,\"ticks\":\"\"},\"colorscale\":[[0.0,\"#0d0887\"],[0.1111111111111111,\"#46039f\"],[0.2222222222222222,\"#7201a8\"],[0.3333333333333333,\"#9c179e\"],[0.4444444444444444,\"#bd3786\"],[0.5555555555555556,\"#d8576b\"],[0.6666666666666666,\"#ed7953\"],[0.7777777777777778,\"#fb9f3a\"],[0.8888888888888888,\"#fdca26\"],[1.0,\"#f0f921\"]],\"type\":\"histogram2d\"}],\"histogram\":[{\"marker\":{\"pattern\":{\"fillmode\":\"overlay\",\"size\":10,\"solidity\":0.2}},\"type\":\"histogram\"}],\"mesh3d\":[{\"colorbar\":{\"outlinewidth\":0,\"ticks\":\"\"},\"type\":\"mesh3d\"}],\"parcoords\":[{\"line\":{\"colorbar\":{\"outlinewidth\":0,\"ticks\":\"\"}},\"type\":\"parcoords\"}],\"pie\":[{\"automargin\":true,\"type\":\"pie\"}],\"scatter3d\":[{\"line\":{\"colorbar\":{\"outlinewidth\":0,\"ticks\":\"\"}},\"marker\":{\"colorbar\":{\"outlinewidth\":0,\"ticks\":\"\"}},\"type\":\"scatter3d\"}],\"scattercarpet\":[{\"marker\":{\"colorbar\":{\"outlinewidth\":0,\"ticks\":\"\"}},\"type\":\"scattercarpet\"}],\"scattergeo\":[{\"marker\":{\"colorbar\":{\"outlinewidth\":0,\"ticks\":\"\"}},\"type\":\"scattergeo\"}],\"scattergl\":[{\"marker\":{\"colorbar\":{\"outlinewidth\":0,\"ticks\":\"\"}},\"type\":\"scattergl\"}],\"scattermapbox\":[{\"marker\":{\"colorbar\":{\"outlinewidth\":0,\"ticks\":\"\"}},\"type\":\"scattermapbox\"}],\"scatterpolargl\":[{\"marker\":{\"colorbar\":{\"outlinewidth\":0,\"ticks\":\"\"}},\"type\":\"scatterpolargl\"}],\"scatterpolar\":[{\"marker\":{\"colorbar\":{\"outlinewidth\":0,\"ticks\":\"\"}},\"type\":\"scatterpolar\"}],\"scatter\":[{\"fillpattern\":{\"fillmode\":\"overlay\",\"size\":10,\"solidity\":0.2},\"type\":\"scatter\"}],\"scatterternary\":[{\"marker\":{\"colorbar\":{\"outlinewidth\":0,\"ticks\":\"\"}},\"type\":\"scatterternary\"}],\"surface\":[{\"colorbar\":{\"outlinewidth\":0,\"ticks\":\"\"},\"colorscale\":[[0.0,\"#0d0887\"],[0.1111111111111111,\"#46039f\"],[0.2222222222222222,\"#7201a8\"],[0.3333333333333333,\"#9c179e\"],[0.4444444444444444,\"#bd3786\"],[0.5555555555555556,\"#d8576b\"],[0.6666666666666666,\"#ed7953\"],[0.7777777777777778,\"#fb9f3a\"],[0.8888888888888888,\"#fdca26\"],[1.0,\"#f0f921\"]],\"type\":\"surface\"}],\"table\":[{\"cells\":{\"fill\":{\"color\":\"#EBF0F8\"},\"line\":{\"color\":\"white\"}},\"header\":{\"fill\":{\"color\":\"#C8D4E3\"},\"line\":{\"color\":\"white\"}},\"type\":\"table\"}]},\"layout\":{\"annotationdefaults\":{\"arrowcolor\":\"#2a3f5f\",\"arrowhead\":0,\"arrowwidth\":1},\"autotypenumbers\":\"strict\",\"coloraxis\":{\"colorbar\":{\"outlinewidth\":0,\"ticks\":\"\"}},\"colorscale\":{\"diverging\":[[0,\"#8e0152\"],[0.1,\"#c51b7d\"],[0.2,\"#de77ae\"],[0.3,\"#f1b6da\"],[0.4,\"#fde0ef\"],[0.5,\"#f7f7f7\"],[0.6,\"#e6f5d0\"],[0.7,\"#b8e186\"],[0.8,\"#7fbc41\"],[0.9,\"#4d9221\"],[1,\"#276419\"]],\"sequential\":[[0.0,\"#0d0887\"],[0.1111111111111111,\"#46039f\"],[0.2222222222222222,\"#7201a8\"],[0.3333333333333333,\"#9c179e\"],[0.4444444444444444,\"#bd3786\"],[0.5555555555555556,\"#d8576b\"],[0.6666666666666666,\"#ed7953\"],[0.7777777777777778,\"#fb9f3a\"],[0.8888888888888888,\"#fdca26\"],[1.0,\"#f0f921\"]],\"sequentialminus\":[[0.0,\"#0d0887\"],[0.1111111111111111,\"#46039f\"],[0.2222222222222222,\"#7201a8\"],[0.3333333333333333,\"#9c179e\"],[0.4444444444444444,\"#bd3786\"],[0.5555555555555556,\"#d8576b\"],[0.6666666666666666,\"#ed7953\"],[0.7777777777777778,\"#fb9f3a\"],[0.8888888888888888,\"#fdca26\"],[1.0,\"#f0f921\"]]},\"colorway\":[\"#636efa\",\"#EF553B\",\"#00cc96\",\"#ab63fa\",\"#FFA15A\",\"#19d3f3\",\"#FF6692\",\"#B6E880\",\"#FF97FF\",\"#FECB52\"],\"font\":{\"color\":\"#2a3f5f\"},\"geo\":{\"bgcolor\":\"white\",\"lakecolor\":\"white\",\"landcolor\":\"#E5ECF6\",\"showlakes\":true,\"showland\":true,\"subunitcolor\":\"white\"},\"hoverlabel\":{\"align\":\"left\"},\"hovermode\":\"closest\",\"mapbox\":{\"style\":\"light\"},\"paper_bgcolor\":\"white\",\"plot_bgcolor\":\"#E5ECF6\",\"polar\":{\"angularaxis\":{\"gridcolor\":\"white\",\"linecolor\":\"white\",\"ticks\":\"\"},\"bgcolor\":\"#E5ECF6\",\"radialaxis\":{\"gridcolor\":\"white\",\"linecolor\":\"white\",\"ticks\":\"\"}},\"scene\":{\"xaxis\":{\"backgroundcolor\":\"#E5ECF6\",\"gridcolor\":\"white\",\"gridwidth\":2,\"linecolor\":\"white\",\"showbackground\":true,\"ticks\":\"\",\"zerolinecolor\":\"white\"},\"yaxis\":{\"backgroundcolor\":\"#E5ECF6\",\"gridcolor\":\"white\",\"gridwidth\":2,\"linecolor\":\"white\",\"showbackground\":true,\"ticks\":\"\",\"zerolinecolor\":\"white\"},\"zaxis\":{\"backgroundcolor\":\"#E5ECF6\",\"gridcolor\":\"white\",\"gridwidth\":2,\"linecolor\":\"white\",\"showbackground\":true,\"ticks\":\"\",\"zerolinecolor\":\"white\"}},\"shapedefaults\":{\"line\":{\"color\":\"#2a3f5f\"}},\"ternary\":{\"aaxis\":{\"gridcolor\":\"white\",\"linecolor\":\"white\",\"ticks\":\"\"},\"baxis\":{\"gridcolor\":\"white\",\"linecolor\":\"white\",\"ticks\":\"\"},\"bgcolor\":\"#E5ECF6\",\"caxis\":{\"gridcolor\":\"white\",\"linecolor\":\"white\",\"ticks\":\"\"}},\"title\":{\"x\":0.05},\"xaxis\":{\"automargin\":true,\"gridcolor\":\"white\",\"linecolor\":\"white\",\"ticks\":\"\",\"title\":{\"standoff\":15},\"zerolinecolor\":\"white\",\"zerolinewidth\":2},\"yaxis\":{\"automargin\":true,\"gridcolor\":\"white\",\"linecolor\":\"white\",\"ticks\":\"\",\"title\":{\"standoff\":15},\"zerolinecolor\":\"white\",\"zerolinewidth\":2}}},\"title\":{\"font\":{\"color\":\"#4D5663\"}},\"xaxis\":{\"anchor\":\"y\",\"domain\":[0.0,0.2125],\"gridcolor\":\"#E1E5ED\",\"showgrid\":false,\"tickfont\":{\"color\":\"#4D5663\"},\"title\":{\"font\":{\"color\":\"#4D5663\"},\"text\":\"\"},\"zerolinecolor\":\"#E1E5ED\"},\"yaxis\":{\"anchor\":\"x\",\"domain\":[0.8025,1.0],\"gridcolor\":\"#E1E5ED\",\"showgrid\":false,\"tickfont\":{\"color\":\"#4D5663\"},\"title\":{\"font\":{\"color\":\"#4D5663\"},\"text\":\"\"},\"zerolinecolor\":\"#E1E5ED\"},\"xaxis2\":{\"anchor\":\"y2\",\"domain\":[0.2625,0.475],\"gridcolor\":\"#E1E5ED\",\"showgrid\":false,\"tickfont\":{\"color\":\"#4D5663\"},\"title\":{\"font\":{\"color\":\"#4D5663\"},\"text\":\"\"},\"zerolinecolor\":\"#E1E5ED\"},\"yaxis2\":{\"anchor\":\"x2\",\"domain\":[0.8025,1.0],\"gridcolor\":\"#E1E5ED\",\"showgrid\":false,\"tickfont\":{\"color\":\"#4D5663\"},\"title\":{\"font\":{\"color\":\"#4D5663\"},\"text\":\"\"},\"zerolinecolor\":\"#E1E5ED\"},\"xaxis3\":{\"anchor\":\"y3\",\"domain\":[0.525,0.7375],\"gridcolor\":\"#E1E5ED\",\"showgrid\":false,\"tickfont\":{\"color\":\"#4D5663\"},\"title\":{\"font\":{\"color\":\"#4D5663\"},\"text\":\"\"},\"zerolinecolor\":\"#E1E5ED\"},\"yaxis3\":{\"anchor\":\"x3\",\"domain\":[0.8025,1.0],\"gridcolor\":\"#E1E5ED\",\"showgrid\":false,\"tickfont\":{\"color\":\"#4D5663\"},\"title\":{\"font\":{\"color\":\"#4D5663\"},\"text\":\"\"},\"zerolinecolor\":\"#E1E5ED\"},\"xaxis4\":{\"anchor\":\"y4\",\"domain\":[0.7875,1.0],\"gridcolor\":\"#E1E5ED\",\"showgrid\":false,\"tickfont\":{\"color\":\"#4D5663\"},\"title\":{\"font\":{\"color\":\"#4D5663\"},\"text\":\"\"},\"zerolinecolor\":\"#E1E5ED\"},\"yaxis4\":{\"anchor\":\"x4\",\"domain\":[0.8025,1.0],\"gridcolor\":\"#E1E5ED\",\"showgrid\":false,\"tickfont\":{\"color\":\"#4D5663\"},\"title\":{\"font\":{\"color\":\"#4D5663\"},\"text\":\"\"},\"zerolinecolor\":\"#E1E5ED\"},\"xaxis5\":{\"anchor\":\"y5\",\"domain\":[0.0,0.2125],\"gridcolor\":\"#E1E5ED\",\"showgrid\":false,\"tickfont\":{\"color\":\"#4D5663\"},\"title\":{\"font\":{\"color\":\"#4D5663\"},\"text\":\"\"},\"zerolinecolor\":\"#E1E5ED\"},\"yaxis5\":{\"anchor\":\"x5\",\"domain\":[0.535,0.7325],\"gridcolor\":\"#E1E5ED\",\"showgrid\":false,\"tickfont\":{\"color\":\"#4D5663\"},\"title\":{\"font\":{\"color\":\"#4D5663\"},\"text\":\"\"},\"zerolinecolor\":\"#E1E5ED\"},\"xaxis6\":{\"anchor\":\"y6\",\"domain\":[0.2625,0.475],\"gridcolor\":\"#E1E5ED\",\"showgrid\":false,\"tickfont\":{\"color\":\"#4D5663\"},\"title\":{\"font\":{\"color\":\"#4D5663\"},\"text\":\"\"},\"zerolinecolor\":\"#E1E5ED\"},\"yaxis6\":{\"anchor\":\"x6\",\"domain\":[0.535,0.7325],\"gridcolor\":\"#E1E5ED\",\"showgrid\":false,\"tickfont\":{\"color\":\"#4D5663\"},\"title\":{\"font\":{\"color\":\"#4D5663\"},\"text\":\"\"},\"zerolinecolor\":\"#E1E5ED\"},\"xaxis7\":{\"anchor\":\"y7\",\"domain\":[0.525,0.7375],\"gridcolor\":\"#E1E5ED\",\"showgrid\":false,\"tickfont\":{\"color\":\"#4D5663\"},\"title\":{\"font\":{\"color\":\"#4D5663\"},\"text\":\"\"},\"zerolinecolor\":\"#E1E5ED\"},\"yaxis7\":{\"anchor\":\"x7\",\"domain\":[0.535,0.7325],\"gridcolor\":\"#E1E5ED\",\"showgrid\":false,\"tickfont\":{\"color\":\"#4D5663\"},\"title\":{\"font\":{\"color\":\"#4D5663\"},\"text\":\"\"},\"zerolinecolor\":\"#E1E5ED\"},\"xaxis8\":{\"anchor\":\"y8\",\"domain\":[0.7875,1.0],\"gridcolor\":\"#E1E5ED\",\"showgrid\":false,\"tickfont\":{\"color\":\"#4D5663\"},\"title\":{\"font\":{\"color\":\"#4D5663\"},\"text\":\"\"},\"zerolinecolor\":\"#E1E5ED\"},\"yaxis8\":{\"anchor\":\"x8\",\"domain\":[0.535,0.7325],\"gridcolor\":\"#E1E5ED\",\"showgrid\":false,\"tickfont\":{\"color\":\"#4D5663\"},\"title\":{\"font\":{\"color\":\"#4D5663\"},\"text\":\"\"},\"zerolinecolor\":\"#E1E5ED\"},\"xaxis9\":{\"anchor\":\"y9\",\"domain\":[0.0,0.2125],\"gridcolor\":\"#E1E5ED\",\"showgrid\":false,\"tickfont\":{\"color\":\"#4D5663\"},\"title\":{\"font\":{\"color\":\"#4D5663\"},\"text\":\"\"},\"zerolinecolor\":\"#E1E5ED\"},\"yaxis9\":{\"anchor\":\"x9\",\"domain\":[0.2675,0.465],\"gridcolor\":\"#E1E5ED\",\"showgrid\":false,\"tickfont\":{\"color\":\"#4D5663\"},\"title\":{\"font\":{\"color\":\"#4D5663\"},\"text\":\"\"},\"zerolinecolor\":\"#E1E5ED\"},\"xaxis10\":{\"anchor\":\"y10\",\"domain\":[0.2625,0.475],\"gridcolor\":\"#E1E5ED\",\"showgrid\":false,\"tickfont\":{\"color\":\"#4D5663\"},\"title\":{\"font\":{\"color\":\"#4D5663\"},\"text\":\"\"},\"zerolinecolor\":\"#E1E5ED\"},\"yaxis10\":{\"anchor\":\"x10\",\"domain\":[0.2675,0.465],\"gridcolor\":\"#E1E5ED\",\"showgrid\":false,\"tickfont\":{\"color\":\"#4D5663\"},\"title\":{\"font\":{\"color\":\"#4D5663\"},\"text\":\"\"},\"zerolinecolor\":\"#E1E5ED\"},\"xaxis11\":{\"anchor\":\"y11\",\"domain\":[0.525,0.7375],\"gridcolor\":\"#E1E5ED\",\"showgrid\":false,\"tickfont\":{\"color\":\"#4D5663\"},\"title\":{\"font\":{\"color\":\"#4D5663\"},\"text\":\"\"},\"zerolinecolor\":\"#E1E5ED\"},\"yaxis11\":{\"anchor\":\"x11\",\"domain\":[0.2675,0.465],\"gridcolor\":\"#E1E5ED\",\"showgrid\":false,\"tickfont\":{\"color\":\"#4D5663\"},\"title\":{\"font\":{\"color\":\"#4D5663\"},\"text\":\"\"},\"zerolinecolor\":\"#E1E5ED\"},\"xaxis12\":{\"anchor\":\"y12\",\"domain\":[0.7875,1.0],\"gridcolor\":\"#E1E5ED\",\"showgrid\":false,\"tickfont\":{\"color\":\"#4D5663\"},\"title\":{\"font\":{\"color\":\"#4D5663\"},\"text\":\"\"},\"zerolinecolor\":\"#E1E5ED\"},\"yaxis12\":{\"anchor\":\"x12\",\"domain\":[0.2675,0.465],\"gridcolor\":\"#E1E5ED\",\"showgrid\":false,\"tickfont\":{\"color\":\"#4D5663\"},\"title\":{\"font\":{\"color\":\"#4D5663\"},\"text\":\"\"},\"zerolinecolor\":\"#E1E5ED\"},\"xaxis13\":{\"anchor\":\"y13\",\"domain\":[0.0,0.2125],\"gridcolor\":\"#E1E5ED\",\"showgrid\":false,\"tickfont\":{\"color\":\"#4D5663\"},\"title\":{\"font\":{\"color\":\"#4D5663\"},\"text\":\"\"},\"zerolinecolor\":\"#E1E5ED\"},\"yaxis13\":{\"anchor\":\"x13\",\"domain\":[0.0,0.1975],\"gridcolor\":\"#E1E5ED\",\"showgrid\":false,\"tickfont\":{\"color\":\"#4D5663\"},\"title\":{\"font\":{\"color\":\"#4D5663\"},\"text\":\"\"},\"zerolinecolor\":\"#E1E5ED\"},\"xaxis14\":{\"anchor\":\"y14\",\"domain\":[0.2625,0.475],\"gridcolor\":\"#E1E5ED\",\"showgrid\":false,\"tickfont\":{\"color\":\"#4D5663\"},\"title\":{\"font\":{\"color\":\"#4D5663\"},\"text\":\"\"},\"zerolinecolor\":\"#E1E5ED\"},\"yaxis14\":{\"anchor\":\"x14\",\"domain\":[0.0,0.1975],\"gridcolor\":\"#E1E5ED\",\"showgrid\":false,\"tickfont\":{\"color\":\"#4D5663\"},\"title\":{\"font\":{\"color\":\"#4D5663\"},\"text\":\"\"},\"zerolinecolor\":\"#E1E5ED\"},\"xaxis15\":{\"anchor\":\"y15\",\"domain\":[0.525,0.7375],\"gridcolor\":\"#E1E5ED\",\"showgrid\":false,\"tickfont\":{\"color\":\"#4D5663\"},\"title\":{\"font\":{\"color\":\"#4D5663\"},\"text\":\"\"},\"zerolinecolor\":\"#E1E5ED\"},\"yaxis15\":{\"anchor\":\"x15\",\"domain\":[0.0,0.1975],\"gridcolor\":\"#E1E5ED\",\"showgrid\":false,\"tickfont\":{\"color\":\"#4D5663\"},\"title\":{\"font\":{\"color\":\"#4D5663\"},\"text\":\"\"},\"zerolinecolor\":\"#E1E5ED\"},\"xaxis16\":{\"anchor\":\"y16\",\"domain\":[0.7875,1.0],\"gridcolor\":\"#E1E5ED\",\"showgrid\":false,\"tickfont\":{\"color\":\"#4D5663\"},\"title\":{\"font\":{\"color\":\"#4D5663\"},\"text\":\"\"},\"zerolinecolor\":\"#E1E5ED\"},\"yaxis16\":{\"anchor\":\"x16\",\"domain\":[0.0,0.1975],\"gridcolor\":\"#E1E5ED\",\"showgrid\":false,\"tickfont\":{\"color\":\"#4D5663\"},\"title\":{\"font\":{\"color\":\"#4D5663\"},\"text\":\"\"},\"zerolinecolor\":\"#E1E5ED\"}},                        {\"showLink\": true, \"linkText\": \"Export to plot.ly\", \"plotlyServerURL\": \"https://plot.ly\", \"responsive\": true}                    ).then(function(){\n",
       "                            \n",
       "var gd = document.getElementById('e0403457-4e55-4546-8f41-e3bb706a7ced');\n",
       "var x = new MutationObserver(function (mutations, observer) {{\n",
       "        var display = window.getComputedStyle(gd).display;\n",
       "        if (!display || display === 'none') {{\n",
       "            console.log([gd, 'removed!']);\n",
       "            Plotly.purge(gd);\n",
       "            observer.disconnect();\n",
       "        }}\n",
       "}});\n",
       "\n",
       "// Listen for the removal of the full notebook cells\n",
       "var notebookContainer = gd.closest('#notebook-container');\n",
       "if (notebookContainer) {{\n",
       "    x.observe(notebookContainer, {childList: true});\n",
       "}}\n",
       "\n",
       "// Listen for the clearing of the current output cell\n",
       "var outputEl = gd.closest('.output');\n",
       "if (outputEl) {{\n",
       "    x.observe(outputEl, {childList: true});\n",
       "}}\n",
       "\n",
       "                        })                };                });            </script>        </div>"
      ]
     },
     "metadata": {},
     "output_type": "display_data"
    }
   ],
   "source": [
    "df.scatter_matrix()"
   ]
  },
  {
   "cell_type": "markdown",
   "metadata": {
    "collapsed": true
   },
   "source": [
    "# Great Job!"
   ]
  }
 ],
 "metadata": {
  "kernelspec": {
   "display_name": "Python 3 (ipykernel)",
   "language": "python",
   "name": "python3"
  },
  "language_info": {
   "codemirror_mode": {
    "name": "ipython",
    "version": 3
   },
   "file_extension": ".py",
   "mimetype": "text/x-python",
   "name": "python",
   "nbconvert_exporter": "python",
   "pygments_lexer": "ipython3",
   "version": "3.10.4"
  }
 },
 "nbformat": 4,
 "nbformat_minor": 1
}
