{
 "cells": [
  {
   "cell_type": "code",
   "execution_count": 65,
   "id": "e6528466",
   "metadata": {},
   "outputs": [],
   "source": [
    "import numpy as np"
   ]
  },
  {
   "cell_type": "code",
   "execution_count": 66,
   "id": "118f0672",
   "metadata": {},
   "outputs": [],
   "source": [
    "arr = np.random.randint(0,100,50)"
   ]
  },
  {
   "cell_type": "code",
   "execution_count": 67,
   "id": "dfe727b0",
   "metadata": {},
   "outputs": [
    {
     "data": {
      "text/plain": [
       "array([83, 23, 96, 21, 82, 41,  2,  1, 13, 53, 65, 11, 80, 78, 76, 56, 86,\n",
       "       17, 72, 34, 17, 30, 37, 81, 28, 55, 35, 48, 26, 76, 25, 69, 48, 98,\n",
       "       45, 97, 28,  8, 15,  4, 71, 61, 28, 99, 93, 16, 89, 92, 21, 19])"
      ]
     },
     "execution_count": 67,
     "metadata": {},
     "output_type": "execute_result"
    }
   ],
   "source": [
    "arr"
   ]
  },
  {
   "cell_type": "code",
   "execution_count": 68,
   "id": "53dcbc0f",
   "metadata": {},
   "outputs": [],
   "source": [
    "x = arr[0:25]"
   ]
  },
  {
   "cell_type": "code",
   "execution_count": 69,
   "id": "e738b6b4",
   "metadata": {},
   "outputs": [
    {
     "data": {
      "text/plain": [
       "array([83, 23, 96, 21, 82, 41,  2,  1, 13, 53, 65, 11, 80, 78, 76, 56, 86,\n",
       "       17, 72, 34, 17, 30, 37, 81, 28])"
      ]
     },
     "execution_count": 69,
     "metadata": {},
     "output_type": "execute_result"
    }
   ],
   "source": [
    "x"
   ]
  },
  {
   "cell_type": "code",
   "execution_count": 70,
   "id": "066a4551",
   "metadata": {},
   "outputs": [],
   "source": [
    "arr1 = x.copy()"
   ]
  },
  {
   "cell_type": "code",
   "execution_count": 71,
   "id": "7f90d8ce",
   "metadata": {
    "scrolled": true
   },
   "outputs": [
    {
     "data": {
      "text/plain": [
       "(25,)"
      ]
     },
     "execution_count": 71,
     "metadata": {},
     "output_type": "execute_result"
    }
   ],
   "source": [
    "arr1.shape"
   ]
  },
  {
   "cell_type": "code",
   "execution_count": 72,
   "id": "a7739b5c",
   "metadata": {},
   "outputs": [],
   "source": [
    "y = arr[25:]"
   ]
  },
  {
   "cell_type": "code",
   "execution_count": 73,
   "id": "878b6589",
   "metadata": {},
   "outputs": [],
   "source": [
    "arr2 = y.copy()"
   ]
  },
  {
   "cell_type": "code",
   "execution_count": 74,
   "id": "9e957720",
   "metadata": {},
   "outputs": [
    {
     "data": {
      "text/plain": [
       "(25,)"
      ]
     },
     "execution_count": 74,
     "metadata": {},
     "output_type": "execute_result"
    }
   ],
   "source": [
    "arr2.shape"
   ]
  },
  {
   "cell_type": "code",
   "execution_count": 75,
   "id": "3416952a",
   "metadata": {},
   "outputs": [],
   "source": [
    "arr1 = arr1.reshape(5,5)"
   ]
  },
  {
   "cell_type": "code",
   "execution_count": 76,
   "id": "c1537915",
   "metadata": {},
   "outputs": [],
   "source": [
    "arr2 = arr2.reshape(5,5)"
   ]
  },
  {
   "cell_type": "code",
   "execution_count": 77,
   "id": "a5c47001",
   "metadata": {},
   "outputs": [
    {
     "data": {
      "text/plain": [
       "array([[83, 23, 96, 21, 82],\n",
       "       [41,  2,  1, 13, 53],\n",
       "       [65, 11, 80, 78, 76],\n",
       "       [56, 86, 17, 72, 34],\n",
       "       [17, 30, 37, 81, 28]])"
      ]
     },
     "execution_count": 77,
     "metadata": {},
     "output_type": "execute_result"
    }
   ],
   "source": [
    "arr1"
   ]
  },
  {
   "cell_type": "code",
   "execution_count": 78,
   "id": "085b3084",
   "metadata": {},
   "outputs": [
    {
     "data": {
      "text/plain": [
       "array([[55, 35, 48, 26, 76],\n",
       "       [25, 69, 48, 98, 45],\n",
       "       [97, 28,  8, 15,  4],\n",
       "       [71, 61, 28, 99, 93],\n",
       "       [16, 89, 92, 21, 19]])"
      ]
     },
     "execution_count": 78,
     "metadata": {},
     "output_type": "execute_result"
    }
   ],
   "source": [
    "arr2"
   ]
  }
 ],
 "metadata": {
  "kernelspec": {
   "display_name": "Python 3",
   "language": "python",
   "name": "python3"
  },
  "language_info": {
   "codemirror_mode": {
    "name": "ipython",
    "version": 3
   },
   "file_extension": ".py",
   "mimetype": "text/x-python",
   "name": "python",
   "nbconvert_exporter": "python",
   "pygments_lexer": "ipython3",
   "version": "3.8.8"
  }
 },
 "nbformat": 4,
 "nbformat_minor": 5
}
